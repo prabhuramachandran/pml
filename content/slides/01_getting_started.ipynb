{
 "cells": [
  {
   "cell_type": "markdown",
   "id": "97bf9e8a",
   "metadata": {},
   "source": [
    "# Getting Started with Jupyter\n",
    "\n",
    "* Let us first get acquainted with jupyter notebooks.\n",
    "* Please visit this website: https://prabhuramachandran.github.io/pml\n",
    "* On the interface, take the welcome tour\n",
    "* Warning: avoid editing files in the `slides` and `tutorials` folders.\n",
    "  You may copy them instead.\n",
    "* Use the root directory for your files and other directories.\n",
    "* Download files to your machine to save them.\n",
    "* Changes/new files are stored local to your browser instance."
   ]
  },
  {
   "cell_type": "markdown",
   "id": "eb387b30",
   "metadata": {
    "lines_to_next_cell": 0
   },
   "source": [
    "# Basic notebook interface\n",
    "\n",
    "- New notebook by pressing button or `File->New` menu\n",
    "- Click to open existing notebooks on the interface\n",
    "- Walk through of the basic interface\n",
    "- Code/markdown text is entered in **Cells**\n",
    "- You can edit or execute these cells\n",
    "\n",
    " ## Keyboard shortcuts\n",
    "\n",
    "- Execute cells using `Shift+Enter``\n",
    "- `Esc` to be in command mode\n",
    "- `Enter` to edit a cell\n",
    "- Use the interface to add/remove cells\n",
    "- Check out all the keyboard shortcuts on the Help menu\n",
    "\n",
    "Now let us start with hello world!\n"
   ]
  },
  {
   "cell_type": "code",
   "execution_count": null,
   "id": "b4513362",
   "metadata": {},
   "outputs": [],
   "source": [
    "print(\"hello\")"
   ]
  },
  {
   "cell_type": "markdown",
   "id": "c022b19a",
   "metadata": {},
   "source": [
    "\n",
    "You can also do simple arithmetic operations"
   ]
  },
  {
   "cell_type": "code",
   "execution_count": null,
   "id": "965491eb",
   "metadata": {},
   "outputs": [],
   "source": [
    "1 + 1"
   ]
  },
  {
   "cell_type": "markdown",
   "id": "008230b6",
   "metadata": {},
   "source": [
    "\n",
    "When you enter this, the expression is evaluated and produced as the output"
   ]
  },
  {
   "cell_type": "code",
   "execution_count": null,
   "id": "79349f0b",
   "metadata": {},
   "outputs": [],
   "source": [
    "# A more complex expression (This line is a comment!)\n",
    "(1.5 + 2 + 4.2 - 0.3223)*23.5/6.5e3"
   ]
  },
  {
   "cell_type": "code",
   "execution_count": null,
   "id": "42db8a91",
   "metadata": {},
   "outputs": [],
   "source": [
    "# This is how you take the exponent\n",
    "2**3  # An inline comment"
   ]
  },
  {
   "cell_type": "code",
   "execution_count": null,
   "id": "1bf8655b",
   "metadata": {
    "lines_to_next_cell": 2
   },
   "outputs": [],
   "source": [
    "2.5**3.2"
   ]
  },
  {
   "cell_type": "markdown",
   "id": "35e18ed1",
   "metadata": {
    "lines_to_next_cell": 0
   },
   "source": [
    "\n",
    "We can also create variables"
   ]
  },
  {
   "cell_type": "code",
   "execution_count": null,
   "id": "c3b0cf4e",
   "metadata": {
    "lines_to_next_cell": 0
   },
   "outputs": [],
   "source": [
    "x = 1 + 1\n",
    "y = 23.3"
   ]
  },
  {
   "cell_type": "code",
   "execution_count": null,
   "id": "4cc51e06",
   "metadata": {},
   "outputs": [],
   "source": [
    "# What is the value of x?\n",
    "x"
   ]
  },
  {
   "cell_type": "code",
   "execution_count": null,
   "id": "f9546a6c",
   "metadata": {},
   "outputs": [],
   "source": [
    "x**y"
   ]
  },
  {
   "cell_type": "code",
   "execution_count": null,
   "id": "03f5f22f",
   "metadata": {},
   "outputs": [],
   "source": [
    "# Can also print the value\n",
    "print(x)"
   ]
  },
  {
   "cell_type": "markdown",
   "id": "57240d27",
   "metadata": {},
   "source": [
    "## Exercise\n",
    "\n",
    "1. Try other arithmetic expressions of your choice after adding new cells.\n",
    "2. Create at least three new cells with these expressions.\n",
    "3. Create some variables and use them in your code.\n",
    "4. Find out how to delete cells."
   ]
  }
 ],
 "metadata": {
  "kernelspec": {
   "display_name": "Python 3 (ipykernel)",
   "language": "python",
   "name": "python3"
  },
  "language_info": {
   "codemirror_mode": {
    "name": "ipython",
    "version": 3
   },
   "file_extension": ".py",
   "mimetype": "text/x-python",
   "name": "python",
   "nbconvert_exporter": "python",
   "pygments_lexer": "ipython3",
   "version": "3.11.11"
  }
 },
 "nbformat": 4,
 "nbformat_minor": 5
}
