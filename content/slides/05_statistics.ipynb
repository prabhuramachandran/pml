{
 "cells": [
  {
   "cell_type": "markdown",
   "id": "88f07df0",
   "metadata": {
    "slideshow": {
     "slide_type": "slide"
    }
   },
   "source": [
    "## More plotting\n",
    "\n",
    "- Descriptive statistics\n",
    "- Other statistical plots"
   ]
  },
  {
   "cell_type": "code",
   "execution_count": null,
   "id": "4eb88142",
   "metadata": {},
   "outputs": [],
   "source": [
    "import numpy as np\n",
    "import matplotlib.pyplot as plt"
   ]
  },
  {
   "cell_type": "markdown",
   "id": "953bdda0",
   "metadata": {
    "slideshow": {
     "slide_type": "slide"
    }
   },
   "source": [
    "## Loading simple text data\n",
    "\n",
    "Consider a simple text file like `data/data.txt` which is located the\n",
    "`data` directory on the interface. The file has two columns of data like so:\n",
    "```\n",
    "6.930830303506971291e+01 1.950570203348928500e+00\n",
    "5.076032587226054460e+01 1.968615715715650527e+00\n",
    "6.285323760945500027e+01 1.343008070563283418e+00\n",
    "7.068897251770047774e+01 1.602208201785916941e+00\n",
    "...\n",
    "```\n",
    "This can be easily loaded as a numpy array like so:"
   ]
  },
  {
   "cell_type": "code",
   "execution_count": null,
   "id": "65b5b5c7",
   "metadata": {},
   "outputs": [],
   "source": [
    "# Change the path to suit your setup.\n",
    "data = np.loadtxt('../data/data.txt')"
   ]
  },
  {
   "cell_type": "code",
   "execution_count": null,
   "id": "ac793516",
   "metadata": {},
   "outputs": [],
   "source": [
    "print(len(data))\n",
    "data[:2]"
   ]
  },
  {
   "cell_type": "markdown",
   "id": "00dd8674",
   "metadata": {
    "lines_to_next_cell": 0,
    "slideshow": {
     "slide_type": "slide"
    }
   },
   "source": [
    "- Look at the documentation for `np.loadtxt`\n",
    "- Since this has two columns, we can use `unpack=True` to extract the two columns"
   ]
  },
  {
   "cell_type": "code",
   "execution_count": null,
   "id": "87b47759",
   "metadata": {},
   "outputs": [],
   "source": [
    "x, y = np.loadtxt('../data/data.txt', unpack=True)\n",
    "print(len(x), len(y))\n",
    "x[:2]"
   ]
  },
  {
   "cell_type": "markdown",
   "id": "64497421",
   "metadata": {
    "lines_to_next_cell": 0,
    "slideshow": {
     "slide_type": "slide"
    }
   },
   "source": [
    "## Mean, std-dev, percentiles, ...\n",
    "\n",
    "Now let us look at some simple statistics of this data."
   ]
  },
  {
   "cell_type": "code",
   "execution_count": null,
   "id": "7286a70c",
   "metadata": {},
   "outputs": [],
   "source": [
    "np.mean(x)"
   ]
  },
  {
   "cell_type": "code",
   "execution_count": null,
   "id": "65ce77dc",
   "metadata": {},
   "outputs": [],
   "source": [
    "np.mean(y)"
   ]
  },
  {
   "cell_type": "code",
   "execution_count": null,
   "id": "f8a81a65",
   "metadata": {},
   "outputs": [],
   "source": [
    "# This is the biased estimator.\n",
    "np.std(x)"
   ]
  },
  {
   "cell_type": "markdown",
   "id": "6dd39b9a",
   "metadata": {},
   "source": [
    "\n",
    "The biased estimator is:\n",
    "$$\\sigma^2 = \\frac{\\sum_{i=1}^n (X_i - \\bar{X})^2}{n}$$\n",
    "The unbiased estimator is:\n",
    "$$\\sigma^2 = \\frac{\\sum_{i=1}^n (X_i - \\bar{X})^2}{n-1}$$"
   ]
  },
  {
   "cell_type": "code",
   "execution_count": null,
   "id": "39850212",
   "metadata": {},
   "outputs": [],
   "source": [
    "# The unbiased estimator\n",
    "np.std(x, ddof=1)"
   ]
  },
  {
   "cell_type": "code",
   "execution_count": null,
   "id": "4f8d463b",
   "metadata": {},
   "outputs": [],
   "source": [
    "np.median(x)"
   ]
  },
  {
   "cell_type": "markdown",
   "id": "935df69a",
   "metadata": {
    "slideshow": {
     "slide_type": "slide"
    }
   },
   "source": [
    "### Percentiles"
   ]
  },
  {
   "cell_type": "code",
   "execution_count": null,
   "id": "bfed5447",
   "metadata": {},
   "outputs": [],
   "source": [
    "np.percentile(x, 50)"
   ]
  },
  {
   "cell_type": "code",
   "execution_count": null,
   "id": "7eccb111",
   "metadata": {},
   "outputs": [],
   "source": [
    "# Get multiple in one shot.\n",
    "np.percentile(x, [25, 50, 75, 90])"
   ]
  },
  {
   "cell_type": "markdown",
   "id": "bdd4dac2",
   "metadata": {
    "slideshow": {
     "slide_type": "slide"
    }
   },
   "source": [
    "## Exercise\n",
    "\n",
    "- For the data below\n",
    "- Find the percentiles from 0 to 100 (in unit steps)\n",
    "- Plot them\n"
   ]
  },
  {
   "cell_type": "code",
   "execution_count": null,
   "id": "8fa139f5",
   "metadata": {
    "lines_to_next_cell": 2
   },
   "outputs": [],
   "source": [
    "# Solution"
   ]
  },
  {
   "cell_type": "markdown",
   "id": "779d321c",
   "metadata": {
    "slideshow": {
     "slide_type": "slide"
    }
   },
   "source": [
    "## Scatter plots\n",
    "\n",
    "Useful to get a sense of the data and their relationship"
   ]
  },
  {
   "cell_type": "code",
   "execution_count": null,
   "id": "6eac5919",
   "metadata": {},
   "outputs": [],
   "source": [
    "plt.scatter(x, y);"
   ]
  },
  {
   "cell_type": "code",
   "execution_count": null,
   "id": "1a33345b",
   "metadata": {},
   "outputs": [],
   "source": [
    "# Can also show size and color.\n",
    "# We construct a simple scalar to display.\n",
    "s = s = (x-np.mean(x))**2 + (y - np.mean(y))**2\n",
    "plt.scatter(x, y, c=s, s=s)\n",
    "plt.grid();"
   ]
  },
  {
   "cell_type": "markdown",
   "id": "35eb31db",
   "metadata": {
    "slideshow": {
     "slide_type": "slide"
    }
   },
   "source": [
    "## Histograms\n",
    "\n",
    "Very useful to get a sense of the distribution of the data."
   ]
  },
  {
   "cell_type": "code",
   "execution_count": null,
   "id": "0eca40d8",
   "metadata": {},
   "outputs": [],
   "source": [
    "plt.hist(y);"
   ]
  },
  {
   "cell_type": "code",
   "execution_count": null,
   "id": "ae8ff884",
   "metadata": {},
   "outputs": [],
   "source": [
    "# Warning default bins are just 10, using 'auto' is always a better idea.\n",
    "plt.hist(x, bins='auto');"
   ]
  },
  {
   "cell_type": "code",
   "execution_count": null,
   "id": "eeb002c3",
   "metadata": {},
   "outputs": [],
   "source": [
    "# But if you know better you can specify the number of bins.\n",
    "plt.hist(x, bins=20);"
   ]
  },
  {
   "cell_type": "markdown",
   "id": "6ffc3fb0",
   "metadata": {},
   "source": [
    "Note the output of this is the counts, bins_edges, patches\n",
    "counts, bins, patches = plt.hist(x, bins='auto');"
   ]
  },
  {
   "cell_type": "code",
   "execution_count": null,
   "id": "d5f788ed",
   "metadata": {},
   "outputs": [],
   "source": [
    "# Numpy is used to generate the counts, bins\n",
    "c, b = np.histogram(x, bins='auto')"
   ]
  },
  {
   "cell_type": "code",
   "execution_count": null,
   "id": "db4d3af5",
   "metadata": {},
   "outputs": [],
   "source": [
    "np.allclose(c, counts) and np.allclose(b, bins)"
   ]
  },
  {
   "cell_type": "markdown",
   "id": "19130aa6",
   "metadata": {
    "slideshow": {
     "slide_type": "slide"
    }
   },
   "source": [
    "### Cumulative and relative histograms\n",
    "\n",
    "- Hope you've seen this in your Statistics course?\n",
    "- You get an empirical probability density function (PDF) through a\n",
    "  histogram!\n",
    "- But this has to be a relative histogram, i.e. use `density=True`\n",
    "- A cumulative histogram is an approximation to a Cumulative Distribution\n",
    "  Function (CDF)\n",
    "\n",
    "This is very important and valuable as we will see later."
   ]
  },
  {
   "cell_type": "code",
   "execution_count": null,
   "id": "cbc03daf",
   "metadata": {
    "lines_to_next_cell": 2
   },
   "outputs": [],
   "source": [
    "# Relative histogram.\n",
    "plt.hist(y, bins='auto', density=True);"
   ]
  },
  {
   "cell_type": "code",
   "execution_count": null,
   "id": "c7a52978",
   "metadata": {
    "lines_to_next_cell": 2
   },
   "outputs": [],
   "source": [
    "plt.hist(y, bins='auto', cumulative=True, density=True);"
   ]
  },
  {
   "cell_type": "markdown",
   "id": "2cf8e618",
   "metadata": {
    "slideshow": {
     "slide_type": "slide"
    }
   },
   "source": [
    "## Box-plots\n",
    "\n",
    "- Powerful plotting utility\n",
    "- Shows the distribution of the data at a glance\n",
    "- Typically shows the following:\n",
    "   - Median, Q1, Q3, IQR\n",
    "   - Q1 - 1.5 x IQR, Q3 + 1.5 x IQR\n"
   ]
  },
  {
   "cell_type": "code",
   "execution_count": null,
   "id": "31492ec8",
   "metadata": {},
   "outputs": [],
   "source": [
    "plt.boxplot(x, tick_labels=['x'], showmeans=True);"
   ]
  },
  {
   "cell_type": "markdown",
   "id": "a9a12669",
   "metadata": {
    "lines_to_next_cell": 0
   },
   "source": [
    "- Can show multiple boxplots together\n"
   ]
  },
  {
   "cell_type": "code",
   "execution_count": null,
   "id": "66fc0df6",
   "metadata": {
    "lines_to_next_cell": 2
   },
   "outputs": [],
   "source": [
    "plt.boxplot((x, y), tick_labels=['x', 'y'], showmeans=True, patch_artist=True);"
   ]
  },
  {
   "cell_type": "markdown",
   "id": "a2e0e640",
   "metadata": {
    "slideshow": {
     "slide_type": "slide"
    }
   },
   "source": [
    "## Violin plots!\n",
    "\n",
    "- Combine PDFs and box plots.\n"
   ]
  },
  {
   "cell_type": "code",
   "execution_count": null,
   "id": "b8344ca8",
   "metadata": {},
   "outputs": [],
   "source": [
    "violinplot(x);"
   ]
  },
  {
   "cell_type": "code",
   "execution_count": null,
   "id": "c666788d",
   "metadata": {
    "lines_to_next_cell": 2
   },
   "outputs": [],
   "source": [
    "violinplot(y);"
   ]
  },
  {
   "cell_type": "markdown",
   "id": "0bdfcd45",
   "metadata": {
    "slideshow": {
     "slide_type": "slide"
    }
   },
   "source": [
    "## Pearson's correlation coefficient\n",
    "\n",
    " $$\\begin{aligned}\n",
    " r = \\frac{\\sum_i (x_i - \\bar{x}) (y_i - \\bar{y})}{(n-1) s_x s_y} \\\\\n",
    " \\end{aligned}$$$$r = \\frac{\\sum_i (x_i - \\bar{x}) (y_i - \\bar{y}) }\n",
    "          {\\sqrt {\\sum (x_i - \\bar{x})^2 \\sum (y_i - \\bar{y})^2}}$$\n",
    "\n",
    "- $-1 \\leq r \\leq 1$\n",
    "- \\\"Small\\\" r implies lower correlation"
   ]
  },
  {
   "cell_type": "code",
   "execution_count": null,
   "id": "5a57c9c3",
   "metadata": {
    "lines_to_next_cell": 2
   },
   "outputs": [],
   "source": [
    "np.corrcoef(x, y)"
   ]
  },
  {
   "cell_type": "markdown",
   "id": "2dea7af0",
   "metadata": {
    "slideshow": {
     "slide_type": "slide"
    }
   },
   "source": [
    "## Pie and bar charts.\n",
    "\n",
    "- In general avoid pie charts, use barcharts/histograms instead.\n",
    "- But here is how you can do this.\n",
    "\n",
    "Consider this data:\n",
    "\n",
    "| **Cancer**  | Lung | Breast | Colon | Prostate | Melanoma | Bladder |\n",
    "|-------------|------|--------|-------|----------|----------|---------|\n",
    "| **Numbers** | 42   |  50    |  32   |   55     |  9       |  12     |\n"
   ]
  },
  {
   "cell_type": "code",
   "execution_count": null,
   "id": "90589bfb",
   "metadata": {},
   "outputs": [],
   "source": [
    "# Solution\n",
    "cancer = ['Lung', 'Breast', 'Colon', 'Prostate', 'Melanoma', 'Bladder']\n",
    "numbers = [42, 50, 32, 55, 9, 12]\n",
    "plt.pie(numbers, labels=cancer, shadow=True);"
   ]
  },
  {
   "cell_type": "markdown",
   "id": "1126cfc7",
   "metadata": {
    "slideshow": {
     "slide_type": "slide"
    }
   },
   "source": [
    "### Better to use a bar chart\n"
   ]
  },
  {
   "cell_type": "code",
   "execution_count": null,
   "id": "18234d21",
   "metadata": {},
   "outputs": [],
   "source": [
    "x = np.arange(len(numbers))\n",
    "plt.bar(x, numbers, tick_label=cancer)\n",
    "plt.grid();"
   ]
  },
  {
   "cell_type": "markdown",
   "id": "ff2ec734",
   "metadata": {
    "slideshow": {
     "slide_type": "slide"
    }
   },
   "source": [
    "## Exercise\n",
    "\n",
    "- Load the data in `'sachin.txt'`, and `'kohli.txt'`\n",
    "- These have the ODI runs for Sachin Tendulkar and Virat Kohli\n",
    "- They have a single column each\n",
    "- Load the data using `np.loadtxt`\n",
    "- Show a histogram (relative) for each.\n",
    "- Show them together, use the same approach as we did for boxplot.\n",
    "- Hint: use `plt.legend` to set the legend\n",
    "- Show the data using a boxplot\n",
    "- Show the data using a violin plot.\n",
    "\n",
    "Comment on the player's performance"
   ]
  },
  {
   "cell_type": "code",
   "execution_count": null,
   "id": "fbec2d2c",
   "metadata": {},
   "outputs": [],
   "source": [
    "# Solution"
   ]
  },
  {
   "cell_type": "code",
   "execution_count": null,
   "id": "08a6ff7f",
   "metadata": {},
   "outputs": [],
   "source": []
  },
  {
   "cell_type": "markdown",
   "id": "c492898e",
   "metadata": {
    "lines_to_next_cell": 0
   },
   "source": [
    "## Connection to probability theory\n",
    "\n",
    "- We've seen various kinds of plots\n",
    "- So far this is entirely visual\n",
    "- We can actually do very powerful things with this\n",
    "\n",
    "Let us first look at how histograms work.\n",
    "\n",
    "- Counts number of occurrences in each bin.\n",
    "- Bins are chosen automatically via `'auto'` or explicitly specified\n",
    "\n",
    "### Probability mass function (PMF)\n",
    "\n",
    "- Used for discrete distributions, Bernoulli, Binomial, Poisson etc.\n",
    "- Assigns probability for each value $p(x)$\n",
    "- Empirically, this is basically the relative count of occurrence of the\n",
    "  value! Note that this is exactly how a relative histogram is found.\n",
    "\n",
    "### Probability density function (PDF)\n",
    "\n",
    "- Used for discrete distributions, uniform, normal, Chi-square, T etc.\n",
    "- Probability density function: $f(x)$\n",
    "- Probability in some region of $x$, $\\Delta x$ is: $f(x) \\Delta x$\n",
    "\n",
    "In this case, for N data points, the values of the histogram are = `count/(N*bin_width)``\n",
    "This produces the density function.\n",
    "\n",
    "Consider Sachin's scores"
   ]
  },
  {
   "cell_type": "code",
   "execution_count": null,
   "id": "f5908315",
   "metadata": {},
   "outputs": [],
   "source": [
    "ds = np.loadtxt('../data/sachin.txt')\n",
    "print(len(ds), max(ds))"
   ]
  },
  {
   "cell_type": "code",
   "execution_count": null,
   "id": "5917f22f",
   "metadata": {},
   "outputs": [],
   "source": [
    "# A simple histogram is not enough\n",
    "plt.hist(ds, bins='auto', density=True);"
   ]
  },
  {
   "cell_type": "markdown",
   "id": "94cd79db",
   "metadata": {},
   "source": [
    "- The problem with this is that this is not really a probability mass\n",
    "  function.\n",
    "- It is a PDF."
   ]
  },
  {
   "cell_type": "code",
   "execution_count": null,
   "id": "581791f5",
   "metadata": {},
   "outputs": [],
   "source": [
    "# This will produce a rough PMF\n",
    "plt.hist(ds, bins=range(201), density=True);"
   ]
  },
  {
   "cell_type": "markdown",
   "id": "c976437d",
   "metadata": {},
   "source": [
    "\n",
    "This is not perfect since we have only about 450 points in total (which is\n",
    "quite a bit).\n",
    "\n",
    "If all we want is the counts without a plot, we can simply use `np.histogram`"
   ]
  },
  {
   "cell_type": "code",
   "execution_count": null,
   "id": "f8634a00",
   "metadata": {},
   "outputs": [],
   "source": [
    "pmf, bins = np.histogram(ds, bins=range(201), density=True)"
   ]
  },
  {
   "cell_type": "markdown",
   "id": "14793598",
   "metadata": {
    "lines_to_next_cell": 0
   },
   "source": [
    "### Why is this useful\n",
    "\n",
    "If you know the PMF/PDF you basically know a great deal about the data.\n",
    "You can use it to ask all sort sof probability based questions.\n",
    "\n",
    "- What is the median score, what is the IQR, etc.?\n",
    "- What is the probability that Sachin will score < 10?\n",
    "- What is the probability that he will score > 50?\n",
    "- What is the probability that he will score > 100 given that he crossed 50?\n",
    "\n",
    "These are quite deep questions that can be easily answered with the data.\n",
    "You can do this to even compare players.\n",
    "\n",
    "## Exercise\n",
    "\n",
    "Try to answer some of these quickly.\n",
    "\n",
    "1. What is the probability that Sachin will score < 10?\n",
    "2. What is the probability that Sachin will score > 50?\n",
    "3. What is the probability that he will cross 100 given that he crossed 50?\n",
    "\n",
    "We can do this either with a PMF or a PDF."
   ]
  },
  {
   "cell_type": "code",
   "execution_count": null,
   "id": "40b07314",
   "metadata": {},
   "outputs": [],
   "source": []
  },
  {
   "cell_type": "code",
   "execution_count": null,
   "id": "82f31f2b",
   "metadata": {},
   "outputs": [],
   "source": []
  },
  {
   "cell_type": "code",
   "execution_count": null,
   "id": "93332baa",
   "metadata": {},
   "outputs": [],
   "source": [
    "# Note on how the CDF is made.\n",
    "c, b = np.histogram(ds, bins=range(201), density=True)\n",
    "counts = np.cumsum(c)"
   ]
  },
  {
   "cell_type": "markdown",
   "id": "0cc73405",
   "metadata": {},
   "source": [
    "\n",
    "## Exercise\n",
    "\n",
    "1. Write a simple function that returns the PMF for a batsman's data given\n",
    "   their scores.\n",
    "2. Also generate the cumulative distribution function.\n",
    "3. Write a function to compute probabilities in a range (a, b) given the\n",
    "   PMF/CDF."
   ]
  },
  {
   "cell_type": "markdown",
   "id": "4e486416",
   "metadata": {},
   "source": [
    "\n",
    "As you can see, the PDF/PMF is incredibly useful when answering practical\n",
    "questions.\n",
    "\n",
    "We will upload an exercise for you to do based on these.\n"
   ]
  },
  {
   "cell_type": "markdown",
   "id": "28293397",
   "metadata": {
    "slideshow": {
     "slide_type": "slide"
    }
   },
   "source": [
    "\n",
    "## Interactivity with widgets\n",
    "\n",
    "- Jupyter widgets or [IPyWidgets](https://ipywidgets.readthedocs.io/) make\n",
    "  it very easy to add interactivity to a notebook.\n",
    "- Already installed on the course website.\n",
    "- Usually already installed in Anaconda.\n",
    "\n",
    "Here we learn the bare-minimum to get started. Read the docs to learn more.\n"
   ]
  },
  {
   "cell_type": "code",
   "execution_count": null,
   "id": "d1e4ce90",
   "metadata": {
    "lines_to_next_cell": 1
   },
   "outputs": [],
   "source": [
    "from ipywidgets import interact"
   ]
  },
  {
   "cell_type": "code",
   "execution_count": null,
   "id": "a5fee3eb",
   "metadata": {},
   "outputs": [],
   "source": [
    "def sine_plot(k=1, phi=0.0):\n",
    "    x = np.linspace(0, 2*np.pi, 1000)\n",
    "    y = np.sin(x*k + phi)\n",
    "    plt.plot(x, y)\n",
    "    plt.grid()"
   ]
  },
  {
   "cell_type": "code",
   "execution_count": null,
   "id": "336e8551",
   "metadata": {},
   "outputs": [],
   "source": [
    "sine_plot(k=2, phi=0.5)"
   ]
  },
  {
   "cell_type": "code",
   "execution_count": null,
   "id": "84caa700",
   "metadata": {
    "lines_to_next_cell": 1
   },
   "outputs": [],
   "source": [
    "interact(sine_plot, k=(1, 20), phi=(0, 2*np.pi))"
   ]
  },
  {
   "cell_type": "markdown",
   "id": "2c86869a",
   "metadata": {},
   "source": [
    "Can also use the decorator syntax"
   ]
  },
  {
   "cell_type": "code",
   "execution_count": null,
   "id": "6347fa3e",
   "metadata": {
    "lines_to_next_cell": 1
   },
   "outputs": [],
   "source": [
    "@interact(k=(1, 20), phi=(0, 2*np.pi))\n",
    "def sine_plot(k=1, phi=0.0):\n",
    "    x = np.linspace(0, 2*np.pi, 1000)\n",
    "    y = np.sin(x*k + phi)\n",
    "    plt.plot(x, y)\n",
    "    plt.grid()"
   ]
  },
  {
   "cell_type": "markdown",
   "id": "311b0ec3",
   "metadata": {
    "lines_to_next_cell": 0,
    "slideshow": {
     "slide_type": "slide"
    }
   },
   "source": [
    "### Another example\n"
   ]
  },
  {
   "cell_type": "code",
   "execution_count": null,
   "id": "13f3b7f1",
   "metadata": {},
   "outputs": [],
   "source": [
    "@interact(name=['Krishna', 'Prabhu', 'Hassan'], n=(0, 10), x=(0.0, 1.0))\n",
    "def f(option=True, hi='Hello', name='Krishna', n=1, x=0.1):\n",
    "    print(option, hi, name, n, x)"
   ]
  },
  {
   "cell_type": "markdown",
   "id": "ce9ae0f6",
   "metadata": {
    "lines_to_next_cell": 2,
    "slideshow": {
     "slide_type": "slide"
    }
   },
   "source": [
    "### Aside: decorators\n",
    "\n",
    "- Decorators are higher order functions\n",
    "- Operate on a function and return a function\n"
   ]
  },
  {
   "cell_type": "code",
   "execution_count": null,
   "id": "3833e239",
   "metadata": {
    "lines_to_next_cell": 1
   },
   "outputs": [],
   "source": [
    "# Trivial example\n",
    "def deco(f):\n",
    "    return f"
   ]
  },
  {
   "cell_type": "code",
   "execution_count": null,
   "id": "1225ac5e",
   "metadata": {
    "lines_to_next_cell": 0
   },
   "outputs": [],
   "source": [
    "@deco\n",
    "def g(x):\n",
    "    pass\n",
    "\n",
    "# Equivalent to\n",
    "h = deco(g)"
   ]
  },
  {
   "cell_type": "code",
   "execution_count": null,
   "id": "c33076a0",
   "metadata": {},
   "outputs": [],
   "source": [
    "g(1)"
   ]
  },
  {
   "cell_type": "code",
   "execution_count": null,
   "id": "a0e8302e",
   "metadata": {
    "lines_to_next_cell": 1
   },
   "outputs": [],
   "source": [
    "# More complex example\n",
    "def deco1(f):\n",
    "    def _my_f(x):\n",
    "        print(\"Hello!\")\n",
    "        return f(x)\n",
    "    return _my_f"
   ]
  },
  {
   "cell_type": "code",
   "execution_count": null,
   "id": "68d2cca8",
   "metadata": {
    "lines_to_next_cell": 1
   },
   "outputs": [],
   "source": [
    "@deco1\n",
    "def g(x):\n",
    "    return x + 1"
   ]
  },
  {
   "cell_type": "code",
   "execution_count": null,
   "id": "9563a8be",
   "metadata": {},
   "outputs": [],
   "source": [
    "g(1)"
   ]
  },
  {
   "cell_type": "markdown",
   "id": "20685e32",
   "metadata": {
    "slideshow": {
     "slide_type": "slide"
    }
   },
   "source": [
    "## Summary\n",
    "\n",
    "- Statistical quantities: mean, median, std. dev., percentiles\n",
    "- Statistical plots: scatter plot, histogram, boxplot, bar/pie chart, violin\n",
    "  plot\n",
    "- Correlation coefficient\n",
    "- Practical applications and answering some very interesting questions\n",
    "- Interactivity with `ipywidets` and `interact`\n",
    "- Decorators"
   ]
  }
 ],
 "metadata": {
  "kernelspec": {
   "display_name": "Python 3 (ipykernel)",
   "language": "python",
   "name": "python3"
  }
 },
 "nbformat": 4,
 "nbformat_minor": 5
}
