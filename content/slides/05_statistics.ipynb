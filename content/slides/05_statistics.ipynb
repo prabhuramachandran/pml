{
 "cells": [
  {
   "cell_type": "markdown",
   "id": "b3da2723",
   "metadata": {
    "slideshow": {
     "slide_type": "slide"
    }
   },
   "source": [
    "## More plotting\n",
    "\n",
    "- Descriptive statistics\n",
    "- Other statistical plots"
   ]
  },
  {
   "cell_type": "code",
   "execution_count": null,
   "id": "0279b9e7",
   "metadata": {},
   "outputs": [],
   "source": [
    "import numpy as np\n",
    "import matplotlib.pyplot as plt"
   ]
  },
  {
   "cell_type": "markdown",
   "id": "0d1f71d9",
   "metadata": {
    "slideshow": {
     "slide_type": "slide"
    }
   },
   "source": [
    "## Loading simple text data\n",
    "\n",
    "Consider a simple text file like `data/data.txt` which is located the\n",
    "`data` directory on the interface. The file has two columns of data like so:\n",
    "```\n",
    "6.930830303506971291e+01 1.950570203348928500e+00\n",
    "5.076032587226054460e+01 1.968615715715650527e+00\n",
    "6.285323760945500027e+01 1.343008070563283418e+00\n",
    "7.068897251770047774e+01 1.602208201785916941e+00\n",
    "...\n",
    "```\n",
    "This can be easily loaded as a numpy array like so:"
   ]
  },
  {
   "cell_type": "code",
   "execution_count": null,
   "id": "e2a95e7f",
   "metadata": {},
   "outputs": [],
   "source": [
    "# Change the path to suit your setup.\n",
    "data = np.loadtxt('../data/data.txt')"
   ]
  },
  {
   "cell_type": "code",
   "execution_count": null,
   "id": "5e1a7bed",
   "metadata": {},
   "outputs": [],
   "source": [
    "print(len(data))\n",
    "data[:2]"
   ]
  },
  {
   "cell_type": "markdown",
   "id": "60c5c7a1",
   "metadata": {
    "lines_to_next_cell": 0,
    "slideshow": {
     "slide_type": "slide"
    }
   },
   "source": [
    "- Look at the documentation for `np.loadtxt`\n",
    "- Since this has two columns, we can use `unpack=True` to extract the two columns"
   ]
  },
  {
   "cell_type": "code",
   "execution_count": null,
   "id": "67eb1002",
   "metadata": {},
   "outputs": [],
   "source": [
    "x, y = np.loadtxt('../data/data.txt', unpack=True)\n",
    "print(len(x), len(y))\n",
    "x[:2]"
   ]
  },
  {
   "cell_type": "markdown",
   "id": "302d65e3",
   "metadata": {
    "lines_to_next_cell": 0,
    "slideshow": {
     "slide_type": "slide"
    }
   },
   "source": [
    "## Mean, std-dev, percentiles, ...\n",
    "\n",
    "Now let us look at some simple statistics of this data."
   ]
  },
  {
   "cell_type": "code",
   "execution_count": null,
   "id": "4c02898e",
   "metadata": {},
   "outputs": [],
   "source": [
    "np.mean(x)"
   ]
  },
  {
   "cell_type": "code",
   "execution_count": null,
   "id": "4212c1ec",
   "metadata": {},
   "outputs": [],
   "source": [
    "np.mean(y)"
   ]
  },
  {
   "cell_type": "code",
   "execution_count": null,
   "id": "9be0aabb",
   "metadata": {},
   "outputs": [],
   "source": [
    "# This is the biased estimator.\n",
    "np.std(x)"
   ]
  },
  {
   "cell_type": "markdown",
   "id": "5fbb8c76",
   "metadata": {},
   "source": [
    "\n",
    "The biased estimator is:\n",
    "$$\\sigma^2 = \\frac{\\sum_{i=1}^n (X_i - \\bar{X})^2}{n}$$\n",
    "The unbiased estimator is:\n",
    "$$\\sigma^2 = \\frac{\\sum_{i=1}^n (X_i - \\bar{X})^2}{n-1}$$"
   ]
  },
  {
   "cell_type": "code",
   "execution_count": null,
   "id": "d9216785",
   "metadata": {},
   "outputs": [],
   "source": [
    "# The unbiased estimator\n",
    "np.std(x, ddof=1)"
   ]
  },
  {
   "cell_type": "code",
   "execution_count": null,
   "id": "7cc4bd7a",
   "metadata": {},
   "outputs": [],
   "source": [
    "np.median(x)"
   ]
  },
  {
   "cell_type": "markdown",
   "id": "26489d3e",
   "metadata": {
    "slideshow": {
     "slide_type": "slide"
    }
   },
   "source": [
    "### Percentiles"
   ]
  },
  {
   "cell_type": "code",
   "execution_count": null,
   "id": "a5aa36c4",
   "metadata": {},
   "outputs": [],
   "source": [
    "np.percentile(x, 50)"
   ]
  },
  {
   "cell_type": "code",
   "execution_count": null,
   "id": "010e212f",
   "metadata": {},
   "outputs": [],
   "source": [
    "# Get multiple in one shot.\n",
    "np.percentile(x, [25, 50, 75, 90])"
   ]
  },
  {
   "cell_type": "markdown",
   "id": "115ecf28",
   "metadata": {
    "slideshow": {
     "slide_type": "slide"
    }
   },
   "source": [
    "## Exercise\n",
    "\n",
    "- For the data below\n",
    "- Find the percentiles from 0 to 100 (in unit steps)\n",
    "- Plot them\n"
   ]
  },
  {
   "cell_type": "code",
   "execution_count": null,
   "id": "9c5670ea",
   "metadata": {
    "lines_to_next_cell": 2
   },
   "outputs": [],
   "source": [
    "# Solution"
   ]
  },
  {
   "cell_type": "markdown",
   "id": "535a4a17",
   "metadata": {
    "slideshow": {
     "slide_type": "slide"
    }
   },
   "source": [
    "## Scatter plots\n",
    "\n",
    "Useful to get a sense of the data and their relationship"
   ]
  },
  {
   "cell_type": "code",
   "execution_count": null,
   "id": "ca73eb56",
   "metadata": {},
   "outputs": [],
   "source": [
    "plt.scatter(x, y);"
   ]
  },
  {
   "cell_type": "code",
   "execution_count": null,
   "id": "ff461687",
   "metadata": {},
   "outputs": [],
   "source": [
    "# Can also show size and color.\n",
    "# We construct a simple scalar to display.\n",
    "s = s = (x-np.mean(x))**2 + (y - np.mean(y))**2\n",
    "plt.scatter(x, y, c=s, s=s)\n",
    "plt.grid();"
   ]
  },
  {
   "cell_type": "markdown",
   "id": "020b85d8",
   "metadata": {
    "slideshow": {
     "slide_type": "slide"
    }
   },
   "source": [
    "## Histograms\n",
    "\n",
    "Extremely useful to get a sense of the distribution of the data."
   ]
  },
  {
   "cell_type": "code",
   "execution_count": null,
   "id": "23693d7f",
   "metadata": {},
   "outputs": [],
   "source": [
    "plt.hist(y);"
   ]
  },
  {
   "cell_type": "code",
   "execution_count": null,
   "id": "b764517e",
   "metadata": {},
   "outputs": [],
   "source": [
    "# Warning default bins are just 10, using 'auto' is always a better idea.\n",
    "plt.hist(x, bins='auto');"
   ]
  },
  {
   "cell_type": "code",
   "execution_count": null,
   "id": "c0e377c2",
   "metadata": {},
   "outputs": [],
   "source": [
    "# But if you know better you can specify the number of bins.\n",
    "plt.hist(x, bins=20);"
   ]
  },
  {
   "cell_type": "markdown",
   "id": "9adb85e7",
   "metadata": {
    "slideshow": {
     "slide_type": "slide"
    }
   },
   "source": [
    "### Cumulative and relative histograms\n",
    "\n",
    "- Hope you've seen this in your Statistics course?\n",
    "- You get an empirical probability density function (PDF) through a histogram!\n",
    "- But this has to be a relative histogram, i.e. use `density=True`\n",
    "- A cumulative histogram is an approximation to a Cumulative Distribution Function (CDF)"
   ]
  },
  {
   "cell_type": "code",
   "execution_count": null,
   "id": "f8e06a8b",
   "metadata": {
    "lines_to_next_cell": 2
   },
   "outputs": [],
   "source": [
    "# Relative histogram.\n",
    "plt.hist(y, bins='auto', density=True);"
   ]
  },
  {
   "cell_type": "code",
   "execution_count": null,
   "id": "e0872107",
   "metadata": {
    "lines_to_next_cell": 2
   },
   "outputs": [],
   "source": [
    "plt.hist(y, bins='auto', cumulative=True, density=True);"
   ]
  },
  {
   "cell_type": "markdown",
   "id": "a4b0af7f",
   "metadata": {
    "slideshow": {
     "slide_type": "slide"
    }
   },
   "source": [
    "## Box-plots\n",
    "\n",
    "- Powerful plotting utility\n",
    "- Shows the distribution of the data at a glance\n",
    "- Typically shows the following:\n",
    "   - Median, Q1, Q3, IQR\n",
    "   - Q1 - 1.5*IQR, Q3 + 1.5*IQR\n"
   ]
  },
  {
   "cell_type": "code",
   "execution_count": null,
   "id": "2907f6b1",
   "metadata": {},
   "outputs": [],
   "source": [
    "plt.boxplot(x, tick_labels=['x'], showmeans=True);"
   ]
  },
  {
   "cell_type": "markdown",
   "id": "5d71c4ff",
   "metadata": {
    "lines_to_next_cell": 0
   },
   "source": [
    "- Can show multiple boxplots together\n"
   ]
  },
  {
   "cell_type": "code",
   "execution_count": null,
   "id": "d4ee1308",
   "metadata": {
    "lines_to_next_cell": 2
   },
   "outputs": [],
   "source": [
    "plt.boxplot((x, y), tick_labels=['x', 'y'], showmeans=True, patch_artist=True);"
   ]
  },
  {
   "cell_type": "markdown",
   "id": "9caed0f3",
   "metadata": {
    "slideshow": {
     "slide_type": "slide"
    }
   },
   "source": [
    "## Violin plots!\n",
    "\n",
    "- Combine PDFs and box plots.\n"
   ]
  },
  {
   "cell_type": "code",
   "execution_count": null,
   "id": "c7e84bfb",
   "metadata": {},
   "outputs": [],
   "source": [
    "violinplot(x);"
   ]
  },
  {
   "cell_type": "code",
   "execution_count": null,
   "id": "77efda4c",
   "metadata": {
    "lines_to_next_cell": 2
   },
   "outputs": [],
   "source": [
    "violinplot(y);"
   ]
  },
  {
   "cell_type": "markdown",
   "id": "37fae759",
   "metadata": {
    "slideshow": {
     "slide_type": "slide"
    }
   },
   "source": [
    "## Pearson's correlation coefficient\n",
    "\n",
    " $$\\begin{aligned}\n",
    " r = \\frac{\\sum_i (x_i - \\bar{x}) (y_i - \\bar{y})}{(n-1) s_x s_y} \\\\\n",
    " \\end{aligned}$$$$r = \\frac{\\sum_i (x_i - \\bar{x}) (y_i - \\bar{y}) }\n",
    "          {\\sqrt {\\sum (x_i - \\bar{x})^2 \\sum (y_i - \\bar{y})^2}}$$\n",
    "\n",
    "- $-1 \\leq r \\leq 1$\n",
    "- \\\"Small\\\" r implies lower correlation"
   ]
  },
  {
   "cell_type": "code",
   "execution_count": null,
   "id": "9cc38c46",
   "metadata": {
    "lines_to_next_cell": 2
   },
   "outputs": [],
   "source": [
    "np.corrcoef(x, y)"
   ]
  },
  {
   "cell_type": "markdown",
   "id": "e4b149a3",
   "metadata": {
    "slideshow": {
     "slide_type": "slide"
    }
   },
   "source": [
    "## Pie and bar charts.\n",
    "\n",
    "- In general avoid pie charts, use barcharts/histograms instead.\n",
    "- But here is how you can do this.\n",
    "\n",
    "Consider this data:\n",
    "\n",
    "| **Cancer**  | Lung | Breast | Colon | Prostate | Melanoma | Bladder |\n",
    "|-------------|------|--------|-------|----------|----------|---------|\n",
    "| **Numbers** | 42   |  50    |  32   |   55     |  9       |  12     |\n"
   ]
  },
  {
   "cell_type": "code",
   "execution_count": null,
   "id": "d20d6bd9",
   "metadata": {},
   "outputs": [],
   "source": [
    "# Solution\n",
    "cancer = ['Lung', 'Breast', 'Colon', 'Prostate', 'Melanoma', 'Bladder']\n",
    "numbers = [42, 50, 32, 55, 9, 12]\n",
    "plt.pie(numbers, labels=cancer, shadow=True);"
   ]
  },
  {
   "cell_type": "markdown",
   "id": "ae3c536f",
   "metadata": {
    "slideshow": {
     "slide_type": "slide"
    }
   },
   "source": [
    "### Better to use a bar chart\n"
   ]
  },
  {
   "cell_type": "code",
   "execution_count": null,
   "id": "b6da3c80",
   "metadata": {},
   "outputs": [],
   "source": [
    "x = np.arange(len(numbers))\n",
    "plt.bar(x, numbers, tick_label=cancer)\n",
    "plt.grid();"
   ]
  },
  {
   "cell_type": "markdown",
   "id": "975c0beb",
   "metadata": {
    "slideshow": {
     "slide_type": "slide"
    }
   },
   "source": [
    "## Exercise\n",
    "\n",
    "- Load the data in `'sachin.txt'`, and `'kohli.txt'`\n",
    "- These have the ODI runs for Sachin tendulkar and Virat Kohli\n",
    "- They have a single column each\n",
    "- Load the data using `np.loadtxt`\n",
    "- Show a histogram (relative) for each.\n",
    "- Show them together, use the same approach as we did for boxplot.\n",
    "- Hint: use `plt.legend` to set the legend\n",
    "- Show the data using a boxplot\n",
    "- Show the data using a violin plot.\n",
    "\n",
    "Comment on the player's performance"
   ]
  },
  {
   "cell_type": "code",
   "execution_count": null,
   "id": "1aba70f5",
   "metadata": {},
   "outputs": [],
   "source": [
    "# Solution"
   ]
  },
  {
   "cell_type": "code",
   "execution_count": null,
   "id": "fa4fdf86",
   "metadata": {},
   "outputs": [],
   "source": []
  },
  {
   "cell_type": "code",
   "execution_count": null,
   "id": "1af8ff96",
   "metadata": {},
   "outputs": [],
   "source": []
  },
  {
   "cell_type": "markdown",
   "id": "b4002efc",
   "metadata": {
    "slideshow": {
     "slide_type": "slide"
    }
   },
   "source": [
    "\n",
    "## Interactivity with widgets\n",
    "\n",
    "- Jupyter widgets or [IPyWidgets](https://ipywidgets.readthedocs.io/) make\n",
    "  it very easy to add interactivity to a notebook.\n",
    "- Already installed on the course website.\n",
    "- Usually already installed in Anaconda.\n",
    "\n",
    "Here we learn the bare-minimum to get started. Read the docs to learn more.\n"
   ]
  },
  {
   "cell_type": "code",
   "execution_count": null,
   "id": "bfe692f1",
   "metadata": {
    "lines_to_next_cell": 1
   },
   "outputs": [],
   "source": [
    "from ipywidgets import interact"
   ]
  },
  {
   "cell_type": "code",
   "execution_count": null,
   "id": "93c217bb",
   "metadata": {},
   "outputs": [],
   "source": [
    "def sine_plot(k=1, phi=0.0):\n",
    "    x = np.linspace(0, 2*np.pi, 1000)\n",
    "    y = np.sin(x*k + phi)\n",
    "    plt.plot(x, y)\n",
    "    plt.grid()"
   ]
  },
  {
   "cell_type": "code",
   "execution_count": null,
   "id": "89b0d116",
   "metadata": {},
   "outputs": [],
   "source": [
    "sine_plot(k=2, phi=0.5)"
   ]
  },
  {
   "cell_type": "code",
   "execution_count": null,
   "id": "80b7ddb0",
   "metadata": {
    "lines_to_next_cell": 1
   },
   "outputs": [],
   "source": [
    "interact(sine_plot, k=(1, 20), phi=(0, 2*np.pi))"
   ]
  },
  {
   "cell_type": "markdown",
   "id": "19424eb0",
   "metadata": {},
   "source": [
    "Can also use the decorator syntax"
   ]
  },
  {
   "cell_type": "code",
   "execution_count": null,
   "id": "7470c44b",
   "metadata": {
    "lines_to_next_cell": 1
   },
   "outputs": [],
   "source": [
    "@interact(k=(1, 20), phi=(0, 2*np.pi))\n",
    "def sine_plot(k=1, phi=0.0):\n",
    "    x = np.linspace(0, 2*np.pi, 1000)\n",
    "    y = np.sin(x*k + phi)\n",
    "    plt.plot(x, y)\n",
    "    plt.grid()"
   ]
  },
  {
   "cell_type": "markdown",
   "id": "5f1142da",
   "metadata": {
    "lines_to_next_cell": 0,
    "slideshow": {
     "slide_type": "slide"
    }
   },
   "source": [
    "### Another example\n"
   ]
  },
  {
   "cell_type": "code",
   "execution_count": null,
   "id": "5ddfbc12",
   "metadata": {},
   "outputs": [],
   "source": [
    "@interact(name=['Krishna', 'Prabhu', 'Hassan'], n=(0, 10), x=(0.0, 1.0))\n",
    "def f(option=True, hi='Hello', name='Krishna', n=1, x=0.1):\n",
    "    print(option, hi, name, n, x)"
   ]
  },
  {
   "cell_type": "markdown",
   "id": "f9e0b803",
   "metadata": {
    "lines_to_next_cell": 2,
    "slideshow": {
     "slide_type": "slide"
    }
   },
   "source": [
    "### Aside: decorators\n",
    "\n",
    "- Decorators are higher order functions\n",
    "- Operate on a function and return a function\n"
   ]
  },
  {
   "cell_type": "code",
   "execution_count": null,
   "id": "a15523c4",
   "metadata": {
    "lines_to_next_cell": 1
   },
   "outputs": [],
   "source": [
    "# Trivial example\n",
    "def deco(f):\n",
    "    return f"
   ]
  },
  {
   "cell_type": "code",
   "execution_count": null,
   "id": "59580614",
   "metadata": {
    "lines_to_next_cell": 0
   },
   "outputs": [],
   "source": [
    "@deco\n",
    "def g(x):\n",
    "    pass\n",
    "\n",
    "# Equivalent to\n",
    "h = deco(g)"
   ]
  },
  {
   "cell_type": "code",
   "execution_count": null,
   "id": "44a19016",
   "metadata": {},
   "outputs": [],
   "source": [
    "g(1)"
   ]
  },
  {
   "cell_type": "code",
   "execution_count": null,
   "id": "cdb2d08d",
   "metadata": {
    "lines_to_next_cell": 1
   },
   "outputs": [],
   "source": [
    "# More complex example\n",
    "def deco1(f):\n",
    "    def _my_f(x):\n",
    "        print(\"Hello!\")\n",
    "        return f(x)\n",
    "    return _my_f"
   ]
  },
  {
   "cell_type": "code",
   "execution_count": null,
   "id": "58b82e61",
   "metadata": {
    "lines_to_next_cell": 1
   },
   "outputs": [],
   "source": [
    "@deco1\n",
    "def g(x):\n",
    "    return x + 1"
   ]
  },
  {
   "cell_type": "code",
   "execution_count": null,
   "id": "49b4ab60",
   "metadata": {},
   "outputs": [],
   "source": [
    "g(1)"
   ]
  },
  {
   "cell_type": "markdown",
   "id": "05406c44",
   "metadata": {
    "slideshow": {
     "slide_type": "slide"
    }
   },
   "source": [
    "## Summary\n",
    "\n",
    "- Statistical quantities: mean, median, std. dev., percentiles\n",
    "- Statistical plots: scatter plot, histogram, boxplot, bar/pie chart, violin plot\n",
    "- Correlation coefficient\n",
    "- Interactivity with `ipywidets` and `interact`\n",
    "- Decorators"
   ]
  }
 ],
 "metadata": {
  "kernelspec": {
   "display_name": "Python 3 (ipykernel)",
   "language": "python",
   "name": "python3"
  }
 },
 "nbformat": 4,
 "nbformat_minor": 5
}
