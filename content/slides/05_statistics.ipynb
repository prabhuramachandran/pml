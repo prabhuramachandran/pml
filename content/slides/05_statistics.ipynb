{
 "cells": [
  {
   "cell_type": "markdown",
   "id": "1cbc4a94",
   "metadata": {
    "slideshow": {
     "slide_type": "slide"
    }
   },
   "source": [
    "## More plotting\n",
    "\n",
    "- Descriptive statistics\n",
    "- Other statistical plots"
   ]
  },
  {
   "cell_type": "code",
   "execution_count": null,
   "id": "964f8a2d",
   "metadata": {},
   "outputs": [],
   "source": [
    "import numpy as np\n",
    "import matplotlib.pyplot as plt"
   ]
  },
  {
   "cell_type": "markdown",
   "id": "90d612b4",
   "metadata": {
    "slideshow": {
     "slide_type": "slide"
    }
   },
   "source": [
    "## Loading simple text data\n",
    "\n",
    "Consider a simple text file like `data/data.txt` which is located the\n",
    "`data` directory on the interface. The file has two columns of data like so:\n",
    "```\n",
    "6.930830303506971291e+01 1.950570203348928500e+00\n",
    "5.076032587226054460e+01 1.968615715715650527e+00\n",
    "6.285323760945500027e+01 1.343008070563283418e+00\n",
    "7.068897251770047774e+01 1.602208201785916941e+00\n",
    "...\n",
    "```\n",
    "This can be easily loaded as a numpy array like so:"
   ]
  },
  {
   "cell_type": "code",
   "execution_count": null,
   "id": "317c0f93",
   "metadata": {},
   "outputs": [],
   "source": [
    "# Change the path to suit your setup.\n",
    "data = np.loadtxt('../data/data.txt')"
   ]
  },
  {
   "cell_type": "code",
   "execution_count": null,
   "id": "29f70f9a",
   "metadata": {},
   "outputs": [],
   "source": [
    "print(len(data))\n",
    "data[:2]"
   ]
  },
  {
   "cell_type": "markdown",
   "id": "6dfd177d",
   "metadata": {
    "lines_to_next_cell": 0,
    "slideshow": {
     "slide_type": "slide"
    }
   },
   "source": [
    "- Look at the documentation for `np.loadtxt`\n",
    "- Since this has two columns, we can use `unpack=True` to extract the two columns"
   ]
  },
  {
   "cell_type": "code",
   "execution_count": null,
   "id": "0d96b7e0",
   "metadata": {},
   "outputs": [],
   "source": [
    "x, y = np.loadtxt('../data/data.txt', unpack=True)\n",
    "print(len(x), len(y))\n",
    "x[:2]"
   ]
  },
  {
   "cell_type": "markdown",
   "id": "f03b23c8",
   "metadata": {
    "lines_to_next_cell": 0,
    "slideshow": {
     "slide_type": "slide"
    }
   },
   "source": [
    "## Mean, std-dev, percentiles, ...\n",
    "\n",
    "Now let us look at some simple statistics of this data."
   ]
  },
  {
   "cell_type": "code",
   "execution_count": null,
   "id": "e2f9aedd",
   "metadata": {},
   "outputs": [],
   "source": [
    "np.mean(x)"
   ]
  },
  {
   "cell_type": "code",
   "execution_count": null,
   "id": "c3d1406b",
   "metadata": {},
   "outputs": [],
   "source": [
    "np.mean(y)"
   ]
  },
  {
   "cell_type": "code",
   "execution_count": null,
   "id": "f8e7f5e6",
   "metadata": {},
   "outputs": [],
   "source": [
    "# This is the biased estimator.\n",
    "np.std(x)"
   ]
  },
  {
   "cell_type": "markdown",
   "id": "d076ac11",
   "metadata": {},
   "source": [
    "\n",
    "The biased estimator is:\n",
    "$$\\sigma^2 = \\frac{\\sum_{i=1}^n (X_i - \\bar{X})^2}{n}$$\n",
    "The unbiased estimator is:\n",
    "$$\\sigma^2 = \\frac{\\sum_{i=1}^n (X_i - \\bar{X})^2}{n-1}$$"
   ]
  },
  {
   "cell_type": "code",
   "execution_count": null,
   "id": "b6adf9a8",
   "metadata": {},
   "outputs": [],
   "source": [
    "# The unbiased estimator\n",
    "np.std(x, ddof=1)"
   ]
  },
  {
   "cell_type": "code",
   "execution_count": null,
   "id": "20f0adea",
   "metadata": {},
   "outputs": [],
   "source": [
    "np.median(x)"
   ]
  },
  {
   "cell_type": "markdown",
   "id": "de4d429e",
   "metadata": {
    "slideshow": {
     "slide_type": "slide"
    }
   },
   "source": [
    "### Percentiles"
   ]
  },
  {
   "cell_type": "code",
   "execution_count": null,
   "id": "83cb4c86",
   "metadata": {},
   "outputs": [],
   "source": [
    "np.percentile(x, 50)"
   ]
  },
  {
   "cell_type": "code",
   "execution_count": null,
   "id": "74c9ed60",
   "metadata": {},
   "outputs": [],
   "source": [
    "# Get multiple in one shot.\n",
    "np.percentile(x, [25, 50, 75, 90])"
   ]
  },
  {
   "cell_type": "markdown",
   "id": "a13ce857",
   "metadata": {
    "slideshow": {
     "slide_type": "slide"
    }
   },
   "source": [
    "## Exercise\n",
    "\n",
    "- For the data above\n",
    "- Find the percentiles from 0 to 100 (in unit steps)\n",
    "- Plot them\n"
   ]
  },
  {
   "cell_type": "code",
   "execution_count": null,
   "id": "e1eed379",
   "metadata": {
    "lines_to_next_cell": 2
   },
   "outputs": [],
   "source": [
    "# Solution"
   ]
  },
  {
   "cell_type": "markdown",
   "id": "f589577c",
   "metadata": {
    "slideshow": {
     "slide_type": "slide"
    }
   },
   "source": [
    "## Scatter plots\n",
    "\n",
    "Useful to get a sense of the data and their relationship"
   ]
  },
  {
   "cell_type": "code",
   "execution_count": null,
   "id": "24b424ac",
   "metadata": {},
   "outputs": [],
   "source": [
    "plt.scatter(x, y);"
   ]
  },
  {
   "cell_type": "code",
   "execution_count": null,
   "id": "543317c5",
   "metadata": {},
   "outputs": [],
   "source": [
    "# Can also show size and color.\n",
    "# We construct a simple scalar to display.\n",
    "s = s = (x-np.mean(x))**2 + (y - np.mean(y))**2\n",
    "plt.scatter(x, y, c=s, s=s)\n",
    "plt.grid();"
   ]
  },
  {
   "cell_type": "markdown",
   "id": "dcf1b336",
   "metadata": {
    "slideshow": {
     "slide_type": "slide"
    }
   },
   "source": [
    "## Histograms\n",
    "\n",
    "Very useful to get a sense of the distribution of the data."
   ]
  },
  {
   "cell_type": "code",
   "execution_count": null,
   "id": "930b3c98",
   "metadata": {},
   "outputs": [],
   "source": [
    "plt.hist(y);"
   ]
  },
  {
   "cell_type": "code",
   "execution_count": null,
   "id": "0d643d9b",
   "metadata": {},
   "outputs": [],
   "source": [
    "# Warning default bins are just 10, using 'auto' is always a better idea.\n",
    "plt.hist(x, bins='auto');"
   ]
  },
  {
   "cell_type": "code",
   "execution_count": null,
   "id": "4243ec8e",
   "metadata": {},
   "outputs": [],
   "source": [
    "# But if you know better you can specify the number of bins.\n",
    "plt.hist(x, bins=20);"
   ]
  },
  {
   "cell_type": "markdown",
   "id": "98263c7d",
   "metadata": {},
   "source": [
    "Note the output of this is the counts, bins_edges, patches"
   ]
  },
  {
   "cell_type": "code",
   "execution_count": null,
   "id": "bba06e88",
   "metadata": {},
   "outputs": [],
   "source": [
    "counts, bins, patches = plt.hist(x, bins='auto');"
   ]
  },
  {
   "cell_type": "code",
   "execution_count": null,
   "id": "223fe18d",
   "metadata": {},
   "outputs": [],
   "source": [
    "# Numpy is used to generate the counts, bins\n",
    "c, b = np.histogram(x, bins='auto')"
   ]
  },
  {
   "cell_type": "code",
   "execution_count": null,
   "id": "957c414b",
   "metadata": {},
   "outputs": [],
   "source": [
    "np.allclose(c, counts) and np.allclose(b, bins)"
   ]
  },
  {
   "cell_type": "markdown",
   "id": "d3b7be91",
   "metadata": {
    "slideshow": {
     "slide_type": "slide"
    }
   },
   "source": [
    "### Cumulative and relative histograms\n",
    "\n",
    "- Hope you've seen this in your Statistics course?\n",
    "- You get an empirical probability density function (PDF) through a\n",
    "  histogram!\n",
    "- But this has to be a relative histogram, i.e. use `density=True`\n",
    "- A cumulative histogram is an approximation to a Cumulative Distribution\n",
    "  Function (CDF)\n",
    "\n",
    "This is very important and valuable as we will see later."
   ]
  },
  {
   "cell_type": "code",
   "execution_count": null,
   "id": "d9c5c537",
   "metadata": {
    "lines_to_next_cell": 2
   },
   "outputs": [],
   "source": [
    "# Relative histogram.\n",
    "plt.hist(y, bins='auto', density=True);"
   ]
  },
  {
   "cell_type": "code",
   "execution_count": null,
   "id": "e887991b",
   "metadata": {
    "lines_to_next_cell": 2
   },
   "outputs": [],
   "source": [
    "plt.hist(y, bins='auto', cumulative=True, density=True);"
   ]
  },
  {
   "cell_type": "markdown",
   "id": "9ef11205",
   "metadata": {
    "slideshow": {
     "slide_type": "slide"
    }
   },
   "source": [
    "## Box-plots\n",
    "\n",
    "- Powerful plotting utility\n",
    "- Shows the distribution of the data at a glance\n",
    "- Typically shows the following:\n",
    "   - Median, Q1, Q3, IQR\n",
    "   - Q1 - 1.5 x IQR, Q3 + 1.5 x IQR\n"
   ]
  },
  {
   "cell_type": "code",
   "execution_count": null,
   "id": "ff516670",
   "metadata": {},
   "outputs": [],
   "source": [
    "plt.boxplot(x, tick_labels=['x'], showmeans=True);"
   ]
  },
  {
   "cell_type": "markdown",
   "id": "cf54b2e9",
   "metadata": {
    "lines_to_next_cell": 0
   },
   "source": [
    "- Can show multiple boxplots together\n"
   ]
  },
  {
   "cell_type": "code",
   "execution_count": null,
   "id": "85f50417",
   "metadata": {
    "lines_to_next_cell": 2
   },
   "outputs": [],
   "source": [
    "plt.boxplot((x, y), tick_labels=['x', 'y'], showmeans=True, patch_artist=True);"
   ]
  },
  {
   "cell_type": "markdown",
   "id": "c3f334e0",
   "metadata": {
    "slideshow": {
     "slide_type": "slide"
    }
   },
   "source": [
    "## Violin plots!\n",
    "\n",
    "- Combine PDFs and box plots.\n"
   ]
  },
  {
   "cell_type": "code",
   "execution_count": null,
   "id": "b052782f",
   "metadata": {},
   "outputs": [],
   "source": [
    "plt.violinplot(x);"
   ]
  },
  {
   "cell_type": "code",
   "execution_count": null,
   "id": "179f7ca1",
   "metadata": {
    "lines_to_next_cell": 2
   },
   "outputs": [],
   "source": [
    "plt.violinplot(y);"
   ]
  },
  {
   "cell_type": "markdown",
   "id": "99652cf6",
   "metadata": {
    "slideshow": {
     "slide_type": "slide"
    }
   },
   "source": [
    "## Pearson's correlation coefficient\n",
    "\n",
    " $$\\begin{aligned}\n",
    " r = \\frac{\\sum_i (x_i - \\bar{x}) (y_i - \\bar{y})}{(n-1) s_x s_y} \\\\\n",
    " \\end{aligned}$$$$r = \\frac{\\sum_i (x_i - \\bar{x}) (y_i - \\bar{y}) }\n",
    "          {\\sqrt {\\sum (x_i - \\bar{x})^2 \\sum (y_i - \\bar{y})^2}}$$\n",
    "\n",
    "- $-1 \\leq r \\leq 1$\n",
    "- \\\"Small\\\" r implies lower correlation"
   ]
  },
  {
   "cell_type": "code",
   "execution_count": null,
   "id": "0263a3b4",
   "metadata": {
    "lines_to_next_cell": 2
   },
   "outputs": [],
   "source": [
    "np.corrcoef(x, y)"
   ]
  },
  {
   "cell_type": "markdown",
   "id": "f3053ae1",
   "metadata": {
    "slideshow": {
     "slide_type": "slide"
    }
   },
   "source": [
    "## Pie and bar charts.\n",
    "\n",
    "- In general avoid pie charts, use barcharts/histograms instead.\n",
    "- But here is how you can do this.\n",
    "\n",
    "Consider this data:\n",
    "\n",
    "| **Cancer**  | Lung | Breast | Colon | Prostate | Melanoma | Bladder |\n",
    "|-------------|------|--------|-------|----------|----------|---------|\n",
    "| **Numbers** | 42   |  50    |  32   |   55     |  9       |  12     |\n"
   ]
  },
  {
   "cell_type": "code",
   "execution_count": null,
   "id": "60908b80",
   "metadata": {},
   "outputs": [],
   "source": [
    "# Solution\n",
    "cancer = ['Lung', 'Breast', 'Colon', 'Prostate', 'Melanoma', 'Bladder']\n",
    "numbers = [42, 50, 32, 55, 9, 12]\n",
    "plt.pie(numbers, labels=cancer, shadow=True);"
   ]
  },
  {
   "cell_type": "markdown",
   "id": "58f7a792",
   "metadata": {
    "slideshow": {
     "slide_type": "slide"
    }
   },
   "source": [
    "### Better to use a bar chart\n"
   ]
  },
  {
   "cell_type": "code",
   "execution_count": null,
   "id": "7392e9ae",
   "metadata": {},
   "outputs": [],
   "source": [
    "x = np.arange(len(numbers))\n",
    "plt.bar(x, numbers, tick_label=cancer)\n",
    "plt.grid();"
   ]
  },
  {
   "cell_type": "markdown",
   "id": "e9a6fc3a",
   "metadata": {
    "slideshow": {
     "slide_type": "slide"
    }
   },
   "source": [
    "## Exercise\n",
    "\n",
    "- Load the data in `'sachin.txt'`, and `'kohli.txt'`\n",
    "- These have the ODI runs for Sachin Tendulkar and Virat Kohli\n",
    "- They have a single column each\n",
    "- Load the data using `np.loadtxt`\n",
    "- Show a histogram (relative) for each.\n",
    "- Show them together, use the same approach as we did for boxplot.\n",
    "- Hint: use `plt.legend` to set the legend\n",
    "- Show the data using a boxplot\n",
    "- Show the data using a violin plot.\n",
    "\n",
    "Comment on the player's performance"
   ]
  },
  {
   "cell_type": "code",
   "execution_count": null,
   "id": "7dfa4c4e",
   "metadata": {},
   "outputs": [],
   "source": [
    "# Solution"
   ]
  },
  {
   "cell_type": "code",
   "execution_count": null,
   "id": "ceded20f",
   "metadata": {},
   "outputs": [],
   "source": []
  },
  {
   "cell_type": "markdown",
   "id": "f2ff40a7",
   "metadata": {
    "lines_to_next_cell": 0
   },
   "source": [
    "## Connection to probability theory\n",
    "\n",
    "- We've seen various kinds of plots\n",
    "- So far this is entirely visual\n",
    "- We can actually do very powerful things with this\n",
    "\n",
    "Let us first look at how histograms work.\n",
    "\n",
    "- Counts number of occurrences in each bin.\n",
    "- Bins are chosen automatically via `'auto'` or explicitly specified\n",
    "\n",
    "### Probability mass function (PMF)\n",
    "\n",
    "- Used for discrete distributions, Bernoulli, Binomial, Poisson etc.\n",
    "- Assigns probability for each value $p(x)$\n",
    "- Empirically, this is basically the relative count of occurrence of the\n",
    "  value! Note that this is exactly how a relative histogram is found.\n",
    "\n",
    "### Probability density function (PDF)\n",
    "\n",
    "- Used for continuous distributions, uniform, normal, Chi-square, T etc.\n",
    "- Probability density function: $f(x)$\n",
    "- Probability in some region of $x$, $\\Delta x$ is: $f(x) \\Delta x$\n",
    "\n",
    "In this case, for N data points, the values of the histogram are = `count/(N*bin_width)`\n",
    "This produces the density function.\n",
    "\n",
    "Consider Sachin's scores"
   ]
  },
  {
   "cell_type": "code",
   "execution_count": null,
   "id": "3f21aa81",
   "metadata": {},
   "outputs": [],
   "source": [
    "ds = np.loadtxt('../data/sachin.txt')\n",
    "print(len(ds), max(ds))"
   ]
  },
  {
   "cell_type": "code",
   "execution_count": null,
   "id": "8df6de21",
   "metadata": {},
   "outputs": [],
   "source": [
    "# A simple histogram is not enough\n",
    "plt.hist(ds, bins='auto', density=True);"
   ]
  },
  {
   "cell_type": "markdown",
   "id": "5796ee18",
   "metadata": {},
   "source": [
    "- The problem with this is that this is not really a probability mass\n",
    "  function.\n",
    "- It is a PDF."
   ]
  },
  {
   "cell_type": "code",
   "execution_count": null,
   "id": "ace02eeb-75a7-4ada-bf14-2972f8d48b04",
   "metadata": {},
   "outputs": [],
   "source": [
    "c, b, p = plt.hist(np.random.randint(0, 2, size=10000), bins=2, density=True, edgecolor='black');"
   ]
  },
  {
   "cell_type": "code",
   "execution_count": null,
   "id": "714cdfde",
   "metadata": {},
   "outputs": [],
   "source": [
    "# This will produce a rough PMF\n",
    "plt.hist(ds, bins=range(201), density=True);"
   ]
  },
  {
   "cell_type": "markdown",
   "id": "9c579f43",
   "metadata": {},
   "source": [
    "\n",
    "This is not perfect since we have only about 450 points in total (which is\n",
    "quite a bit).\n",
    "\n",
    "If all we want is the counts without a plot, we can simply use `np.histogram`"
   ]
  },
  {
   "cell_type": "code",
   "execution_count": null,
   "id": "803d7abf",
   "metadata": {},
   "outputs": [],
   "source": [
    "pmf, bins = np.histogram(ds, bins=range(201), density=True)"
   ]
  },
  {
   "cell_type": "markdown",
   "id": "fa478596",
   "metadata": {
    "lines_to_next_cell": 0
   },
   "source": [
    "### Why is this useful\n",
    "\n",
    "If you know the PMF/PDF you basically know a great deal about the data.\n",
    "You can use it to ask all sort sof probability based questions.\n",
    "\n",
    "- What is the median score, what is the IQR, etc.?\n",
    "- What is the probability that Sachin will score < 10?\n",
    "- What is the probability that he will score > 50?\n",
    "- What is the probability that he will score > 100 given that he crossed 50?\n",
    "\n",
    "These are quite deep questions that can be easily answered with the data.\n",
    "You can do this to even compare players.\n",
    "\n",
    "## Exercise\n",
    "\n",
    "Try to answer some of these quickly.\n",
    "\n",
    "1. What is the probability that Sachin will score < 10?\n",
    "2. What is the probability that Sachin will score > 50?\n",
    "3. What is the probability that he will cross 100 given that he crossed 50?\n",
    "\n",
    "We can do this either with a PMF or a PDF."
   ]
  },
  {
   "cell_type": "code",
   "execution_count": null,
   "id": "6f7b7a3e-135b-4d5a-9cf3-ed71f87e2075",
   "metadata": {},
   "outputs": [],
   "source": [
    "c, b, p = plt.hist(ds, bins=range(201), density=True, cumulative=True);\n",
    "plt.grid();"
   ]
  },
  {
   "cell_type": "code",
   "execution_count": null,
   "id": "85521217-3b31-4a5a-9431-02c7a7661210",
   "metadata": {},
   "outputs": [],
   "source": [
    "c[11]"
   ]
  },
  {
   "cell_type": "code",
   "execution_count": null,
   "id": "30f5c583",
   "metadata": {},
   "outputs": [],
   "source": [
    "# Q1. What is the probability that Sachin will score < 10\n",
    "# Note that the bins start at 0 and include the left limit of each bin.\n",
    "print(b[9], c[9])  # So the c[9] value gives the sum of all probabilities < 10"
   ]
  },
  {
   "cell_type": "code",
   "execution_count": null,
   "id": "98e77aaa-1533-44f9-ac5c-4b27d1342c7b",
   "metadata": {},
   "outputs": [],
   "source": [
    "# Q2. What is the probability that Sachin will score > 50?\n",
    "print(b[50], c[50])\n",
    "print(\"Answer:\", 1 - c[50])  # 1-c[50] is probability that Sachin scores > 50."
   ]
  },
  {
   "cell_type": "code",
   "execution_count": null,
   "id": "49d20a03-e2e4-44cf-943f-798de22a6af1",
   "metadata": {},
   "outputs": [],
   "source": [
    "# Q3. What is the probability that he will score > 100 (event A) given that he crossed 50 (event B)?\n",
    "# Sachin has already crossed 50 and the chances of that is the answer to problem Q2, i.e. 1-c[50]\n",
    "# event A can happen only when event B has happened so $P(A \\cap B) = P(A)$, furthermore, $P(A | B) = P(A \\cap B)/P(B)$ so:\n",
    "print((1- c[100])/(1 - c[50]))"
   ]
  },
  {
   "cell_type": "code",
   "execution_count": null,
   "id": "dafb2315",
   "metadata": {},
   "outputs": [],
   "source": [
    "# Note on how the CDF is made.\n",
    "c, b = np.histogram(ds, bins=range(201), density=True)\n",
    "counts = np.cumsum(c)  # This is your CDF."
   ]
  },
  {
   "cell_type": "markdown",
   "id": "038c32d3",
   "metadata": {},
   "source": [
    "\n",
    "## Exercise\n",
    "\n",
    "1. Write a simple function that returns the PMF for a batsman's data given\n",
    "   their scores.\n",
    "2. Also generate the cumulative distribution function.\n",
    "3. Write a function to compute probabilities in a range (a, b) given the\n",
    "   PMF/CDF."
   ]
  },
  {
   "cell_type": "markdown",
   "id": "49803ae2",
   "metadata": {},
   "source": [
    "\n",
    "As you can see, the PDF/PMF is incredibly useful when answering practical\n",
    "questions.\n",
    "\n",
    "We will upload an exercise for you to do based on these.\n"
   ]
  },
  {
   "cell_type": "markdown",
   "id": "20cc007b",
   "metadata": {
    "slideshow": {
     "slide_type": "slide"
    }
   },
   "source": [
    "\n",
    "## Interactivity with widgets\n",
    "\n",
    "- Jupyter widgets or [IPyWidgets](https://ipywidgets.readthedocs.io/) make\n",
    "  it very easy to add interactivity to a notebook.\n",
    "- Already installed on the course website.\n",
    "- Usually already installed in Anaconda.\n",
    "\n",
    "Here we learn the bare-minimum to get started. Read the docs to learn more.\n"
   ]
  },
  {
   "cell_type": "code",
   "execution_count": null,
   "id": "0674adf8",
   "metadata": {
    "lines_to_next_cell": 1
   },
   "outputs": [],
   "source": [
    "from ipywidgets import interact"
   ]
  },
  {
   "cell_type": "code",
   "execution_count": null,
   "id": "32339f2d",
   "metadata": {},
   "outputs": [],
   "source": [
    "def sine_plot(k=5, phi=0.0):\n",
    "    x = np.linspace(0, 2*np.pi, 1000)\n",
    "    y = np.sin(x*k + phi)\n",
    "    plt.plot(x, y)\n",
    "    plt.grid()"
   ]
  },
  {
   "cell_type": "code",
   "execution_count": null,
   "id": "58b5682c",
   "metadata": {},
   "outputs": [],
   "source": [
    "sine_plot(k=2, phi=0.5)"
   ]
  },
  {
   "cell_type": "code",
   "execution_count": null,
   "id": "5d482632",
   "metadata": {
    "lines_to_next_cell": 1
   },
   "outputs": [],
   "source": [
    "interact(sine_plot, k=(1, 20), phi=(0, 2*np.pi));"
   ]
  },
  {
   "cell_type": "markdown",
   "id": "0350c4bf",
   "metadata": {},
   "source": [
    "Can also use the decorator syntax"
   ]
  },
  {
   "cell_type": "code",
   "execution_count": null,
   "id": "39e738f5",
   "metadata": {
    "lines_to_next_cell": 1
   },
   "outputs": [],
   "source": [
    "@interact(k=(1, 20), phi=(0, 2*np.pi))\n",
    "def sine_plot(k=1, phi=0.0):\n",
    "    x = np.linspace(0, 2*np.pi, 1000)\n",
    "    y = np.sin(x*k + phi)\n",
    "    plt.plot(x, y)\n",
    "    plt.grid()"
   ]
  },
  {
   "cell_type": "markdown",
   "id": "c6828e1e",
   "metadata": {
    "lines_to_next_cell": 0,
    "slideshow": {
     "slide_type": "slide"
    }
   },
   "source": [
    "### Another example\n"
   ]
  },
  {
   "cell_type": "code",
   "execution_count": null,
   "id": "c6db19a5",
   "metadata": {},
   "outputs": [],
   "source": [
    "@interact(name=['Krishna', 'Prabhu', 'Hassan'], n=(0, 10), x=(0.0, 1.0))\n",
    "def f(option=True, hi='Hello', name='Krishna', n=1, x=0.1):\n",
    "    print(option, hi, name, n, x)"
   ]
  },
  {
   "cell_type": "markdown",
   "id": "02bbe688",
   "metadata": {
    "lines_to_next_cell": 2,
    "slideshow": {
     "slide_type": "slide"
    }
   },
   "source": [
    "### Aside: decorators\n",
    "\n",
    "- Decorators are higher order functions\n",
    "- Operate on a function and return a function\n"
   ]
  },
  {
   "cell_type": "code",
   "execution_count": null,
   "id": "17d0b390",
   "metadata": {
    "lines_to_next_cell": 1
   },
   "outputs": [],
   "source": [
    "# Trivial example\n",
    "def deco(f):\n",
    "    return f"
   ]
  },
  {
   "cell_type": "code",
   "execution_count": null,
   "id": "85dcd103",
   "metadata": {
    "lines_to_next_cell": 0
   },
   "outputs": [],
   "source": [
    "@deco\n",
    "def g(x):\n",
    "    pass\n",
    "\n",
    "# Equivalent to\n",
    "g = deco(g)"
   ]
  },
  {
   "cell_type": "code",
   "execution_count": null,
   "id": "18546a72",
   "metadata": {},
   "outputs": [],
   "source": [
    "g(1)"
   ]
  },
  {
   "cell_type": "code",
   "execution_count": null,
   "id": "92eafb06",
   "metadata": {
    "lines_to_next_cell": 1
   },
   "outputs": [],
   "source": [
    "# More complex example\n",
    "def deco1(f):\n",
    "    def _my_f(x):\n",
    "        print(\"Hello!\")\n",
    "        return f(x)\n",
    "    return _my_f"
   ]
  },
  {
   "cell_type": "code",
   "execution_count": null,
   "id": "160ae6e1",
   "metadata": {
    "lines_to_next_cell": 1
   },
   "outputs": [],
   "source": [
    "@deco1\n",
    "def g(x):\n",
    "    return x + 1"
   ]
  },
  {
   "cell_type": "code",
   "execution_count": null,
   "id": "c9ffaa85",
   "metadata": {},
   "outputs": [],
   "source": [
    "g(1)"
   ]
  },
  {
   "cell_type": "markdown",
   "id": "a19b54a2",
   "metadata": {
    "slideshow": {
     "slide_type": "slide"
    }
   },
   "source": [
    "## Summary\n",
    "\n",
    "- Statistical quantities: mean, median, std. dev., percentiles\n",
    "- Statistical plots: scatter plot, histogram, boxplot, bar/pie chart, violin\n",
    "  plot\n",
    "- Correlation coefficient\n",
    "- Practical applications and answering some very interesting questions\n",
    "- Interactivity with `ipywidets` and `interact`\n",
    "- Decorators"
   ]
  }
 ],
 "metadata": {
  "kernelspec": {
   "display_name": "Python 3 (ipykernel)",
   "language": "python",
   "name": "python3"
  },
  "language_info": {
   "codemirror_mode": {
    "name": "ipython",
    "version": 3
   },
   "file_extension": ".py",
   "mimetype": "text/x-python",
   "name": "python",
   "nbconvert_exporter": "python",
   "pygments_lexer": "ipython3",
   "version": "3.11.11"
  }
 },
 "nbformat": 4,
 "nbformat_minor": 5
}
