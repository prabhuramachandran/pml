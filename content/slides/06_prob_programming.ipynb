{
 "cells": [
  {
   "cell_type": "markdown",
   "id": "eef12892",
   "metadata": {
    "slideshow": {
     "slide_type": "slide"
    }
   },
   "source": [
    "## Probabilistic programming\n",
    "\n",
    "- Using the computer for random experiments\n",
    "- Very good for understanding\n",
    "- Also used routinely when providing confidence intervals etc.\n",
    "- The basis for any Monte-Carlo methods\n",
    "- Important for any further statistical work including Bayesian data analysis"
   ]
  },
  {
   "cell_type": "code",
   "execution_count": null,
   "id": "cc46367a",
   "metadata": {},
   "outputs": [],
   "source": [
    "# Standard imports\n",
    "import numpy as np\n",
    "import matplotlib.pyplot as plt"
   ]
  },
  {
   "cell_type": "markdown",
   "id": "9cbeae4b",
   "metadata": {},
   "source": [
    "## Probabilistic programming\n",
    "\n",
    "- What does this mean?\n",
    "\n",
    "   Can we have a program generate output randomly?\n",
    "\n",
    "- Can we write a function that generates 0 or 1 randomly\n",
    "- Such that each occurs often enough?\n",
    "- Can use the built-in random number generator"
   ]
  },
  {
   "cell_type": "code",
   "execution_count": null,
   "id": "5f62994a",
   "metadata": {
    "lines_to_next_cell": 1
   },
   "outputs": [],
   "source": [
    "np.random.randint(low=0, high=2, size=50)"
   ]
  },
  {
   "cell_type": "markdown",
   "id": "c9ff8b3f",
   "metadata": {},
   "source": [
    "## Let us create a 4 sided die\n",
    "\n",
    "- We write a little function called `tet` to do this"
   ]
  },
  {
   "cell_type": "code",
   "execution_count": null,
   "id": "181a1eba",
   "metadata": {
    "lines_to_next_cell": 1
   },
   "outputs": [],
   "source": [
    "def tet(size=1):\n",
    "    return np.random.randint(low=1, high=5, size=size)"
   ]
  },
  {
   "cell_type": "code",
   "execution_count": null,
   "id": "8cdceacf",
   "metadata": {},
   "outputs": [],
   "source": [
    "tet(10)"
   ]
  },
  {
   "cell_type": "markdown",
   "id": "438a7ba7",
   "metadata": {
    "lines_to_next_cell": 0
   },
   "source": [
    "## Uniformly distributed random numbers\n",
    "- Use `np.random.random`: RVs in the range (0, 1)\n"
   ]
  },
  {
   "cell_type": "code",
   "execution_count": null,
   "id": "4ba40677",
   "metadata": {},
   "outputs": [],
   "source": [
    "np.random.random(5)"
   ]
  },
  {
   "cell_type": "code",
   "execution_count": null,
   "id": "d7718d4c",
   "metadata": {},
   "outputs": [],
   "source": [
    "# size can be any shape.\n",
    "np.random.random((3, 3))"
   ]
  },
  {
   "cell_type": "code",
   "execution_count": null,
   "id": "81b5743f",
   "metadata": {},
   "outputs": [],
   "source": [
    "x = np.random.random(size=10000)"
   ]
  },
  {
   "cell_type": "code",
   "execution_count": null,
   "id": "26480507",
   "metadata": {},
   "outputs": [],
   "source": [
    "plt.hist(x, bins='auto', density=True);"
   ]
  },
  {
   "cell_type": "markdown",
   "id": "b486a2ea",
   "metadata": {},
   "source": [
    "### Exercise\n",
    "\n",
    "- Generate Random variates in the region (-1, 1) using `np.random.random`?"
   ]
  },
  {
   "cell_type": "code",
   "execution_count": null,
   "id": "ee827438",
   "metadata": {
    "lines_to_next_cell": 2
   },
   "outputs": [],
   "source": [
    "# Solution"
   ]
  },
  {
   "cell_type": "markdown",
   "id": "e0b85565",
   "metadata": {},
   "source": [
    "## Normally distributed random numbers\n",
    "\n",
    "- Use `np.random.normal`"
   ]
  },
  {
   "cell_type": "code",
   "execution_count": null,
   "id": "419350e1",
   "metadata": {},
   "outputs": [],
   "source": [
    "x = np.random.normal(loc=0.0, scale=1.0, size=10000)"
   ]
  },
  {
   "cell_type": "code",
   "execution_count": null,
   "id": "8528e94a",
   "metadata": {},
   "outputs": [],
   "source": [
    "plt.hist(x, bins='auto', density=True);"
   ]
  },
  {
   "cell_type": "markdown",
   "id": "7e71c1c0",
   "metadata": {
    "lines_to_next_cell": 0
   },
   "source": [
    "## How does the computer generate a random number?\n",
    "\n",
    "- Are they really random?\n",
    "- How do you tell?\n",
    "- First let us think about how you can tell?\n",
    "\n",
    "- You need to see how the numbers are distributed"
   ]
  },
  {
   "cell_type": "code",
   "execution_count": null,
   "id": "09a9cef3",
   "metadata": {},
   "outputs": [],
   "source": [
    "x = np.random.random(10000)\n",
    "plt.hist(x, density=True);"
   ]
  },
  {
   "cell_type": "code",
   "execution_count": null,
   "id": "cce87105",
   "metadata": {},
   "outputs": [],
   "source": [
    "x1 = np.linspace(0, 1, 10000)\n",
    "plt.hist(x1, density=True);"
   ]
  },
  {
   "cell_type": "markdown",
   "id": "94a70392",
   "metadata": {},
   "source": [
    "## What is going on?\n",
    "\n",
    "- How can you tell the difference?\n",
    "- Clearly histograms are not enough\n",
    "- The numbers must not be correlated!\n",
    "- In the case of `x1`, given one number we know the next (all the rest)"
   ]
  },
  {
   "cell_type": "markdown",
   "id": "229c25d1",
   "metadata": {},
   "source": [
    "## Pseudo RNG\n",
    "\n",
    "- Computer generates pseudo random numbers\n",
    "- Not really random but pretty much indistinguishable\n",
    "- Pseudo-random number generators are non-trivial\n",
    "- Don't write own without doing lots of research\n",
    "\n",
    "## But we want repeatability!\n",
    "\n",
    "- Important thing about computers!\n",
    "- Reliable, repeatable\n",
    "- Easier to debug, no randomness\n",
    "\n",
    "## `random.seed` to the rescue\n",
    "\n",
    "- Use `random.seed(number)` to set the seed"
   ]
  },
  {
   "cell_type": "code",
   "execution_count": null,
   "id": "d6e5de92",
   "metadata": {},
   "outputs": [],
   "source": [
    "np.random.random(5)"
   ]
  },
  {
   "cell_type": "code",
   "execution_count": null,
   "id": "a2290cf9",
   "metadata": {
    "lines_to_next_cell": 2
   },
   "outputs": [],
   "source": [
    "np.random.seed(123)\n",
    "np.random.random(5)"
   ]
  },
  {
   "cell_type": "markdown",
   "id": "fa33fc76",
   "metadata": {},
   "source": [
    "## Using `np.choice`\n"
   ]
  },
  {
   "cell_type": "code",
   "execution_count": null,
   "id": "a5cd265f",
   "metadata": {},
   "outputs": [],
   "source": [
    "events = [0, 1]\n",
    "np.random.choice(events, size=20)"
   ]
  },
  {
   "cell_type": "code",
   "execution_count": null,
   "id": "c62ae02a",
   "metadata": {},
   "outputs": [],
   "source": [
    "# Can also do this!\n",
    "events = ['H', 'T']\n",
    "np.random.choice(events, size=20)"
   ]
  },
  {
   "cell_type": "markdown",
   "id": "9c898826",
   "metadata": {},
   "source": [
    "### The case of a biased coin\n"
   ]
  },
  {
   "cell_type": "code",
   "execution_count": null,
   "id": "f914a81f",
   "metadata": {},
   "outputs": [],
   "source": [
    "np.random.choice(events, size=100, p=[0.1, 0.9])"
   ]
  },
  {
   "cell_type": "markdown",
   "id": "60bcbbb4",
   "metadata": {},
   "source": [
    "This is useful even when sampling at random from some data.\n",
    "For example:"
   ]
  },
  {
   "cell_type": "code",
   "execution_count": null,
   "id": "f94e8aa7",
   "metadata": {},
   "outputs": [],
   "source": [
    "data = range(900, 1000)\n",
    "np.random.choice(data, size=10)"
   ]
  },
  {
   "cell_type": "code",
   "execution_count": null,
   "id": "5e36f159",
   "metadata": {},
   "outputs": [],
   "source": [
    "# Without replacement\n",
    "np.random.choice(data, size=10, replace=False)"
   ]
  },
  {
   "cell_type": "markdown",
   "id": "ad522d79",
   "metadata": {},
   "source": [
    "## Other useful functions\n",
    "- `np.random.permutation`\n",
    "- `np.random.shuffle`"
   ]
  },
  {
   "cell_type": "code",
   "execution_count": null,
   "id": "f57f9dcd",
   "metadata": {},
   "outputs": [],
   "source": [
    "data = np.random.randint(0, 100, size=5)"
   ]
  },
  {
   "cell_type": "code",
   "execution_count": null,
   "id": "52987f03",
   "metadata": {},
   "outputs": [],
   "source": [
    "np.random.shuffle(data)"
   ]
  },
  {
   "cell_type": "code",
   "execution_count": null,
   "id": "422045f4",
   "metadata": {},
   "outputs": [],
   "source": [
    "np.random.permutation(10)"
   ]
  },
  {
   "cell_type": "markdown",
   "id": "a6cf2632",
   "metadata": {},
   "source": [
    "## Other distributions\n",
    "So far we have seen:\n",
    "\n",
    "- `randint`: integers uniformly distributed\n",
    "- `random`: uniformly distributed (0, 1)\n",
    "- `normal`: Normally distributed (defaults: 0 mean, 1 variance)\n",
    "\n",
    "These all provide samples from such a distribution.\n",
    "\n",
    "There are many more distributions that numpy provides we look at a few.\n"
   ]
  },
  {
   "cell_type": "code",
   "execution_count": null,
   "id": "087366e0",
   "metadata": {},
   "outputs": [],
   "source": [
    "# Discrete RV.\n",
    "np.random.binomial(10, 0.25, size=10)"
   ]
  },
  {
   "cell_type": "code",
   "execution_count": null,
   "id": "c1f85b77",
   "metadata": {},
   "outputs": [],
   "source": [
    "data = np.random.binomial(10, 0.25, size=10000)\n",
    "# Note the parameters!\n",
    "plt.hist(data, bins=range(11), density=True, align='left');"
   ]
  },
  {
   "cell_type": "code",
   "execution_count": null,
   "id": "f172a36e",
   "metadata": {},
   "outputs": [],
   "source": [
    "# A continuous distribution, the Beta distribution\n",
    "data = np.random.beta(2, 2, size=10000)\n",
    "plt.hist(data, bins='auto', density=True);"
   ]
  },
  {
   "cell_type": "code",
   "execution_count": null,
   "id": "f50cb517",
   "metadata": {
    "lines_to_next_cell": 2
   },
   "outputs": [],
   "source": [
    "# The Standard T distribution\n",
    "n = 10000\n",
    "data_t = np.random.beta(10, size=n)\n",
    "data_n = np.random.normal(size=n)\n",
    "plt.hist((data_t, data_n), bins='auto', density=True);"
   ]
  },
  {
   "cell_type": "markdown",
   "id": "45be832b",
   "metadata": {},
   "source": [
    "## Using `scipy.stats`\n",
    "\n",
    "- `np.random.xxx` provides random variates, or draws samples from a given\n",
    "  distribution.\n",
    "- `scipy.stats` provides a lot more conveniences.\n",
    "- The [SciPy Stats\n",
    "  reference](https://docs.scipy.org/doc/scipy/reference/stats.html) is worth\n",
    "  checking out!\n",
    "- The various distributions are objects which provide among other things:\n",
    "  - `rvs()` - random variates\n",
    "  - `pdf, cdf, mean, median, fit` etc.\n",
    "  - `ppf` - inverse of the `cdf` etc.\n",
    "\n",
    "This is very useful to understand a given distribution or use it for study.\n",
    "Here is an example that we can study."
   ]
  },
  {
   "cell_type": "code",
   "execution_count": null,
   "id": "c9bb72fb",
   "metadata": {
    "lines_to_next_cell": 1
   },
   "outputs": [],
   "source": [
    "from scipy.stats import norm, binom, poisson\n",
    "from ipywidgets import interact"
   ]
  },
  {
   "cell_type": "code",
   "execution_count": null,
   "id": "715a3ec1",
   "metadata": {
    "lines_to_next_cell": 1
   },
   "outputs": [],
   "source": [
    "def plot_binom(n, p):\n",
    "    rv = binom(n, p)\n",
    "    x = np.arange(0, n+1)\n",
    "    plt.plot(x, rv.pmf(x), 'bo')\n",
    "    plt.vlines(x, 0, rv.pmf(x), colors='b', alpha=0.5, lw=5)\n",
    "    # Compare with a normal distribution\n",
    "    mu, sigma = n*p, np.sqrt(n*p*(1-p))\n",
    "    x1 = np.linspace(0, n+1)\n",
    "    plt.plot(x1, norm.pdf(x1, loc=mu, scale=sigma), 'g--')"
   ]
  },
  {
   "cell_type": "code",
   "execution_count": null,
   "id": "50d22420",
   "metadata": {
    "lines_to_next_cell": 1
   },
   "outputs": [],
   "source": [
    "interact(plot_binom, n=(1, 100), p=(0.01, 0.99));"
   ]
  },
  {
   "cell_type": "markdown",
   "id": "5a13089c",
   "metadata": {},
   "source": [
    "Here is an example with a Poisson distribution."
   ]
  },
  {
   "cell_type": "code",
   "execution_count": null,
   "id": "5039689a",
   "metadata": {
    "lines_to_next_cell": 2
   },
   "outputs": [],
   "source": [
    "def plot_poisson(lam=4):\n",
    "    rv = poisson(lam)\n",
    "    min, max = rv.ppf(0.0001), rv.ppf(0.9999999999)\n",
    "    x = np.arange(min, max)\n",
    "    plt.plot(x, norm.pdf(x, loc=lam, scale=np.sqrt(lam)), 'g--')\n",
    "    plt.plot(x, rv.pmf(x), 'bo')\n",
    "    plt.vlines(x, 0, rv.pmf(x), colors='b', alpha=0.5, lw=5)\n",
    "    plt.xlim(0, 50)\n",
    "\n",
    "\n",
    "interact(plot_poisson, lam=(0.0, 100));"
   ]
  },
  {
   "cell_type": "markdown",
   "id": "db05fb33",
   "metadata": {},
   "source": [
    "Here is an example with a T distribution."
   ]
  },
  {
   "cell_type": "code",
   "execution_count": null,
   "id": "990b5755",
   "metadata": {
    "lines_to_next_cell": 2
   },
   "outputs": [],
   "source": [
    "from scipy.stats import t\n",
    "\n",
    "def plot_t(n=1):\n",
    "    rv = t(n)\n",
    "    x = np.linspace(-5, 5, 200)\n",
    "    #plt.figure(figsize=(20, 10))\n",
    "    plt.plot(x, norm.pdf(x), 'g--')\n",
    "    plt.plot(x, rv.pdf(x))\n",
    "\n",
    "\n",
    "interact(plot_t, n=(1, 50));"
   ]
  },
  {
   "cell_type": "markdown",
   "id": "1330d388",
   "metadata": {},
   "source": [
    "## Why is this useful?\n",
    "\n",
    "- Can understand and study these distributions.\n",
    "- Allows you to construct experiments with random variables.\n",
    "- Can numerically explore very interesting and important questions.\n",
    "- Gateway to look at [Monte-Carlo methods](https://en.wikipedia.org/wiki/Monte_Carlo_method)!\n",
    "\n",
    "- Such methods can defeat the curse of dimensionality!\n",
    "\n",
    "Let us look at a few practical(?) examples. :)\n",
    "\n",
    "### Volume estimation\n",
    "\n",
    "- Calculate the area of a sphere in d dimensions.\n",
    "- We consider a single quadrant, so in 2-D we multiply by $2^d$\n",
    "- Throw uniformly distributed points and see which fall inside the sphere.\n"
   ]
  },
  {
   "cell_type": "code",
   "execution_count": null,
   "id": "b2b47b26",
   "metadata": {
    "lines_to_next_cell": 0
   },
   "outputs": [],
   "source": [
    "x = np.random.random((5, 2))\n",
    "x"
   ]
  },
  {
   "cell_type": "code",
   "execution_count": null,
   "id": "9ca07f74",
   "metadata": {},
   "outputs": [],
   "source": [
    "np.linalg.norm(x)"
   ]
  },
  {
   "cell_type": "code",
   "execution_count": null,
   "id": "140a5219",
   "metadata": {},
   "outputs": [],
   "source": [
    "np.linalg.norm(x, axis=1)"
   ]
  },
  {
   "cell_type": "code",
   "execution_count": null,
   "id": "0b1d26d6",
   "metadata": {},
   "outputs": [],
   "source": [
    "np.linalg.norm(x, axis=1) < 1.0"
   ]
  },
  {
   "cell_type": "code",
   "execution_count": null,
   "id": "217312f6",
   "metadata": {},
   "outputs": [],
   "source": [
    "n = 100000\n",
    "(np.linalg.norm(np.random.random((n, 2)), axis=1) < 1).sum()/n*2**2"
   ]
  },
  {
   "cell_type": "markdown",
   "id": "5b1f6c48",
   "metadata": {},
   "source": [
    "\n",
    "- This will work as you increase the number of dimensions.\n",
    "- Impossibly hard to do with normal numerical integration.\n",
    "\n",
    "### Statistical computations\n",
    "\n",
    "- Given Sachin's (or Virat Kohli's if you prefer) scores in our `data/`\n",
    "  directory.\n",
    "- Let us say he is going to play in a ODI series of 5 games.\n",
    "- Estimate what you think he will score on average with an 80% confidence\n",
    "  interval."
   ]
  },
  {
   "cell_type": "code",
   "execution_count": null,
   "id": "fe1131b9",
   "metadata": {},
   "outputs": [],
   "source": [
    "# Live solution and discussion."
   ]
  },
  {
   "cell_type": "code",
   "execution_count": null,
   "id": "9f584182",
   "metadata": {},
   "outputs": [],
   "source": []
  },
  {
   "cell_type": "markdown",
   "id": "cae56b0e",
   "metadata": {},
   "source": [
    "\n",
    "As you can see we can answer some profound practical questions using this\n",
    "sort of approach."
   ]
  }
 ],
 "metadata": {
  "kernelspec": {
   "display_name": "Python 3 (ipykernel)",
   "language": "python",
   "name": "python3"
  }
 },
 "nbformat": 4,
 "nbformat_minor": 5
}
