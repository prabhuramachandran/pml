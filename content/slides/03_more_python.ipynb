{
 "cells": [
  {
   "cell_type": "markdown",
   "id": "30836ec9",
   "metadata": {},
   "source": [
    "\n",
    "## Preliminaries\n",
    "\n",
    "\n",
    "1. Thanks for the feedback!\n",
    "2. Some of you are concerned about the pace of the course.\n",
    "3. Textbooks/reading material etc.\n",
    "\n",
    "   1. You can go through the [Python tutorial](https://docs.python.org/3/tutorial/index.html)\n",
    "   2. Then go through the [Python Data Science Handbook](https://jakevdp.github.io/PythonDataScienceHandbook/)\n",
    "\n",
    "\n",
    "First poll to check your typing speed!\n",
    "\n",
    "\n",
    "We first start with the standard imports."
   ]
  },
  {
   "cell_type": "markdown",
   "id": "9c4486ef",
   "metadata": {},
   "source": [
    "\n",
    "# More Python and plotting\n",
    "\n",
    "Let us now look at plotting data points that are not generated from\n",
    "analytical functions but may be from an experiment or measurement.\n",
    "\n",
    "We first start with the standard imports."
   ]
  },
  {
   "cell_type": "code",
   "execution_count": null,
   "id": "3a42e4b6",
   "metadata": {},
   "outputs": [],
   "source": [
    "import numpy as np\n",
    "import matplotlib.pyplot as plt"
   ]
  },
  {
   "cell_type": "markdown",
   "id": "76045aaf",
   "metadata": {},
   "source": [
    "\n",
    "Now consider the following data points that we want to plot for a\n",
    "measurement of some vehicle versus time.\n",
    "\n",
    "| Time     | 0.0 | 1.0 | 2.0  | 3.0  |\n",
    "|----------|-----|-----|------|------|\n",
    "| Distance | 5.0 | 9.0 | 13.0 | 17.0 |\n",
    "\n",
    "How do we plot it?  Try the following:"
   ]
  },
  {
   "cell_type": "code",
   "execution_count": null,
   "id": "46ea99b7",
   "metadata": {
    "lines_to_next_cell": 2
   },
   "outputs": [],
   "source": [
    "time = [0.0, 1.0, 2, 3]\n",
    "distance = [5.0, 9.0, 13, 17]\n",
    "plt.plot(time, distance)\n",
    "plt.xlabel('time')\n",
    "plt.ylabel('distance');"
   ]
  },
  {
   "cell_type": "markdown",
   "id": "ea972a8b",
   "metadata": {},
   "source": [
    "What if we didn't want the lines but want to see just the points?\n",
    "\n",
    "You should have already seen this in the last class material!"
   ]
  },
  {
   "cell_type": "code",
   "execution_count": null,
   "id": "766fafd6",
   "metadata": {},
   "outputs": [],
   "source": [
    "plt.plot(time, distance, 'o');"
   ]
  },
  {
   "cell_type": "code",
   "execution_count": null,
   "id": "cedb47d3",
   "metadata": {},
   "outputs": [],
   "source": [
    "# This uses a dashed line.\n",
    "plt.plot(time, distance, '--');"
   ]
  },
  {
   "cell_type": "markdown",
   "id": "7e208147",
   "metadata": {},
   "source": [
    "So the variable `time` and `distance` you see here is what is called a Python `list`."
   ]
  },
  {
   "cell_type": "code",
   "execution_count": null,
   "id": "0d52b324",
   "metadata": {},
   "outputs": [],
   "source": [
    "print(type(time))\n",
    "type(distance)"
   ]
  },
  {
   "cell_type": "markdown",
   "id": "6e5950d2",
   "metadata": {},
   "source": [
    "\n",
    "Lists are a powerful builtin Python data type. Let us learn a bit more about\n",
    "them.\n",
    "\n",
    "### Initialization and access"
   ]
  },
  {
   "cell_type": "code",
   "execution_count": null,
   "id": "2a7b6c36",
   "metadata": {},
   "outputs": [],
   "source": [
    "# An empty list\n",
    "e = []\n",
    "\n",
    "# A non-empty list\n",
    "p = [2, 3, 5, 7]"
   ]
  },
  {
   "cell_type": "code",
   "execution_count": null,
   "id": "b858787e",
   "metadata": {},
   "outputs": [],
   "source": [
    "type(p)"
   ]
  },
  {
   "cell_type": "code",
   "execution_count": null,
   "id": "4b637ac7",
   "metadata": {},
   "outputs": [],
   "source": [
    "# Indexing starts at 0\n",
    "p[0]"
   ]
  },
  {
   "cell_type": "code",
   "execution_count": null,
   "id": "1708d615",
   "metadata": {},
   "outputs": [],
   "source": [
    "p[1]"
   ]
  },
  {
   "cell_type": "code",
   "execution_count": null,
   "id": "4ec712fe",
   "metadata": {},
   "outputs": [],
   "source": [
    "p[0] + p[1] + p[-1]"
   ]
  },
  {
   "cell_type": "markdown",
   "id": "3094807c",
   "metadata": {
    "lines_to_next_cell": 0
   },
   "source": [
    "\n",
    "### List Slicing\n",
    "\n",
    "Slicing always produces a list. The general syntax is:\n",
    "\n",
    "`list[initial:final:step]`\n",
    "\n",
    "initial/final are indices and the `final` is not included\n",
    "\n",
    "Negative indices start from the end (-1 is the last element).\n",
    "\n",
    "Examples make it easier."
   ]
  },
  {
   "cell_type": "code",
   "execution_count": null,
   "id": "60340231",
   "metadata": {},
   "outputs": [],
   "source": [
    "p[1:3]"
   ]
  },
  {
   "cell_type": "code",
   "execution_count": null,
   "id": "37e9840f",
   "metadata": {},
   "outputs": [],
   "source": [
    "p[0:-1]"
   ]
  },
  {
   "cell_type": "code",
   "execution_count": null,
   "id": "1fe59e30",
   "metadata": {},
   "outputs": [],
   "source": [
    "p[1:]"
   ]
  },
  {
   "cell_type": "code",
   "execution_count": null,
   "id": "5ac4b222",
   "metadata": {},
   "outputs": [],
   "source": [
    "p[:2]"
   ]
  },
  {
   "cell_type": "code",
   "execution_count": null,
   "id": "acba2d34",
   "metadata": {},
   "outputs": [],
   "source": [
    "p[0:4:2]"
   ]
  },
  {
   "cell_type": "code",
   "execution_count": null,
   "id": "e24b4c60",
   "metadata": {},
   "outputs": [],
   "source": [
    "p[0::2]"
   ]
  },
  {
   "cell_type": "code",
   "execution_count": null,
   "id": "dcadde1b",
   "metadata": {},
   "outputs": [],
   "source": [
    "p[::2]"
   ]
  },
  {
   "cell_type": "code",
   "execution_count": null,
   "id": "84604f68",
   "metadata": {},
   "outputs": [],
   "source": [
    "p[::3]"
   ]
  },
  {
   "cell_type": "code",
   "execution_count": null,
   "id": "c54119a9",
   "metadata": {},
   "outputs": [],
   "source": [
    "p[::-1]"
   ]
  },
  {
   "cell_type": "markdown",
   "id": "6ae57b03",
   "metadata": {},
   "source": [
    "\n",
    "### Quick quiz\n",
    "\n",
    "What is the output of the following?"
   ]
  },
  {
   "cell_type": "code",
   "execution_count": null,
   "id": "752a5d53",
   "metadata": {},
   "outputs": [],
   "source": [
    "p[1::2]"
   ]
  },
  {
   "cell_type": "code",
   "execution_count": null,
   "id": "ef0dc56a",
   "metadata": {},
   "outputs": [],
   "source": [
    "p[1:-1:2]"
   ]
  },
  {
   "cell_type": "markdown",
   "id": "40bc4e56",
   "metadata": {},
   "source": [
    "\n",
    "The builtin `len` function tells us the length of a list.\n"
   ]
  },
  {
   "cell_type": "code",
   "execution_count": null,
   "id": "3107e2f8",
   "metadata": {},
   "outputs": [],
   "source": [
    "len(p)"
   ]
  },
  {
   "cell_type": "markdown",
   "id": "6e40eda0",
   "metadata": {},
   "source": [
    "\n",
    "### List operations\n",
    "\n",
    "Lists also support other operations like addition and also have what are\n",
    "called **methods**.\n",
    "\n",
    "For example:"
   ]
  },
  {
   "cell_type": "code",
   "execution_count": null,
   "id": "d6e92b2a",
   "metadata": {},
   "outputs": [],
   "source": [
    "b = [11, 13, 17]\n",
    "c = p + b\n",
    "c"
   ]
  },
  {
   "cell_type": "code",
   "execution_count": null,
   "id": "f567b5a3",
   "metadata": {},
   "outputs": [],
   "source": [
    "# Do you think this will work?\n",
    "b * 2"
   ]
  },
  {
   "cell_type": "code",
   "execution_count": null,
   "id": "4259d7f8",
   "metadata": {},
   "outputs": [],
   "source": [
    "# Do you expect that this will work?\n",
    "b * 2.5"
   ]
  },
  {
   "cell_type": "markdown",
   "id": "9ab7c6a7",
   "metadata": {},
   "source": [
    "\n",
    "- `+` and `*` here are \"operators\"\n",
    "\n",
    "Let us look at \"methods\" next."
   ]
  },
  {
   "cell_type": "code",
   "execution_count": null,
   "id": "991b8bba",
   "metadata": {},
   "outputs": [],
   "source": [
    "p.append(11)\n",
    "p"
   ]
  },
  {
   "cell_type": "markdown",
   "id": "fba70beb",
   "metadata": {
    "lines_to_next_cell": 0
   },
   "source": [
    "Does `c` change now that `p` has a new element?\n",
    "\n"
   ]
  },
  {
   "cell_type": "code",
   "execution_count": null,
   "id": "0ebcabb8",
   "metadata": {},
   "outputs": [],
   "source": [
    "c"
   ]
  },
  {
   "cell_type": "markdown",
   "id": "3a4eb863",
   "metadata": {},
   "source": [
    "\n",
    "- Note the use of `p.append`\n",
    "- `p` is a list **object**\n",
    "- `p.append` is called a **method**, it is a function that applies to the list\n",
    "- In this case the function appends a new value.\n",
    "\n",
    "### Quick exercise\n",
    "\n",
    "Read the documentation for the append method on your notebook."
   ]
  },
  {
   "cell_type": "code",
   "execution_count": null,
   "id": "b67308a9",
   "metadata": {},
   "outputs": [],
   "source": []
  },
  {
   "cell_type": "markdown",
   "id": "94bf14de",
   "metadata": {},
   "source": [
    "\n",
    "- Also do `p.<TAB>` to find other list methods!\n",
    "- Note that lists need not only contain elements of a single type."
   ]
  },
  {
   "cell_type": "code",
   "execution_count": null,
   "id": "8c8dd5a3",
   "metadata": {},
   "outputs": [],
   "source": [
    "mixer = [1, 1.0, 'string', [1, 2, 3]]"
   ]
  },
  {
   "cell_type": "code",
   "execution_count": null,
   "id": "56fb9bc9",
   "metadata": {},
   "outputs": [],
   "source": [
    "# The type of each element is different.\n",
    "type(mixer[1])"
   ]
  },
  {
   "cell_type": "markdown",
   "id": "84b67a39",
   "metadata": {},
   "source": [
    "\n",
    "We now have a basic understanding of how we can use lists. Let us look at\n",
    "some \"real\" data.\n",
    "\n",
    "We look at a simple pendulum experiment:\n",
    "\n",
    "| L | 0.2 | 0.3  | 0.4  | 0.5  | 0.6  | 0.7  | 0.8  |\n",
    "|---|-----|------|------|------|------|------|------|\n",
    "| T | 0.9 | 1.19 | 1.30 | 1.47 | 1.58 | 1.77 | 1.83 |\n",
    "\n",
    "Let us do some analysis with this data. First put this into a list.\n",
    "\n",
    "For those of you who recall your basic physics, we expect that $L \\propto T^2$\n",
    "is a straight line."
   ]
  },
  {
   "cell_type": "code",
   "execution_count": null,
   "id": "80f1fbcb",
   "metadata": {},
   "outputs": [],
   "source": [
    "L = [0.2, 0.3, 0.4, 0.5, 0.6, 0.7, 0.8]\n",
    "t = [0.90, 1.19, 1.30, 1.47, 1.58, 1.77, 1.83]"
   ]
  },
  {
   "cell_type": "code",
   "execution_count": null,
   "id": "95f1628e",
   "metadata": {},
   "outputs": [],
   "source": [
    "# Making sure both have the same number of elements\n",
    "print(len(L), len(t))"
   ]
  },
  {
   "cell_type": "markdown",
   "id": "b8499d10",
   "metadata": {},
   "source": [
    "\n",
    "In order to plot this, we first need to get $t^2$ from the time values.\n",
    "Using `t*t` will not work, let us try"
   ]
  },
  {
   "cell_type": "code",
   "execution_count": null,
   "id": "2c0d595a",
   "metadata": {},
   "outputs": [],
   "source": [
    "t*t"
   ]
  },
  {
   "cell_type": "markdown",
   "id": "9f606b06",
   "metadata": {
    "lines_to_next_cell": 0
   },
   "source": [
    "\n",
    "We can use a `for` loop to do this.\n",
    "\n",
    "Here is a simple example"
   ]
  },
  {
   "cell_type": "code",
   "execution_count": null,
   "id": "03971bf0",
   "metadata": {},
   "outputs": [],
   "source": [
    "for time in t:\n",
    "    print(time*time)"
   ]
  },
  {
   "cell_type": "code",
   "execution_count": null,
   "id": "47471da5",
   "metadata": {},
   "outputs": [],
   "source": [
    "# Here is a longer example which illustrates a bit more.\n",
    "# Run this and then we will walk through the lines of code.\n",
    "for time in t:\n",
    "    tsq = time*time\n",
    "    print(time, tsq)\n",
    "print(\"Done\")"
   ]
  },
  {
   "cell_type": "markdown",
   "id": "68696ef5",
   "metadata": {},
   "source": [
    "\n",
    "- Recall that our goal is to be able to plot $L$ vs $T^2$.\n",
    "- How do we store these values so we can use plot?\n",
    "- We can create an empty list and add elements into the list.\n",
    "\n",
    "Here is an approach"
   ]
  },
  {
   "cell_type": "code",
   "execution_count": null,
   "id": "9a53fc60",
   "metadata": {},
   "outputs": [],
   "source": [
    "tsq = []\n",
    "for time in t:\n",
    "    tsq.append(time*time)"
   ]
  },
  {
   "cell_type": "code",
   "execution_count": null,
   "id": "96b2cc3b",
   "metadata": {},
   "outputs": [],
   "source": [
    "# Now we can plot this!\n",
    "plt.plot(L, tsq)"
   ]
  },
  {
   "cell_type": "code",
   "execution_count": null,
   "id": "e2fc0785",
   "metadata": {},
   "outputs": [],
   "source": [
    "# Or just plot the points alone.\n",
    "plt.plot(L, tsq, 'o')"
   ]
  },
  {
   "cell_type": "markdown",
   "id": "eeec80e3",
   "metadata": {
    "lines_to_next_cell": 0
   },
   "source": [
    "### Pop quiz\n",
    "\n",
    "What happens to if we now write this code:"
   ]
  },
  {
   "cell_type": "code",
   "execution_count": null,
   "id": "ae5e60e9",
   "metadata": {},
   "outputs": [],
   "source": [
    "for time in t:\n",
    "    tsq.append(time*time)"
   ]
  },
  {
   "cell_type": "code",
   "execution_count": null,
   "id": "2ce2df14",
   "metadata": {},
   "outputs": [],
   "source": [
    "len(tsq)"
   ]
  },
  {
   "cell_type": "markdown",
   "id": "0fb841c6",
   "metadata": {},
   "source": [
    "Beware of things like this!\n",
    "\n",
    "## Exercise\n",
    "\n",
    "Consider the list `x = [1.0, 2.0, 3.0]`. Write code to compute twice of each value\n",
    "and store the result in a new list as variable `y`."
   ]
  },
  {
   "cell_type": "code",
   "execution_count": null,
   "id": "3da5c667",
   "metadata": {
    "lines_to_next_cell": 2
   },
   "outputs": [],
   "source": [
    "x = [1.0, 2.0, 3.0]"
   ]
  },
  {
   "cell_type": "markdown",
   "id": "e62c196c",
   "metadata": {},
   "source": [
    "\n",
    "## A small digression: the `range` builtin\n",
    "\n",
    "- Let us say we do not have a list but want to iterate or repeat something\n",
    "- Let us say you want to iterate not over the elements but over the indices\n",
    "  of the list/array?\n",
    "\n",
    "Solving these things is much easier with the introduction of the `range`\n",
    "builtin function. Try this:"
   ]
  },
  {
   "cell_type": "code",
   "execution_count": null,
   "id": "6e1a859d",
   "metadata": {},
   "outputs": [],
   "source": [
    "for i in range(4):\n",
    "    print(i)"
   ]
  },
  {
   "cell_type": "code",
   "execution_count": null,
   "id": "9e74ee92",
   "metadata": {},
   "outputs": [],
   "source": [
    "for i in range(4, 8):\n",
    "    print(i)"
   ]
  },
  {
   "cell_type": "code",
   "execution_count": null,
   "id": "cbf439ef",
   "metadata": {},
   "outputs": [],
   "source": [
    "for i in range(0, 8, 2):\n",
    "    print(i)"
   ]
  },
  {
   "cell_type": "markdown",
   "id": "8994860f",
   "metadata": {
    "lines_to_next_cell": 0
   },
   "source": [
    "As you can see the syntax is either\n",
    "- `range(stop)`\n",
    "- or `range(start, stop, step)`\n",
    "- Note that the `stop` value is not included. (we saw this earlier too?)\n",
    "\n",
    "- Note that `range` does not actually create a list."
   ]
  },
  {
   "cell_type": "code",
   "execution_count": null,
   "id": "f8c53060",
   "metadata": {},
   "outputs": [],
   "source": [
    "range(5)"
   ]
  },
  {
   "cell_type": "code",
   "execution_count": null,
   "id": "d6732ec3",
   "metadata": {},
   "outputs": [],
   "source": [
    "range(0, 5, 2)"
   ]
  },
  {
   "cell_type": "markdown",
   "id": "2aa10345",
   "metadata": {
    "lines_to_next_cell": 0
   },
   "source": [
    "If you want a list, you can use the `list` to create one.\n",
    "\n",
    "Note that `list` takes any **sequence** (like tuple, array, string etc.) and converts it into a list.\n"
   ]
  },
  {
   "cell_type": "code",
   "execution_count": null,
   "id": "07fb4265",
   "metadata": {},
   "outputs": [],
   "source": [
    "list(range(5))"
   ]
  },
  {
   "cell_type": "markdown",
   "id": "6bd8a644",
   "metadata": {},
   "source": [
    "## Exercise\n",
    "\n",
    "- Create a list which has the square of the integers from 1-9.\n",
    "- Your code should produce [1, 4, 9, 16, 25, 36, 49, 64, 81]"
   ]
  },
  {
   "cell_type": "code",
   "execution_count": null,
   "id": "8817737f",
   "metadata": {},
   "outputs": [],
   "source": [
    "# Solution."
   ]
  },
  {
   "cell_type": "markdown",
   "id": "76594544",
   "metadata": {},
   "source": [
    "## Exercise\n",
    "\n",
    "Given the list, `distance` that we had earlier, for each element of the list\n",
    "print its index and value."
   ]
  },
  {
   "cell_type": "code",
   "execution_count": null,
   "id": "c09af1a6",
   "metadata": {},
   "outputs": [],
   "source": [
    "# Solution."
   ]
  },
  {
   "cell_type": "markdown",
   "id": "0ca10882",
   "metadata": {},
   "source": [
    "\n",
    "## Another digression: Quick introduction to booleans and conditionals\n",
    "\n",
    "Conditionals are very easy to write in Python.\n",
    "\n",
    "As usual we will look at examples to learn this also. :)"
   ]
  },
  {
   "cell_type": "code",
   "execution_count": null,
   "id": "0e0d7395",
   "metadata": {},
   "outputs": [],
   "source": [
    "v = -21\n",
    "v < 0"
   ]
  },
  {
   "cell_type": "code",
   "execution_count": null,
   "id": "d7d472cc",
   "metadata": {},
   "outputs": [],
   "source": [
    "v > 0"
   ]
  },
  {
   "cell_type": "markdown",
   "id": "50b4572f",
   "metadata": {},
   "source": [
    "There is are builtin `True` and `False` values"
   ]
  },
  {
   "cell_type": "code",
   "execution_count": null,
   "id": "6e876635",
   "metadata": {},
   "outputs": [],
   "source": [
    "# Equality requires 2 equal-to signs, recall that one `=` is for variable\n",
    "# assignement.\n",
    "v == 0"
   ]
  },
  {
   "cell_type": "code",
   "execution_count": null,
   "id": "db7ff84c",
   "metadata": {},
   "outputs": [],
   "source": [
    "# Not equal to.\n",
    "v != 0"
   ]
  },
  {
   "cell_type": "code",
   "execution_count": null,
   "id": "bae19918",
   "metadata": {},
   "outputs": [],
   "source": [
    "v >= 0"
   ]
  },
  {
   "cell_type": "code",
   "execution_count": null,
   "id": "dff202d7",
   "metadata": {},
   "outputs": [],
   "source": [
    "v <= -21"
   ]
  },
  {
   "cell_type": "markdown",
   "id": "c0e44296",
   "metadata": {
    "lines_to_next_cell": 2
   },
   "source": [
    "You can combine the boolean expressions with `or`, `and` and `not`."
   ]
  },
  {
   "cell_type": "code",
   "execution_count": null,
   "id": "0a9a0ff2",
   "metadata": {},
   "outputs": [],
   "source": [
    "y = 1\n",
    "\n",
    "# Always good to use brackets so the intent is very clear and easy to read.\n",
    "(v > 0) or (y > 0)"
   ]
  },
  {
   "cell_type": "code",
   "execution_count": null,
   "id": "30bb8d19",
   "metadata": {},
   "outputs": [],
   "source": [
    "(v > 0) and (y > 0)"
   ]
  },
  {
   "cell_type": "code",
   "execution_count": null,
   "id": "539cf2b5",
   "metadata": {},
   "outputs": [],
   "source": [
    "not (v >= 0)"
   ]
  },
  {
   "cell_type": "code",
   "execution_count": null,
   "id": "308b919f",
   "metadata": {},
   "outputs": [],
   "source": [
    "not True"
   ]
  },
  {
   "cell_type": "code",
   "execution_count": null,
   "id": "333cd390",
   "metadata": {},
   "outputs": [],
   "source": [
    "(v > 0) and not (y > 0)"
   ]
  },
  {
   "cell_type": "markdown",
   "id": "7ebf2313",
   "metadata": {
    "lines_to_next_cell": 0
   },
   "source": [
    "\n",
    "We can now quickly look at conditionals which are super easy to write in\n",
    "Python.\n",
    "\n",
    "Here we go again with more examples:"
   ]
  },
  {
   "cell_type": "code",
   "execution_count": null,
   "id": "b6b77a43",
   "metadata": {},
   "outputs": [],
   "source": [
    "if v < 0:\n",
    "    print(\"Negative value\")\n",
    "elif v > 0:\n",
    "    print(\"Positive\")\n",
    "else:\n",
    "    print(\"ZERO!\")"
   ]
  },
  {
   "cell_type": "markdown",
   "id": "08d2cb3a",
   "metadata": {},
   "source": [
    "\n",
    "Note that the `elif` and `else` are optional"
   ]
  },
  {
   "cell_type": "code",
   "execution_count": null,
   "id": "be411336",
   "metadata": {},
   "outputs": [],
   "source": [
    "temp = 100\n",
    "if temp < 0:\n",
    "    print(\"OMG! Your calculation is garbage! Negative temperature makes no sense\")"
   ]
  },
  {
   "cell_type": "markdown",
   "id": "6576a9e6",
   "metadata": {
    "lines_to_next_cell": 0
   },
   "source": [
    "\n",
    "## Exercise\n",
    "\n",
    "- Print the first 10 odd numbers.\n",
    "- Use a conditional or I will increase 10 to 1000!\n",
    "- Generate a list of values with the square of the first 10 odd numbers.\n"
   ]
  },
  {
   "cell_type": "code",
   "execution_count": null,
   "id": "4a21aa09",
   "metadata": {},
   "outputs": [],
   "source": [
    "# Hint\n",
    "v = 22\n",
    "# % is the modulo operator\n",
    "v % 2"
   ]
  },
  {
   "cell_type": "code",
   "execution_count": null,
   "id": "dc70df9c",
   "metadata": {},
   "outputs": [],
   "source": [
    "21 % 2"
   ]
  },
  {
   "cell_type": "code",
   "execution_count": null,
   "id": "a2c8f9c1",
   "metadata": {
    "lines_to_next_cell": 2
   },
   "outputs": [],
   "source": [
    "# Solution"
   ]
  },
  {
   "cell_type": "markdown",
   "id": "ce2b5369",
   "metadata": {},
   "source": [
    "## A bit more on loops\n",
    "\n",
    "### Nested loops\n",
    "\n",
    "- You can nest multiple loops.\n",
    "- You can also mix conditionals and looping constructs for more complex loops.\n",
    "\n",
    "Here is a simple example."
   ]
  },
  {
   "cell_type": "code",
   "execution_count": null,
   "id": "26df05e1",
   "metadata": {},
   "outputs": [],
   "source": [
    "for i in range(3):\n",
    "    for j in range(3):\n",
    "        print(i, j)  # Notice the indentation."
   ]
  },
  {
   "cell_type": "markdown",
   "id": "ef698e6a",
   "metadata": {},
   "source": [
    "Once again, the indentation defines the respective blocks.\n",
    "\n",
    "You can certainly write longer blocks of code before the `for j` or within\n",
    "the `for j` block."
   ]
  },
  {
   "cell_type": "markdown",
   "id": "567f532a",
   "metadata": {},
   "source": [
    "### Using `break` and `continue` in loops\n",
    "\n",
    "- You can use `break` to exit a loop\n",
    "\n",
    "Here is a silly example just to show you how"
   ]
  },
  {
   "cell_type": "code",
   "execution_count": null,
   "id": "36cde105",
   "metadata": {},
   "outputs": [],
   "source": [
    "for i in range(10):\n",
    "    if i > 5:\n",
    "        break\n",
    "    print(i)"
   ]
  },
  {
   "cell_type": "markdown",
   "id": "abf3197a",
   "metadata": {},
   "source": [
    "\n",
    "Note that the loop ends when the `break` is seen and nothing after it in the loop is executed.\n",
    "\n",
    "With `continue`, the remainder of the code is skipped like so:"
   ]
  },
  {
   "cell_type": "code",
   "execution_count": null,
   "id": "bbeb4e5d",
   "metadata": {
    "lines_to_next_cell": 1
   },
   "outputs": [],
   "source": [
    "for i in range(5):\n",
    "    if i % 2 == 1:\n",
    "        continue\n",
    "    print(i)"
   ]
  },
  {
   "cell_type": "markdown",
   "id": "a18b86d8",
   "metadata": {},
   "source": [
    "\n",
    "## Getting back to our pendulum problem!\n",
    "\n",
    "Let us get back to our original data. We had the length, `L` and time period\n",
    "`t`.  We wrote some code to get the square of the time values.\n",
    "\n",
    "Now let us say we want to find the mean and standard deviation of these list\n",
    "of values.\n",
    "\n",
    "## Exercise\n",
    "\n",
    "- Find the mean of the `L` values in the earlier array of 7 values."
   ]
  },
  {
   "cell_type": "code",
   "execution_count": null,
   "id": "cbff3a20",
   "metadata": {},
   "outputs": [],
   "source": [
    "# Solution"
   ]
  },
  {
   "cell_type": "markdown",
   "id": "e631cb0c",
   "metadata": {},
   "source": [
    "\n",
    "- Now find the mean of the `t` values\n",
    "\n",
    "It is a bad idea to cut/copy code. So repeating the same code many times is\n",
    "a very bad practice and you should actively watch yourself on this count.\n",
    "\n",
    "- So how do we reduce this code copying and duplication?\n",
    "- The answer is **abstraction** in the form of **functions**\n",
    "\n",
    "Let us first write a simple function to square all elements of a list."
   ]
  },
  {
   "cell_type": "code",
   "execution_count": null,
   "id": "b1d63124",
   "metadata": {},
   "outputs": [],
   "source": [
    "def sqr(lst):\n",
    "    \"\"\"Returns a list containing the square of the values of the given list.\"\"\"\n",
    "    result = []\n",
    "    for x in lst:\n",
    "        result.append(x*x)\n",
    "    return result"
   ]
  },
  {
   "cell_type": "markdown",
   "id": "1756f986",
   "metadata": {},
   "source": [
    "Carefully note the syntax of the function\n",
    "- `def` is a keyword, notice the `:` at the end of the line\n",
    "- The triple quoted string below the `def` line is the \"docstring\" or documentation.\n",
    "- The argument `lst` is a new function specific variable name\n",
    "- The (optional) `return` keyword returns whatever value is given"
   ]
  },
  {
   "cell_type": "code",
   "execution_count": null,
   "id": "37f61050",
   "metadata": {},
   "outputs": [],
   "source": [
    "tsq = sqr(t)\n",
    "lsq = sqr(L)\n",
    "# See the documentation of the sqr function"
   ]
  },
  {
   "cell_type": "markdown",
   "id": "fe6c28f4",
   "metadata": {
    "lines_to_next_cell": 2
   },
   "source": [
    "### Variable scope\n",
    "\n",
    "- Variables inside function block are not available outside.\n",
    "- If a name is not found in the function, Python looks outside the function.\n",
    "- Objects passed into a function are passed by reference. **They are not copied!**"
   ]
  },
  {
   "cell_type": "markdown",
   "id": "b97f7845",
   "metadata": {
    "lines_to_next_cell": 0
   },
   "source": [
    "## Exercise\n",
    "\n",
    "Write a function called mean which takes a list and returns the mean of the values."
   ]
  },
  {
   "cell_type": "code",
   "execution_count": null,
   "id": "b973be8c",
   "metadata": {},
   "outputs": [],
   "source": [
    "# Solution\n",
    "def mean(lst):\n",
    "    pass"
   ]
  },
  {
   "cell_type": "markdown",
   "id": "91154d14",
   "metadata": {
    "lines_to_next_cell": 0
   },
   "source": [
    "## Exercise\n",
    "\n",
    "Write a function called sdev which takes a list and returns the standard\n",
    "deviation of the values."
   ]
  },
  {
   "cell_type": "code",
   "execution_count": null,
   "id": "ef1a2ac2",
   "metadata": {
    "lines_to_next_cell": 2
   },
   "outputs": [],
   "source": [
    "# Solution"
   ]
  },
  {
   "cell_type": "markdown",
   "id": "7875d03e",
   "metadata": {},
   "source": [
    "### Function arguments\n",
    "\n",
    "- Functions can take any number of arguments including none\n",
    "- You can have default arguments and keyword arguments.\n",
    "- Keyword arguments always come after positional arguments."
   ]
  },
  {
   "cell_type": "code",
   "execution_count": null,
   "id": "1bb84135",
   "metadata": {
    "lines_to_next_cell": 1
   },
   "outputs": [],
   "source": [
    "def silly(x):\n",
    "    print(x)\n",
    "    # Look ma, no return!"
   ]
  },
  {
   "cell_type": "code",
   "execution_count": null,
   "id": "29dcd38c",
   "metadata": {
    "lines_to_next_cell": 1
   },
   "outputs": [],
   "source": [
    "silly(42)"
   ]
  },
  {
   "cell_type": "code",
   "execution_count": null,
   "id": "17af6198",
   "metadata": {
    "lines_to_next_cell": 1
   },
   "outputs": [],
   "source": [
    "def hello():\n",
    "    # Look ma, no arguments!\n",
    "    print(\"hello world!\")"
   ]
  },
  {
   "cell_type": "code",
   "execution_count": null,
   "id": "a7fa834a",
   "metadata": {
    "lines_to_next_cell": 1
   },
   "outputs": [],
   "source": [
    "def axpb(a, x, b):\n",
    "    return a*x + b\n",
    "\n",
    "axpb(2.5, 12, 1.65)"
   ]
  },
  {
   "cell_type": "code",
   "execution_count": null,
   "id": "9603c256",
   "metadata": {},
   "outputs": [],
   "source": [
    "def one_two(x, y):\n",
    "    return x+1, y+2\n",
    "\n",
    "one_two(10, 20)"
   ]
  },
  {
   "cell_type": "code",
   "execution_count": null,
   "id": "b729a2bb",
   "metadata": {
    "lines_to_next_cell": 1
   },
   "outputs": [],
   "source": [
    "u, v = one_two(10, 20)"
   ]
  },
  {
   "cell_type": "code",
   "execution_count": null,
   "id": "0569b2a3",
   "metadata": {
    "lines_to_next_cell": 0,
    "title": "[markdown"
   },
   "outputs": [],
   "source": [
    "# ### Default and keyword arguments\n",
    "#"
   ]
  },
  {
   "cell_type": "code",
   "execution_count": null,
   "id": "d2cce96a",
   "metadata": {
    "lines_to_next_cell": 1
   },
   "outputs": [],
   "source": [
    "def greet(name, hi='Hello', repeat=1):\n",
    "    for i in range(repeat):\n",
    "        print(hi, name)"
   ]
  },
  {
   "cell_type": "code",
   "execution_count": null,
   "id": "4d264549",
   "metadata": {},
   "outputs": [],
   "source": [
    "greet(\"Vinay\")"
   ]
  },
  {
   "cell_type": "code",
   "execution_count": null,
   "id": "c17c3880",
   "metadata": {
    "lines_to_next_cell": 0
   },
   "outputs": [],
   "source": [
    "greet(\"Vinay\", \"Namaste\")"
   ]
  },
  {
   "cell_type": "code",
   "execution_count": null,
   "id": "82e50914",
   "metadata": {},
   "outputs": [],
   "source": [
    "greet(\"Vinay\", \"Namaste\", 2)"
   ]
  },
  {
   "cell_type": "code",
   "execution_count": null,
   "id": "0f086fa8",
   "metadata": {
    "lines_to_next_cell": 0
   },
   "outputs": [],
   "source": [
    "greet(\"Vinay\", hi=\"Namaste\")"
   ]
  },
  {
   "cell_type": "code",
   "execution_count": null,
   "id": "3ba44d1a",
   "metadata": {
    "lines_to_next_cell": 0
   },
   "outputs": [],
   "source": [
    "greet(\"Vinay\", repeat=3)"
   ]
  },
  {
   "cell_type": "code",
   "execution_count": null,
   "id": "b14b13bf",
   "metadata": {
    "lines_to_next_cell": 0
   },
   "outputs": [],
   "source": [
    "greet(\"Vinay\", hi=\"Namaste\", repeat=3)"
   ]
  },
  {
   "cell_type": "code",
   "execution_count": null,
   "id": "d98520ce",
   "metadata": {},
   "outputs": [],
   "source": [
    "greet(\"Vinay\", hi=\"Namaste\", repeat=3)\n",
    "\n",
    "# %%# %%\n",
    "# Can also do this, but then you have to name the first argument.\n",
    "greet(hi=\"Namaste\", name='X!')"
   ]
  },
  {
   "cell_type": "markdown",
   "id": "f1dbf184",
   "metadata": {
    "lines_to_next_cell": 0
   },
   "source": [
    "\n",
    "## Exercise\n",
    "\n",
    "Write a function to find the mean squared error.\n"
   ]
  },
  {
   "cell_type": "code",
   "execution_count": null,
   "id": "b6630275",
   "metadata": {},
   "outputs": [],
   "source": [
    "# Solution"
   ]
  },
  {
   "cell_type": "code",
   "execution_count": null,
   "id": "1575ac0c",
   "metadata": {},
   "outputs": [],
   "source": [
    "# My solution\n",
    "def mse(x, y):\n",
    "    diff = []\n",
    "    for i in range(len(x)):\n",
    "        diff.append(y[i] - x[i])\n",
    "    sdiff = sqr(diff)\n",
    "    return mean(sdiff)"
   ]
  },
  {
   "cell_type": "markdown",
   "id": "b9830f24",
   "metadata": {
    "lines_to_next_cell": 0
   },
   "source": [
    "### Advanced\n",
    "- The zip builtin is very convenient for things like the above.\n",
    "\n",
    "Don't worry if you find this hard to follow."
   ]
  },
  {
   "cell_type": "code",
   "execution_count": null,
   "id": "819d971f",
   "metadata": {},
   "outputs": [],
   "source": [
    "def mse(x, y):\n",
    "    diff = []\n",
    "    for u, v in zip(x, y):\n",
    "        diff.append(u - v)\n",
    "    sdiff = sqr(diff)\n",
    "    return mean(sdiff)\n",
    "\n"
   ]
  },
  {
   "cell_type": "markdown",
   "id": "d4eafe54",
   "metadata": {},
   "source": [
    "## Timing a function in Jupyter\n",
    "\n",
    "- Jupyter provides convenient magic functions. These start with `%`\n",
    "- These are not available in Python but only in Jupyter/IPython consoles\n",
    "\n",
    "An example."
   ]
  },
  {
   "cell_type": "code",
   "execution_count": null,
   "id": "875ec457",
   "metadata": {
    "lines_to_next_cell": 2
   },
   "outputs": [],
   "source": [
    "n = 2**20\n",
    "big = list(range(n))\n",
    "%timeit sqr(big)"
   ]
  },
  {
   "cell_type": "markdown",
   "id": "a577ac47",
   "metadata": {
    "lines_to_next_cell": 0
   },
   "source": [
    "## Enter Numpy!\n"
   ]
  },
  {
   "cell_type": "code",
   "execution_count": null,
   "id": "6e72f1cb",
   "metadata": {},
   "outputs": [],
   "source": [
    "big_np = np.array(big)\n",
    "%timeit big_np*big_np"
   ]
  },
  {
   "cell_type": "markdown",
   "id": "764c66b2",
   "metadata": {},
   "source": [
    "Other magic commands\n",
    "- `%time`: one single measurement\n",
    "- `%cd`\n",
    "- `%run`\n",
    "etc."
   ]
  },
  {
   "cell_type": "markdown",
   "id": "c4cae971",
   "metadata": {},
   "source": [
    "\n",
    "- Numpy is very fast.\n",
    "- It is also very convenient as we didn't need to write `sqr` and can\n",
    "  directly multiply arrays.\n",
    "- Lists are more general purpose but not meant for direct numerics"
   ]
  },
  {
   "cell_type": "markdown",
   "id": "a721f918",
   "metadata": {
    "lines_to_next_cell": 2
   },
   "source": [
    "\n",
    "## Python scripts and modules\n",
    "\n",
    "To create a Python script:\n",
    "1. Create a text file with a `.py` extension\n",
    "2. Put your functions and code inside.\n",
    "3. You can then execute the file on a Python session.\n",
    "\n",
    "Example script demo."
   ]
  },
  {
   "cell_type": "markdown",
   "id": "6c8a2540",
   "metadata": {},
   "source": [
    "### Python modules\n",
    "\n",
    "- You can import a script in the same directory.\n",
    "- However there are constraints on the name of the file.\n",
    "- The name of the file should be a valid variable name\n",
    "- Can `import` this in another module."
   ]
  },
  {
   "cell_type": "markdown",
   "id": "041bad61",
   "metadata": {},
   "source": [
    "### Valid Python module (or variable) names\n",
    "\n",
    "- Should start with a letter\n",
    "- Can use _ (underscore) and numbers\n",
    "- No . allowed\n",
    "- No spaces or special characters\n"
   ]
  },
  {
   "cell_type": "markdown",
   "id": "eeeb3a96",
   "metadata": {},
   "source": [
    "### An example\n",
    "\n",
    "```{python}\n",
    "# script.py\n",
    "def sqr(lst):\n",
    "   ...\n",
    "def mse(x, y):\n",
    "   ...\n",
    "```\n",
    "\n",
    "Now in another script we can do:\n",
    "\n",
    "```{python}\n",
    "# other.py\n",
    "import script\n",
    "\n",
    "x = [1, 2, 3]\n",
    "print(script.sqr(x))\n",
    "```"
   ]
  },
  {
   "cell_type": "markdown",
   "id": "43e42e78",
   "metadata": {
    "lines_to_next_cell": 2
   },
   "source": [
    "### Other forms of import\n",
    "\n",
    "- `import script`\n",
    "- `import script as S`\n",
    "- `from script import sqr`\n",
    "- `from script import sqr, mse`\n"
   ]
  },
  {
   "cell_type": "markdown",
   "id": "aa085bd0",
   "metadata": {
    "lines_to_next_cell": 2
   },
   "source": [
    "### Quiz\n",
    "\n",
    "Which of these is a valid script?\n",
    "\n",
    "1. 1_script.py\n",
    "2. script_1.py\n",
    "3. one11.py\n",
    "4. one script.py\n",
    "5. one,script;xxx.py\n",
    "6. one.two.py"
   ]
  },
  {
   "cell_type": "markdown",
   "id": "7cbab2d3",
   "metadata": {},
   "source": [
    "### A note for scripts that you import\n",
    "\n",
    "- Importing from any script executes the whole code\n",
    "- Need to guard against this\n",
    "- The `__name__` special variable (double underscores are called \"dunder\")\n",
    "   - The value of this is `'__main__'` when run as a script\n",
    "   - The value is the name of the script when imported\n",
    "- So use an `if __name__ == '__main__':` guard block\n",
    "\n",
    "Let us look at a quick demo.\n",
    "\n"
   ]
  },
  {
   "cell_type": "markdown",
   "id": "c2361d66",
   "metadata": {
    "lines_to_next_cell": 2
   },
   "source": [
    "### Homework exercise\n",
    "\n",
    "- Make a Python script from your earlier plot from last class.\n",
    "- Make it so it can be executed from your installed anaconda shell."
   ]
  },
  {
   "cell_type": "markdown",
   "id": "e023ff32",
   "metadata": {},
   "source": [
    "## Summary\n",
    "We learned about the following:\n",
    "\n",
    "- Lists\n",
    "  - Creating lists\n",
    "  - Indexing, slicing\n",
    "  - `len` builtin\n",
    "  - List operators and methods\n",
    "- For loops\n",
    "  - Basic iteration\n",
    "  - `range` builtin\n",
    "- Booleans and conditionals\n",
    "- Functions\n",
    "  - Basic definition (`def`, docstring, `return`)\n",
    "  - Positional arguments\n",
    "  - Default and keyword arguments.\n",
    "  - Variable scope\n",
    "- Jupyter magic functions\n",
    "  - `%timeit`\n",
    "- Motivation for numpy arrays\n",
    "- Python scripts and modules"
   ]
  }
 ],
 "metadata": {
  "kernelspec": {
   "display_name": "Python 3",
   "language": "python",
   "name": "python3"
  }
 },
 "nbformat": 4,
 "nbformat_minor": 5
}
