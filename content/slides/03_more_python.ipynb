{
 "cells": [
  {
   "cell_type": "markdown",
   "id": "3e55e63b",
   "metadata": {},
   "source": [
    "\n",
    "## Preliminaries\n",
    "\n",
    "\n",
    "1. Thanks for the feedback!\n",
    "2. Some of you are concerned about the pace of the course.\n",
    "3. Textbooks/reading material etc.\n",
    "\n",
    "   1. You can go through the [Python tutorial](https://docs.python.org/3/tutorial/index.html)\n",
    "   2. Then go through the [Python Data Science Handbook](https://jakevdp.github.io/PythonDataScienceHandbook/)\n",
    "\n",
    "\n",
    "First poll to check your typing speed!\n",
    "\n",
    "\n",
    "We first start with the standard imports."
   ]
  },
  {
   "cell_type": "markdown",
   "id": "ebece79b",
   "metadata": {},
   "source": [
    "\n",
    "# More Python and plotting\n",
    "\n",
    "Let us now look at plotting data points that are not generated from\n",
    "analytical functions but may be from an experiment or measurement.\n",
    "\n",
    "We first start with the standard imports."
   ]
  },
  {
   "cell_type": "code",
   "execution_count": null,
   "id": "2eb05490",
   "metadata": {},
   "outputs": [],
   "source": [
    "import numpy as np\n",
    "import matplotlib.pyplot as plt"
   ]
  },
  {
   "cell_type": "markdown",
   "id": "73e30e21",
   "metadata": {},
   "source": [
    "\n",
    "Now consider the following data points that we want to plot for a\n",
    "measurement of some vehicle versus time.\n",
    "\n",
    "| Time     | 0.0 | 1.0 | 2.0  | 3.0  |\n",
    "|----------|-----|-----|------|------|\n",
    "| Distance | 5.0 | 9.0 | 13.0 | 17.0 |\n",
    "\n",
    "How do we plot it?  Try the following:"
   ]
  },
  {
   "cell_type": "code",
   "execution_count": null,
   "id": "0df46248",
   "metadata": {
    "lines_to_next_cell": 2
   },
   "outputs": [],
   "source": [
    "time = [0.0, 1.0, 2, 3]\n",
    "distance = [5.0, 9.0, 13, 17]\n",
    "plt.plot(time, distance)\n",
    "plt.xlabel('time')\n",
    "plt.ylabel('distance');"
   ]
  },
  {
   "cell_type": "markdown",
   "id": "6232d8e2",
   "metadata": {},
   "source": [
    "What if we didn't want the lines but want to see just the points?\n",
    "\n",
    "You should have already seen this in the last class material!"
   ]
  },
  {
   "cell_type": "code",
   "execution_count": null,
   "id": "3529f73d",
   "metadata": {},
   "outputs": [],
   "source": [
    "plt.plot(time, distance, 'o');"
   ]
  },
  {
   "cell_type": "code",
   "execution_count": null,
   "id": "cf04e60f",
   "metadata": {},
   "outputs": [],
   "source": [
    "# This uses a dashed line.\n",
    "plt.plot(time, distance, '--');"
   ]
  },
  {
   "cell_type": "markdown",
   "id": "84560686",
   "metadata": {},
   "source": [
    "So the variable `time` and `distance` you see here is what is called a Python `list`."
   ]
  },
  {
   "cell_type": "code",
   "execution_count": null,
   "id": "e9693fb5",
   "metadata": {},
   "outputs": [],
   "source": [
    "print(type(time))\n",
    "type(distance)"
   ]
  },
  {
   "cell_type": "markdown",
   "id": "78550b33",
   "metadata": {},
   "source": [
    "\n",
    "Lists are a powerful builtin Python data type. Let us learn a bit more about\n",
    "them.\n",
    "\n",
    "### Initialization and access"
   ]
  },
  {
   "cell_type": "code",
   "execution_count": null,
   "id": "fff0b08f",
   "metadata": {},
   "outputs": [],
   "source": [
    "# An empty list\n",
    "e = []\n",
    "\n",
    "# A non-empty list\n",
    "p = [2, 3, 5, 7]"
   ]
  },
  {
   "cell_type": "code",
   "execution_count": null,
   "id": "7c5ed998",
   "metadata": {},
   "outputs": [],
   "source": [
    "type(p)"
   ]
  },
  {
   "cell_type": "code",
   "execution_count": null,
   "id": "04745931",
   "metadata": {},
   "outputs": [],
   "source": [
    "# Indexing starts at 0\n",
    "p[0]"
   ]
  },
  {
   "cell_type": "code",
   "execution_count": null,
   "id": "88389cf0",
   "metadata": {},
   "outputs": [],
   "source": [
    "p[1]"
   ]
  },
  {
   "cell_type": "code",
   "execution_count": null,
   "id": "119e3853",
   "metadata": {},
   "outputs": [],
   "source": [
    "p[0] + p[1] + p[-1]"
   ]
  },
  {
   "cell_type": "markdown",
   "id": "725a830b",
   "metadata": {
    "lines_to_next_cell": 0
   },
   "source": [
    "\n",
    "### List Slicing\n",
    "\n",
    "Slicing always produces a list. The general syntax is:\n",
    "\n",
    "`list[initial:final:step]`\n",
    "\n",
    "initial/final are indices and the `final` is not included\n",
    "\n",
    "Negative indices start from the end (-1 is the last element).\n",
    "\n",
    "Examples make it easier."
   ]
  },
  {
   "cell_type": "code",
   "execution_count": null,
   "id": "875e5852",
   "metadata": {},
   "outputs": [],
   "source": [
    "p[1:3]"
   ]
  },
  {
   "cell_type": "code",
   "execution_count": null,
   "id": "2bfd69d3",
   "metadata": {},
   "outputs": [],
   "source": [
    "p[0:-1]"
   ]
  },
  {
   "cell_type": "code",
   "execution_count": null,
   "id": "1818f466",
   "metadata": {},
   "outputs": [],
   "source": [
    "p[1:]"
   ]
  },
  {
   "cell_type": "code",
   "execution_count": null,
   "id": "fbb05865",
   "metadata": {},
   "outputs": [],
   "source": [
    "p[:2]"
   ]
  },
  {
   "cell_type": "code",
   "execution_count": null,
   "id": "758bc5d6",
   "metadata": {},
   "outputs": [],
   "source": [
    "p[0:4:2]"
   ]
  },
  {
   "cell_type": "code",
   "execution_count": null,
   "id": "6e89c78c",
   "metadata": {},
   "outputs": [],
   "source": [
    "p[0::2]"
   ]
  },
  {
   "cell_type": "code",
   "execution_count": null,
   "id": "4ea3a387",
   "metadata": {},
   "outputs": [],
   "source": [
    "p[::2]"
   ]
  },
  {
   "cell_type": "code",
   "execution_count": null,
   "id": "86b25abf",
   "metadata": {},
   "outputs": [],
   "source": [
    "p[::3]"
   ]
  },
  {
   "cell_type": "code",
   "execution_count": null,
   "id": "dc252223",
   "metadata": {},
   "outputs": [],
   "source": [
    "p[::-1]"
   ]
  },
  {
   "cell_type": "markdown",
   "id": "acdb7d5c",
   "metadata": {},
   "source": [
    "\n",
    "### Quick quiz\n",
    "\n",
    "What is the output of the following?"
   ]
  },
  {
   "cell_type": "code",
   "execution_count": null,
   "id": "2140b4e3",
   "metadata": {},
   "outputs": [],
   "source": [
    "p[1::2]"
   ]
  },
  {
   "cell_type": "code",
   "execution_count": null,
   "id": "59d3d8a9",
   "metadata": {},
   "outputs": [],
   "source": [
    "p[1:-1:2]"
   ]
  },
  {
   "cell_type": "markdown",
   "id": "193e3cf0",
   "metadata": {},
   "source": [
    "\n",
    "The builtin `len` function tells us the length of a list.\n"
   ]
  },
  {
   "cell_type": "code",
   "execution_count": null,
   "id": "a4a80964",
   "metadata": {},
   "outputs": [],
   "source": [
    "len(p)"
   ]
  },
  {
   "cell_type": "markdown",
   "id": "b9ba3072",
   "metadata": {},
   "source": [
    "\n",
    "### List operations\n",
    "\n",
    "Lists also support other operations like addition and also have what are\n",
    "called **methods**.\n",
    "\n",
    "For example:"
   ]
  },
  {
   "cell_type": "code",
   "execution_count": null,
   "id": "53658749",
   "metadata": {},
   "outputs": [],
   "source": [
    "b = [11, 13, 17]\n",
    "c = p + b\n",
    "c"
   ]
  },
  {
   "cell_type": "code",
   "execution_count": null,
   "id": "43c42211",
   "metadata": {},
   "outputs": [],
   "source": [
    "# Do you think this will work?\n",
    "b * 2"
   ]
  },
  {
   "cell_type": "code",
   "execution_count": null,
   "id": "883507c3",
   "metadata": {},
   "outputs": [],
   "source": [
    "# Do you expect that this will work?\n",
    "b * 2.5"
   ]
  },
  {
   "cell_type": "markdown",
   "id": "b63bba33",
   "metadata": {},
   "source": [
    "\n",
    "- `+` and `*` here are \"operators\"\n",
    "\n",
    "Let us look at \"methods\" next."
   ]
  },
  {
   "cell_type": "code",
   "execution_count": null,
   "id": "93d903af",
   "metadata": {},
   "outputs": [],
   "source": [
    "p.append(11)\n",
    "p"
   ]
  },
  {
   "cell_type": "markdown",
   "id": "5ef09c99",
   "metadata": {
    "lines_to_next_cell": 0
   },
   "source": [
    "Does `c` change now that `p` has a new element?\n",
    "\n"
   ]
  },
  {
   "cell_type": "code",
   "execution_count": null,
   "id": "07100104",
   "metadata": {},
   "outputs": [],
   "source": [
    "c"
   ]
  },
  {
   "cell_type": "markdown",
   "id": "a51648c0",
   "metadata": {},
   "source": [
    "\n",
    "- Note the use of `p.append`\n",
    "- `p` is a list **object**\n",
    "- `p.append` is called a **method**, it is a function that applies to the list\n",
    "- In this case the function appends a new value.\n",
    "\n",
    "### Quick exercise\n",
    "\n",
    "Read the documentation for the append method on your notebook."
   ]
  },
  {
   "cell_type": "code",
   "execution_count": null,
   "id": "afc293cf",
   "metadata": {},
   "outputs": [],
   "source": []
  },
  {
   "cell_type": "markdown",
   "id": "ca42b62d",
   "metadata": {},
   "source": [
    "\n",
    "- Also do `p.<TAB>` to find other list methods!\n",
    "- Note that lists need not only contain elements of a single type."
   ]
  },
  {
   "cell_type": "code",
   "execution_count": null,
   "id": "146dfa67",
   "metadata": {},
   "outputs": [],
   "source": [
    "mixer = [1, 1.0, 'string', [1, 2, 3]]"
   ]
  },
  {
   "cell_type": "code",
   "execution_count": null,
   "id": "1127163a",
   "metadata": {},
   "outputs": [],
   "source": [
    "# The type of each element is different.\n",
    "type(mixer[1])"
   ]
  },
  {
   "cell_type": "markdown",
   "id": "41d96ca0",
   "metadata": {},
   "source": [
    "\n",
    "We now have a basic understanding of how we can use lists. Let us look at\n",
    "some \"real\" data.\n",
    "\n",
    "We look at a simple pendulum experiment:\n",
    "\n",
    "| L | 0.2 | 0.3  | 0.4  | 0.5  | 0.6  | 0.7  | 0.8  |\n",
    "|---|-----|------|------|------|------|------|------|\n",
    "| T | 0.9 | 1.19 | 1.30 | 1.47 | 1.58 | 1.77 | 1.83 |\n",
    "\n",
    "Let us do some analysis with this data. First put this into a list.\n",
    "\n",
    "For those of you who recall your basic physics, we expect that $L \\propto T^2$\n",
    "is a straight line."
   ]
  },
  {
   "cell_type": "code",
   "execution_count": null,
   "id": "22daef3e",
   "metadata": {},
   "outputs": [],
   "source": [
    "L = [0.2, 0.3, 0.4, 0.5, 0.6, 0.7, 0.8]\n",
    "t = [0.90, 1.19, 1.30, 1.47, 1.58, 1.77, 1.83]"
   ]
  },
  {
   "cell_type": "code",
   "execution_count": null,
   "id": "472b1fd1",
   "metadata": {},
   "outputs": [],
   "source": [
    "# Making sure both have the same number of elements\n",
    "print(len(L), len(t))"
   ]
  },
  {
   "cell_type": "markdown",
   "id": "52bb90ee",
   "metadata": {},
   "source": [
    "\n",
    "In order to plot this, we first need to get $t^2$ from the time values.\n",
    "Using `t*t` will not work, let us try"
   ]
  },
  {
   "cell_type": "code",
   "execution_count": null,
   "id": "0e4563a5",
   "metadata": {},
   "outputs": [],
   "source": [
    "t*t"
   ]
  },
  {
   "cell_type": "markdown",
   "id": "ee1b8d79",
   "metadata": {
    "lines_to_next_cell": 0
   },
   "source": [
    "\n",
    "We can use a `for` loop to do this.\n",
    "\n",
    "Here is a simple example"
   ]
  },
  {
   "cell_type": "code",
   "execution_count": null,
   "id": "7189ff30",
   "metadata": {},
   "outputs": [],
   "source": [
    "for time in t:\n",
    "    print(time*time)"
   ]
  },
  {
   "cell_type": "code",
   "execution_count": null,
   "id": "7f033e00",
   "metadata": {},
   "outputs": [],
   "source": [
    "# Here is a longer example which illustrates a bit more.\n",
    "# Run this and then we will walk through the lines of code.\n",
    "for time in t:\n",
    "    tsq = time*time\n",
    "    print(time, tsq)\n",
    "print(\"Done\")"
   ]
  },
  {
   "cell_type": "markdown",
   "id": "520d9f63",
   "metadata": {},
   "source": [
    "\n",
    "- Recall that our goal is to be able to plot $L$ vs $T^2$.\n",
    "- How do we store these values so we can use plot?\n",
    "- We can create an empty list and add elements into the list.\n",
    "\n",
    "Here is an approach"
   ]
  },
  {
   "cell_type": "code",
   "execution_count": null,
   "id": "7125d189",
   "metadata": {},
   "outputs": [],
   "source": [
    "tsq = []\n",
    "for time in t:\n",
    "    tsq.append(time*time)"
   ]
  },
  {
   "cell_type": "code",
   "execution_count": null,
   "id": "0403314a",
   "metadata": {},
   "outputs": [],
   "source": [
    "# Now we can plot this!\n",
    "plt.plot(L, tsq)"
   ]
  },
  {
   "cell_type": "code",
   "execution_count": null,
   "id": "59386e87",
   "metadata": {},
   "outputs": [],
   "source": [
    "# Or just plot the points alone.\n",
    "plt.plot(L, tsq, 'o')"
   ]
  },
  {
   "cell_type": "markdown",
   "id": "42994401",
   "metadata": {
    "lines_to_next_cell": 0
   },
   "source": [
    "### Pop quiz\n",
    "\n",
    "What happens to if we now write this code:"
   ]
  },
  {
   "cell_type": "code",
   "execution_count": null,
   "id": "0b12363a",
   "metadata": {},
   "outputs": [],
   "source": [
    "for time in t:\n",
    "    tsq.append(time*time)"
   ]
  },
  {
   "cell_type": "code",
   "execution_count": null,
   "id": "200d5e04",
   "metadata": {},
   "outputs": [],
   "source": [
    "len(tsq)"
   ]
  },
  {
   "cell_type": "markdown",
   "id": "f3b853f7",
   "metadata": {},
   "source": [
    "Beware of things like this!\n",
    "\n",
    "## Exercise\n",
    "\n",
    "Consider the list `x = [1.0, 2.0, 3.0]`. Write code to compute twice of each value\n",
    "and store the result in a new list as variable `y`."
   ]
  },
  {
   "cell_type": "code",
   "execution_count": null,
   "id": "0c0124ad",
   "metadata": {
    "lines_to_next_cell": 2
   },
   "outputs": [],
   "source": [
    "x = [1.0, 2.0, 3.0]"
   ]
  },
  {
   "cell_type": "markdown",
   "id": "e74e411b",
   "metadata": {},
   "source": [
    "\n",
    "## A small digression: the `range` builtin\n",
    "\n",
    "- Let us say we do not have a list but want to iterate or repeat something\n",
    "- Let us say you want to iterate not over the elements but over the indices\n",
    "  of the list/array?\n",
    "\n",
    "Solving these things is much easier with the introduction of the `range`\n",
    "builtin function. Try this:"
   ]
  },
  {
   "cell_type": "code",
   "execution_count": null,
   "id": "a6c4ace8",
   "metadata": {},
   "outputs": [],
   "source": [
    "for i in range(4):\n",
    "    print(i)"
   ]
  },
  {
   "cell_type": "code",
   "execution_count": null,
   "id": "e30d1d65",
   "metadata": {},
   "outputs": [],
   "source": [
    "for i in range(4, 8):\n",
    "    print(i)"
   ]
  },
  {
   "cell_type": "code",
   "execution_count": null,
   "id": "75fddba2",
   "metadata": {},
   "outputs": [],
   "source": [
    "for i in range(0, 8, 2):\n",
    "    print(i)"
   ]
  },
  {
   "cell_type": "markdown",
   "id": "77300b81",
   "metadata": {
    "lines_to_next_cell": 0
   },
   "source": [
    "As you can see the syntax is either\n",
    "- `range(stop)`\n",
    "- or `range(start, stop, step)`\n",
    "- Note that the `stop` value is not included. (we saw this earlier too?)\n",
    "\n",
    "- Note that `range` does not actually create a list."
   ]
  },
  {
   "cell_type": "code",
   "execution_count": null,
   "id": "8c188a10",
   "metadata": {},
   "outputs": [],
   "source": [
    "range(5)"
   ]
  },
  {
   "cell_type": "code",
   "execution_count": null,
   "id": "e9e16f77",
   "metadata": {},
   "outputs": [],
   "source": [
    "range(0, 5, 2)"
   ]
  },
  {
   "cell_type": "markdown",
   "id": "607cebd5",
   "metadata": {
    "lines_to_next_cell": 0
   },
   "source": [
    "If you want a list, you can use the `list` to create one.\n",
    "\n",
    "Note that `list` takes any **sequence** (like tuple, array, string etc.) and converts it into a list.\n"
   ]
  },
  {
   "cell_type": "code",
   "execution_count": null,
   "id": "42b302d3",
   "metadata": {},
   "outputs": [],
   "source": [
    "list(range(5))"
   ]
  },
  {
   "cell_type": "markdown",
   "id": "dca50391",
   "metadata": {},
   "source": [
    "## Exercise\n",
    "\n",
    "- Create a list which has the square of the integers from 1-9.\n",
    "- Your code should produce [1, 4, 9, 16, 25, 36, 49, 64, 81]"
   ]
  },
  {
   "cell_type": "code",
   "execution_count": null,
   "id": "ace27c13",
   "metadata": {},
   "outputs": [],
   "source": [
    "# Solution."
   ]
  },
  {
   "cell_type": "markdown",
   "id": "54ecd20c",
   "metadata": {},
   "source": [
    "## Exercise\n",
    "\n",
    "Given the list, `distance` that we had earlier, for each element of the list\n",
    "print its index and value."
   ]
  },
  {
   "cell_type": "code",
   "execution_count": null,
   "id": "709926c8",
   "metadata": {},
   "outputs": [],
   "source": [
    "# Solution."
   ]
  },
  {
   "cell_type": "markdown",
   "id": "280578de",
   "metadata": {},
   "source": [
    "\n",
    "## Another digression: Quick introduction to booleans and conditionals\n",
    "\n",
    "Conditionals are very easy to write in Python.\n",
    "\n",
    "As usual we will look at examples to learn this also. :)"
   ]
  },
  {
   "cell_type": "code",
   "execution_count": null,
   "id": "fad335b7",
   "metadata": {},
   "outputs": [],
   "source": [
    "v = -21\n",
    "v < 0"
   ]
  },
  {
   "cell_type": "code",
   "execution_count": null,
   "id": "c765dbb1",
   "metadata": {},
   "outputs": [],
   "source": [
    "v > 0"
   ]
  },
  {
   "cell_type": "markdown",
   "id": "7da10994",
   "metadata": {},
   "source": [
    "There is are builtin `True` and `False` values"
   ]
  },
  {
   "cell_type": "code",
   "execution_count": null,
   "id": "cd8baed4",
   "metadata": {},
   "outputs": [],
   "source": [
    "# Equality requires 2 equal-to signs, recall that one `=` is for variable\n",
    "# assignement.\n",
    "v == 0"
   ]
  },
  {
   "cell_type": "code",
   "execution_count": null,
   "id": "fef45e48",
   "metadata": {},
   "outputs": [],
   "source": [
    "# Not equal to.\n",
    "v != 0"
   ]
  },
  {
   "cell_type": "code",
   "execution_count": null,
   "id": "ebb94e62",
   "metadata": {},
   "outputs": [],
   "source": [
    "v >= 0"
   ]
  },
  {
   "cell_type": "code",
   "execution_count": null,
   "id": "ed501e61",
   "metadata": {},
   "outputs": [],
   "source": [
    "v <= -21"
   ]
  },
  {
   "cell_type": "markdown",
   "id": "5bc51e76",
   "metadata": {
    "lines_to_next_cell": 2
   },
   "source": [
    "You can combine the boolean expressions with `or`, `and` and `not`."
   ]
  },
  {
   "cell_type": "code",
   "execution_count": null,
   "id": "46126f33",
   "metadata": {},
   "outputs": [],
   "source": [
    "y = 1\n",
    "\n",
    "# Always good to use brackets so the intent is very clear and easy to read.\n",
    "(v > 0) or (y > 0)"
   ]
  },
  {
   "cell_type": "code",
   "execution_count": null,
   "id": "c47932c6",
   "metadata": {},
   "outputs": [],
   "source": [
    "(v > 0) and (y > 0)"
   ]
  },
  {
   "cell_type": "code",
   "execution_count": null,
   "id": "7515df19",
   "metadata": {},
   "outputs": [],
   "source": [
    "not (v >= 0)"
   ]
  },
  {
   "cell_type": "code",
   "execution_count": null,
   "id": "54fe133e",
   "metadata": {},
   "outputs": [],
   "source": [
    "not True"
   ]
  },
  {
   "cell_type": "code",
   "execution_count": null,
   "id": "6e4fd906",
   "metadata": {},
   "outputs": [],
   "source": [
    "(v > 0) and not (y > 0)"
   ]
  },
  {
   "cell_type": "markdown",
   "id": "98fe6c41",
   "metadata": {
    "lines_to_next_cell": 0
   },
   "source": [
    "\n",
    "We can now quickly look at conditionals which are super easy to write in\n",
    "Python.\n",
    "\n",
    "Here we go again with more examples:"
   ]
  },
  {
   "cell_type": "code",
   "execution_count": null,
   "id": "50a67e14",
   "metadata": {},
   "outputs": [],
   "source": [
    "if v < 0:\n",
    "    print(\"Negative value\")\n",
    "elif v > 0:\n",
    "    print(\"Positive\")\n",
    "else:\n",
    "    print(\"ZERO!\")"
   ]
  },
  {
   "cell_type": "markdown",
   "id": "c4e0c306",
   "metadata": {},
   "source": [
    "\n",
    "Note that the `elif` and `else` are optional"
   ]
  },
  {
   "cell_type": "code",
   "execution_count": null,
   "id": "af0e9868",
   "metadata": {},
   "outputs": [],
   "source": [
    "temp = 100\n",
    "if temp < 0:\n",
    "    print(\"OMG! Your calculation is garbage! Negative temperature makes no sense\")"
   ]
  },
  {
   "cell_type": "markdown",
   "id": "6a30c167",
   "metadata": {
    "lines_to_next_cell": 0
   },
   "source": [
    "\n",
    "## Exercise\n",
    "\n",
    "- Print the first 10 odd numbers.\n",
    "- Use a conditional or I will increase 10 to 1000!\n",
    "- Generate a list of values with the square of the first 10 odd numbers.\n"
   ]
  },
  {
   "cell_type": "code",
   "execution_count": null,
   "id": "b8bfb423",
   "metadata": {},
   "outputs": [],
   "source": [
    "# Hint\n",
    "v = 22\n",
    "# % is the modulo operator\n",
    "v % 2"
   ]
  },
  {
   "cell_type": "code",
   "execution_count": null,
   "id": "046f3a93",
   "metadata": {},
   "outputs": [],
   "source": [
    "21 % 2"
   ]
  },
  {
   "cell_type": "code",
   "execution_count": null,
   "id": "494d505d",
   "metadata": {
    "lines_to_next_cell": 2
   },
   "outputs": [],
   "source": [
    "# Solution"
   ]
  },
  {
   "cell_type": "markdown",
   "id": "7c0c0183",
   "metadata": {},
   "source": [
    "## A bit more on loops\n",
    "\n",
    "### Nested loops\n",
    "\n",
    "- You can nest multiple loops.\n",
    "- You can also mix conditionals and looping constructs for more complex loops.\n",
    "\n",
    "Here is a simple example."
   ]
  },
  {
   "cell_type": "code",
   "execution_count": null,
   "id": "c7fd3365",
   "metadata": {},
   "outputs": [],
   "source": [
    "for i in range(3):\n",
    "    for j in range(3):\n",
    "        print(i, j)  # Notice the indentation."
   ]
  },
  {
   "cell_type": "markdown",
   "id": "75079e56",
   "metadata": {},
   "source": [
    "Once again, the indentation defines the respective blocks.\n",
    "\n",
    "You can certainly write longer blocks of code before the `for j` or within\n",
    "the `for j` block."
   ]
  },
  {
   "cell_type": "markdown",
   "id": "5d2915ef",
   "metadata": {},
   "source": [
    "### Using `break` and `continue` in loops\n",
    "\n",
    "- You can use `break` to exit a loop\n",
    "\n",
    "Here is a silly example just to show you how"
   ]
  },
  {
   "cell_type": "code",
   "execution_count": null,
   "id": "255f296b",
   "metadata": {},
   "outputs": [],
   "source": [
    "for i in range(10):\n",
    "    if i > 5:\n",
    "        break\n",
    "    print(i)"
   ]
  },
  {
   "cell_type": "markdown",
   "id": "02813d7e",
   "metadata": {},
   "source": [
    "\n",
    "Note that the loop ends when the `break` is seen and nothing after it in the loop is executed.\n",
    "\n",
    "With `continue`, the remainder of the code is skipped like so:"
   ]
  },
  {
   "cell_type": "code",
   "execution_count": null,
   "id": "0157803d",
   "metadata": {
    "lines_to_next_cell": 1
   },
   "outputs": [],
   "source": [
    "for i in range(5):\n",
    "    if i % 2 == 1:\n",
    "        continue\n",
    "    print(i)"
   ]
  },
  {
   "cell_type": "markdown",
   "id": "9f03d095",
   "metadata": {},
   "source": [
    "\n",
    "## Getting back to our pendulum problem!\n",
    "\n",
    "Let us get back to our original data. We had the length, `L` and time period\n",
    "`t`.  We wrote some code to get the square of the time values.\n",
    "\n",
    "Now let us say we want to find the mean and standard deviation of these list\n",
    "of values.\n",
    "\n",
    "## Exercise\n",
    "\n",
    "- Find the mean of the `L` values in the earlier array of 7 values."
   ]
  },
  {
   "cell_type": "code",
   "execution_count": null,
   "id": "db6a243c",
   "metadata": {},
   "outputs": [],
   "source": [
    "# Solution"
   ]
  },
  {
   "cell_type": "markdown",
   "id": "a20a9c50",
   "metadata": {},
   "source": [
    "\n",
    "- Now find the mean of the `t` values\n",
    "\n",
    "It is a bad idea to cut/copy code. So repeating the same code many times is\n",
    "a very bad practice and you should actively watch yourself on this count.\n",
    "\n",
    "- So how do we reduce this code copying and duplication?\n",
    "- The answer is **abstraction** in the form of **functions**\n",
    "\n",
    "Let us first write a simple function to square all elements of a list."
   ]
  },
  {
   "cell_type": "code",
   "execution_count": null,
   "id": "add36b9e",
   "metadata": {},
   "outputs": [],
   "source": [
    "def sqr(lst):\n",
    "    \"\"\"Returns a list containing the square of the values of the given list.\"\"\"\n",
    "    result = []\n",
    "    for x in lst:\n",
    "        result.append(x*x)\n",
    "    return result"
   ]
  },
  {
   "cell_type": "markdown",
   "id": "2724d432",
   "metadata": {},
   "source": [
    "Carefully note the syntax of the function\n",
    "- `def` is a keyword, notice the `:` at the end of the line\n",
    "- The triple quoted string below the `def` line is the \"docstring\" or documentation.\n",
    "- The argument `lst` is a new function specific variable name\n",
    "- The (optional) `return` keyword returns whatever value is given"
   ]
  },
  {
   "cell_type": "code",
   "execution_count": null,
   "id": "b0020005",
   "metadata": {},
   "outputs": [],
   "source": [
    "tsq = sqr(t)\n",
    "lsq = sqr(L)\n",
    "# See the documentation of the sqr function"
   ]
  },
  {
   "cell_type": "markdown",
   "id": "e570dc71",
   "metadata": {
    "lines_to_next_cell": 2
   },
   "source": [
    "### Variable scope\n",
    "\n",
    "- Variables inside function block are not available outside.\n",
    "- If a name is not found in the function, Python looks outside the function.\n",
    "- Objects passed into a function are passed by reference. **They are not copied!**"
   ]
  },
  {
   "cell_type": "markdown",
   "id": "f8527cdf",
   "metadata": {
    "lines_to_next_cell": 0
   },
   "source": [
    "## Exercise\n",
    "\n",
    "Write a function called mean which takes a list and returns the mean of the values."
   ]
  },
  {
   "cell_type": "code",
   "execution_count": null,
   "id": "7c6544c5",
   "metadata": {},
   "outputs": [],
   "source": [
    "# Solution\n",
    "def mean(lst):\n",
    "    pass"
   ]
  },
  {
   "cell_type": "markdown",
   "id": "54a1ff5e",
   "metadata": {
    "lines_to_next_cell": 0
   },
   "source": [
    "## Exercise\n",
    "\n",
    "Write a function called sdev which takes a list and returns the standard\n",
    "deviation of the values."
   ]
  },
  {
   "cell_type": "code",
   "execution_count": null,
   "id": "742e79b4",
   "metadata": {
    "lines_to_next_cell": 2
   },
   "outputs": [],
   "source": [
    "# Solution"
   ]
  },
  {
   "cell_type": "markdown",
   "id": "24b62966",
   "metadata": {},
   "source": [
    "### Function arguments\n",
    "\n",
    "- Functions can take any number of arguments including none\n",
    "- You can have default arguments and keyword arguments.\n",
    "- Keyword arguments always come after positional arguments."
   ]
  },
  {
   "cell_type": "code",
   "execution_count": null,
   "id": "9dadde01",
   "metadata": {
    "lines_to_next_cell": 1
   },
   "outputs": [],
   "source": [
    "def silly(x):\n",
    "    print(x)\n",
    "    # Look ma, no return!"
   ]
  },
  {
   "cell_type": "code",
   "execution_count": null,
   "id": "f961e0c6",
   "metadata": {
    "lines_to_next_cell": 1
   },
   "outputs": [],
   "source": [
    "silly(42)"
   ]
  },
  {
   "cell_type": "code",
   "execution_count": null,
   "id": "668709cf",
   "metadata": {
    "lines_to_next_cell": 1
   },
   "outputs": [],
   "source": [
    "def hello():\n",
    "    # Look ma, no arguments!\n",
    "    print(\"hello world!\")"
   ]
  },
  {
   "cell_type": "code",
   "execution_count": null,
   "id": "67f6271d",
   "metadata": {
    "lines_to_next_cell": 1
   },
   "outputs": [],
   "source": [
    "def axpb(a, x, b):\n",
    "    return a*x + b\n",
    "\n",
    "axpb(2.5, 12, 1.65)"
   ]
  },
  {
   "cell_type": "code",
   "execution_count": null,
   "id": "d30940e2",
   "metadata": {},
   "outputs": [],
   "source": [
    "def one_two(x, y):\n",
    "    return x+1, y+2\n",
    "\n",
    "one_two(10, 20)"
   ]
  },
  {
   "cell_type": "code",
   "execution_count": null,
   "id": "f9e89d78",
   "metadata": {
    "lines_to_next_cell": 1
   },
   "outputs": [],
   "source": [
    "u, v = one_two(10, 20)"
   ]
  },
  {
   "cell_type": "markdown",
   "id": "387f900e",
   "metadata": {
    "lines_to_next_cell": 0
   },
   "source": [
    "### Default and keyword arguments\n"
   ]
  },
  {
   "cell_type": "code",
   "execution_count": null,
   "id": "a24fe459",
   "metadata": {
    "lines_to_next_cell": 1
   },
   "outputs": [],
   "source": [
    "def greet(name, hi='Hello', repeat=1):\n",
    "    for i in range(repeat):\n",
    "        print(hi, name)"
   ]
  },
  {
   "cell_type": "code",
   "execution_count": null,
   "id": "37dc1e04",
   "metadata": {},
   "outputs": [],
   "source": [
    "greet(\"Vinay\")"
   ]
  },
  {
   "cell_type": "code",
   "execution_count": null,
   "id": "c05908b7",
   "metadata": {
    "lines_to_next_cell": 0
   },
   "outputs": [],
   "source": [
    "greet(\"Vinay\", \"Namaste\")"
   ]
  },
  {
   "cell_type": "code",
   "execution_count": null,
   "id": "5f48faef",
   "metadata": {},
   "outputs": [],
   "source": [
    "greet(\"Vinay\", \"Namaste\", 2)"
   ]
  },
  {
   "cell_type": "code",
   "execution_count": null,
   "id": "09555a46",
   "metadata": {
    "lines_to_next_cell": 0
   },
   "outputs": [],
   "source": [
    "greet(\"Vinay\", hi=\"Namaste\")"
   ]
  },
  {
   "cell_type": "code",
   "execution_count": null,
   "id": "089b8f10",
   "metadata": {
    "lines_to_next_cell": 0
   },
   "outputs": [],
   "source": [
    "greet(\"Vinay\", repeat=3)"
   ]
  },
  {
   "cell_type": "code",
   "execution_count": null,
   "id": "b4535f94",
   "metadata": {
    "lines_to_next_cell": 0
   },
   "outputs": [],
   "source": [
    "greet(\"Vinay\", hi=\"Namaste\", repeat=3)"
   ]
  },
  {
   "cell_type": "code",
   "execution_count": null,
   "id": "f1a1c217",
   "metadata": {},
   "outputs": [],
   "source": [
    "greet(\"Vinay\", hi=\"Namaste\", repeat=3)"
   ]
  },
  {
   "cell_type": "code",
   "execution_count": null,
   "id": "58d460ec",
   "metadata": {},
   "outputs": [],
   "source": [
    "# Can also do this, but then you have to name the first argument.\n",
    "greet(hi=\"Namaste\", name='X!')"
   ]
  },
  {
   "cell_type": "markdown",
   "id": "1d29c717",
   "metadata": {
    "lines_to_next_cell": 0
   },
   "source": [
    "\n",
    "## Exercise\n",
    "\n",
    "Write a function to find the mean squared error.\n"
   ]
  },
  {
   "cell_type": "code",
   "execution_count": null,
   "id": "ac2aa76c",
   "metadata": {},
   "outputs": [],
   "source": [
    "# Solution"
   ]
  },
  {
   "cell_type": "code",
   "execution_count": null,
   "id": "9d0bb7bc",
   "metadata": {},
   "outputs": [],
   "source": [
    "# My solution\n",
    "def mse(x, y):\n",
    "    diff = []\n",
    "    for i in range(len(x)):\n",
    "        diff.append(y[i] - x[i])\n",
    "    sdiff = sqr(diff)\n",
    "    return mean(sdiff)"
   ]
  },
  {
   "cell_type": "markdown",
   "id": "be32f2e0",
   "metadata": {
    "lines_to_next_cell": 0
   },
   "source": [
    "### Advanced\n",
    "- The zip builtin is very convenient for things like the above.\n",
    "\n",
    "Don't worry if you find this hard to follow."
   ]
  },
  {
   "cell_type": "code",
   "execution_count": null,
   "id": "a6d4b7f2",
   "metadata": {},
   "outputs": [],
   "source": [
    "def mse(x, y):\n",
    "    diff = []\n",
    "    for u, v in zip(x, y):\n",
    "        diff.append(u - v)\n",
    "    sdiff = sqr(diff)\n",
    "    return mean(sdiff)\n",
    "\n"
   ]
  },
  {
   "cell_type": "markdown",
   "id": "56ddcc0b",
   "metadata": {},
   "source": [
    "## Timing a function in Jupyter\n",
    "\n",
    "- Jupyter provides convenient magic functions. These start with `%`\n",
    "- These are not available in Python but only in Jupyter/IPython consoles\n",
    "\n",
    "An example."
   ]
  },
  {
   "cell_type": "code",
   "execution_count": null,
   "id": "a44f325c",
   "metadata": {},
   "outputs": [],
   "source": [
    "n = 2**20\n",
    "big = list(range(n))"
   ]
  },
  {
   "cell_type": "code",
   "execution_count": null,
   "id": "cafd0cf5",
   "metadata": {
    "lines_to_next_cell": 2
   },
   "outputs": [],
   "source": [
    "%timeit sqr(big)"
   ]
  },
  {
   "cell_type": "markdown",
   "id": "1e0eb304",
   "metadata": {
    "lines_to_next_cell": 0
   },
   "source": [
    "## Enter Numpy!\n"
   ]
  },
  {
   "cell_type": "code",
   "execution_count": null,
   "id": "d349f717",
   "metadata": {
    "lines_to_next_cell": 0
   },
   "outputs": [],
   "source": [
    "big_np = np.array(big)"
   ]
  },
  {
   "cell_type": "code",
   "execution_count": null,
   "id": "1d983ef2",
   "metadata": {},
   "outputs": [],
   "source": [
    "%timeit big_np*big_np"
   ]
  },
  {
   "cell_type": "markdown",
   "id": "f5501d2e",
   "metadata": {},
   "source": [
    "Other magic commands\n",
    "- `%time`: one single measurement\n",
    "- `%cd`\n",
    "- `%run`\n",
    "- `%pwd`: current directory.\n",
    "etc."
   ]
  },
  {
   "cell_type": "markdown",
   "id": "09a654aa",
   "metadata": {},
   "source": [
    "\n",
    "- Numpy is very fast.\n",
    "- It is also very convenient as we didn't need to write `sqr` and can\n",
    "  directly multiply arrays.\n",
    "- Lists are more general purpose but not meant for direct numerics"
   ]
  },
  {
   "cell_type": "markdown",
   "id": "dc9a0ece",
   "metadata": {
    "lines_to_next_cell": 2
   },
   "source": [
    "\n",
    "## Python scripts and modules\n",
    "\n",
    "To create a Python script:\n",
    "1. Create a text file with a `.py` extension\n",
    "2. Put your functions and code inside.\n",
    "3. You can then execute the file on a Python session.\n",
    "\n",
    "Example script demo."
   ]
  },
  {
   "cell_type": "markdown",
   "id": "391559e3",
   "metadata": {},
   "source": [
    "### Python modules\n",
    "\n",
    "- You can import a script in the same directory.\n",
    "- However there are constraints on the name of the file.\n",
    "- The name of the file should be a valid variable name\n",
    "- Can `import` this in another module."
   ]
  },
  {
   "cell_type": "markdown",
   "id": "7ec5f0c8",
   "metadata": {},
   "source": [
    "### Valid Python module (or variable) names\n",
    "\n",
    "- Should start with a letter\n",
    "- Can use _ (underscore) and numbers\n",
    "- No . allowed\n",
    "- No spaces or special characters\n"
   ]
  },
  {
   "cell_type": "markdown",
   "id": "1a2b1430",
   "metadata": {},
   "source": [
    "### An example\n",
    "\n",
    "```{python}\n",
    "# script.py\n",
    "def sqr(lst):\n",
    "   ...\n",
    "def mse(x, y):\n",
    "   ...\n",
    "```\n",
    "\n",
    "Now in another script we can do:\n",
    "\n",
    "```{python}\n",
    "# other.py\n",
    "import script\n",
    "\n",
    "x = [1, 2, 3]\n",
    "print(script.sqr(x))\n",
    "```"
   ]
  },
  {
   "cell_type": "markdown",
   "id": "74c3864b",
   "metadata": {
    "lines_to_next_cell": 2
   },
   "source": [
    "### Other forms of import\n",
    "\n",
    "- `import script`\n",
    "- `import script as S`\n",
    "- `from script import sqr`\n",
    "- `from script import sqr, mse`\n"
   ]
  },
  {
   "cell_type": "markdown",
   "id": "38a454c8",
   "metadata": {
    "lines_to_next_cell": 2
   },
   "source": [
    "### Quiz\n",
    "\n",
    "Which of these is a valid script?\n",
    "\n",
    "1. 1_script.py\n",
    "2. script_1.py\n",
    "3. one11.py\n",
    "4. one script.py\n",
    "5. one,script;xxx.py\n",
    "6. one.two.py"
   ]
  },
  {
   "cell_type": "markdown",
   "id": "f1ff20bc",
   "metadata": {},
   "source": [
    "### A note for scripts that you import\n",
    "\n",
    "- Importing from any script executes the whole code\n",
    "- Need to guard against this\n",
    "- The `__name__` special variable (double underscores are called \"dunder\")\n",
    "   - The value of this is `'__main__'` when run as a script\n",
    "   - The value is the name of the script when imported\n",
    "- So use an `if __name__ == '__main__':` guard block\n",
    "\n",
    "Let us look at a quick demo.\n",
    "\n"
   ]
  },
  {
   "cell_type": "markdown",
   "id": "8011c72e",
   "metadata": {
    "lines_to_next_cell": 2
   },
   "source": [
    "### Homework exercise\n",
    "\n",
    "- Make a Python script from your earlier plot from last class.\n",
    "- Make it so it can be executed from your installed anaconda shell."
   ]
  },
  {
   "cell_type": "markdown",
   "id": "9dde422d",
   "metadata": {},
   "source": [
    "## Summary\n",
    "We learned about the following:\n",
    "\n",
    "- Lists\n",
    "  - Creating lists\n",
    "  - Indexing, slicing\n",
    "  - `len` builtin\n",
    "  - List operators and methods\n",
    "- For loops\n",
    "  - Basic iteration\n",
    "  - `range` builtin\n",
    "- Booleans and conditionals\n",
    "- Functions\n",
    "  - Basic definition (`def`, docstring, `return`)\n",
    "  - Positional arguments\n",
    "  - Default and keyword arguments.\n",
    "  - Variable scope\n",
    "- Jupyter magic functions\n",
    "  - `%timeit`\n",
    "- Motivation for numpy arrays\n",
    "- Python scripts and modules"
   ]
  }
 ],
 "metadata": {
  "kernelspec": {
   "display_name": "Python 3",
   "language": "python",
   "name": "python3"
  }
 },
 "nbformat": 4,
 "nbformat_minor": 5
}
