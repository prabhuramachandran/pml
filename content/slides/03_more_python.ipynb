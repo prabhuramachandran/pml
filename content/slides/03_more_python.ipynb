{
 "cells": [
  {
   "cell_type": "markdown",
   "id": "057e6d13",
   "metadata": {},
   "source": [
    "\n",
    "# More Python and plotting\n",
    "\n",
    "Let us now look at plotting data points that are not generated from\n",
    "analytical functions but may be from an experiment or measurement.\n",
    "\n",
    "We first start with the standard imports."
   ]
  },
  {
   "cell_type": "markdown",
   "id": "9ff1e9c9",
   "metadata": {},
   "source": [
    "\n",
    "## Preliminaries\n",
    "\n",
    "\n",
    "1. Thanks for the feedback!\n",
    "2. Some of you are concerned about the pace of the course.\n",
    "3. Textbooks/reading material etc.\n",
    "\n",
    "   1. You can go through the [Python tutorial](https://docs.python.org/3/tutorial/index.html)\n",
    "   2. Then go through the [Python Data Science Handbook](https://jakevdp.github.io/PythonDataScienceHandbook/)\n",
    "\n",
    "\n",
    "First poll to check your typing speed!\n",
    "\n",
    "\n",
    "We first start with the standard imports."
   ]
  },
  {
   "cell_type": "code",
   "execution_count": null,
   "id": "5f9d0fa7",
   "metadata": {},
   "outputs": [],
   "source": [
    "import numpy as np\n",
    "import matplotlib.pyplot as plt"
   ]
  },
  {
   "cell_type": "markdown",
   "id": "d49fe0bb",
   "metadata": {},
   "source": [
    "\n",
    "Now consider the following data points that we want to plot for a\n",
    "measurement of some vehicle versus time.\n",
    "\n",
    "| Time     | 0.0 | 1.0 | 2.0  | 3.0  |\n",
    "|----------|-----|-----|------|------|\n",
    "| Distance | 5.0 | 9.0 | 13.0 | 17.0 |\n",
    "\n",
    "How do we plot it?  Try the following:"
   ]
  },
  {
   "cell_type": "code",
   "execution_count": null,
   "id": "e5c853ad",
   "metadata": {
    "lines_to_next_cell": 2
   },
   "outputs": [],
   "source": [
    "time = [0.0, 1.0, 2, 3]\n",
    "distance = [5.0, 9.0, 13, 17]\n",
    "plt.plot(time, distance)\n",
    "plt.xlabel('time')\n",
    "plt.ylabel('distance');"
   ]
  },
  {
   "cell_type": "markdown",
   "id": "6232763a",
   "metadata": {},
   "source": [
    "What if we didn't want the lines but want to see just the points?\n",
    "\n",
    "You should have already seen this in the last class material!"
   ]
  },
  {
   "cell_type": "code",
   "execution_count": null,
   "id": "df994c13",
   "metadata": {},
   "outputs": [],
   "source": [
    "plt.plot(time, distance, 'o');"
   ]
  },
  {
   "cell_type": "code",
   "execution_count": null,
   "id": "ccd074f3",
   "metadata": {},
   "outputs": [],
   "source": [
    "# This uses a dashed line.\n",
    "plt.plot(time, distance, '--');"
   ]
  },
  {
   "cell_type": "markdown",
   "id": "9b0dae81",
   "metadata": {},
   "source": [
    "So the variable `time` and `distance` you see here is what is called a Python `list`."
   ]
  },
  {
   "cell_type": "code",
   "execution_count": null,
   "id": "c971d2ef",
   "metadata": {},
   "outputs": [],
   "source": [
    "print(type(time))\n",
    "type(distance)"
   ]
  },
  {
   "cell_type": "markdown",
   "id": "ce5e5742",
   "metadata": {},
   "source": [
    "\n",
    "Lists are a powerful builtin Python data type. Let us learn a bit more about\n",
    "them.\n",
    "\n",
    "### Initialization and access"
   ]
  },
  {
   "cell_type": "code",
   "execution_count": null,
   "id": "48ab2c48",
   "metadata": {},
   "outputs": [],
   "source": [
    "# An empty list\n",
    "e = []\n",
    "\n",
    "# A non-empty list\n",
    "p = [2, 3, 5, 7]"
   ]
  },
  {
   "cell_type": "code",
   "execution_count": null,
   "id": "ecc51825",
   "metadata": {},
   "outputs": [],
   "source": [
    "type(p)"
   ]
  },
  {
   "cell_type": "code",
   "execution_count": null,
   "id": "c64277b0",
   "metadata": {},
   "outputs": [],
   "source": [
    "# Indexing starts at 0\n",
    "p[0]"
   ]
  },
  {
   "cell_type": "code",
   "execution_count": null,
   "id": "4543b0a2",
   "metadata": {},
   "outputs": [],
   "source": [
    "p[1]"
   ]
  },
  {
   "cell_type": "code",
   "execution_count": null,
   "id": "07ad1f51",
   "metadata": {},
   "outputs": [],
   "source": [
    "p[0] + p[1] + p[-1]"
   ]
  },
  {
   "cell_type": "markdown",
   "id": "9bf955aa",
   "metadata": {
    "lines_to_next_cell": 0
   },
   "source": [
    "\n",
    "### List Slicing\n",
    "\n",
    "Slicing always produces a list. The general syntax is:\n",
    "\n",
    "`list[initial:final:step]`\n",
    "\n",
    "initial/final are indices and the `final` is not included\n",
    "\n",
    "Negative indices start from the end (-1 is the last element).\n",
    "\n",
    "Examples make it easier."
   ]
  },
  {
   "cell_type": "code",
   "execution_count": null,
   "id": "f70f7018",
   "metadata": {},
   "outputs": [],
   "source": [
    "p[1:3]"
   ]
  },
  {
   "cell_type": "code",
   "execution_count": null,
   "id": "c515a7fd",
   "metadata": {},
   "outputs": [],
   "source": [
    "p[0:-1]"
   ]
  },
  {
   "cell_type": "code",
   "execution_count": null,
   "id": "797ff16c-c7a0-4d22-9ccf-2c4d89215429",
   "metadata": {},
   "outputs": [],
   "source": [
    "p[:2]"
   ]
  },
  {
   "cell_type": "code",
   "execution_count": null,
   "id": "c0fed6e0",
   "metadata": {},
   "outputs": [],
   "source": [
    "p[1:]"
   ]
  },
  {
   "cell_type": "code",
   "execution_count": null,
   "id": "1ba6703f",
   "metadata": {},
   "outputs": [],
   "source": [
    "p[0:4:2]"
   ]
  },
  {
   "cell_type": "code",
   "execution_count": null,
   "id": "70634d97",
   "metadata": {},
   "outputs": [],
   "source": [
    "p[0::2]"
   ]
  },
  {
   "cell_type": "code",
   "execution_count": null,
   "id": "9608d22b",
   "metadata": {},
   "outputs": [],
   "source": [
    "p[::2]"
   ]
  },
  {
   "cell_type": "code",
   "execution_count": null,
   "id": "e95da785",
   "metadata": {},
   "outputs": [],
   "source": [
    "p[::3]"
   ]
  },
  {
   "cell_type": "code",
   "execution_count": null,
   "id": "2e002834",
   "metadata": {},
   "outputs": [],
   "source": [
    "p[::-1]"
   ]
  },
  {
   "cell_type": "markdown",
   "id": "6fa8d9bb",
   "metadata": {},
   "source": [
    "\n",
    "### Quick quiz\n",
    "\n",
    "What is the output of the following?"
   ]
  },
  {
   "cell_type": "code",
   "execution_count": null,
   "id": "f4a19b28",
   "metadata": {},
   "outputs": [],
   "source": [
    "p[1::2]"
   ]
  },
  {
   "cell_type": "code",
   "execution_count": null,
   "id": "c388b4d6",
   "metadata": {},
   "outputs": [],
   "source": [
    "p[1:-1:2]"
   ]
  },
  {
   "cell_type": "markdown",
   "id": "7a0b71e7",
   "metadata": {},
   "source": [
    "\n",
    "The builtin `len` function tells us the length of a list.\n"
   ]
  },
  {
   "cell_type": "code",
   "execution_count": null,
   "id": "7cc4ff90",
   "metadata": {},
   "outputs": [],
   "source": [
    "len(p)"
   ]
  },
  {
   "cell_type": "markdown",
   "id": "beeac33d",
   "metadata": {},
   "source": [
    "\n",
    "### List operations\n",
    "\n",
    "Lists also support other operations like addition and also have what are\n",
    "called **methods**.\n",
    "\n",
    "For example:"
   ]
  },
  {
   "cell_type": "code",
   "execution_count": null,
   "id": "6a433799",
   "metadata": {},
   "outputs": [],
   "source": [
    "b = [11, 13, 17]\n",
    "c = p + b\n",
    "c"
   ]
  },
  {
   "cell_type": "code",
   "execution_count": null,
   "id": "dfb1068b",
   "metadata": {},
   "outputs": [],
   "source": [
    "# Do you think this will work?\n",
    "b * 2"
   ]
  },
  {
   "cell_type": "code",
   "execution_count": null,
   "id": "c0283007",
   "metadata": {},
   "outputs": [],
   "source": [
    "# Do you expect that this will work?\n",
    "b * 2.5"
   ]
  },
  {
   "cell_type": "markdown",
   "id": "651e5242",
   "metadata": {},
   "source": [
    "\n",
    "- `+` and `*` here are \"operators\"\n",
    "\n",
    "Let us look at \"methods\" next."
   ]
  },
  {
   "cell_type": "code",
   "execution_count": null,
   "id": "2b86ca87",
   "metadata": {},
   "outputs": [],
   "source": [
    "p.append(11)\n",
    "p"
   ]
  },
  {
   "cell_type": "markdown",
   "id": "ae85ba2a",
   "metadata": {
    "lines_to_next_cell": 0
   },
   "source": [
    "Does `c` change now that `p` has a new element?\n",
    "\n"
   ]
  },
  {
   "cell_type": "code",
   "execution_count": null,
   "id": "f4e8e02c",
   "metadata": {},
   "outputs": [],
   "source": [
    "c"
   ]
  },
  {
   "cell_type": "markdown",
   "id": "d377bce7",
   "metadata": {},
   "source": [
    "\n",
    "- Note the use of `p.append`\n",
    "- `p` is a list **object**\n",
    "- `p.append` is called a **method**, it is a function that applies to the list\n",
    "- In this case the function appends a new value.\n",
    "\n",
    "### Quick exercise\n",
    "\n",
    "Read the documentation for the append method on your notebook."
   ]
  },
  {
   "cell_type": "code",
   "execution_count": null,
   "id": "099dda19",
   "metadata": {},
   "outputs": [],
   "source": [
    "p.append"
   ]
  },
  {
   "cell_type": "markdown",
   "id": "54a29f7b",
   "metadata": {},
   "source": [
    "\n",
    "- Also do `p.<TAB>` to find other list methods!\n",
    "- Note that lists need not only contain elements of a single type."
   ]
  },
  {
   "cell_type": "code",
   "execution_count": null,
   "id": "d661f6fe",
   "metadata": {},
   "outputs": [],
   "source": [
    "mixer = [1, 1.0, 'string', [1, 2, 3]]"
   ]
  },
  {
   "cell_type": "code",
   "execution_count": null,
   "id": "0f4391f1-0cbc-4b82-bf05-34b83df9429b",
   "metadata": {},
   "outputs": [],
   "source": [
    "type(mixer[1])"
   ]
  },
  {
   "cell_type": "markdown",
   "id": "0338e9cc",
   "metadata": {},
   "source": [
    "\n",
    "We now have a basic understanding of how we can use lists. Let us look at\n",
    "some \"real\" data.\n",
    "\n",
    "We look at a simple pendulum experiment:\n",
    "\n",
    "| L | 0.2 | 0.3  | 0.4  | 0.5  | 0.6  | 0.7  | 0.8  |\n",
    "|---|-----|------|------|------|------|------|------|\n",
    "| T | 0.9 | 1.19 | 1.30 | 1.47 | 1.58 | 1.77 | 1.83 |\n",
    "\n",
    "Let us do some analysis with this data. First put this into a list.\n",
    "\n",
    "For those of you who recall your basic physics, we expect that $L \\propto T^2$\n",
    "is a straight line."
   ]
  },
  {
   "cell_type": "code",
   "execution_count": null,
   "id": "888635ee",
   "metadata": {},
   "outputs": [],
   "source": [
    "L = [0.2, 0.3, 0.4, 0.5, 0.6, 0.7, 0.8]\n",
    "t = [0.90, 1.19, 1.30, 1.47, 1.58, 1.77, 1.83]"
   ]
  },
  {
   "cell_type": "code",
   "execution_count": null,
   "id": "9ffb0d7b",
   "metadata": {},
   "outputs": [],
   "source": [
    "# Making sure both have the same number of elements\n",
    "print(len(L), len(t))"
   ]
  },
  {
   "cell_type": "markdown",
   "id": "70966ac8",
   "metadata": {},
   "source": [
    "\n",
    "In order to plot this, we first need to get $t^2$ from the time values.\n",
    "Using `t*t` will not work, let us try"
   ]
  },
  {
   "cell_type": "code",
   "execution_count": null,
   "id": "7dd455e1",
   "metadata": {},
   "outputs": [],
   "source": [
    "t*t"
   ]
  },
  {
   "cell_type": "markdown",
   "id": "534a061b",
   "metadata": {
    "lines_to_next_cell": 0
   },
   "source": [
    "\n",
    "We can use a `for` loop to do this.\n",
    "\n",
    "Here is a simple example"
   ]
  },
  {
   "cell_type": "code",
   "execution_count": null,
   "id": "2bd31d36",
   "metadata": {},
   "outputs": [],
   "source": [
    "for time in t:\n",
    "    print(time*time)"
   ]
  },
  {
   "cell_type": "code",
   "execution_count": null,
   "id": "03370337",
   "metadata": {},
   "outputs": [],
   "source": [
    "# Here is a longer example which illustrates a bit more.\n",
    "# Run this and then we will walk through the lines of code.\n",
    "for time in t:\n",
    "    tsq = time*time\n",
    "    print(time, tsq)\n",
    "print(\"Done\")"
   ]
  },
  {
   "cell_type": "markdown",
   "id": "8fe28000",
   "metadata": {},
   "source": [
    "\n",
    "- Recall that our goal is to be able to plot $L$ vs $T^2$.\n",
    "- How do we store these values so we can use plot?\n",
    "- We can create an empty list and add elements into the list.\n",
    "\n",
    "Here is an approach"
   ]
  },
  {
   "cell_type": "code",
   "execution_count": null,
   "id": "b7119e1b",
   "metadata": {},
   "outputs": [],
   "source": [
    "tsq = []\n",
    "for time in t:\n",
    "    tsq.append(time*time)"
   ]
  },
  {
   "cell_type": "code",
   "execution_count": null,
   "id": "bfadd79c",
   "metadata": {},
   "outputs": [],
   "source": [
    "# Now we can plot this!\n",
    "plt.plot(L, tsq, 'o')"
   ]
  },
  {
   "cell_type": "markdown",
   "id": "1f223730",
   "metadata": {
    "lines_to_next_cell": 0
   },
   "source": [
    "### Pop quiz\n",
    "\n",
    "What happens to if we now write this code:"
   ]
  },
  {
   "cell_type": "code",
   "execution_count": null,
   "id": "7828e5c0",
   "metadata": {},
   "outputs": [],
   "source": [
    "for time in t:\n",
    "    tsq.append(time*time)"
   ]
  },
  {
   "cell_type": "code",
   "execution_count": null,
   "id": "7b4769b5",
   "metadata": {},
   "outputs": [],
   "source": [
    "len(tsq)"
   ]
  },
  {
   "cell_type": "markdown",
   "id": "2db00bfd",
   "metadata": {},
   "source": [
    "Beware of things like this!\n",
    "\n",
    "## Exercise\n",
    "\n",
    "Consider the list `x = [1.0, 2.0, 3.0]`. Write code to compute twice of each value\n",
    "and store the result in a new list as variable `y`."
   ]
  },
  {
   "cell_type": "code",
   "execution_count": null,
   "id": "1a476f79",
   "metadata": {
    "lines_to_next_cell": 2
   },
   "outputs": [],
   "source": [
    "x = [1.0, 2.0, 3.0]\n",
    "y = []\n",
    "for junk in x:\n",
    "    y.append(junk*2)\n",
    "y\n"
   ]
  },
  {
   "cell_type": "markdown",
   "id": "1664207c",
   "metadata": {},
   "source": [
    "\n",
    "## A small digression: the `range` builtin\n",
    "\n",
    "- Let us say we do not have a list but want to iterate or repeat something\n",
    "- Let us say you want to iterate not over the elements but over the indices\n",
    "  of the list/array?\n",
    "\n",
    "Solving these things is much easier with the introduction of the `range`\n",
    "builtin function. Try this:"
   ]
  },
  {
   "cell_type": "code",
   "execution_count": null,
   "id": "1ad2c408",
   "metadata": {},
   "outputs": [],
   "source": [
    "for i in range(4):\n",
    "    print(i)"
   ]
  },
  {
   "cell_type": "code",
   "execution_count": null,
   "id": "ae598be7",
   "metadata": {},
   "outputs": [],
   "source": [
    "for i in range(4, 8):\n",
    "    print(i)"
   ]
  },
  {
   "cell_type": "code",
   "execution_count": null,
   "id": "631c499c",
   "metadata": {},
   "outputs": [],
   "source": [
    "for i in range(0, 8, 2):\n",
    "    print(i)"
   ]
  },
  {
   "cell_type": "markdown",
   "id": "3dea2624",
   "metadata": {
    "lines_to_next_cell": 0
   },
   "source": [
    "As you can see the syntax is either\n",
    "- `range(stop)`\n",
    "- or `range(start, stop, step)`\n",
    "- Note that the `stop` value is not included. (we saw this earlier too?)\n",
    "\n",
    "- Note that `range` does not actually create a list."
   ]
  },
  {
   "cell_type": "code",
   "execution_count": null,
   "id": "fa8ed5c4",
   "metadata": {},
   "outputs": [],
   "source": [
    "range(5)"
   ]
  },
  {
   "cell_type": "code",
   "execution_count": null,
   "id": "427cf723",
   "metadata": {},
   "outputs": [],
   "source": [
    "range(0, 5, 2)"
   ]
  },
  {
   "cell_type": "markdown",
   "id": "55c952e1",
   "metadata": {
    "lines_to_next_cell": 0
   },
   "source": [
    "If you want a list, you can use the `list` to create one.\n",
    "\n",
    "Note that `list` takes any **sequence** (like tuple, array, string etc.) and converts it into a list.\n"
   ]
  },
  {
   "cell_type": "code",
   "execution_count": null,
   "id": "3554a8d2",
   "metadata": {},
   "outputs": [],
   "source": [
    "list(range(5))"
   ]
  },
  {
   "cell_type": "markdown",
   "id": "c5b9931b",
   "metadata": {},
   "source": [
    "## Exercise\n",
    "\n",
    "- Create a list which has the square of the integers from 1-9.\n",
    "- Your code should produce [1, 4, 9, 16, 25, 36, 49, 64, 81]"
   ]
  },
  {
   "cell_type": "code",
   "execution_count": null,
   "id": "a5230777",
   "metadata": {},
   "outputs": [],
   "source": [
    "# Solution."
   ]
  },
  {
   "cell_type": "code",
   "execution_count": null,
   "id": "22321909-74e0-45ad-8ce6-3c20129e9491",
   "metadata": {},
   "outputs": [],
   "source": []
  },
  {
   "cell_type": "markdown",
   "id": "c280d8d7",
   "metadata": {},
   "source": [
    "## Exercise\n",
    "\n",
    "Given the list, `distance` that we had earlier, for each element of the list\n",
    "print its index and value."
   ]
  },
  {
   "cell_type": "code",
   "execution_count": null,
   "id": "4ffd634d",
   "metadata": {},
   "outputs": [],
   "source": [
    "# Solution.\n",
    "for i in range(len(distance)):\n",
    "    print(i, distance[i])"
   ]
  },
  {
   "cell_type": "code",
   "execution_count": null,
   "id": "373ce7db-92eb-4987-8455-e08f81247435",
   "metadata": {},
   "outputs": [],
   "source": [
    "for i in distance:\n",
    "    print(i, distance)"
   ]
  },
  {
   "cell_type": "markdown",
   "id": "c58e21b8",
   "metadata": {},
   "source": [
    "\n",
    "## Another digression: Quick introduction to booleans and conditionals\n",
    "\n",
    "Conditionals are very easy to write in Python.\n",
    "\n",
    "As usual we will look at examples to learn this also. :)"
   ]
  },
  {
   "cell_type": "code",
   "execution_count": null,
   "id": "2636c149",
   "metadata": {},
   "outputs": [],
   "source": [
    "v = -21\n",
    "v < 0"
   ]
  },
  {
   "cell_type": "code",
   "execution_count": null,
   "id": "d2545fa2",
   "metadata": {},
   "outputs": [],
   "source": [
    "v > 0"
   ]
  },
  {
   "cell_type": "markdown",
   "id": "f2fea224",
   "metadata": {},
   "source": [
    "There is are builtin `True` and `False` values"
   ]
  },
  {
   "cell_type": "code",
   "execution_count": null,
   "id": "a00477a1",
   "metadata": {},
   "outputs": [],
   "source": [
    "# Equality requires 2 equal-to signs, recall that one `=` is for variable\n",
    "# assignement.\n",
    "v == 0"
   ]
  },
  {
   "cell_type": "code",
   "execution_count": null,
   "id": "8777e59d",
   "metadata": {},
   "outputs": [],
   "source": [
    "# Not equal to.\n",
    "v != 0"
   ]
  },
  {
   "cell_type": "code",
   "execution_count": null,
   "id": "0d4b1e86",
   "metadata": {},
   "outputs": [],
   "source": [
    "v >= 0"
   ]
  },
  {
   "cell_type": "code",
   "execution_count": null,
   "id": "8060971a",
   "metadata": {},
   "outputs": [],
   "source": [
    "v <= -21"
   ]
  },
  {
   "cell_type": "markdown",
   "id": "87e01207",
   "metadata": {
    "lines_to_next_cell": 2
   },
   "source": [
    "You can combine the boolean expressions with `or`, `and` and `not`."
   ]
  },
  {
   "cell_type": "code",
   "execution_count": null,
   "id": "bbcbb842",
   "metadata": {},
   "outputs": [],
   "source": [
    "y = 1\n",
    "\n",
    "# Always good to use brackets so the intent is very clear and easy to read.\n",
    "(v > 0) or (y > 0)"
   ]
  },
  {
   "cell_type": "code",
   "execution_count": null,
   "id": "62147e26",
   "metadata": {},
   "outputs": [],
   "source": [
    "(v > 0) and (y > 0)"
   ]
  },
  {
   "cell_type": "code",
   "execution_count": null,
   "id": "1ee353f8",
   "metadata": {},
   "outputs": [],
   "source": [
    "not (v >= 0)"
   ]
  },
  {
   "cell_type": "code",
   "execution_count": null,
   "id": "8868ed25",
   "metadata": {},
   "outputs": [],
   "source": [
    "not True"
   ]
  },
  {
   "cell_type": "code",
   "execution_count": null,
   "id": "f38117f3",
   "metadata": {},
   "outputs": [],
   "source": [
    "(v > 0) and not (y > 0)"
   ]
  },
  {
   "cell_type": "markdown",
   "id": "41f887d9",
   "metadata": {
    "lines_to_next_cell": 0
   },
   "source": [
    "\n",
    "We can now quickly look at conditionals which are super easy to write in\n",
    "Python.\n",
    "\n",
    "Here we go again with more examples:"
   ]
  },
  {
   "cell_type": "code",
   "execution_count": null,
   "id": "3d0cc633",
   "metadata": {},
   "outputs": [],
   "source": [
    "v = -21\n",
    "if v < 0:\n",
    "    print(\"Negative value\")\n",
    "elif v > 0:\n",
    "    print(\"Positive\")\n",
    "else:\n",
    "    print(\"ZERO!\")"
   ]
  },
  {
   "cell_type": "markdown",
   "id": "1c1b704d",
   "metadata": {},
   "source": [
    "\n",
    "Note that the `elif` and `else` are optional"
   ]
  },
  {
   "cell_type": "code",
   "execution_count": null,
   "id": "874c8b61",
   "metadata": {},
   "outputs": [],
   "source": [
    "temp = -100\n",
    "if temp < 0:\n",
    "    print(\"OMG! Your calculation is garbage! Negative temperature makes no sense\")"
   ]
  },
  {
   "cell_type": "markdown",
   "id": "49f41740",
   "metadata": {
    "lines_to_next_cell": 0
   },
   "source": [
    "\n",
    "## Exercise\n",
    "\n",
    "- Print the first 10 odd numbers.\n",
    "- Use a conditional or I will increase 10 to 1000!\n",
    "- Generate a list of values with the square of the first 10 odd numbers.\n"
   ]
  },
  {
   "cell_type": "code",
   "execution_count": null,
   "id": "f9af1e85",
   "metadata": {},
   "outputs": [],
   "source": [
    "# Hint\n",
    "v = 22\n",
    "# % is the modulo operator\n",
    "v % 2"
   ]
  },
  {
   "cell_type": "code",
   "execution_count": null,
   "id": "5075b007",
   "metadata": {},
   "outputs": [],
   "source": [
    "21 % 2"
   ]
  },
  {
   "cell_type": "code",
   "execution_count": null,
   "id": "1a3dfe02",
   "metadata": {
    "lines_to_next_cell": 2
   },
   "outputs": [],
   "source": [
    "# Solution\n",
    "odd_sq = []\n",
    "for i in range(1, 20):\n",
    "    if i % 2 == 1:\n",
    "        odd_sq.append(i*i)\n",
    "odd_sq"
   ]
  },
  {
   "cell_type": "markdown",
   "id": "eab7f8c2",
   "metadata": {},
   "source": [
    "\n",
    "## Getting back to our pendulum problem!\n",
    "\n",
    "Let us get back to our original data. We had the length, `L` and time period\n",
    "`t`.  We wrote some code to get the square of the time values.\n",
    "\n",
    "Now let us say we want to find the mean and standard deviation of these list\n",
    "of values.\n",
    "\n",
    "## Exercise\n",
    "\n",
    "- Find the mean of the `L` values in the earlier array of 7 values."
   ]
  },
  {
   "cell_type": "code",
   "execution_count": null,
   "id": "0e86bf4d",
   "metadata": {},
   "outputs": [],
   "source": [
    "# Solution"
   ]
  },
  {
   "cell_type": "markdown",
   "id": "e7124983",
   "metadata": {},
   "source": [
    "\n",
    "- Now find the mean of the `t` values\n",
    "\n",
    "It is a bad idea to cut/copy code. So repeating the same code many times is\n",
    "a very bad practice and you should actively watch yourself on this count.\n",
    "\n",
    "- So how do we reduce this code copying and duplication?\n",
    "- The answer is **abstraction** in the form of **functions**\n",
    "\n",
    "Let us first write a simple function to square all elements of a list."
   ]
  },
  {
   "cell_type": "code",
   "execution_count": null,
   "id": "ea41c792",
   "metadata": {},
   "outputs": [],
   "source": [
    "def sqr(lst):\n",
    "    \"\"\"Returns a list containing the square of the values of the given list.\"\"\"\n",
    "    result = []\n",
    "    for x in lst:\n",
    "        result.append(x*x)\n",
    "    return result"
   ]
  },
  {
   "cell_type": "markdown",
   "id": "f2c9b56f",
   "metadata": {},
   "source": [
    "Carefully note the syntax of the function\n",
    "- `def` is a keyword, notice the `:` at the end of the line\n",
    "- The triple quoted string below the `def` line is the \"docstring\" or documentation.\n",
    "- The argument `lst` is a new function specific variable name\n",
    "- The (optional) `return` keyword returns whatever value is given"
   ]
  },
  {
   "cell_type": "code",
   "execution_count": null,
   "id": "fb5ba953",
   "metadata": {},
   "outputs": [],
   "source": [
    "tsq = sqr(t)\n",
    "lsq = sqr(L)\n",
    "# See the documentation of the sqr function"
   ]
  },
  {
   "cell_type": "markdown",
   "id": "5e5478d2",
   "metadata": {
    "lines_to_next_cell": 2
   },
   "source": [
    "### Variable scope\n",
    "\n",
    "- Variables inside function block are not available outside.\n",
    "- If a name is not found in the function, Python looks outside the function.\n",
    "- Objects passed into a function are passed by reference. **They are not copied!**"
   ]
  },
  {
   "cell_type": "markdown",
   "id": "e4394027",
   "metadata": {
    "lines_to_next_cell": 0
   },
   "source": [
    "## Exercise\n",
    "\n",
    "Write a function called mean which takes a list and returns the mean of the values."
   ]
  },
  {
   "cell_type": "code",
   "execution_count": null,
   "id": "a4055254",
   "metadata": {},
   "outputs": [],
   "source": [
    "# Solution\n",
    "def mean(lst):\n",
    "    pass"
   ]
  },
  {
   "cell_type": "markdown",
   "id": "20347ab1",
   "metadata": {
    "lines_to_next_cell": 0
   },
   "source": [
    "## Exercise\n",
    "\n",
    "Write a function called sdev which takes a list and returns the standard\n",
    "deviation of the values."
   ]
  },
  {
   "cell_type": "code",
   "execution_count": null,
   "id": "7132edce",
   "metadata": {
    "lines_to_next_cell": 2
   },
   "outputs": [],
   "source": [
    "# Solution"
   ]
  },
  {
   "cell_type": "markdown",
   "id": "6a6c89c5",
   "metadata": {},
   "source": [
    "### Function arguments\n",
    "\n",
    "- Functions can take any number of arguments including none\n",
    "- You can have default arguments and keyword arguments.\n",
    "- Keyword arguments always come after positional arguments."
   ]
  },
  {
   "cell_type": "code",
   "execution_count": null,
   "id": "f0251d95",
   "metadata": {
    "lines_to_next_cell": 1
   },
   "outputs": [],
   "source": [
    "def silly(x):\n",
    "    print(x)\n",
    "    # Look ma, no return!"
   ]
  },
  {
   "cell_type": "code",
   "execution_count": null,
   "id": "0e41f068",
   "metadata": {
    "lines_to_next_cell": 1
   },
   "outputs": [],
   "source": [
    "silly(42)"
   ]
  },
  {
   "cell_type": "code",
   "execution_count": null,
   "id": "c180badd",
   "metadata": {
    "lines_to_next_cell": 1
   },
   "outputs": [],
   "source": [
    "def hello():\n",
    "    # Look ma, no arguments!\n",
    "    print(\"hello world!\")"
   ]
  },
  {
   "cell_type": "code",
   "execution_count": null,
   "id": "0dad3e76",
   "metadata": {
    "lines_to_next_cell": 1
   },
   "outputs": [],
   "source": [
    "def axpb(a, x, b):\n",
    "    return a*x + b\n",
    "\n",
    "axpb(2.5, 12, 1.65)"
   ]
  },
  {
   "cell_type": "code",
   "execution_count": null,
   "id": "455f6b43",
   "metadata": {},
   "outputs": [],
   "source": [
    "def one_two(x, y):\n",
    "    return x+1, y+2\n",
    "\n",
    "one_two(10, 20)"
   ]
  },
  {
   "cell_type": "code",
   "execution_count": null,
   "id": "55915d4d",
   "metadata": {
    "lines_to_next_cell": 1
   },
   "outputs": [],
   "source": [
    "u, v = one_two(10, 20)"
   ]
  },
  {
   "cell_type": "code",
   "execution_count": null,
   "id": "fc81a85e",
   "metadata": {
    "lines_to_next_cell": 0,
    "title": "[markdown"
   },
   "outputs": [],
   "source": [
    "# ### Default and keyword arguments\n",
    "#"
   ]
  },
  {
   "cell_type": "code",
   "execution_count": null,
   "id": "842c5d50",
   "metadata": {
    "lines_to_next_cell": 1
   },
   "outputs": [],
   "source": [
    "def greet(name, hi='Hello', repeat=1):\n",
    "    for i in range(repeat):\n",
    "        print(hi, name)"
   ]
  },
  {
   "cell_type": "code",
   "execution_count": null,
   "id": "c9dacb0c",
   "metadata": {},
   "outputs": [],
   "source": [
    "greet(\"Vinay\")"
   ]
  },
  {
   "cell_type": "code",
   "execution_count": null,
   "id": "04805b61",
   "metadata": {
    "lines_to_next_cell": 0
   },
   "outputs": [],
   "source": [
    "greet(\"Vinay\", \"Namaste\")"
   ]
  },
  {
   "cell_type": "code",
   "execution_count": null,
   "id": "f629ef4e",
   "metadata": {},
   "outputs": [],
   "source": [
    "greet(\"Vinay\", \"Namaste\", 2)"
   ]
  },
  {
   "cell_type": "code",
   "execution_count": null,
   "id": "f1b3f0ee",
   "metadata": {
    "lines_to_next_cell": 0
   },
   "outputs": [],
   "source": [
    "greet(\"Vinay\", hi=\"Namaste\")"
   ]
  },
  {
   "cell_type": "code",
   "execution_count": null,
   "id": "79c48ecb",
   "metadata": {
    "lines_to_next_cell": 0
   },
   "outputs": [],
   "source": [
    "greet(\"Vinay\", repeat=3)"
   ]
  },
  {
   "cell_type": "code",
   "execution_count": null,
   "id": "84699b58",
   "metadata": {
    "lines_to_next_cell": 0
   },
   "outputs": [],
   "source": [
    "greet(\"Vinay\", hi=\"Namaste\", repeat=3)"
   ]
  },
  {
   "cell_type": "code",
   "execution_count": null,
   "id": "5883961e",
   "metadata": {},
   "outputs": [],
   "source": [
    "greet(\"Vinay\", hi=\"Namaste\", repeat=3)\n",
    "\n",
    "# %%# %%\n",
    "# Can also do this, but then you have to name the first argument.\n",
    "greet(hi=\"Namaste\", name='X!')"
   ]
  },
  {
   "cell_type": "markdown",
   "id": "e9d23fde",
   "metadata": {
    "lines_to_next_cell": 0
   },
   "source": [
    "\n",
    "## Exercise\n",
    "\n",
    "Write a function to find the mean squared error.\n"
   ]
  },
  {
   "cell_type": "code",
   "execution_count": null,
   "id": "bee43017",
   "metadata": {},
   "outputs": [],
   "source": [
    "# Solution"
   ]
  },
  {
   "cell_type": "code",
   "execution_count": null,
   "id": "c0d259d8",
   "metadata": {},
   "outputs": [],
   "source": [
    "# My solution\n",
    "def mse(x, y):\n",
    "    diff = []\n",
    "    for i in range(len(x)):\n",
    "        diff.append(y[i] - x[i])\n",
    "    sdiff = sqr(diff)\n",
    "    return mean(sdiff)"
   ]
  },
  {
   "cell_type": "markdown",
   "id": "c655beec",
   "metadata": {
    "lines_to_next_cell": 0
   },
   "source": [
    "### Advanced\n",
    "- The zip builtin is very convenient for things like the above.\n",
    "\n",
    "Don't worry if you find this hard to follow."
   ]
  },
  {
   "cell_type": "code",
   "execution_count": null,
   "id": "bcc0fd32",
   "metadata": {},
   "outputs": [],
   "source": [
    "def mse(x, y):\n",
    "    diff = []\n",
    "    for u, v in zip(x, y):\n",
    "        diff.append(u - v)\n",
    "    sdiff = sqr(diff)\n",
    "    return mean(sdiff)\n",
    "\n"
   ]
  },
  {
   "cell_type": "markdown",
   "id": "a097315e",
   "metadata": {},
   "source": [
    "## Timing a function in Jupyter\n",
    "\n",
    "- Jupyter provides convenient magic functions. These start with `%`\n",
    "- These are not available in Python but only in Jupyter/IPython consoles\n",
    "\n",
    "An example."
   ]
  },
  {
   "cell_type": "code",
   "execution_count": null,
   "id": "3a27b2a6",
   "metadata": {
    "lines_to_next_cell": 2
   },
   "outputs": [],
   "source": [
    "n = 2**20\n",
    "big = list(range(n))\n",
    "%timeit sqr(big)"
   ]
  },
  {
   "cell_type": "markdown",
   "id": "32315f6d",
   "metadata": {
    "lines_to_next_cell": 0
   },
   "source": [
    "## Enter Numpy!\n"
   ]
  },
  {
   "cell_type": "code",
   "execution_count": null,
   "id": "f6cd438c",
   "metadata": {},
   "outputs": [],
   "source": [
    "big_np = np.array(big)\n",
    "%timeit big_np*big_np"
   ]
  },
  {
   "cell_type": "markdown",
   "id": "d092a698",
   "metadata": {},
   "source": [
    "Other magic commands\n",
    "- `%time`: one single measurement\n",
    "- `%cd`\n",
    "- `%run`\n",
    "etc."
   ]
  },
  {
   "cell_type": "markdown",
   "id": "0c749159",
   "metadata": {},
   "source": [
    "\n",
    "- Numpy is very fast.\n",
    "- It is also very convenient as we didn't need to write `sqr` and can\n",
    "  directly multiply arrays.\n",
    "- Lists are more general purpose but not meant for direct numerics"
   ]
  },
  {
   "cell_type": "markdown",
   "id": "2f09a472",
   "metadata": {
    "lines_to_next_cell": 2
   },
   "source": [
    "\n",
    "## Python scripts and modules\n",
    "\n",
    "To create a Python script:\n",
    "1. Create a text file with a `.py` extension\n",
    "2. Put your functions and code inside.\n",
    "3. You can then execute the file on a Python session.\n",
    "\n",
    "Example script demo."
   ]
  },
  {
   "cell_type": "markdown",
   "id": "b1b71603",
   "metadata": {},
   "source": [
    "### Python modules\n",
    "\n",
    "- You can import a script in the same directory.\n",
    "- However there are constraints on the name of the file.\n",
    "- The name of the file should be a valid variable name\n",
    "- Can `import` this in another module."
   ]
  },
  {
   "cell_type": "markdown",
   "id": "adb5e72b",
   "metadata": {},
   "source": [
    "### Valid Python module (or variable) names\n",
    "\n",
    "- Should start with a letter\n",
    "- Can use _ (underscore) and numbers\n",
    "- No . allowed\n",
    "- No spaces or special characters\n"
   ]
  },
  {
   "cell_type": "markdown",
   "id": "4fd508b3",
   "metadata": {},
   "source": [
    "### An example\n",
    "\n",
    "```{python}\n",
    "# script.py\n",
    "def sqr(lst):\n",
    "   ...\n",
    "def mse(x, y):\n",
    "   ...\n",
    "```\n",
    "\n",
    "Now in another script we can do:\n",
    "\n",
    "```{python}\n",
    "# other.py\n",
    "import script\n",
    "\n",
    "x = [1, 2, 3]\n",
    "print(script.sqr(x))\n",
    "```"
   ]
  },
  {
   "cell_type": "markdown",
   "id": "39c9e4f4",
   "metadata": {
    "lines_to_next_cell": 2
   },
   "source": [
    "### Other forms of import\n",
    "\n",
    "- `import script`\n",
    "- `import script as S`\n",
    "- `from script import sqr`\n",
    "- `from script import sqr, mse`\n"
   ]
  },
  {
   "cell_type": "markdown",
   "id": "580a2b62",
   "metadata": {
    "lines_to_next_cell": 2
   },
   "source": [
    "### Quiz\n",
    "\n",
    "Which of these is a valid script?\n",
    "\n",
    "1. 1_script.py\n",
    "2. script_1.py\n",
    "3. one11.py\n",
    "4. one script.py\n",
    "5. one,script;xxx.py\n",
    "6. one.two.py"
   ]
  },
  {
   "cell_type": "markdown",
   "id": "bbd75e9d",
   "metadata": {},
   "source": [
    "### A note for scripts that you import\n",
    "\n",
    "- Importing from any script executes the whole code\n",
    "- Need to guard against this\n",
    "- The `__name__` special variable (double underscores are called \"dunder\")\n",
    "   - The value of this is `'__main__'` when run as a script\n",
    "   - The value is the name of the script when imported\n",
    "- So use an `if __name__ == '__main__':` guard block\n",
    "\n",
    "Let us look at a quick demo.\n",
    "\n"
   ]
  },
  {
   "cell_type": "markdown",
   "id": "fc75e0f5",
   "metadata": {
    "lines_to_next_cell": 2
   },
   "source": [
    "### Homework exercise\n",
    "\n",
    "- Make a Python script from your earlier plot from last class.\n",
    "- Make it so it can be executed from your installed anaconda shell."
   ]
  },
  {
   "cell_type": "markdown",
   "id": "fa62514d",
   "metadata": {},
   "source": [
    "## Summary\n",
    "We learned about the following:\n",
    "\n",
    "- Lists\n",
    "  - Creating lists\n",
    "  - Indexing, slicing\n",
    "  - `len` builtin\n",
    "  - List operators and methods\n",
    "- For loops\n",
    "  - Basic iteration\n",
    "  - `range` builtin\n",
    "- Booleans and conditionals\n",
    "- Functions\n",
    "  - Basic definition (`def`, docstring, `return`)\n",
    "  - Positional arguments\n",
    "  - Default and keyword arguments.\n",
    "  - Variable scope\n",
    "- Jupyter magic functions\n",
    "  - `%timeit`\n",
    "- Motivation for numpy arrays\n",
    "- Python scripts and modules"
   ]
  }
 ],
 "metadata": {
  "kernelspec": {
   "display_name": "Python 3 (ipykernel)",
   "language": "python",
   "name": "python3"
  },
  "language_info": {
   "codemirror_mode": {
    "name": "ipython",
    "version": 3
   },
   "file_extension": ".py",
   "mimetype": "text/x-python",
   "name": "python",
   "nbconvert_exporter": "python",
   "pygments_lexer": "ipython3",
   "version": "3.11.11"
  }
 },
 "nbformat": 4,
 "nbformat_minor": 5
}
