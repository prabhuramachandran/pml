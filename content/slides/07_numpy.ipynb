{
 "cells": [
  {
   "cell_type": "markdown",
   "id": "594d7f86",
   "metadata": {
    "lines_to_next_cell": 2,
    "slideshow": {
     "slide_type": "slide"
    }
   },
   "source": [
    "## NumPy arrays\n",
    "\n",
    "- Quick look at numpy arrays\n",
    "  - Basics\n",
    "  - Slicing\n",
    "  - Array creation\n",
    "- Multi-dimensional arrays\n",
    "  - Basics\n",
    "  - Matrices\n",
    "  - Image processing\n",
    "  - Solution of linear systems"
   ]
  },
  {
   "cell_type": "markdown",
   "id": "cc42a51f",
   "metadata": {
    "slideshow": {
     "slide_type": "slide"
    }
   },
   "source": [
    "## The `numpy` module\n",
    "\n",
    "* Efficient, powerful array type\n",
    "* Abstracts out standard operations on arrays\n",
    "* Convenience functions\n",
    "* Fundamental and important\n",
    "  * The basis for all scientific/numerical computing\n",
    "  * Similar API for pytorch, tensorflow, cupy etc."
   ]
  },
  {
   "cell_type": "code",
   "execution_count": null,
   "id": "5fdbb61b",
   "metadata": {},
   "outputs": [],
   "source": [
    "import matplotlib.pyplot as plt\n",
    "import numpy as np"
   ]
  },
  {
   "cell_type": "markdown",
   "id": "8715cedc",
   "metadata": {
    "slideshow": {
     "slide_type": "slide"
    }
   },
   "source": [
    "### `numpy` arrays\n",
    "\n",
    "* Fixed size (`arr.size`)\n",
    "* Contiguous block of memory\n",
    "* Same type (`arr.dtype`)\n",
    "* Arbitrary dimensionality: `arr.shape`\n",
    "* `shape` : extent (size) along each dimension\n",
    "* `arr.itemsize` : number of bytes per element\n",
    "* Note:`shape`  can change so long as the`size` is constant\n",
    "* Indices start from 0\n",
    "* Negative indices work like lists\n",
    "* Similar indexing/slicing as lists."
   ]
  },
  {
   "cell_type": "code",
   "execution_count": null,
   "id": "1182d04a",
   "metadata": {
    "slideshow": {
     "slide_type": "-"
    }
   },
   "outputs": [],
   "source": [
    "a = np.array([1, 2, 3, 4])\n",
    "b = np.array([2, 3, 4, 5])\n",
    "print(a[0], a[-1])\n",
    "print(\"b\", b[0], b[-1])"
   ]
  },
  {
   "cell_type": "code",
   "execution_count": null,
   "id": "00526601",
   "metadata": {},
   "outputs": [],
   "source": [
    "a[0] = -1\n",
    "a[0] = 1"
   ]
  },
  {
   "cell_type": "markdown",
   "id": "5138151c",
   "metadata": {
    "slideshow": {
     "slide_type": "slide"
    }
   },
   "source": [
    "### Simple operations\n",
    "\n",
    "Basic NumPy operations are typically elementwise"
   ]
  },
  {
   "cell_type": "code",
   "execution_count": null,
   "id": "7427a5ce",
   "metadata": {
    "slideshow": {
     "slide_type": "-"
    }
   },
   "outputs": [],
   "source": [
    "a + b"
   ]
  },
  {
   "cell_type": "code",
   "execution_count": null,
   "id": "9586f071",
   "metadata": {
    "4slideshow": {
     "slide_type": "-"
    }
   },
   "outputs": [],
   "source": [
    "a*b"
   ]
  },
  {
   "cell_type": "code",
   "execution_count": null,
   "id": "081cacb2",
   "metadata": {
    "slideshow": {
     "slide_type": "-"
    }
   },
   "outputs": [],
   "source": [
    "a/b"
   ]
  },
  {
   "cell_type": "code",
   "execution_count": null,
   "id": "5466f1e8",
   "metadata": {
    "lines_to_next_cell": 2,
    "slideshow": {
     "slide_type": "-"
    }
   },
   "outputs": [],
   "source": [
    "a//b"
   ]
  },
  {
   "cell_type": "markdown",
   "id": "64cd6e8f",
   "metadata": {
    "lines_to_next_cell": 0,
    "slideshow": {
     "slide_type": "slide"
    }
   },
   "source": [
    "### Examples\n",
    "$\\pi$  and `e`  are defined.\n"
   ]
  },
  {
   "cell_type": "code",
   "execution_count": null,
   "id": "866a672f",
   "metadata": {
    "slideshow": {
     "slide_type": "-"
    }
   },
   "outputs": [],
   "source": [
    "x = np.linspace(0.0, 10.0, 200)\n",
    "x *= 2*np.pi/10\n",
    "# apply functions to array.\n",
    "y = np.sin(x)\n",
    "y = np.cos(x)"
   ]
  },
  {
   "cell_type": "code",
   "execution_count": null,
   "id": "f27ae48c",
   "metadata": {},
   "outputs": [],
   "source": [
    "# Setting the values is just like with lists.\n",
    "x[0] = -1\n",
    "print(x[0], x[-1])"
   ]
  },
  {
   "cell_type": "markdown",
   "id": "c6457a00",
   "metadata": {
    "slideshow": {
     "slide_type": "slide"
    }
   },
   "source": [
    "### `size, shape`  etc.\n"
   ]
  },
  {
   "cell_type": "code",
   "execution_count": null,
   "id": "3cd2e27a",
   "metadata": {
    "lines_to_next_cell": 2,
    "slideshow": {
     "slide_type": "-"
    }
   },
   "outputs": [],
   "source": [
    "x = np.array([1., 2, 3, 4])\n",
    "x.size"
   ]
  },
  {
   "cell_type": "code",
   "execution_count": null,
   "id": "030db07f",
   "metadata": {},
   "outputs": [],
   "source": [
    "x.dtype"
   ]
  },
  {
   "cell_type": "code",
   "execution_count": null,
   "id": "1e88df48",
   "metadata": {},
   "outputs": [],
   "source": [
    "x.shape"
   ]
  },
  {
   "cell_type": "code",
   "execution_count": null,
   "id": "1b89d929",
   "metadata": {},
   "outputs": [],
   "source": [
    "x.itemsize"
   ]
  },
  {
   "cell_type": "code",
   "execution_count": null,
   "id": "4475bc86",
   "metadata": {},
   "outputs": [],
   "source": [
    "x.nbytes"
   ]
  },
  {
   "cell_type": "markdown",
   "id": "cdd3c740",
   "metadata": {
    "slideshow": {
     "slide_type": "slide"
    }
   },
   "source": [
    "### Multi-dimensional arrays\n"
   ]
  },
  {
   "cell_type": "code",
   "execution_count": null,
   "id": "7757a7ff",
   "metadata": {
    "lines_to_next_cell": 2
   },
   "outputs": [],
   "source": [
    "a = np.array([[0, 1, 2, 3],\n",
    "              [10, 11, 12, 13]])\n",
    "a.shape  # (rows, columns)"
   ]
  },
  {
   "cell_type": "code",
   "execution_count": null,
   "id": "b8dc6e36",
   "metadata": {
    "lines_to_next_cell": 2,
    "slideshow": {
     "slide_type": "-"
    }
   },
   "outputs": [],
   "source": [
    "a[1, 3]"
   ]
  },
  {
   "cell_type": "code",
   "execution_count": null,
   "id": "adc57129",
   "metadata": {
    "slideshow": {
     "slide_type": "-"
    }
   },
   "outputs": [],
   "source": [
    "a[1, 3] = -1\n",
    "a[1]  # The second row"
   ]
  },
  {
   "cell_type": "code",
   "execution_count": null,
   "id": "6ed8e084",
   "metadata": {},
   "outputs": [],
   "source": [
    "a[1] = 0  # Entire row to zero.\n",
    "a"
   ]
  },
  {
   "cell_type": "markdown",
   "id": "450fd1fa",
   "metadata": {
    "slideshow": {
     "slide_type": "slide"
    }
   },
   "source": [
    "### Slicing arrays\n"
   ]
  },
  {
   "cell_type": "code",
   "execution_count": null,
   "id": "20b2d504",
   "metadata": {
    "slideshow": {
     "slide_type": "-"
    }
   },
   "outputs": [],
   "source": [
    "a = np.array([[1, 2, 3], [4, 5, 6],\n",
    "              [7, 8, 9]])\n",
    "a[0, 1:3]"
   ]
  },
  {
   "cell_type": "code",
   "execution_count": null,
   "id": "3f47053c",
   "metadata": {
    "slideshow": {
     "slide_type": "-"
    }
   },
   "outputs": [],
   "source": [
    "a[1:, 1:]"
   ]
  },
  {
   "cell_type": "code",
   "execution_count": null,
   "id": "e1a7bce6",
   "metadata": {},
   "outputs": [],
   "source": [
    "a[:, 2]"
   ]
  },
  {
   "cell_type": "markdown",
   "id": "f5da8905",
   "metadata": {
    "slideshow": {
     "slide_type": "slide"
    }
   },
   "source": [
    "### Slicing np.arrays ...\n"
   ]
  },
  {
   "cell_type": "code",
   "execution_count": null,
   "id": "2bac251b",
   "metadata": {
    "slideshow": {
     "slide_type": "-"
    }
   },
   "outputs": [],
   "source": [
    "a = np.array([[1, 2, 3], [4, 5, 6],\n",
    "              [7, 8, 9]])\n",
    "\n",
    "a[0::2, 0::2]  # Striding..."
   ]
  },
  {
   "cell_type": "markdown",
   "id": "0164abc9",
   "metadata": {
    "lines_to_next_cell": 0
   },
   "source": [
    "Slices refer to the same memory!"
   ]
  },
  {
   "cell_type": "code",
   "execution_count": null,
   "id": "5c48f663",
   "metadata": {},
   "outputs": [],
   "source": [
    "a[::2, ::2] = 0\n",
    "a"
   ]
  },
  {
   "cell_type": "code",
   "execution_count": null,
   "id": "1c52e13f",
   "metadata": {},
   "outputs": [],
   "source": [
    "# What if?\n",
    "t = a[::2, ::2]\n",
    "t = 1"
   ]
  },
  {
   "cell_type": "markdown",
   "id": "9b284656",
   "metadata": {
    "lines_to_next_cell": 0
   },
   "source": [
    "Beware of the above, if you want to set all the values use this:"
   ]
  },
  {
   "cell_type": "code",
   "execution_count": null,
   "id": "e6c74f63",
   "metadata": {},
   "outputs": [],
   "source": [
    "t = a[::2, ::2]\n",
    "t[:] = 1\n",
    "a"
   ]
  },
  {
   "cell_type": "markdown",
   "id": "d84b1e6f",
   "metadata": {
    "slideshow": {
     "slide_type": "slide"
    }
   },
   "source": [
    "### Array creation functions\n",
    "\n",
    "* `array(object)`\n",
    "* `linspace(start, stop, num=50)`\n",
    "* `ones(shape)`\n",
    "* `zeros((d1,...,dn))`\n",
    "* `empty((d1,...,dn))`\n",
    "* `identity(n)`\n",
    "* `ones_like(x)` ,`zeros_like(x)` ,`empty_like(x)`\n",
    "* `arange`\n",
    "* `fromfunction`\n",
    "* May pass an optional `dtype=`  keyword argument\n",
    "* For more dtypes see: `numpy.typecodes`"
   ]
  },
  {
   "cell_type": "markdown",
   "id": "852daae2",
   "metadata": {
    "slideshow": {
     "slide_type": "slide"
    }
   },
   "source": [
    "### Creation examples\n"
   ]
  },
  {
   "cell_type": "code",
   "execution_count": null,
   "id": "e1446b72",
   "metadata": {
    "slideshow": {
     "slide_type": "-"
    }
   },
   "outputs": [],
   "source": [
    "a = np.array([1, 2, 3], dtype=float)"
   ]
  },
  {
   "cell_type": "code",
   "execution_count": null,
   "id": "65d21281",
   "metadata": {
    "lines_to_next_cell": 2
   },
   "outputs": [],
   "source": [
    "np.ones_like(a)"
   ]
  },
  {
   "cell_type": "code",
   "execution_count": null,
   "id": "4900bb22",
   "metadata": {
    "slideshow": {
     "slide_type": "-"
    }
   },
   "outputs": [],
   "source": [
    "np.ones((2, 3))"
   ]
  },
  {
   "cell_type": "code",
   "execution_count": null,
   "id": "49b42f34",
   "metadata": {},
   "outputs": [],
   "source": [
    "np.identity(3)"
   ]
  },
  {
   "cell_type": "code",
   "execution_count": null,
   "id": "90286442",
   "metadata": {},
   "outputs": [],
   "source": [
    "np.fromfunction(lambda i, j: i+j+1, (3, 3))"
   ]
  },
  {
   "cell_type": "markdown",
   "id": "e5fe0dae",
   "metadata": {
    "slideshow": {
     "slide_type": "slide"
    }
   },
   "source": [
    "### Array math\n",
    "\n",
    "* Basic\\alert elementwise math (given two arrays`a, b` ):\n",
    "\n",
    "* `a + b`  $\\rightarrow$ `add(a, b)`\n",
    "* `a - b` , $\\rightarrow$ `subtract(a, b)`\n",
    "* `a * b` , $\\rightarrow$ `multiply(a, b)`\n",
    "* `a / b` , $\\rightarrow$ `divide(a, b)`\n",
    "* `a % b` , $\\rightarrow$ `remainder(a, b)`\n",
    "* `a ** b` , $\\rightarrow$ `power(a, b)`\n",
    "* Inplace operators:`a += b` , or`add(a, b, a)`\n",
    "* Note: What happens if `a` has dtype `int`  and `b` `float`?"
   ]
  },
  {
   "cell_type": "markdown",
   "id": "b67ab765",
   "metadata": {
    "slideshow": {
     "slide_type": "slide"
    }
   },
   "source": [
    "### Array math\n",
    "\n",
    "* Logical operations:`==, !=, <, >` , etc.\n",
    "\n",
    "* `sin(x), arcsin(x), sinh(x)`, `exp(x), sqrt(x)`  etc.\n",
    "\n",
    "* `sum(x, axis=0), product(x, axis=0)`\n",
    "* `dot(a, b)`: Or use `@`"
   ]
  },
  {
   "cell_type": "markdown",
   "id": "4b4ecd18",
   "metadata": {
    "slideshow": {
     "slide_type": "slide"
    }
   },
   "source": [
    "### Convenience functions:`loadtxt`\n",
    "\n",
    "* `loadtxt(file_name)`: already seen this!\n",
    "\n",
    "* `savetxt(file_name, data)` : saves data to a text file and\n",
    "\n",
    "* `load(fname, **kw)`: Load a binary numpy file. Lot more powerful.\n",
    "* `save(fname, data)`: Save array to binary numpy file.\n",
    "* `savez(fname, *args, **kw)`: Save several arrays into a single file in ``.npz`` format.\n",
    "* `savez_compressed(fname, *args, **kw)`: Same as `savez` but also compresses the file."
   ]
  },
  {
   "cell_type": "code",
   "execution_count": null,
   "id": "d969b3a0",
   "metadata": {
    "slideshow": {
     "slide_type": "-"
    }
   },
   "outputs": [],
   "source": [
    "data = np.loadtxt('../data/pendulum.txt')\n",
    "data.shape"
   ]
  },
  {
   "cell_type": "markdown",
   "id": "4db61390",
   "metadata": {},
   "source": [
    "### Exercise\n",
    "\n",
    "Convert this 90x2 shaped data and extract this into two 90 element columns."
   ]
  },
  {
   "cell_type": "code",
   "execution_count": null,
   "id": "7c5e8135",
   "metadata": {},
   "outputs": [],
   "source": [
    "# Solution"
   ]
  },
  {
   "cell_type": "markdown",
   "id": "7d69a18e",
   "metadata": {},
   "source": [
    "### `savetxt, savez` and `load`\n"
   ]
  },
  {
   "cell_type": "code",
   "execution_count": null,
   "id": "74284083",
   "metadata": {},
   "outputs": [],
   "source": [
    "np.savetxt('test.txt', data)  # Overwrites the text file!"
   ]
  },
  {
   "cell_type": "code",
   "execution_count": null,
   "id": "ae44070d",
   "metadata": {},
   "outputs": [],
   "source": [
    "# savez is very handy.\n",
    "x, y = data.T\n",
    "np.savez('test.npz', x=x, y=y, z=np.random.random(10))"
   ]
  },
  {
   "cell_type": "code",
   "execution_count": null,
   "id": "f066cc04",
   "metadata": {},
   "outputs": [],
   "source": [
    "# Loading back the data.\n",
    "data = np.load('test.npz')\n",
    "data['x']"
   ]
  },
  {
   "cell_type": "code",
   "execution_count": null,
   "id": "07205c8b",
   "metadata": {},
   "outputs": [],
   "source": [
    "data['y']"
   ]
  },
  {
   "cell_type": "code",
   "execution_count": null,
   "id": "27175f0c",
   "metadata": {},
   "outputs": [],
   "source": [
    "data['z']"
   ]
  },
  {
   "cell_type": "markdown",
   "id": "f5220874",
   "metadata": {},
   "source": [
    "## Matrices\n",
    "\n",
    "All matrix operations are performed using arrays"
   ]
  },
  {
   "cell_type": "markdown",
   "id": "07fac285",
   "metadata": {
    "slideshow": {
     "slide_type": "slide"
    }
   },
   "source": [
    "### Initializing\n"
   ]
  },
  {
   "cell_type": "code",
   "execution_count": null,
   "id": "ea8e6a59",
   "metadata": {
    "slideshow": {
     "slide_type": "-"
    }
   },
   "outputs": [],
   "source": [
    "c = np.array([[11, 12, 13],\n",
    "              [21, 22, 23],\n",
    "              [31, 32, 33]])\n",
    "c"
   ]
  },
  {
   "cell_type": "markdown",
   "id": "34d88035",
   "metadata": {
    "slideshow": {
     "slide_type": "slide"
    }
   },
   "source": [
    "### Initializing some special matrices\n"
   ]
  },
  {
   "cell_type": "code",
   "execution_count": null,
   "id": "caac3702",
   "metadata": {
    "slideshow": {
     "slide_type": "-"
    }
   },
   "outputs": [],
   "source": [
    "np.ones((3, 5))"
   ]
  },
  {
   "cell_type": "code",
   "execution_count": null,
   "id": "0dfe3300",
   "metadata": {},
   "outputs": [],
   "source": [
    "np.ones_like(c)"
   ]
  },
  {
   "cell_type": "code",
   "execution_count": null,
   "id": "0220f301",
   "metadata": {},
   "outputs": [],
   "source": [
    "np.identity(2)"
   ]
  },
  {
   "cell_type": "markdown",
   "id": "8fe0cb82",
   "metadata": {
    "slideshow": {
     "slide_type": "slide"
    }
   },
   "source": [
    "### Accessing elements\n"
   ]
  },
  {
   "cell_type": "code",
   "execution_count": null,
   "id": "4ce3730a",
   "metadata": {
    "lines_to_next_cell": 2
   },
   "outputs": [],
   "source": [
    "c[1][2]"
   ]
  },
  {
   "cell_type": "code",
   "execution_count": null,
   "id": "b449070f",
   "metadata": {
    "lines_to_next_cell": 2,
    "slideshow": {
     "slide_type": "-"
    }
   },
   "outputs": [],
   "source": [
    "c[1,2]"
   ]
  },
  {
   "cell_type": "code",
   "execution_count": null,
   "id": "00cd89df",
   "metadata": {
    "lines_to_next_cell": 2,
    "slideshow": {
     "slide_type": "-"
    }
   },
   "outputs": [],
   "source": [
    "c[1]"
   ]
  },
  {
   "cell_type": "markdown",
   "id": "107a01ff",
   "metadata": {
    "slideshow": {
     "slide_type": "slide"
    }
   },
   "source": [
    "### Changing elements\n"
   ]
  },
  {
   "cell_type": "code",
   "execution_count": null,
   "id": "18a59329",
   "metadata": {
    "slideshow": {
     "slide_type": "-"
    }
   },
   "outputs": [],
   "source": [
    "c[1,1] = -22\n",
    "c"
   ]
  },
  {
   "cell_type": "code",
   "execution_count": null,
   "id": "0659709d",
   "metadata": {},
   "outputs": [],
   "source": [
    "c[1] = 0\n",
    "c"
   ]
  },
  {
   "cell_type": "markdown",
   "id": "f6fc2508",
   "metadata": {},
   "source": [
    "### Exercise\n",
    "\n",
    "How do you access one column?"
   ]
  },
  {
   "cell_type": "code",
   "execution_count": null,
   "id": "de4b3585",
   "metadata": {},
   "outputs": [],
   "source": []
  },
  {
   "cell_type": "markdown",
   "id": "34dd0e1a",
   "metadata": {
    "slideshow": {
     "slide_type": "slide"
    }
   },
   "source": [
    "### Slicing\n"
   ]
  },
  {
   "cell_type": "code",
   "execution_count": null,
   "id": "751ba19f",
   "metadata": {
    "lines_to_next_cell": 2,
    "slideshow": {
     "slide_type": "-"
    }
   },
   "outputs": [],
   "source": [
    "c[:, 1]"
   ]
  },
  {
   "cell_type": "code",
   "execution_count": null,
   "id": "09738712",
   "metadata": {
    "lines_to_next_cell": 2,
    "slideshow": {
     "slide_type": "-"
    }
   },
   "outputs": [],
   "source": [
    "c[1, :]"
   ]
  },
  {
   "cell_type": "code",
   "execution_count": null,
   "id": "a49428f0",
   "metadata": {
    "slideshow": {
     "slide_type": "-"
    }
   },
   "outputs": [],
   "source": [
    "c[0:2, :]"
   ]
  },
  {
   "cell_type": "code",
   "execution_count": null,
   "id": "9bd4d18c",
   "metadata": {
    "lines_to_next_cell": 2
   },
   "outputs": [],
   "source": [
    "c[1:3, :]"
   ]
  },
  {
   "cell_type": "code",
   "execution_count": null,
   "id": "be8df1b5",
   "metadata": {
    "slideshow": {
     "slide_type": "-"
    }
   },
   "outputs": [],
   "source": [
    "c[:2, :]"
   ]
  },
  {
   "cell_type": "code",
   "execution_count": null,
   "id": "96719fb3",
   "metadata": {},
   "outputs": [],
   "source": [
    "c[1:, :]"
   ]
  },
  {
   "cell_type": "code",
   "execution_count": null,
   "id": "7f51aa7b",
   "metadata": {},
   "outputs": [],
   "source": [
    "c[1:, :2]"
   ]
  },
  {
   "cell_type": "markdown",
   "id": "d5dd6f54",
   "metadata": {
    "slideshow": {
     "slide_type": "slide"
    }
   },
   "source": [
    "### Striding\n"
   ]
  },
  {
   "cell_type": "code",
   "execution_count": null,
   "id": "dfe28d0f",
   "metadata": {
    "slideshow": {
     "slide_type": "-"
    }
   },
   "outputs": [],
   "source": [
    "c[::2, :]"
   ]
  },
  {
   "cell_type": "code",
   "execution_count": null,
   "id": "b5adb8ec",
   "metadata": {},
   "outputs": [],
   "source": [
    "c[:, ::2]"
   ]
  },
  {
   "cell_type": "code",
   "execution_count": null,
   "id": "8ea8e3e4",
   "metadata": {},
   "outputs": [],
   "source": [
    "c[::2, ::2]"
   ]
  },
  {
   "cell_type": "markdown",
   "id": "aeaf853f",
   "metadata": {
    "slideshow": {
     "slide_type": "slide"
    }
   },
   "source": [
    "## Elementary image processing\n",
    "\n",
    "Let us see how to load a PNG image into a numpy array and plot it."
   ]
  },
  {
   "cell_type": "code",
   "execution_count": null,
   "id": "3d63f058",
   "metadata": {
    "slideshow": {
     "slide_type": "-"
    }
   },
   "outputs": [],
   "source": [
    "a = plt.imread('../data/penguins.png')"
   ]
  },
  {
   "cell_type": "code",
   "execution_count": null,
   "id": "f945afd1",
   "metadata": {},
   "outputs": [],
   "source": [
    "type(a)"
   ]
  },
  {
   "cell_type": "code",
   "execution_count": null,
   "id": "e7949d93",
   "metadata": {},
   "outputs": [],
   "source": [
    "a.shape"
   ]
  },
  {
   "cell_type": "code",
   "execution_count": null,
   "id": "ef66d94a",
   "metadata": {},
   "outputs": [],
   "source": [
    "plt.imshow(a);"
   ]
  },
  {
   "cell_type": "markdown",
   "id": "4386a5a2",
   "metadata": {},
   "source": [
    "\n",
    "- `imread`  returns an array of shape (370, 370, 4) which represents an\n",
    "  image of 370x370 pixels and 4 channels.\n",
    "- The 4 channels represent R, G, B, Alpha\n",
    "- `imshow`  renders the array as an image."
   ]
  },
  {
   "cell_type": "markdown",
   "id": "ad61bb84",
   "metadata": {},
   "source": [
    "\n",
    "Instead of using matplotlib's imread which is limited, one can use\n",
    "[imageio](https://imageio.github.io)"
   ]
  },
  {
   "cell_type": "code",
   "execution_count": null,
   "id": "3ab73622",
   "metadata": {},
   "outputs": [],
   "source": [
    "import imageio\n",
    "a = imageio.imread(\"../data/penguins.png\")"
   ]
  },
  {
   "cell_type": "code",
   "execution_count": null,
   "id": "21c94e1d",
   "metadata": {},
   "outputs": [],
   "source": [
    "plt.imshow(a)"
   ]
  },
  {
   "cell_type": "markdown",
   "id": "a2aa962b",
   "metadata": {},
   "source": [
    "### Showing the different channels of the image.\n",
    "\n",
    "### Exercise\n",
    "- Extract the red channel of the image and show it."
   ]
  },
  {
   "cell_type": "code",
   "execution_count": null,
   "id": "53eed0c6",
   "metadata": {},
   "outputs": [],
   "source": [
    "# Solution"
   ]
  },
  {
   "cell_type": "markdown",
   "id": "0f036853",
   "metadata": {},
   "source": [
    "### How can we see things in different colors?\n",
    "\n",
    "- Matplotlib provides a ton of different colormaps\n",
    "- First let us understand what a colormap is.\n",
    "- Read more in the matplotlib docs here: https://matplotlib.org/stable/users/explain/colors/colormaps.html"
   ]
  },
  {
   "cell_type": "code",
   "execution_count": null,
   "id": "e8487949",
   "metadata": {},
   "outputs": [],
   "source": [
    "list(plt.colormaps)"
   ]
  },
  {
   "cell_type": "code",
   "execution_count": null,
   "id": "6af6d616",
   "metadata": {},
   "outputs": [],
   "source": [
    "plt.imshow(a[:, :, 0], cmap='Reds')"
   ]
  },
  {
   "cell_type": "markdown",
   "id": "48eef727",
   "metadata": {},
   "source": [
    "### Showing all the different channels?\n",
    "\n",
    "- Use subplots"
   ]
  },
  {
   "cell_type": "code",
   "execution_count": null,
   "id": "db0b47c2",
   "metadata": {},
   "outputs": [],
   "source": [
    "plt.figure(figsize=(10, 5))\n",
    "plt.subplot(2, 2, 1)\n",
    "plt.imshow(a)\n",
    "plt.subplot(2, 2, 2)\n",
    "plt.imshow(a[:, :, 0], cmap='Reds')\n",
    "plt.imshow(2, 2, 3)\n",
    "plt.imshow(a[..., 1], cmap='Greens')  # Notice the use of ellipsis\n",
    "plt.imshow(2, 2, 4)\n",
    "plt.imshow(a[..., 2], cmap='Blues');"
   ]
  },
  {
   "cell_type": "markdown",
   "id": "dc6f2de7",
   "metadata": {},
   "source": [
    "### Showing a histogram of the red channel\n",
    "\n",
    "- Cannot blindly use `plt.hist` as the array is not 1D\n",
    "- We have to \"ravel\" or \"flatten\" it."
   ]
  },
  {
   "cell_type": "code",
   "execution_count": null,
   "id": "b91bd8ec",
   "metadata": {},
   "outputs": [],
   "source": [
    "plt.hist(a[..., 0].flat, bins='auto')"
   ]
  },
  {
   "cell_type": "code",
   "execution_count": null,
   "id": "941dcde8",
   "metadata": {},
   "outputs": [],
   "source": [
    "plt.hist(a[..., 1].ravel(), bins='auto')"
   ]
  },
  {
   "cell_type": "markdown",
   "id": "250ff41d",
   "metadata": {},
   "source": [
    "### Exercise\n",
    "\n",
    "Make a histogram for each of the 4 channels and plot these in a single\n",
    "figure with subplots."
   ]
  },
  {
   "cell_type": "code",
   "execution_count": null,
   "id": "50ecd67e",
   "metadata": {},
   "outputs": [],
   "source": []
  },
  {
   "cell_type": "markdown",
   "id": "276ead3f",
   "metadata": {
    "slideshow": {
     "slide_type": "slide"
    }
   },
   "source": [
    "### Slicing and Striding Exercises\n",
    "\n",
    "* Crop the penguin image to get the top-left quarter\n",
    "\n",
    "* Crop the image to get only the face of the baby penguin\n",
    "\n",
    "* Resize image to half by dropping alternate pixels\n"
   ]
  },
  {
   "cell_type": "code",
   "execution_count": null,
   "id": "f28c2e51",
   "metadata": {},
   "outputs": [],
   "source": [
    "# Solution"
   ]
  },
  {
   "cell_type": "code",
   "execution_count": null,
   "id": "2cb1c1a9",
   "metadata": {},
   "outputs": [],
   "source": []
  },
  {
   "cell_type": "markdown",
   "id": "ae95e817",
   "metadata": {
    "slideshow": {
     "slide_type": "slide"
    }
   },
   "source": [
    "### Transpose of a Matrix\n"
   ]
  },
  {
   "cell_type": "code",
   "execution_count": null,
   "id": "b482c989",
   "metadata": {
    "slideshow": {
     "slide_type": "-"
    }
   },
   "outputs": [],
   "source": [
    "a = np.array([[1,  1,  2, -1],\n",
    "              [2,  5, -1, -9],\n",
    "              [2,  1, -1,  3],\n",
    "              [1, -3,  2,  7]])\n",
    "a.T"
   ]
  },
  {
   "cell_type": "markdown",
   "id": "41ae9f48",
   "metadata": {
    "slideshow": {
     "slide_type": "slide"
    }
   },
   "source": [
    "### Elementwise operations\n"
   ]
  },
  {
   "cell_type": "code",
   "execution_count": null,
   "id": "81b529e8",
   "metadata": {
    "slideshow": {
     "slide_type": "-"
    }
   },
   "outputs": [],
   "source": [
    "b = np.array([[3, 2, -1, 5],\n",
    "              [2, -2, 4, 9],\n",
    "              [-1, 0.5, -1, -7],\n",
    "              [9, -5, 7, 3]])\n",
    "a + b"
   ]
  },
  {
   "cell_type": "code",
   "execution_count": null,
   "id": "a9f33021",
   "metadata": {},
   "outputs": [],
   "source": [
    "a*b"
   ]
  },
  {
   "cell_type": "markdown",
   "id": "9743af1e",
   "metadata": {},
   "source": [
    "### The `axis` argument\n",
    "\n",
    "Consider this:"
   ]
  },
  {
   "cell_type": "code",
   "execution_count": null,
   "id": "d93cb103",
   "metadata": {},
   "outputs": [],
   "source": [
    "np.sum(a)"
   ]
  },
  {
   "cell_type": "code",
   "execution_count": null,
   "id": "4028db91",
   "metadata": {
    "lines_to_next_cell": 0
   },
   "outputs": [],
   "source": [
    "# Recall that a is\n",
    "a"
   ]
  },
  {
   "cell_type": "code",
   "execution_count": null,
   "id": "4c2c4c3e",
   "metadata": {},
   "outputs": [],
   "source": [
    "# What if you want to sum across the rows or columns?\n",
    "np.sum(a, axis=0)  # Rows?"
   ]
  },
  {
   "cell_type": "code",
   "execution_count": null,
   "id": "ee0de3f9",
   "metadata": {},
   "outputs": [],
   "source": [
    "np.sum(a, axis=1)  # Rows?"
   ]
  },
  {
   "cell_type": "markdown",
   "id": "f2271a44",
   "metadata": {
    "lines_to_next_cell": 2
   },
   "source": [
    "\n",
    "- Many functions take the axis argument, as this is very useful."
   ]
  },
  {
   "cell_type": "markdown",
   "id": "b0012115",
   "metadata": {},
   "source": [
    "## Reshaping, concatenation, stack and split\n",
    "\n",
    "- Reshape an array to get a different view, if compatible and total size\n",
    "  does not change\n",
    "- Concatenate two arrays\n",
    "- Stack and split arrays"
   ]
  },
  {
   "cell_type": "code",
   "execution_count": null,
   "id": "f401bf85",
   "metadata": {},
   "outputs": [],
   "source": [
    "a = np.arange(9)\n",
    "c = a.reshape((3, 3))  # Note that this does not make a copy!\n",
    "print(c)"
   ]
  },
  {
   "cell_type": "code",
   "execution_count": null,
   "id": "f51b0c01",
   "metadata": {},
   "outputs": [],
   "source": [
    "c[0] = 1\n",
    "print(a)"
   ]
  },
  {
   "cell_type": "code",
   "execution_count": null,
   "id": "8a69f940",
   "metadata": {},
   "outputs": [],
   "source": [
    "c = np.arange(1, 7)\n",
    "a, b = np.split(c, 2)\n",
    "a, b"
   ]
  },
  {
   "cell_type": "code",
   "execution_count": null,
   "id": "8e37fb7b",
   "metadata": {},
   "outputs": [],
   "source": [
    "np.concatenate((a, b))"
   ]
  },
  {
   "cell_type": "code",
   "execution_count": null,
   "id": "583497fc",
   "metadata": {},
   "outputs": [],
   "source": [
    "np.hsplit(np.arange(7), 3)"
   ]
  },
  {
   "cell_type": "code",
   "execution_count": null,
   "id": "b172ee6b",
   "metadata": {},
   "outputs": [],
   "source": [
    "np.hstack((a, b))"
   ]
  },
  {
   "cell_type": "code",
   "execution_count": null,
   "id": "8b18862b",
   "metadata": {},
   "outputs": [],
   "source": [
    "np.stack((a, b))"
   ]
  },
  {
   "cell_type": "code",
   "execution_count": null,
   "id": "3fe810c6",
   "metadata": {},
   "outputs": [],
   "source": [
    "np.stack((a, b), axis=1)"
   ]
  },
  {
   "cell_type": "markdown",
   "id": "cfb8d577",
   "metadata": {
    "slideshow": {
     "slide_type": "slide"
    }
   },
   "source": [
    "### Matrix Multiplication\n"
   ]
  },
  {
   "cell_type": "code",
   "execution_count": null,
   "id": "cada2187",
   "metadata": {},
   "outputs": [],
   "source": [
    "np.dot(a, b)"
   ]
  },
  {
   "cell_type": "code",
   "execution_count": null,
   "id": "5079efeb",
   "metadata": {},
   "outputs": [],
   "source": [
    "# Easier to do this!\n",
    "a @ b  # @ is the matmult operation"
   ]
  },
  {
   "cell_type": "markdown",
   "id": "c8ae0d03",
   "metadata": {
    "slideshow": {
     "slide_type": "slide"
    }
   },
   "source": [
    "## Linear algebra\n"
   ]
  },
  {
   "cell_type": "code",
   "execution_count": null,
   "id": "226719c0",
   "metadata": {
    "lines_to_next_cell": 2
   },
   "outputs": [],
   "source": [
    "np.linalg.inv(a)"
   ]
  },
  {
   "cell_type": "code",
   "execution_count": null,
   "id": "8b252717",
   "metadata": {},
   "outputs": [],
   "source": [
    "a @ np.linalg.inv(a)"
   ]
  },
  {
   "cell_type": "code",
   "execution_count": null,
   "id": "b16b9a5f",
   "metadata": {},
   "outputs": [],
   "source": [
    "# The determinant\n",
    "np.linalg.det(a)"
   ]
  },
  {
   "cell_type": "markdown",
   "id": "9bfc49fa",
   "metadata": {
    "slideshow": {
     "slide_type": "slide"
    }
   },
   "source": [
    "### Eigenvalues and Eigen Vectors\n"
   ]
  },
  {
   "cell_type": "code",
   "execution_count": null,
   "id": "1f6a8b97",
   "metadata": {
    "slideshow": {
     "slide_type": "-"
    }
   },
   "outputs": [],
   "source": [
    "e = np.array([[3, 2, 4], [2, 0, 2], [4, 2, 3]])\n",
    "np.linalg.eig(e)"
   ]
  },
  {
   "cell_type": "code",
   "execution_count": null,
   "id": "84519435",
   "metadata": {},
   "outputs": [],
   "source": [
    "np.linalg.eigvals(e)"
   ]
  },
  {
   "cell_type": "markdown",
   "id": "17bb6899",
   "metadata": {
    "slideshow": {
     "slide_type": "slide"
    }
   },
   "source": [
    "### Computing Norms\n"
   ]
  },
  {
   "cell_type": "code",
   "execution_count": null,
   "id": "60732d9c",
   "metadata": {},
   "outputs": [],
   "source": [
    "np.linalg.norm(a)"
   ]
  },
  {
   "cell_type": "code",
   "execution_count": null,
   "id": "4a2053d1",
   "metadata": {},
   "outputs": [],
   "source": [
    "np.linalg.norm(e)"
   ]
  },
  {
   "cell_type": "markdown",
   "id": "857351f6",
   "metadata": {
    "slideshow": {
     "slide_type": "slide"
    }
   },
   "source": [
    "### Singular Value Decomposition\n"
   ]
  },
  {
   "cell_type": "code",
   "execution_count": null,
   "id": "df1bcc2b",
   "metadata": {
    "slideshow": {
     "slide_type": "-"
    }
   },
   "outputs": [],
   "source": [
    "np.linalg.svd(e)"
   ]
  },
  {
   "cell_type": "markdown",
   "id": "abeb7a3b",
   "metadata": {
    "slideshow": {
     "slide_type": "slide"
    }
   },
   "source": [
    "## Least Squares Fit (linear regression)\n"
   ]
  },
  {
   "cell_type": "markdown",
   "id": "039b25f5",
   "metadata": {
    "lines_to_next_cell": 0,
    "slideshow": {
     "slide_type": "slide"
    }
   },
   "source": [
    "\n",
    "- Linear trend visible between $L$  vs. $T^2$\n"
   ]
  },
  {
   "cell_type": "code",
   "execution_count": null,
   "id": "4f3d25b6",
   "metadata": {},
   "outputs": [],
   "source": [
    "L, t = np.loadtxt('../data/pendulum.txt', unpack=True)\n",
    "tsq = t*t"
   ]
  },
  {
   "cell_type": "code",
   "execution_count": null,
   "id": "a96eb67c",
   "metadata": {},
   "outputs": [],
   "source": [
    "plt.scatter(L, tsq)"
   ]
  },
  {
   "cell_type": "markdown",
   "id": "859fee5c",
   "metadata": {
    "slideshow": {
     "slide_type": "slide"
    }
   },
   "source": [
    "- This plot is not a straight line, can we do better?\n",
    "- Can we find a best-fit line?"
   ]
  },
  {
   "cell_type": "markdown",
   "id": "288d6ae7",
   "metadata": {
    "slideshow": {
     "slide_type": "slide"
    }
   },
   "source": [
    "### Matrix Formulation\n",
    "\n",
    "- We need to fit a line through points for the equation $T^2 = m \\cdot L+c$\n",
    "- In matrix form, the equation can be represented as $T_{sq} = A \\cdot p$,\n",
    "\n",
    "* We need to find $p$ to plot the line\n"
   ]
  },
  {
   "cell_type": "markdown",
   "id": "55f3c097",
   "metadata": {
    "lines_to_next_cell": 2,
    "slideshow": {
     "slide_type": "slide"
    }
   },
   "source": [
    "$$\n",
    "\\begin{bmatrix}\n",
    "  T^2_1 \\\\\n",
    "  T^2_2 \\\\\n",
    "  \\vdots\\\\\n",
    "  T^2_N \\\\\n",
    "\\end{bmatrix}\n",
    "=\n",
    "\\begin{bmatrix}\n",
    "  L_1 & 1 \\\\\n",
    "  L_2 & 1 \\\\\n",
    "  \\vdots & \\vdots\\\\\n",
    "  L_N & 1 \\\\\n",
    "\\end{bmatrix}\n",
    "\\cdot\\begin{bmatrix}\n",
    "  m\\\\\n",
    "  c\\\\\n",
    "  \\end{bmatrix}\n",
    "$$\n",
    "Or\n",
    "\n",
    "$$T_{sq} = A\\cdot p$$\n"
   ]
  },
  {
   "cell_type": "markdown",
   "id": "d607995f",
   "metadata": {
    "slideshow": {
     "slide_type": "slide"
    }
   },
   "source": [
    "### Generating $A$\n"
   ]
  },
  {
   "cell_type": "code",
   "execution_count": null,
   "id": "7370deaf",
   "metadata": {
    "lines_to_next_cell": 2,
    "slideshow": {
     "slide_type": "-"
    }
   },
   "outputs": [],
   "source": [
    "A = np.array([L, np.ones_like(L)])\n",
    "A = A.T"
   ]
  },
  {
   "cell_type": "markdown",
   "id": "c93c444e",
   "metadata": {
    "slideshow": {
     "slide_type": "slide"
    }
   },
   "source": [
    "### Computing the least-square fit\n",
    "\n",
    "* Now use the `np.linalg.lstsq`  function\n",
    "\n",
    "* Along with other things, it returns the least squares solution\n"
   ]
  },
  {
   "cell_type": "code",
   "execution_count": null,
   "id": "01215320",
   "metadata": {
    "lines_to_next_cell": 2,
    "slideshow": {
     "slide_type": "-"
    }
   },
   "outputs": [],
   "source": [
    "result = np.linalg.lstsq(A, tsq)\n",
    "coef = result[0]"
   ]
  },
  {
   "cell_type": "markdown",
   "id": "89134e0e",
   "metadata": {
    "slideshow": {
     "slide_type": "slide"
    }
   },
   "source": [
    "### Least Square Fit Line ...\n",
    "We get the points of the line from `coef`"
   ]
  },
  {
   "cell_type": "code",
   "execution_count": null,
   "id": "4ddae81a",
   "metadata": {
    "lines_to_next_cell": 2,
    "slideshow": {
     "slide_type": "-"
    }
   },
   "outputs": [],
   "source": [
    "t_line = coef[0]*L + coef[1]\n",
    "t_line.shape"
   ]
  },
  {
   "cell_type": "markdown",
   "id": "446b2803",
   "metadata": {
    "slideshow": {
     "slide_type": "-"
    }
   },
   "source": [
    "* Now plot`t_line`  vs.`L` , to get the least squares fit line.\n"
   ]
  },
  {
   "cell_type": "code",
   "execution_count": null,
   "id": "f6f4d878",
   "metadata": {
    "lines_to_next_cell": 2,
    "slideshow": {
     "slide_type": "-"
    }
   },
   "outputs": [],
   "source": [
    "plt.plot(L, t_line, 'r')\n",
    "plt.plot(L, tsq, 'o');"
   ]
  },
  {
   "cell_type": "markdown",
   "id": "7c068e12",
   "metadata": {
    "slideshow": {
     "slide_type": "slide"
    }
   },
   "source": [
    "## Advanced concepts\n",
    "\n",
    "- Broadcasting and broadcasting rules\n",
    "- Special indexing\n",
    "- Masked indexing\n"
   ]
  },
  {
   "cell_type": "markdown",
   "id": "c7020cce",
   "metadata": {
    "slideshow": {
     "slide_type": "slide"
    }
   },
   "source": [
    "### Simple broadcasting examples\n"
   ]
  },
  {
   "cell_type": "code",
   "execution_count": null,
   "id": "90570023",
   "metadata": {},
   "outputs": [],
   "source": [
    "a = np.array([1.0, 2, 3.0])\n",
    "b = 2.0\n",
    "a * b"
   ]
  },
  {
   "cell_type": "code",
   "execution_count": null,
   "id": "676c2a10",
   "metadata": {},
   "outputs": [],
   "source": [
    "a = np.ones((3, 3))\n",
    "b = np.array([1, 2, 3])\n",
    "a * b"
   ]
  },
  {
   "cell_type": "code",
   "execution_count": null,
   "id": "3098ceba",
   "metadata": {},
   "outputs": [],
   "source": [
    "b*a"
   ]
  },
  {
   "cell_type": "code",
   "execution_count": null,
   "id": "5a58f8b3",
   "metadata": {},
   "outputs": [],
   "source": [
    "a = np.array([1.0, 2, 3.0])\n",
    "a.T"
   ]
  },
  {
   "cell_type": "code",
   "execution_count": null,
   "id": "b849b9dd",
   "metadata": {
    "lines_to_next_cell": 2
   },
   "outputs": [],
   "source": [
    "a = np.array([1.0, 2, 3.0])\n",
    "b = np.ones(5)\n",
    "a * b"
   ]
  },
  {
   "cell_type": "markdown",
   "id": "8b43d552",
   "metadata": {
    "slideshow": {
     "slide_type": "slide"
    }
   },
   "source": [
    "### Broadcasting rules\n",
    "\n",
    "- Consider `A <operator> B`\n",
    "\n",
    "- Compare their shapes element-wise starting with the rightmost dimension\n",
    "  going left.\n",
    "\n",
    "- Two dimensions are compatible if:\n",
    "\n",
    "  - they are equal\n",
    "  - or one of them is 1 or `None` (not available)\n",
    "\n",
    "- Do not need the same number of dimensions\n"
   ]
  },
  {
   "cell_type": "markdown",
   "id": "2d02f44f",
   "metadata": {
    "lines_to_next_cell": 2,
    "slideshow": {
     "slide_type": "slide"
    }
   },
   "source": [
    "### Illustration\n",
    "\n",
    "<br/>\n",
    "\n",
    "<img height=\"80%\" src=\"images/broadcasting_1.png\" align=\"center\"/>\n",
    "\n",
    "<br/>\n",
    "<span style=\"font-size:50%\" >\n",
    "Image source: https://numpy.org/doc/stable/user/basics.broadcasting.html\n",
    "</span>\n"
   ]
  },
  {
   "cell_type": "markdown",
   "id": "5b0e7585",
   "metadata": {
    "slideshow": {
     "slide_type": "slide"
    }
   },
   "source": [
    "### Examples\n",
    "\n",
    "- From the documentation!\n",
    "\n",
    "```\n",
    "Image  (3d array): 256 x 256 x 3\n",
    "Scale  (1d array):             3\n",
    "Result (3d array): 256 x 256 x 3\n",
    "```\n",
    "\n",
    "```\n",
    "A      (4d array):  8 x 1 x 6 x 1\n",
    "B      (3d array):      7 x 1 x 5\n",
    "Result (4d array):  8 x 7 x 6 x 5\n",
    "```\n"
   ]
  },
  {
   "cell_type": "markdown",
   "id": "c300ce2a",
   "metadata": {},
   "source": [
    "```\n",
    "A      (2d array):      2 x 1\n",
    "B      (3d array):  8 x 4 x 3\n",
    "```\n"
   ]
  },
  {
   "cell_type": "markdown",
   "id": "bf6b193e",
   "metadata": {
    "slideshow": {
     "slide_type": "slide"
    }
   },
   "source": [
    "### Examples\n"
   ]
  },
  {
   "cell_type": "code",
   "execution_count": null,
   "id": "d81e2742",
   "metadata": {},
   "outputs": [],
   "source": [
    "a = np.fromfunction(lambda i, j: 10*i, (4, 3))\n",
    "a"
   ]
  },
  {
   "cell_type": "code",
   "execution_count": null,
   "id": "aa531238",
   "metadata": {},
   "outputs": [],
   "source": [
    "b = np.array([1.0, 2.0, 3.0, 4.0])\n",
    "a + b"
   ]
  },
  {
   "cell_type": "code",
   "execution_count": null,
   "id": "c361e226",
   "metadata": {},
   "outputs": [],
   "source": [
    "b = np.array([1.0, 2.0, 3.0, 4.0]).reshape((4, 1))\n",
    "a + b"
   ]
  },
  {
   "cell_type": "markdown",
   "id": "1e844807",
   "metadata": {
    "slideshow": {
     "slide_type": "slide"
    }
   },
   "source": [
    "### Illustration\n",
    "\n",
    "<br/>\n",
    "\n",
    "<img height=\"80%\" src=\"images/broadcasting_2.png\" align=\"center\"/>\n",
    "\n",
    "<br/>\n",
    "<span style=\"font-size:50%\" >\n",
    "Image source: https://numpy.org/doc/stable/user/basics.broadcasting.html\n",
    "</span>\n"
   ]
  },
  {
   "cell_type": "markdown",
   "id": "10b667a5",
   "metadata": {
    "slideshow": {
     "slide_type": "slide"
    }
   },
   "source": [
    "### Examples\n",
    "\n",
    "- Introducing a new axis\n"
   ]
  },
  {
   "cell_type": "code",
   "execution_count": null,
   "id": "460d0513",
   "metadata": {},
   "outputs": [],
   "source": [
    "# No magic!\n",
    "b = np.array([1.0, 2.0, 3.0, 4.0])\n",
    "a + b"
   ]
  },
  {
   "cell_type": "markdown",
   "id": "6758f143",
   "metadata": {},
   "source": [
    "- Use `np.newaxis` or `None`"
   ]
  },
  {
   "cell_type": "code",
   "execution_count": null,
   "id": "a437a405",
   "metadata": {},
   "outputs": [],
   "source": [
    "a = np.array([0.0, 10.0, 20.0, 30.0])\n",
    "b = np.array([1.0, 2.0, 3.0])\n",
    "a[:, np.newaxis] + b"
   ]
  },
  {
   "cell_type": "markdown",
   "id": "f273ec90",
   "metadata": {
    "lines_to_next_cell": 2,
    "slideshow": {
     "slide_type": "slide"
    }
   },
   "source": [
    "### Illustration\n",
    "\n",
    "<br/>\n",
    "\n",
    "<img height=\"80%\" src=\"images/broadcasting_4.png\" align=\"center\"/>\n",
    "\n",
    "<br/>\n",
    "<span style=\"font-size:50%\" >\n",
    "Image source: https://numpy.org/doc/stable/user/basics.broadcasting.html\n",
    "</span>\n"
   ]
  },
  {
   "cell_type": "markdown",
   "id": "fc626938",
   "metadata": {
    "slideshow": {
     "slide_type": "slide"
    }
   },
   "source": [
    "## Special indexing\n",
    "\n",
    "- Can be indexed using arrays of indices"
   ]
  },
  {
   "cell_type": "code",
   "execution_count": null,
   "id": "20fb5aea",
   "metadata": {},
   "outputs": [],
   "source": [
    "a = np.arange(12)**2\n",
    "i = np.array([10, 1, 3, 8, 5])\n",
    "a[i]"
   ]
  },
  {
   "cell_type": "code",
   "execution_count": null,
   "id": "6065e9e7",
   "metadata": {},
   "outputs": [],
   "source": [
    "j = np.array([[3, 4], [9, 7]])\n",
    "a[j]"
   ]
  },
  {
   "cell_type": "code",
   "execution_count": null,
   "id": "e3a5dd4e",
   "metadata": {},
   "outputs": [],
   "source": [
    "a.flags"
   ]
  },
  {
   "cell_type": "code",
   "execution_count": null,
   "id": "6a1275e6",
   "metadata": {},
   "outputs": [],
   "source": [
    "a[i] = 4\n",
    "a"
   ]
  },
  {
   "cell_type": "markdown",
   "id": "8ba2ac83",
   "metadata": {
    "slideshow": {
     "slide_type": "slide"
    }
   },
   "source": [
    "### More examples\n",
    "\n",
    "- Note: indices for each dimension must have same shape\n"
   ]
  },
  {
   "cell_type": "code",
   "execution_count": null,
   "id": "3a3c5014",
   "metadata": {},
   "outputs": [],
   "source": [
    "a = np.arange(12).reshape(3, 4)\n",
    "a"
   ]
  },
  {
   "cell_type": "code",
   "execution_count": null,
   "id": "ffaa1615",
   "metadata": {},
   "outputs": [],
   "source": [
    "i = np.array([[0, 1],\n",
    "              [1, 2]])\n",
    "j = np.array([[2, 1],\n",
    "              [3, 3]])\n",
    "a[i, j]"
   ]
  },
  {
   "cell_type": "markdown",
   "id": "a625fe18",
   "metadata": {},
   "source": [
    "Warning:"
   ]
  },
  {
   "cell_type": "code",
   "execution_count": null,
   "id": "6e2104ad",
   "metadata": {},
   "outputs": [],
   "source": [
    "a[i]"
   ]
  },
  {
   "cell_type": "code",
   "execution_count": null,
   "id": "a1d5b59e",
   "metadata": {
    "lines_to_next_cell": 2
   },
   "outputs": [],
   "source": [
    "a[np.array([i, j])]"
   ]
  },
  {
   "cell_type": "markdown",
   "id": "449c0562",
   "metadata": {
    "slideshow": {
     "slide_type": "slide"
    }
   },
   "source": [
    "## Indexing with a boolean array\n",
    "\n",
    "- Very powerful\n",
    "- Allows one to vectorize conditionals"
   ]
  },
  {
   "cell_type": "code",
   "execution_count": null,
   "id": "a4c4d62e",
   "metadata": {},
   "outputs": [],
   "source": [
    "a = np.arange(12).reshape(3, 4)\n",
    "b = a > 4\n",
    "b"
   ]
  },
  {
   "cell_type": "code",
   "execution_count": null,
   "id": "f63cc92d",
   "metadata": {},
   "outputs": [],
   "source": [
    "a[b]"
   ]
  },
  {
   "cell_type": "code",
   "execution_count": null,
   "id": "df269636",
   "metadata": {},
   "outputs": [],
   "source": [
    "a[b] = 21\n",
    "a"
   ]
  },
  {
   "cell_type": "code",
   "execution_count": null,
   "id": "8943a857",
   "metadata": {},
   "outputs": [],
   "source": [
    "b = (a > 4) | (a % 3 == 0)\n",
    "b"
   ]
  },
  {
   "cell_type": "code",
   "execution_count": null,
   "id": "ea5d2787",
   "metadata": {},
   "outputs": [],
   "source": []
  },
  {
   "cell_type": "markdown",
   "id": "1d9dbb76",
   "metadata": {
    "slideshow": {
     "slide_type": "slide"
    }
   },
   "source": [
    "## Creating a grid of points\n",
    "\n",
    "- A box of 25x25 points between $[-2, -2]$ to $[2, 2]$\n"
   ]
  },
  {
   "cell_type": "code",
   "execution_count": null,
   "id": "bcf4fe63",
   "metadata": {},
   "outputs": [],
   "source": [
    "xo, yo = -2, -2\n",
    "n = 25\n",
    "dx = dy = 4.0/(n - 1)\n",
    "x = np.fromfunction(lambda i, j: xo + i*dx, (n, n))\n",
    "y = np.fromfunction(lambda i, j: yo + j*dy, (n, n))"
   ]
  },
  {
   "cell_type": "code",
   "execution_count": null,
   "id": "a4bce3ef",
   "metadata": {},
   "outputs": [],
   "source": [
    "plt.scatter(x, y);"
   ]
  },
  {
   "cell_type": "code",
   "execution_count": null,
   "id": "3027ccb4",
   "metadata": {},
   "outputs": [],
   "source": [
    "# Easier way\n",
    "t = np.linspace(-2, 2, 25)\n",
    "x, y = np.meshgrid(t, t)"
   ]
  },
  {
   "cell_type": "code",
   "execution_count": null,
   "id": "b6e8d1d0",
   "metadata": {},
   "outputs": [],
   "source": [
    "plt.contourf(x, y, np.sin(x*x + y*y));"
   ]
  },
  {
   "cell_type": "markdown",
   "id": "ad6d7cf0",
   "metadata": {
    "lines_to_next_cell": 2,
    "slideshow": {
     "slide_type": "slide"
    }
   },
   "source": [
    "### Exercise\n",
    "\n",
    "- Plot interior of the unit circle by generating a collection of points\n",
    "  inside the circle.\n",
    "- Use what you have learned so far to do this without a loop.\n"
   ]
  },
  {
   "cell_type": "code",
   "execution_count": null,
   "id": "a4f3cf9d",
   "metadata": {},
   "outputs": [],
   "source": [
    "# Solution"
   ]
  },
  {
   "cell_type": "markdown",
   "id": "dd30d908",
   "metadata": {
    "slideshow": {
     "slide_type": "slide"
    }
   },
   "source": [
    "## Learn more\n",
    "\n",
    "* https://numpy.org/doc/stable/\n",
    "* https://numpy.org"
   ]
  }
 ],
 "metadata": {
  "kernelspec": {
   "display_name": "Python 3 (ipykernel)",
   "language": "python",
   "name": "python3"
  }
 },
 "nbformat": 4,
 "nbformat_minor": 5
}
