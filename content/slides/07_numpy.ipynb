{
 "cells": [
  {
   "cell_type": "markdown",
   "id": "26e23f6a",
   "metadata": {
    "lines_to_next_cell": 2,
    "slideshow": {
     "slide_type": "slide"
    }
   },
   "source": [
    "## NumPy arrays\n",
    "\n",
    "- Quick look at numpy arrays\n",
    "  - Basics\n",
    "  - Slicing\n",
    "  - Array creation\n",
    "- Multi-dimensional arrays\n",
    "  - Basics\n",
    "  - Matrices\n",
    "  - Image processing\n",
    "  - Solution of linear systems"
   ]
  },
  {
   "cell_type": "markdown",
   "id": "7d2b7cb4",
   "metadata": {
    "slideshow": {
     "slide_type": "slide"
    }
   },
   "source": [
    "## The `numpy` module\n",
    "\n",
    "* Efficient, powerful array type\n",
    "* Abstracts out standard operations on arrays\n",
    "* Convenience functions\n",
    "* Fundamental and important\n",
    "  * The basis for all scientific/numerical computing\n",
    "  * Similar API for pytorch, tensorflow, cupy etc."
   ]
  },
  {
   "cell_type": "code",
   "execution_count": null,
   "id": "294b345e",
   "metadata": {},
   "outputs": [],
   "source": [
    "import matplotlib.pyplot as plt\n",
    "import numpy as np"
   ]
  },
  {
   "cell_type": "markdown",
   "id": "31c04c54",
   "metadata": {
    "slideshow": {
     "slide_type": "slide"
    }
   },
   "source": [
    "### `numpy` arrays\n",
    "\n",
    "* Fixed size (`arr.size`)\n",
    "* Contiguous block of memory\n",
    "* Same type (`arr.dtype`)\n",
    "* Arbitrary dimensionality: `arr.shape`\n",
    "* `shape` : extent (size) along each dimension\n",
    "* `arr.itemsize` : number of bytes per element\n",
    "* Note:`shape`  can change so long as the`size` is constant\n",
    "* Indices start from 0\n",
    "* Negative indices work like lists\n",
    "* Similar indexing/slicing as lists."
   ]
  },
  {
   "cell_type": "code",
   "execution_count": null,
   "id": "5a23b4a3",
   "metadata": {
    "slideshow": {
     "slide_type": "-"
    }
   },
   "outputs": [],
   "source": [
    "a = np.array([1, 2, 3, 4])\n",
    "b = np.array([2, 3, 4, 5])\n",
    "print(a[0], a[-1])\n",
    "print(\"b\", b[0], b[-1])"
   ]
  },
  {
   "cell_type": "code",
   "execution_count": null,
   "id": "428801f3",
   "metadata": {},
   "outputs": [],
   "source": [
    "a[0] = -1\n",
    "a[0] = 1"
   ]
  },
  {
   "cell_type": "markdown",
   "id": "0a0b70db",
   "metadata": {
    "slideshow": {
     "slide_type": "slide"
    }
   },
   "source": [
    "### Simple operations\n",
    "\n",
    "Basic NumPy operations are typically elementwise"
   ]
  },
  {
   "cell_type": "code",
   "execution_count": null,
   "id": "a35248f0",
   "metadata": {
    "slideshow": {
     "slide_type": "-"
    }
   },
   "outputs": [],
   "source": [
    "a + b"
   ]
  },
  {
   "cell_type": "code",
   "execution_count": null,
   "id": "d8fc6a7b",
   "metadata": {
    "4slideshow": {
     "slide_type": "-"
    }
   },
   "outputs": [],
   "source": [
    "a*b"
   ]
  },
  {
   "cell_type": "code",
   "execution_count": null,
   "id": "e7fe85b8",
   "metadata": {
    "slideshow": {
     "slide_type": "-"
    }
   },
   "outputs": [],
   "source": [
    "a/b"
   ]
  },
  {
   "cell_type": "code",
   "execution_count": null,
   "id": "683e1fa6",
   "metadata": {
    "lines_to_next_cell": 2,
    "slideshow": {
     "slide_type": "-"
    }
   },
   "outputs": [],
   "source": [
    "a//b"
   ]
  },
  {
   "cell_type": "markdown",
   "id": "319c78e8",
   "metadata": {
    "lines_to_next_cell": 0,
    "slideshow": {
     "slide_type": "slide"
    }
   },
   "source": [
    "### Examples\n",
    "$\\pi$  and `e`  are defined.\n"
   ]
  },
  {
   "cell_type": "code",
   "execution_count": null,
   "id": "94d99805",
   "metadata": {
    "slideshow": {
     "slide_type": "-"
    }
   },
   "outputs": [],
   "source": [
    "x = np.linspace(0.0, 10.0, 200)\n",
    "x *= 2*np.pi/10\n",
    "# apply functions to array.\n",
    "y = np.sin(x)\n",
    "y = np.cos(x)"
   ]
  },
  {
   "cell_type": "code",
   "execution_count": null,
   "id": "ee35f9da",
   "metadata": {},
   "outputs": [],
   "source": [
    "# Setting the values is just like with lists.\n",
    "x[0] = -1\n",
    "print(x[0], x[-1])"
   ]
  },
  {
   "cell_type": "markdown",
   "id": "c5146e6a",
   "metadata": {
    "slideshow": {
     "slide_type": "slide"
    }
   },
   "source": [
    "### `size, shape`  etc.\n"
   ]
  },
  {
   "cell_type": "code",
   "execution_count": null,
   "id": "b29ebcf3",
   "metadata": {
    "lines_to_next_cell": 2,
    "slideshow": {
     "slide_type": "-"
    }
   },
   "outputs": [],
   "source": [
    "x = np.array([1., 2, 3, 4])\n",
    "x.size"
   ]
  },
  {
   "cell_type": "code",
   "execution_count": null,
   "id": "cd1e449b",
   "metadata": {},
   "outputs": [],
   "source": [
    "x.dtype"
   ]
  },
  {
   "cell_type": "code",
   "execution_count": null,
   "id": "8ffea75f",
   "metadata": {},
   "outputs": [],
   "source": [
    "x.shape"
   ]
  },
  {
   "cell_type": "code",
   "execution_count": null,
   "id": "f006f67b",
   "metadata": {},
   "outputs": [],
   "source": [
    "x.itemsize"
   ]
  },
  {
   "cell_type": "code",
   "execution_count": null,
   "id": "af107b4c",
   "metadata": {},
   "outputs": [],
   "source": [
    "x.nbytes"
   ]
  },
  {
   "cell_type": "markdown",
   "id": "8f40155a",
   "metadata": {
    "slideshow": {
     "slide_type": "slide"
    }
   },
   "source": [
    "### Multi-dimensional arrays\n"
   ]
  },
  {
   "cell_type": "code",
   "execution_count": null,
   "id": "4eb9e6fe",
   "metadata": {
    "lines_to_next_cell": 2
   },
   "outputs": [],
   "source": [
    "a = np.array([[0, 1, 2, 3],\n",
    "              [10, 11, 12, 13]])\n",
    "a.shape  # (rows, columns)"
   ]
  },
  {
   "cell_type": "code",
   "execution_count": null,
   "id": "a9184bdd",
   "metadata": {
    "lines_to_next_cell": 2,
    "slideshow": {
     "slide_type": "-"
    }
   },
   "outputs": [],
   "source": [
    "a[1, 3]"
   ]
  },
  {
   "cell_type": "code",
   "execution_count": null,
   "id": "19ca007b",
   "metadata": {
    "slideshow": {
     "slide_type": "-"
    }
   },
   "outputs": [],
   "source": [
    "a[1, 3] = -1\n",
    "a[1]  # The second row"
   ]
  },
  {
   "cell_type": "code",
   "execution_count": null,
   "id": "80822e45",
   "metadata": {},
   "outputs": [],
   "source": [
    "a[1] = 0  # Entire row to zero.\n",
    "a"
   ]
  },
  {
   "cell_type": "markdown",
   "id": "84840b17",
   "metadata": {
    "slideshow": {
     "slide_type": "slide"
    }
   },
   "source": [
    "### Slicing arrays\n"
   ]
  },
  {
   "cell_type": "code",
   "execution_count": null,
   "id": "574c7495",
   "metadata": {
    "slideshow": {
     "slide_type": "-"
    }
   },
   "outputs": [],
   "source": [
    "a = np.array([[1, 2, 3], [4, 5, 6],\n",
    "              [7, 8, 9]])\n",
    "a[0, 1:3]"
   ]
  },
  {
   "cell_type": "code",
   "execution_count": null,
   "id": "296a3ae2",
   "metadata": {
    "slideshow": {
     "slide_type": "-"
    }
   },
   "outputs": [],
   "source": [
    "a[1:, 1:]"
   ]
  },
  {
   "cell_type": "code",
   "execution_count": null,
   "id": "ec5920c3",
   "metadata": {},
   "outputs": [],
   "source": [
    "a[:, 2]"
   ]
  },
  {
   "cell_type": "markdown",
   "id": "715b5f49",
   "metadata": {
    "slideshow": {
     "slide_type": "slide"
    }
   },
   "source": [
    "### Slicing np.arrays ...\n"
   ]
  },
  {
   "cell_type": "code",
   "execution_count": null,
   "id": "db410a1d",
   "metadata": {
    "slideshow": {
     "slide_type": "-"
    }
   },
   "outputs": [],
   "source": [
    "a = np.array([[1, 2, 3], [4, 5, 6],\n",
    "              [7, 8, 9]])\n",
    "\n",
    "a[0::2, 0::2]  # Striding..."
   ]
  },
  {
   "cell_type": "markdown",
   "id": "abee8f7a",
   "metadata": {
    "lines_to_next_cell": 0
   },
   "source": [
    "Slices refer to the same memory!"
   ]
  },
  {
   "cell_type": "code",
   "execution_count": null,
   "id": "d37d5a9e",
   "metadata": {},
   "outputs": [],
   "source": [
    "a[::2, ::2] = 0\n",
    "a"
   ]
  },
  {
   "cell_type": "code",
   "execution_count": null,
   "id": "72bfff63",
   "metadata": {},
   "outputs": [],
   "source": [
    "# What if?\n",
    "t = a[::2, ::2]\n",
    "t = 1"
   ]
  },
  {
   "cell_type": "markdown",
   "id": "b94ae18f",
   "metadata": {
    "lines_to_next_cell": 0
   },
   "source": [
    "Beware of the above, if you want to set all the values use this:"
   ]
  },
  {
   "cell_type": "code",
   "execution_count": null,
   "id": "a71243fd",
   "metadata": {},
   "outputs": [],
   "source": [
    "t = a[::2, ::2]\n",
    "t[:] = 1\n",
    "a"
   ]
  },
  {
   "cell_type": "markdown",
   "id": "52fedc34",
   "metadata": {
    "slideshow": {
     "slide_type": "slide"
    }
   },
   "source": [
    "### Array creation functions\n",
    "\n",
    "* `array(object)`\n",
    "* `linspace(start, stop, num=50)`\n",
    "* `ones(shape)`\n",
    "* `zeros((d1,...,dn))`\n",
    "* `empty((d1,...,dn))`\n",
    "* `identity(n)`\n",
    "* `ones_like(x)` ,`zeros_like(x)` ,`empty_like(x)`\n",
    "* `arange`\n",
    "* `fromfunction`\n",
    "* May pass an optional `dtype=`  keyword argument\n",
    "* For more dtypes see: `numpy.typecodes`"
   ]
  },
  {
   "cell_type": "markdown",
   "id": "94a2b839",
   "metadata": {
    "slideshow": {
     "slide_type": "slide"
    }
   },
   "source": [
    "### Creation examples\n"
   ]
  },
  {
   "cell_type": "code",
   "execution_count": null,
   "id": "765c87cb",
   "metadata": {
    "slideshow": {
     "slide_type": "-"
    }
   },
   "outputs": [],
   "source": [
    "a = np.array([1, 2, 3], dtype=float)"
   ]
  },
  {
   "cell_type": "code",
   "execution_count": null,
   "id": "c258394b",
   "metadata": {
    "lines_to_next_cell": 2
   },
   "outputs": [],
   "source": [
    "np.ones_like(a)"
   ]
  },
  {
   "cell_type": "code",
   "execution_count": null,
   "id": "b6190ddd",
   "metadata": {
    "slideshow": {
     "slide_type": "-"
    }
   },
   "outputs": [],
   "source": [
    "np.ones((2, 3))"
   ]
  },
  {
   "cell_type": "code",
   "execution_count": null,
   "id": "7c53bd50",
   "metadata": {},
   "outputs": [],
   "source": [
    "np.identity(3)"
   ]
  },
  {
   "cell_type": "code",
   "execution_count": null,
   "id": "6b9bf8c4",
   "metadata": {},
   "outputs": [],
   "source": [
    "np.fromfunction(lambda i, j: i+j+1, (3, 3))"
   ]
  },
  {
   "cell_type": "markdown",
   "id": "173ee1ca",
   "metadata": {
    "slideshow": {
     "slide_type": "slide"
    }
   },
   "source": [
    "### Array math\n",
    "\n",
    "* Basic\\alert elementwise math (given two arrays`a, b` ):\n",
    "\n",
    "* `a + b`  $\\rightarrow$ `add(a, b)`\n",
    "* `a - b` , $\\rightarrow$ `subtract(a, b)`\n",
    "* `a * b` , $\\rightarrow$ `multiply(a, b)`\n",
    "* `a / b` , $\\rightarrow$ `divide(a, b)`\n",
    "* `a % b` , $\\rightarrow$ `remainder(a, b)`\n",
    "* `a ** b` , $\\rightarrow$ `power(a, b)`\n",
    "* Inplace operators:`a += b` , or`add(a, b, a)`\n",
    "* Note: What happens if `a` has dtype `int`  and `b` `float`?"
   ]
  },
  {
   "cell_type": "markdown",
   "id": "2eb86631",
   "metadata": {
    "slideshow": {
     "slide_type": "slide"
    }
   },
   "source": [
    "### Array math\n",
    "\n",
    "* Logical operations:`==, !=, <, >` , etc.\n",
    "\n",
    "* `sin(x), arcsin(x), sinh(x)`, `exp(x), sqrt(x)`  etc.\n",
    "\n",
    "* `sum(x, axis=0), product(x, axis=0)`\n",
    "* `dot(a, b)`: Or use `@`"
   ]
  },
  {
   "cell_type": "markdown",
   "id": "99f9380a",
   "metadata": {
    "slideshow": {
     "slide_type": "slide"
    }
   },
   "source": [
    "### Convenience functions:`loadtxt`\n",
    "\n",
    "* `loadtxt(file_name)`: already seen this!\n",
    "\n",
    "* `savetxt(file_name, data)` : saves data to a text file and\n",
    "\n",
    "* `load(fname, **kw)`: Load a binary numpy file. Lot more powerful.\n",
    "* `save(fname, data)`: Save array to binary numpy file.\n",
    "* `savez(fname, *args, **kw)`: Save several arrays into a single file in ``.npz`` format.\n",
    "* `savez_compressed(fname, *args, **kw)`: Same as `savez` but also compresses the file."
   ]
  },
  {
   "cell_type": "code",
   "execution_count": null,
   "id": "d6da4801",
   "metadata": {
    "slideshow": {
     "slide_type": "-"
    }
   },
   "outputs": [],
   "source": [
    "data = np.loadtxt('../data/pendulum.txt')\n",
    "data.shape"
   ]
  },
  {
   "cell_type": "markdown",
   "id": "2dab9d58",
   "metadata": {},
   "source": [
    "### Exercise\n",
    "\n",
    "Convert this 90x2 shaped data and extract this into two 90 element columns."
   ]
  },
  {
   "cell_type": "code",
   "execution_count": null,
   "id": "f6d11e25",
   "metadata": {},
   "outputs": [],
   "source": [
    "# Solution"
   ]
  },
  {
   "cell_type": "markdown",
   "id": "6afc8e44",
   "metadata": {},
   "source": [
    "### `savetxt, savez` and `load`\n"
   ]
  },
  {
   "cell_type": "code",
   "execution_count": null,
   "id": "7e4b719e",
   "metadata": {},
   "outputs": [],
   "source": [
    "np.savetxt('test.txt', data)  # Overwrites the text file!"
   ]
  },
  {
   "cell_type": "code",
   "execution_count": null,
   "id": "715d4384",
   "metadata": {},
   "outputs": [],
   "source": [
    "# savez is very handy.\n",
    "x, y = data.T\n",
    "np.savez('test.npz', x=x, y=y, z=np.random.random(10))"
   ]
  },
  {
   "cell_type": "code",
   "execution_count": null,
   "id": "68b14159",
   "metadata": {},
   "outputs": [],
   "source": [
    "# Loading back the data.\n",
    "data = np.load('test.npz')\n",
    "data['x']"
   ]
  },
  {
   "cell_type": "code",
   "execution_count": null,
   "id": "ab42b8a3",
   "metadata": {},
   "outputs": [],
   "source": [
    "data['y']"
   ]
  },
  {
   "cell_type": "code",
   "execution_count": null,
   "id": "1a7d2737",
   "metadata": {},
   "outputs": [],
   "source": [
    "data['z']"
   ]
  },
  {
   "cell_type": "markdown",
   "id": "342cac6a",
   "metadata": {},
   "source": [
    "## Matrices\n",
    "\n",
    "All matrix operations are performed using arrays"
   ]
  },
  {
   "cell_type": "markdown",
   "id": "8ffe9e45",
   "metadata": {
    "slideshow": {
     "slide_type": "slide"
    }
   },
   "source": [
    "### Initializing\n"
   ]
  },
  {
   "cell_type": "code",
   "execution_count": null,
   "id": "f206263c",
   "metadata": {
    "slideshow": {
     "slide_type": "-"
    }
   },
   "outputs": [],
   "source": [
    "c = np.array([[11, 12, 13],\n",
    "              [21, 22, 23],\n",
    "              [31, 32, 33]])\n",
    "c"
   ]
  },
  {
   "cell_type": "markdown",
   "id": "762cdc20",
   "metadata": {
    "slideshow": {
     "slide_type": "slide"
    }
   },
   "source": [
    "### Initializing some special matrices\n"
   ]
  },
  {
   "cell_type": "code",
   "execution_count": null,
   "id": "cc6e03f3",
   "metadata": {
    "slideshow": {
     "slide_type": "-"
    }
   },
   "outputs": [],
   "source": [
    "np.ones((3, 5))"
   ]
  },
  {
   "cell_type": "code",
   "execution_count": null,
   "id": "31cf51ed",
   "metadata": {},
   "outputs": [],
   "source": [
    "np.ones_like(c)"
   ]
  },
  {
   "cell_type": "code",
   "execution_count": null,
   "id": "a3dffcc7",
   "metadata": {},
   "outputs": [],
   "source": [
    "np.identity(2)"
   ]
  },
  {
   "cell_type": "markdown",
   "id": "2fb7c4c6",
   "metadata": {
    "slideshow": {
     "slide_type": "slide"
    }
   },
   "source": [
    "### Accessing elements\n"
   ]
  },
  {
   "cell_type": "code",
   "execution_count": null,
   "id": "0fdd8330",
   "metadata": {
    "lines_to_next_cell": 2
   },
   "outputs": [],
   "source": [
    "c[1][2]"
   ]
  },
  {
   "cell_type": "code",
   "execution_count": null,
   "id": "493b3c07",
   "metadata": {
    "lines_to_next_cell": 2,
    "slideshow": {
     "slide_type": "-"
    }
   },
   "outputs": [],
   "source": [
    "c[1,2]"
   ]
  },
  {
   "cell_type": "code",
   "execution_count": null,
   "id": "e7db82fd",
   "metadata": {
    "lines_to_next_cell": 2,
    "slideshow": {
     "slide_type": "-"
    }
   },
   "outputs": [],
   "source": [
    "c[1]"
   ]
  },
  {
   "cell_type": "markdown",
   "id": "1b00bb64",
   "metadata": {
    "slideshow": {
     "slide_type": "slide"
    }
   },
   "source": [
    "### Changing elements\n"
   ]
  },
  {
   "cell_type": "code",
   "execution_count": null,
   "id": "603a0cee",
   "metadata": {
    "slideshow": {
     "slide_type": "-"
    }
   },
   "outputs": [],
   "source": [
    "c[1,1] = -22\n",
    "c"
   ]
  },
  {
   "cell_type": "code",
   "execution_count": null,
   "id": "a18fd276",
   "metadata": {},
   "outputs": [],
   "source": [
    "c[1] = 0\n",
    "c"
   ]
  },
  {
   "cell_type": "markdown",
   "id": "9e7a5b48",
   "metadata": {},
   "source": [
    "### Exercise\n",
    "\n",
    "How do you access one column?"
   ]
  },
  {
   "cell_type": "code",
   "execution_count": null,
   "id": "bac3de21",
   "metadata": {},
   "outputs": [],
   "source": []
  },
  {
   "cell_type": "markdown",
   "id": "b1655cd9",
   "metadata": {
    "slideshow": {
     "slide_type": "slide"
    }
   },
   "source": [
    "### Slicing\n"
   ]
  },
  {
   "cell_type": "code",
   "execution_count": null,
   "id": "7737dfd6",
   "metadata": {
    "lines_to_next_cell": 2,
    "slideshow": {
     "slide_type": "-"
    }
   },
   "outputs": [],
   "source": [
    "c[:, 1]"
   ]
  },
  {
   "cell_type": "code",
   "execution_count": null,
   "id": "db8cd788",
   "metadata": {
    "lines_to_next_cell": 2,
    "slideshow": {
     "slide_type": "-"
    }
   },
   "outputs": [],
   "source": [
    "c[1, :]"
   ]
  },
  {
   "cell_type": "code",
   "execution_count": null,
   "id": "e4da336b",
   "metadata": {
    "slideshow": {
     "slide_type": "-"
    }
   },
   "outputs": [],
   "source": [
    "c[0:2, :]"
   ]
  },
  {
   "cell_type": "code",
   "execution_count": null,
   "id": "28636d0d",
   "metadata": {
    "lines_to_next_cell": 2
   },
   "outputs": [],
   "source": [
    "c[1:3, :]"
   ]
  },
  {
   "cell_type": "code",
   "execution_count": null,
   "id": "ed3f10ce",
   "metadata": {
    "slideshow": {
     "slide_type": "-"
    }
   },
   "outputs": [],
   "source": [
    "c[:2, :]"
   ]
  },
  {
   "cell_type": "code",
   "execution_count": null,
   "id": "fde49a00",
   "metadata": {},
   "outputs": [],
   "source": [
    "c[1:, :]"
   ]
  },
  {
   "cell_type": "code",
   "execution_count": null,
   "id": "35e1e1f4",
   "metadata": {},
   "outputs": [],
   "source": [
    "c[1:, :2]"
   ]
  },
  {
   "cell_type": "markdown",
   "id": "5c50b3d5",
   "metadata": {
    "slideshow": {
     "slide_type": "slide"
    }
   },
   "source": [
    "### Striding\n"
   ]
  },
  {
   "cell_type": "code",
   "execution_count": null,
   "id": "bedc01a5",
   "metadata": {
    "slideshow": {
     "slide_type": "-"
    }
   },
   "outputs": [],
   "source": [
    "c[::2, :]"
   ]
  },
  {
   "cell_type": "code",
   "execution_count": null,
   "id": "bbbe46f8",
   "metadata": {},
   "outputs": [],
   "source": [
    "c[:, ::2]"
   ]
  },
  {
   "cell_type": "code",
   "execution_count": null,
   "id": "e63f34ab",
   "metadata": {},
   "outputs": [],
   "source": [
    "c[::2, ::2]"
   ]
  },
  {
   "cell_type": "markdown",
   "id": "042bd578",
   "metadata": {
    "slideshow": {
     "slide_type": "slide"
    }
   },
   "source": [
    "## Elementary image processing\n",
    "\n",
    "Let us see how to load a PNG image into a numpy array and plot it."
   ]
  },
  {
   "cell_type": "code",
   "execution_count": null,
   "id": "a543d96f",
   "metadata": {
    "slideshow": {
     "slide_type": "-"
    }
   },
   "outputs": [],
   "source": [
    "a = plt.imread('../data/penguins.png')"
   ]
  },
  {
   "cell_type": "code",
   "execution_count": null,
   "id": "fd8da4fd",
   "metadata": {},
   "outputs": [],
   "source": [
    "type(a)"
   ]
  },
  {
   "cell_type": "code",
   "execution_count": null,
   "id": "fefdedc1",
   "metadata": {},
   "outputs": [],
   "source": [
    "a.shape"
   ]
  },
  {
   "cell_type": "code",
   "execution_count": null,
   "id": "12123d6b",
   "metadata": {},
   "outputs": [],
   "source": [
    "plt.imshow(a);"
   ]
  },
  {
   "cell_type": "markdown",
   "id": "9d5d4051",
   "metadata": {},
   "source": [
    "\n",
    "- `imread`  returns an array of shape (370, 370, 4) which represents an\n",
    "  image of 370x370 pixels and 4 channels.\n",
    "- The 4 channels represent R, G, B, Alpha\n",
    "- `imshow`  renders the array as an image."
   ]
  },
  {
   "cell_type": "markdown",
   "id": "a9169d72",
   "metadata": {},
   "source": [
    "\n",
    "Instead of using matplotlib's imread which is limited, one can use\n",
    "[imageio](https://imageio.github.io)"
   ]
  },
  {
   "cell_type": "code",
   "execution_count": null,
   "id": "c864533f",
   "metadata": {},
   "outputs": [],
   "source": [
    "import imageio\n",
    "a = imageio.imread(\"../data/penguins.png\")"
   ]
  },
  {
   "cell_type": "code",
   "execution_count": null,
   "id": "8b71e9f6",
   "metadata": {},
   "outputs": [],
   "source": [
    "plt.imshow(a)"
   ]
  },
  {
   "cell_type": "markdown",
   "id": "cc275b28",
   "metadata": {},
   "source": [
    "### Showing the different channels of the image.\n",
    "\n",
    "### Exercise\n",
    "- Extract the red channel of the image and show it."
   ]
  },
  {
   "cell_type": "code",
   "execution_count": null,
   "id": "619fc897",
   "metadata": {},
   "outputs": [],
   "source": [
    "# Solution"
   ]
  },
  {
   "cell_type": "markdown",
   "id": "21e32cd5",
   "metadata": {},
   "source": [
    "### How can we see things in different colors?\n",
    "\n",
    "- Matplotlib provides a ton of different colormaps\n",
    "- First let us understand what a colormap is.\n",
    "- Read more in the matplotlib docs here: https://matplotlib.org/stable/users/explain/colors/colormaps.html"
   ]
  },
  {
   "cell_type": "code",
   "execution_count": null,
   "id": "8798ddd3",
   "metadata": {},
   "outputs": [],
   "source": [
    "list(plt.colormaps)"
   ]
  },
  {
   "cell_type": "code",
   "execution_count": null,
   "id": "875b58fb",
   "metadata": {},
   "outputs": [],
   "source": [
    "plt.imshow(a[:, :, 0], cmap='Reds')"
   ]
  },
  {
   "cell_type": "markdown",
   "id": "149d884d",
   "metadata": {},
   "source": [
    "### Showing all the different channels?\n",
    "\n",
    "- Use subplots"
   ]
  },
  {
   "cell_type": "code",
   "execution_count": null,
   "id": "4667e29c",
   "metadata": {},
   "outputs": [],
   "source": [
    "plt.figure(figsize=(10, 5))\n",
    "plt.subplot(2, 2, 1)\n",
    "plt.imshow(a)\n",
    "plt.subplot(2, 2, 2)\n",
    "plt.imshow(a[:, :, 0], cmap='Reds')\n",
    "plt.imshow(2, 2, 3)\n",
    "plt.imshow(a[..., 1], cmap='Greens')  # Notice the use of ellipsis\n",
    "plt.imshow(2, 2, 4)\n",
    "plt.imshow(a[..., 2], cmap='Blues');"
   ]
  },
  {
   "cell_type": "markdown",
   "id": "48198957",
   "metadata": {},
   "source": [
    "### Showing a histogram of the red channel\n",
    "\n",
    "- Cannot blindly use `plt.hist` as the array is not 1D\n",
    "- We have to \"ravel\" or \"flatten\" it."
   ]
  },
  {
   "cell_type": "code",
   "execution_count": null,
   "id": "54fcf796",
   "metadata": {},
   "outputs": [],
   "source": [
    "plt.hist(a[..., 0].flat, bins='auto')"
   ]
  },
  {
   "cell_type": "code",
   "execution_count": null,
   "id": "8e1e11d0",
   "metadata": {},
   "outputs": [],
   "source": [
    "plt.hist(a[..., 1].ravel(), bins='auto')"
   ]
  },
  {
   "cell_type": "markdown",
   "id": "2391d281",
   "metadata": {},
   "source": [
    "### Exercise\n",
    "\n",
    "Make a histogram for each of the 4 channels and plot these in a single\n",
    "figure with subplots."
   ]
  },
  {
   "cell_type": "code",
   "execution_count": null,
   "id": "18e55e69",
   "metadata": {},
   "outputs": [],
   "source": []
  },
  {
   "cell_type": "markdown",
   "id": "6572565e",
   "metadata": {
    "slideshow": {
     "slide_type": "slide"
    }
   },
   "source": [
    "### Slicing and Striding Exercises\n",
    "\n",
    "* Crop the penguin image to get the top-left quarter\n",
    "\n",
    "* Crop the image to get only the face of the baby penguin\n",
    "\n",
    "* Resize image to half by dropping alternate pixels\n"
   ]
  },
  {
   "cell_type": "code",
   "execution_count": null,
   "id": "6b2140cd",
   "metadata": {},
   "outputs": [],
   "source": [
    "# Solution"
   ]
  },
  {
   "cell_type": "code",
   "execution_count": null,
   "id": "8f4fd4ec",
   "metadata": {},
   "outputs": [],
   "source": []
  },
  {
   "cell_type": "markdown",
   "id": "ab6d4cec",
   "metadata": {
    "slideshow": {
     "slide_type": "slide"
    }
   },
   "source": [
    "### Transpose of a Matrix\n"
   ]
  },
  {
   "cell_type": "code",
   "execution_count": null,
   "id": "9e312d87",
   "metadata": {
    "slideshow": {
     "slide_type": "-"
    }
   },
   "outputs": [],
   "source": [
    "a = np.array([[1,  1,  2, -1],\n",
    "              [2,  5, -1, -9],\n",
    "              [2,  1, -1,  3],\n",
    "              [1, -3,  2,  7]])\n",
    "a.T"
   ]
  },
  {
   "cell_type": "markdown",
   "id": "7d0fb8fa",
   "metadata": {
    "slideshow": {
     "slide_type": "slide"
    }
   },
   "source": [
    "### Elementwise operations\n"
   ]
  },
  {
   "cell_type": "code",
   "execution_count": null,
   "id": "4e934a94",
   "metadata": {
    "slideshow": {
     "slide_type": "-"
    }
   },
   "outputs": [],
   "source": [
    "b = np.array([[3, 2, -1, 5],\n",
    "              [2, -2, 4, 9],\n",
    "              [-1, 0.5, -1, -7],\n",
    "              [9, -5, 7, 3]])\n",
    "a + b"
   ]
  },
  {
   "cell_type": "code",
   "execution_count": null,
   "id": "0a86a1fa",
   "metadata": {},
   "outputs": [],
   "source": [
    "a*b"
   ]
  },
  {
   "cell_type": "markdown",
   "id": "14bab706",
   "metadata": {},
   "source": [
    "### The `axis` argument\n",
    "\n",
    "Consider this:"
   ]
  },
  {
   "cell_type": "code",
   "execution_count": null,
   "id": "5e512c32",
   "metadata": {},
   "outputs": [],
   "source": [
    "np.sum(a)"
   ]
  },
  {
   "cell_type": "code",
   "execution_count": null,
   "id": "4c76e29d",
   "metadata": {
    "lines_to_next_cell": 0
   },
   "outputs": [],
   "source": [
    "# Recall that a is\n",
    "a"
   ]
  },
  {
   "cell_type": "code",
   "execution_count": null,
   "id": "088e5fe3",
   "metadata": {},
   "outputs": [],
   "source": [
    "# What if you want to sum across the rows or columns?\n",
    "np.sum(a, axis=0)  # Rows?"
   ]
  },
  {
   "cell_type": "code",
   "execution_count": null,
   "id": "48ff2d8b",
   "metadata": {},
   "outputs": [],
   "source": [
    "np.sum(a, axis=1)  # Rows?"
   ]
  },
  {
   "cell_type": "markdown",
   "id": "323c57f9",
   "metadata": {
    "lines_to_next_cell": 2
   },
   "source": [
    "\n",
    "- Many functions take the axis argument, as this is very useful."
   ]
  },
  {
   "cell_type": "markdown",
   "id": "d4e55ac6",
   "metadata": {
    "slideshow": {
     "slide_type": "slide"
    }
   },
   "source": [
    "### Matrix Multiplication\n"
   ]
  },
  {
   "cell_type": "code",
   "execution_count": null,
   "id": "57de3e3f",
   "metadata": {},
   "outputs": [],
   "source": [
    "np.dot(a, b)"
   ]
  },
  {
   "cell_type": "code",
   "execution_count": null,
   "id": "30f48dbd",
   "metadata": {},
   "outputs": [],
   "source": [
    "# Easier to do this!\n",
    "a @ b  # @ is the matmult operation"
   ]
  },
  {
   "cell_type": "markdown",
   "id": "d67e93e8",
   "metadata": {
    "slideshow": {
     "slide_type": "slide"
    }
   },
   "source": [
    "## Linear algebra\n"
   ]
  },
  {
   "cell_type": "code",
   "execution_count": null,
   "id": "b6fd037a",
   "metadata": {
    "lines_to_next_cell": 2
   },
   "outputs": [],
   "source": [
    "np.linalg.inv(a)"
   ]
  },
  {
   "cell_type": "code",
   "execution_count": null,
   "id": "d85abc22",
   "metadata": {},
   "outputs": [],
   "source": [
    "a @ np.linalg.inv(a)"
   ]
  },
  {
   "cell_type": "code",
   "execution_count": null,
   "id": "f8078e68",
   "metadata": {},
   "outputs": [],
   "source": [
    "# The determinant\n",
    "np.linalg.det(a)"
   ]
  },
  {
   "cell_type": "markdown",
   "id": "4a22658a",
   "metadata": {
    "slideshow": {
     "slide_type": "slide"
    }
   },
   "source": [
    "### Eigenvalues and Eigen Vectors\n"
   ]
  },
  {
   "cell_type": "code",
   "execution_count": null,
   "id": "b3e748eb",
   "metadata": {
    "slideshow": {
     "slide_type": "-"
    }
   },
   "outputs": [],
   "source": [
    "e = np.array([[3, 2, 4], [2, 0, 2], [4, 2, 3]])\n",
    "np.linalg.eig(e)"
   ]
  },
  {
   "cell_type": "code",
   "execution_count": null,
   "id": "86ad7b78",
   "metadata": {},
   "outputs": [],
   "source": [
    "np.linalg.eigvals(e)"
   ]
  },
  {
   "cell_type": "markdown",
   "id": "271b48f8",
   "metadata": {
    "slideshow": {
     "slide_type": "slide"
    }
   },
   "source": [
    "### Computing Norms\n"
   ]
  },
  {
   "cell_type": "code",
   "execution_count": null,
   "id": "3c105c52",
   "metadata": {},
   "outputs": [],
   "source": [
    "np.linalg.norm(a)"
   ]
  },
  {
   "cell_type": "code",
   "execution_count": null,
   "id": "82ecfb72",
   "metadata": {},
   "outputs": [],
   "source": [
    "np.linalg.norm(e)"
   ]
  },
  {
   "cell_type": "markdown",
   "id": "8f2c2f4b",
   "metadata": {
    "slideshow": {
     "slide_type": "slide"
    }
   },
   "source": [
    "### Singular Value Decomposition\n"
   ]
  },
  {
   "cell_type": "code",
   "execution_count": null,
   "id": "270508a1",
   "metadata": {
    "slideshow": {
     "slide_type": "-"
    }
   },
   "outputs": [],
   "source": [
    "np.linalg.svd(e)"
   ]
  },
  {
   "cell_type": "markdown",
   "id": "9f12f2d9",
   "metadata": {
    "slideshow": {
     "slide_type": "slide"
    }
   },
   "source": [
    "## Least Squares Fit (linear regression)\n"
   ]
  },
  {
   "cell_type": "markdown",
   "id": "501497ab",
   "metadata": {
    "lines_to_next_cell": 0,
    "slideshow": {
     "slide_type": "slide"
    }
   },
   "source": [
    "\n",
    "- Linear trend visible between $L$  vs. $T^2$\n"
   ]
  },
  {
   "cell_type": "code",
   "execution_count": null,
   "id": "6c58d96a",
   "metadata": {},
   "outputs": [],
   "source": [
    "L, t = np.loadtxt('../data/pendulum.txt', unpack=True)\n",
    "tsq = t*t"
   ]
  },
  {
   "cell_type": "code",
   "execution_count": null,
   "id": "10dafe0a",
   "metadata": {},
   "outputs": [],
   "source": [
    "plt.scatter(L, tsq)"
   ]
  },
  {
   "cell_type": "markdown",
   "id": "3873ccb0",
   "metadata": {
    "slideshow": {
     "slide_type": "slide"
    }
   },
   "source": [
    "- This plot is not a straight line, can we do better?\n",
    "- Can we find a best-fit line?"
   ]
  },
  {
   "cell_type": "markdown",
   "id": "7f3f61de",
   "metadata": {
    "slideshow": {
     "slide_type": "slide"
    }
   },
   "source": [
    "### Matrix Formulation\n",
    "\n",
    "- We need to fit a line through points for the equation $T^2 = m \\cdot L+c$\n",
    "- In matrix form, the equation can be represented as $T_{sq} = A \\cdot p$,\n",
    "\n",
    "* We need to find $p$ to plot the line\n"
   ]
  },
  {
   "cell_type": "markdown",
   "id": "beae686a",
   "metadata": {
    "lines_to_next_cell": 2,
    "slideshow": {
     "slide_type": "slide"
    }
   },
   "source": [
    "$$\n",
    "\\begin{bmatrix}\n",
    "  T^2_1 \\\\\n",
    "  T^2_2 \\\\\n",
    "  \\vdots\\\\\n",
    "  T^2_N \\\\\n",
    "\\end{bmatrix}\n",
    "=\n",
    "\\begin{bmatrix}\n",
    "  L_1 & 1 \\\\\n",
    "  L_2 & 1 \\\\\n",
    "  \\vdots & \\vdots\\\\\n",
    "  L_N & 1 \\\\\n",
    "\\end{bmatrix}\n",
    "\\cdot\\begin{bmatrix}\n",
    "  m\\\\\n",
    "  c\\\\\n",
    "  \\end{bmatrix}\n",
    "$$\n",
    "Or\n",
    "\n",
    "$$T_{sq} = A\\cdot p$$\n"
   ]
  },
  {
   "cell_type": "markdown",
   "id": "3c8dbd50",
   "metadata": {
    "slideshow": {
     "slide_type": "slide"
    }
   },
   "source": [
    "### Generating $A$\n"
   ]
  },
  {
   "cell_type": "code",
   "execution_count": null,
   "id": "dae02b02",
   "metadata": {
    "lines_to_next_cell": 2,
    "slideshow": {
     "slide_type": "-"
    }
   },
   "outputs": [],
   "source": [
    "A = np.array([L, np.ones_like(L)])\n",
    "A = A.T"
   ]
  },
  {
   "cell_type": "markdown",
   "id": "2a1b2047",
   "metadata": {
    "slideshow": {
     "slide_type": "slide"
    }
   },
   "source": [
    "### Computing the least-square fit\n",
    "\n",
    "* Now use the `np.linalg.lstsq`  function\n",
    "\n",
    "* Along with other things, it returns the least squares solution\n"
   ]
  },
  {
   "cell_type": "code",
   "execution_count": null,
   "id": "7c1a3214",
   "metadata": {
    "lines_to_next_cell": 2,
    "slideshow": {
     "slide_type": "-"
    }
   },
   "outputs": [],
   "source": [
    "result = np.linalg.lstsq(A, tsq)\n",
    "coef = result[0]"
   ]
  },
  {
   "cell_type": "markdown",
   "id": "167cf1ec",
   "metadata": {
    "slideshow": {
     "slide_type": "slide"
    }
   },
   "source": [
    "### Least Square Fit Line ...\n",
    "We get the points of the line from `coef`"
   ]
  },
  {
   "cell_type": "code",
   "execution_count": null,
   "id": "246f3e02",
   "metadata": {
    "lines_to_next_cell": 2,
    "slideshow": {
     "slide_type": "-"
    }
   },
   "outputs": [],
   "source": [
    "t_line = coef[0]*L + coef[1]\n",
    "t_line.shape"
   ]
  },
  {
   "cell_type": "markdown",
   "id": "657262ff",
   "metadata": {
    "slideshow": {
     "slide_type": "-"
    }
   },
   "source": [
    "* Now plot`t_line`  vs.`L` , to get the least squares fit line.\n"
   ]
  },
  {
   "cell_type": "code",
   "execution_count": null,
   "id": "3242c599",
   "metadata": {
    "lines_to_next_cell": 2,
    "slideshow": {
     "slide_type": "-"
    }
   },
   "outputs": [],
   "source": [
    "plt.plot(L, t_line, 'r')\n",
    "plt.plot(L, tsq, 'o');"
   ]
  },
  {
   "cell_type": "markdown",
   "id": "44b9c2ab",
   "metadata": {
    "slideshow": {
     "slide_type": "slide"
    }
   },
   "source": [
    "## Advanced concepts\n",
    "\n",
    "- Broadcasting and broadcasting rules\n",
    "- Special indexing\n",
    "- Masked indexing\n"
   ]
  },
  {
   "cell_type": "markdown",
   "id": "202855f3",
   "metadata": {
    "slideshow": {
     "slide_type": "slide"
    }
   },
   "source": [
    "### Simple broadcasting examples\n"
   ]
  },
  {
   "cell_type": "code",
   "execution_count": null,
   "id": "4b13e7c7",
   "metadata": {},
   "outputs": [],
   "source": [
    "a = np.array([1.0, 2, 3.0])\n",
    "b = 2.0\n",
    "a * b"
   ]
  },
  {
   "cell_type": "code",
   "execution_count": null,
   "id": "b16b9417",
   "metadata": {},
   "outputs": [],
   "source": [
    "a = np.ones((3, 3))\n",
    "b = np.array([1, 2, 3])\n",
    "a * b"
   ]
  },
  {
   "cell_type": "code",
   "execution_count": null,
   "id": "b0d8411b",
   "metadata": {},
   "outputs": [],
   "source": [
    "b*a"
   ]
  },
  {
   "cell_type": "code",
   "execution_count": null,
   "id": "603c9d18",
   "metadata": {},
   "outputs": [],
   "source": [
    "a = np.array([1.0, 2, 3.0])\n",
    "a.T"
   ]
  },
  {
   "cell_type": "code",
   "execution_count": null,
   "id": "ca83b636",
   "metadata": {
    "lines_to_next_cell": 2
   },
   "outputs": [],
   "source": [
    "a = np.array([1.0, 2, 3.0])\n",
    "b = np.ones(5)\n",
    "a * b"
   ]
  },
  {
   "cell_type": "markdown",
   "id": "311405ed",
   "metadata": {
    "slideshow": {
     "slide_type": "slide"
    }
   },
   "source": [
    "### Broadcasting rules\n",
    "\n",
    "- Consider `A <operator> B`\n",
    "\n",
    "- Compare their shapes element-wise starting with the rightmost dimension\n",
    "  going left.\n",
    "\n",
    "- Two dimensions are compatible if:\n",
    "\n",
    "  - they are equal\n",
    "  - or one of them is 1 or `None`\n",
    "\n",
    "- Do not need the same number of dimensions\n"
   ]
  },
  {
   "cell_type": "markdown",
   "id": "df9d99f2",
   "metadata": {
    "lines_to_next_cell": 2,
    "slideshow": {
     "slide_type": "slide"
    }
   },
   "source": [
    "### Illustration\n",
    "\n",
    "<br/>\n",
    "\n",
    "<img height=\"80%\" src=\"images/broadcasting_1.png\" align=\"center\"/>\n",
    "\n",
    "<br/>\n",
    "<span style=\"font-size:50%\" >\n",
    "Image source: https://numpy.org/doc/stable/user/basics.broadcasting.html\n",
    "</span>\n"
   ]
  },
  {
   "cell_type": "markdown",
   "id": "775fcec6",
   "metadata": {
    "slideshow": {
     "slide_type": "slide"
    }
   },
   "source": [
    "### Examples\n",
    "\n",
    "- From the documentation!\n",
    "\n",
    "```\n",
    "Image  (3d array): 256 x 256 x 3\n",
    "Scale  (1d array):             3\n",
    "Result (3d array): 256 x 256 x 3\n",
    "```\n",
    "\n",
    "```\n",
    "A      (4d array):  8 x 1 x 6 x 1\n",
    "B      (3d array):      7 x 1 x 5\n",
    "Result (4d array):  8 x 7 x 6 x 5\n",
    "```\n"
   ]
  },
  {
   "cell_type": "markdown",
   "id": "e2c1af42",
   "metadata": {},
   "source": [
    "```\n",
    "A      (2d array):      2 x 1\n",
    "B      (3d array):  8 x 4 x 3\n",
    "```\n"
   ]
  },
  {
   "cell_type": "markdown",
   "id": "80cff80b",
   "metadata": {
    "slideshow": {
     "slide_type": "slide"
    }
   },
   "source": [
    "### Examples\n"
   ]
  },
  {
   "cell_type": "code",
   "execution_count": null,
   "id": "3035ed60",
   "metadata": {},
   "outputs": [],
   "source": [
    "a = np.fromfunction(lambda i, j: 10*i, (4, 3))\n",
    "a"
   ]
  },
  {
   "cell_type": "code",
   "execution_count": null,
   "id": "1189f46d",
   "metadata": {},
   "outputs": [],
   "source": [
    "b = np.array([1.0, 2.0, 3.0, 4.0])\n",
    "a + b"
   ]
  },
  {
   "cell_type": "code",
   "execution_count": null,
   "id": "017dcdd0",
   "metadata": {},
   "outputs": [],
   "source": [
    "b = np.array([1.0, 2.0, 3.0, 4.0]).reshape((4, 1))\n",
    "a + b"
   ]
  },
  {
   "cell_type": "markdown",
   "id": "ccae67a7",
   "metadata": {
    "slideshow": {
     "slide_type": "slide"
    }
   },
   "source": [
    "### Illustration\n",
    "\n",
    "<br/>\n",
    "\n",
    "<img height=\"80%\" src=\"images/broadcasting_2.png\" align=\"center\"/>\n",
    "\n",
    "<br/>\n",
    "<span style=\"font-size:50%\" >\n",
    "Image source: https://numpy.org/doc/stable/user/basics.broadcasting.html\n",
    "</span>\n"
   ]
  },
  {
   "cell_type": "markdown",
   "id": "a60165c4",
   "metadata": {
    "slideshow": {
     "slide_type": "slide"
    }
   },
   "source": [
    "### Examples\n",
    "\n",
    "- Introducing a new axis\n"
   ]
  },
  {
   "cell_type": "code",
   "execution_count": null,
   "id": "94fcb079",
   "metadata": {},
   "outputs": [],
   "source": [
    "# No magic!\n",
    "b = np.array([1.0, 2.0, 3.0, 4.0])\n",
    "a + b"
   ]
  },
  {
   "cell_type": "markdown",
   "id": "d7edcc69",
   "metadata": {},
   "source": [
    "- Use `np.newaxis` or `None`"
   ]
  },
  {
   "cell_type": "code",
   "execution_count": null,
   "id": "4bc954a7",
   "metadata": {},
   "outputs": [],
   "source": [
    "a = np.array([0.0, 10.0, 20.0, 30.0])\n",
    "b = np.array([1.0, 2.0, 3.0])\n",
    "a[:, np.newaxis] + b"
   ]
  },
  {
   "cell_type": "markdown",
   "id": "2cf958aa",
   "metadata": {
    "lines_to_next_cell": 2,
    "slideshow": {
     "slide_type": "slide"
    }
   },
   "source": [
    "### Illustration\n",
    "\n",
    "<br/>\n",
    "\n",
    "<img height=\"80%\" src=\"images/broadcasting_4.png\" align=\"center\"/>\n",
    "\n",
    "<br/>\n",
    "<span style=\"font-size:50%\" >\n",
    "Image source: https://numpy.org/doc/stable/user/basics.broadcasting.html\n",
    "</span>\n"
   ]
  },
  {
   "cell_type": "markdown",
   "id": "7308a237",
   "metadata": {
    "slideshow": {
     "slide_type": "slide"
    }
   },
   "source": [
    "## Special indexing\n",
    "\n",
    "- Can be indexed using arrays of indices"
   ]
  },
  {
   "cell_type": "code",
   "execution_count": null,
   "id": "7e72f5d8",
   "metadata": {},
   "outputs": [],
   "source": [
    "a = np.arange(12)**2\n",
    "i = np.array([10, 1, 3, 8, 5])\n",
    "a[i]"
   ]
  },
  {
   "cell_type": "code",
   "execution_count": null,
   "id": "2c0cfeab",
   "metadata": {},
   "outputs": [],
   "source": [
    "j = np.array([[3, 4], [9, 7]])\n",
    "a[j]"
   ]
  },
  {
   "cell_type": "code",
   "execution_count": null,
   "id": "43da4e41",
   "metadata": {},
   "outputs": [],
   "source": [
    "a.flags"
   ]
  },
  {
   "cell_type": "code",
   "execution_count": null,
   "id": "18f9df38",
   "metadata": {},
   "outputs": [],
   "source": [
    "a[i] = 4\n",
    "a"
   ]
  },
  {
   "cell_type": "markdown",
   "id": "e0677572",
   "metadata": {
    "slideshow": {
     "slide_type": "slide"
    }
   },
   "source": [
    "### More examples\n",
    "\n",
    "- Note: indices for each dimension must have same shape\n"
   ]
  },
  {
   "cell_type": "code",
   "execution_count": null,
   "id": "cf5b278f",
   "metadata": {},
   "outputs": [],
   "source": [
    "a = np.arange(12).reshape(3, 4)\n",
    "a"
   ]
  },
  {
   "cell_type": "code",
   "execution_count": null,
   "id": "e69eb040",
   "metadata": {},
   "outputs": [],
   "source": [
    "i = np.array([[0, 1],\n",
    "              [1, 2]])\n",
    "j = np.array([[2, 1],\n",
    "              [3, 3]])\n",
    "a[i, j]"
   ]
  },
  {
   "cell_type": "markdown",
   "id": "a8e89cd0",
   "metadata": {},
   "source": [
    "Warning:"
   ]
  },
  {
   "cell_type": "code",
   "execution_count": null,
   "id": "f61dee00",
   "metadata": {},
   "outputs": [],
   "source": [
    "a[i]"
   ]
  },
  {
   "cell_type": "code",
   "execution_count": null,
   "id": "bab0997c",
   "metadata": {
    "lines_to_next_cell": 2
   },
   "outputs": [],
   "source": [
    "a[np.array([i, j])]"
   ]
  },
  {
   "cell_type": "markdown",
   "id": "63e27fed",
   "metadata": {
    "slideshow": {
     "slide_type": "slide"
    }
   },
   "source": [
    "## Indexing with a boolean array\n",
    "\n",
    "- Very powerful\n",
    "- Allows one to vectorize conditionals"
   ]
  },
  {
   "cell_type": "code",
   "execution_count": null,
   "id": "f44e3ff4",
   "metadata": {},
   "outputs": [],
   "source": [
    "a = np.arange(12).reshape(3, 4)\n",
    "b = a > 4\n",
    "b"
   ]
  },
  {
   "cell_type": "code",
   "execution_count": null,
   "id": "0813f2c1",
   "metadata": {},
   "outputs": [],
   "source": [
    "a[b]"
   ]
  },
  {
   "cell_type": "code",
   "execution_count": null,
   "id": "f327e25e",
   "metadata": {},
   "outputs": [],
   "source": [
    "a[b] = 21\n",
    "a"
   ]
  },
  {
   "cell_type": "code",
   "execution_count": null,
   "id": "c2d56f44",
   "metadata": {},
   "outputs": [],
   "source": [
    "b = (a > 4) | (a % 3 == 0)\n",
    "b"
   ]
  },
  {
   "cell_type": "code",
   "execution_count": null,
   "id": "8aa09b7e",
   "metadata": {},
   "outputs": [],
   "source": []
  },
  {
   "cell_type": "markdown",
   "id": "612ff598",
   "metadata": {
    "slideshow": {
     "slide_type": "slide"
    }
   },
   "source": [
    "## Creating a grid of points\n",
    "\n",
    "- A box of 25x25 points between $[-2, -2]$ to $[2, 2]$\n"
   ]
  },
  {
   "cell_type": "code",
   "execution_count": null,
   "id": "e19f01da",
   "metadata": {},
   "outputs": [],
   "source": [
    "xo, yo = -2, -2\n",
    "n = 25\n",
    "dx = dy = 4.0/(n - 1)\n",
    "x = np.fromfunction(lambda i, j: xo + i*dx, (n, n))\n",
    "y = np.fromfunction(lambda i, j: yo + j*dy, (n, n))"
   ]
  },
  {
   "cell_type": "code",
   "execution_count": null,
   "id": "629e4fb2",
   "metadata": {},
   "outputs": [],
   "source": [
    "plt.scatter(x, y);"
   ]
  },
  {
   "cell_type": "code",
   "execution_count": null,
   "id": "4e672239",
   "metadata": {},
   "outputs": [],
   "source": [
    "# Easier way\n",
    "t = np.linspace(-2, 2, 25)\n",
    "x, y = np.meshgrid(t, t)"
   ]
  },
  {
   "cell_type": "code",
   "execution_count": null,
   "id": "9f9989c5",
   "metadata": {},
   "outputs": [],
   "source": [
    "plt.contourf(x, y, np.sin(x*x + y*y));"
   ]
  },
  {
   "cell_type": "markdown",
   "id": "bf4b6a9c",
   "metadata": {
    "lines_to_next_cell": 2,
    "slideshow": {
     "slide_type": "slide"
    }
   },
   "source": [
    "### Exercise\n",
    "\n",
    "- Plot interior of the unit circle by generating a collection of points\n",
    "  inside the circle.\n",
    "- Use what you have learned so far to do this without a loop.\n"
   ]
  },
  {
   "cell_type": "code",
   "execution_count": null,
   "id": "20e72248",
   "metadata": {},
   "outputs": [],
   "source": [
    "# Solution"
   ]
  },
  {
   "cell_type": "markdown",
   "id": "1a401d84",
   "metadata": {
    "slideshow": {
     "slide_type": "slide"
    }
   },
   "source": [
    "## Learn more\n",
    "\n",
    "* https://numpy.org/doc/stable/\n",
    "* https://numpy.org"
   ]
  }
 ],
 "metadata": {
  "kernelspec": {
   "display_name": "Python 3 (ipykernel)",
   "language": "python",
   "name": "python3"
  }
 },
 "nbformat": 4,
 "nbformat_minor": 5
}
