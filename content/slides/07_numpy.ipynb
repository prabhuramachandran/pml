{
 "cells": [
  {
   "cell_type": "markdown",
   "id": "6c7ee424",
   "metadata": {
    "lines_to_next_cell": 2,
    "slideshow": {
     "slide_type": "slide"
    }
   },
   "source": [
    "## NumPy arrays\n",
    "\n",
    "- Quick look at numpy arrays\n",
    "  - Basics\n",
    "  - Slicing\n",
    "  - Array creation\n",
    "- Multi-dimensional arrays\n",
    "  - Basics\n",
    "  - Matrices\n",
    "  - Image processing\n",
    "  - Solution of linear systems"
   ]
  },
  {
   "cell_type": "markdown",
   "id": "c4a98511",
   "metadata": {
    "slideshow": {
     "slide_type": "slide"
    }
   },
   "source": [
    "## The `numpy` module\n",
    "\n",
    "* Efficient, powerful array type\n",
    "* Abstracts out standard operations on arrays\n",
    "* Convenience functions\n",
    "* Fundamental and important\n",
    "  * The basis for all scientific/numerical computing\n",
    "  * Similar API for pytorch, tensorflow, cupy etc."
   ]
  },
  {
   "cell_type": "code",
   "execution_count": null,
   "id": "f1d8fdf8",
   "metadata": {},
   "outputs": [],
   "source": [
    "import matplotlib.pyplot as plt\n",
    "import numpy as np"
   ]
  },
  {
   "cell_type": "markdown",
   "id": "f97fba15",
   "metadata": {
    "slideshow": {
     "slide_type": "slide"
    }
   },
   "source": [
    "### `numpy` arrays\n",
    "\n",
    "* Fixed size (`arr.size`)\n",
    "* Contiguous block of memory\n",
    "* Same type (`arr.dtype`)\n",
    "* Arbitrary dimensionality: `arr.shape`\n",
    "* `shape` : extent (size) along each dimension\n",
    "* `arr.itemsize` : number of bytes per element\n",
    "* Note:`shape`  can change so long as the`size` is constant\n",
    "* Indices start from 0\n",
    "* Negative indices work like lists\n",
    "* Similar indexing/slicing as lists."
   ]
  },
  {
   "cell_type": "code",
   "execution_count": null,
   "id": "b7bce896",
   "metadata": {
    "slideshow": {
     "slide_type": "-"
    }
   },
   "outputs": [],
   "source": [
    "a = np.array([1, 2, 3, 4])\n",
    "b = np.array([2, 3, 4, 5])\n",
    "print(a[0], a[-1])\n",
    "print(\"b\", b[0], b[-1])"
   ]
  },
  {
   "cell_type": "code",
   "execution_count": null,
   "id": "2238bf17",
   "metadata": {},
   "outputs": [],
   "source": [
    "a[0] = -1\n",
    "a[0] = 1"
   ]
  },
  {
   "cell_type": "markdown",
   "id": "d667fa11",
   "metadata": {
    "slideshow": {
     "slide_type": "slide"
    }
   },
   "source": [
    "### Simple operations\n",
    "\n",
    "Basic NumPy operations are typically elementwise"
   ]
  },
  {
   "cell_type": "code",
   "execution_count": null,
   "id": "194f4c6d",
   "metadata": {
    "slideshow": {
     "slide_type": "-"
    }
   },
   "outputs": [],
   "source": [
    "a + b"
   ]
  },
  {
   "cell_type": "code",
   "execution_count": null,
   "id": "b9d194a5",
   "metadata": {
    "4slideshow": {
     "slide_type": "-"
    }
   },
   "outputs": [],
   "source": [
    "a*b"
   ]
  },
  {
   "cell_type": "code",
   "execution_count": null,
   "id": "cea46ad7",
   "metadata": {
    "slideshow": {
     "slide_type": "-"
    }
   },
   "outputs": [],
   "source": [
    "a/b"
   ]
  },
  {
   "cell_type": "code",
   "execution_count": null,
   "id": "c4a4bbdb",
   "metadata": {
    "lines_to_next_cell": 2,
    "slideshow": {
     "slide_type": "-"
    }
   },
   "outputs": [],
   "source": [
    "a//b"
   ]
  },
  {
   "cell_type": "markdown",
   "id": "933e65f6",
   "metadata": {
    "lines_to_next_cell": 0,
    "slideshow": {
     "slide_type": "slide"
    }
   },
   "source": [
    "### Examples\n",
    "$\\pi$  and `e`  are defined.\n"
   ]
  },
  {
   "cell_type": "code",
   "execution_count": null,
   "id": "90a774a9",
   "metadata": {
    "slideshow": {
     "slide_type": "-"
    }
   },
   "outputs": [],
   "source": [
    "x = np.linspace(0.0, 10.0, 200)\n",
    "x *= 2*np.pi/10\n",
    "# apply functions to array.\n",
    "y = np.sin(x)\n",
    "y = np.cos(x)"
   ]
  },
  {
   "cell_type": "code",
   "execution_count": null,
   "id": "9f554762",
   "metadata": {},
   "outputs": [],
   "source": [
    "# Setting the values is just like with lists.\n",
    "x[0] = -1\n",
    "print(x[0], x[-1])"
   ]
  },
  {
   "cell_type": "markdown",
   "id": "551b8f6a",
   "metadata": {
    "slideshow": {
     "slide_type": "slide"
    }
   },
   "source": [
    "### `size, shape`  etc.\n"
   ]
  },
  {
   "cell_type": "code",
   "execution_count": null,
   "id": "4f3f1f59",
   "metadata": {
    "lines_to_next_cell": 2,
    "slideshow": {
     "slide_type": "-"
    }
   },
   "outputs": [],
   "source": [
    "x = np.array([1., 2, 3, 4])\n",
    "x.size"
   ]
  },
  {
   "cell_type": "code",
   "execution_count": null,
   "id": "add2bd2a",
   "metadata": {},
   "outputs": [],
   "source": [
    "x.dtype"
   ]
  },
  {
   "cell_type": "code",
   "execution_count": null,
   "id": "0b9689b1",
   "metadata": {},
   "outputs": [],
   "source": [
    "x.shape"
   ]
  },
  {
   "cell_type": "code",
   "execution_count": null,
   "id": "7e19420d",
   "metadata": {},
   "outputs": [],
   "source": [
    "x.itemsize"
   ]
  },
  {
   "cell_type": "code",
   "execution_count": null,
   "id": "9361f3c7",
   "metadata": {},
   "outputs": [],
   "source": [
    "x.nbytes"
   ]
  },
  {
   "cell_type": "markdown",
   "id": "129b7124",
   "metadata": {
    "slideshow": {
     "slide_type": "slide"
    }
   },
   "source": [
    "### Multi-dimensional arrays\n"
   ]
  },
  {
   "cell_type": "code",
   "execution_count": null,
   "id": "5e28e124",
   "metadata": {
    "lines_to_next_cell": 2
   },
   "outputs": [],
   "source": [
    "a = np.array([[0, 1, 2, 3],\n",
    "              [10, 11, 12, 13]])\n",
    "a.shape  # (rows, columns)"
   ]
  },
  {
   "cell_type": "code",
   "execution_count": null,
   "id": "987e5451",
   "metadata": {
    "lines_to_next_cell": 2,
    "slideshow": {
     "slide_type": "-"
    }
   },
   "outputs": [],
   "source": [
    "a[1, 3]"
   ]
  },
  {
   "cell_type": "code",
   "execution_count": null,
   "id": "d88e63a9",
   "metadata": {
    "slideshow": {
     "slide_type": "-"
    }
   },
   "outputs": [],
   "source": [
    "a[1, 3] = -1\n",
    "a[1]  # The second row"
   ]
  },
  {
   "cell_type": "code",
   "execution_count": null,
   "id": "c42fe593",
   "metadata": {},
   "outputs": [],
   "source": [
    "a[1] = 0  # Entire row to zero.\n",
    "a"
   ]
  },
  {
   "cell_type": "markdown",
   "id": "5b842b03",
   "metadata": {
    "slideshow": {
     "slide_type": "slide"
    }
   },
   "source": [
    "### Slicing arrays\n"
   ]
  },
  {
   "cell_type": "code",
   "execution_count": null,
   "id": "4d56d0c4",
   "metadata": {
    "slideshow": {
     "slide_type": "-"
    }
   },
   "outputs": [],
   "source": [
    "a = np.array([[1, 2, 3], [4, 5, 6],\n",
    "              [7, 8, 9]])\n",
    "a[0, 1:3]"
   ]
  },
  {
   "cell_type": "code",
   "execution_count": null,
   "id": "0d7d82ab",
   "metadata": {
    "slideshow": {
     "slide_type": "-"
    }
   },
   "outputs": [],
   "source": [
    "a[1:, 1:]"
   ]
  },
  {
   "cell_type": "code",
   "execution_count": null,
   "id": "c8aa6f3e",
   "metadata": {},
   "outputs": [],
   "source": [
    "a[:, 2]"
   ]
  },
  {
   "cell_type": "markdown",
   "id": "d855453b",
   "metadata": {
    "slideshow": {
     "slide_type": "slide"
    }
   },
   "source": [
    "### Slicing np.arrays ...\n"
   ]
  },
  {
   "cell_type": "code",
   "execution_count": null,
   "id": "20c01146",
   "metadata": {
    "slideshow": {
     "slide_type": "-"
    }
   },
   "outputs": [],
   "source": [
    "a = np.array([[1, 2, 3], [4, 5, 6],\n",
    "              [7, 8, 9]])\n",
    "\n",
    "a[0::2, 0::2]  # Striding..."
   ]
  },
  {
   "cell_type": "markdown",
   "id": "0b7e48a1",
   "metadata": {
    "lines_to_next_cell": 0
   },
   "source": [
    "Slices refer to the same memory!"
   ]
  },
  {
   "cell_type": "code",
   "execution_count": null,
   "id": "9b4c5911",
   "metadata": {},
   "outputs": [],
   "source": [
    "a[::2, ::2] = 0\n",
    "a"
   ]
  },
  {
   "cell_type": "code",
   "execution_count": null,
   "id": "f8d66f57",
   "metadata": {},
   "outputs": [],
   "source": [
    "# What if?\n",
    "t = a[::2, ::2]\n",
    "t = 1"
   ]
  },
  {
   "cell_type": "markdown",
   "id": "1b68e83a",
   "metadata": {
    "lines_to_next_cell": 0
   },
   "source": [
    "Beware of the above, if you want to set all the values use this:"
   ]
  },
  {
   "cell_type": "code",
   "execution_count": null,
   "id": "eeac53e7",
   "metadata": {},
   "outputs": [],
   "source": [
    "t = a[::2, ::2]\n",
    "t[:] = 1\n",
    "a"
   ]
  },
  {
   "cell_type": "markdown",
   "id": "56720b20",
   "metadata": {
    "slideshow": {
     "slide_type": "slide"
    }
   },
   "source": [
    "### Array creation functions\n",
    "\n",
    "* `array(object)`\n",
    "* `linspace(start, stop, num=50)`\n",
    "* `ones(shape)`\n",
    "* `zeros((d1,...,dn))`\n",
    "* `empty((d1,...,dn))`\n",
    "* `identity(n)`\n",
    "* `ones_like(x)` ,`zeros_like(x)` ,`empty_like(x)`\n",
    "* `arange`\n",
    "* `fromfunction`\n",
    "* May pass an optional `dtype=`  keyword argument\n",
    "* For more dtypes see: `numpy.typecodes`"
   ]
  },
  {
   "cell_type": "markdown",
   "id": "fdf840d4",
   "metadata": {
    "slideshow": {
     "slide_type": "slide"
    }
   },
   "source": [
    "### Creation examples\n"
   ]
  },
  {
   "cell_type": "code",
   "execution_count": null,
   "id": "73a92d00",
   "metadata": {
    "slideshow": {
     "slide_type": "-"
    }
   },
   "outputs": [],
   "source": [
    "a = np.array([1, 2, 3], dtype=float)"
   ]
  },
  {
   "cell_type": "code",
   "execution_count": null,
   "id": "69f2b063",
   "metadata": {
    "lines_to_next_cell": 2
   },
   "outputs": [],
   "source": [
    "np.ones_like(a)"
   ]
  },
  {
   "cell_type": "code",
   "execution_count": null,
   "id": "6d70770f",
   "metadata": {
    "slideshow": {
     "slide_type": "-"
    }
   },
   "outputs": [],
   "source": [
    "np.ones((2, 3))"
   ]
  },
  {
   "cell_type": "code",
   "execution_count": null,
   "id": "daa264e5",
   "metadata": {},
   "outputs": [],
   "source": [
    "np.identity(3)"
   ]
  },
  {
   "cell_type": "code",
   "execution_count": null,
   "id": "78205aaf",
   "metadata": {},
   "outputs": [],
   "source": [
    "np.fromfunction(lambda i, j: i+j+1, (3, 3))"
   ]
  },
  {
   "cell_type": "markdown",
   "id": "444595ea",
   "metadata": {
    "slideshow": {
     "slide_type": "slide"
    }
   },
   "source": [
    "### Array math\n",
    "\n",
    "* Basic elementwise math (given two arrays`a, b` ):\n",
    "\n",
    "* `a + b`  $\\rightarrow$ `add(a, b)`\n",
    "* `a - b` , $\\rightarrow$ `subtract(a, b)`\n",
    "* `a * b` , $\\rightarrow$ `multiply(a, b)`\n",
    "* `a / b` , $\\rightarrow$ `divide(a, b)`\n",
    "* `a % b` , $\\rightarrow$ `remainder(a, b)`\n",
    "* `a ** b` , $\\rightarrow$ `power(a, b)`\n",
    "* Inplace operators:`a += b` , or`add(a, b, a)`\n",
    "* Note: What happens if `a` has dtype `int`  and `b` `float`?"
   ]
  },
  {
   "cell_type": "markdown",
   "id": "b7dce449",
   "metadata": {
    "slideshow": {
     "slide_type": "slide"
    }
   },
   "source": [
    "### Array math\n",
    "\n",
    "* Logical operations:`==, !=, <, >` , etc.\n",
    "\n",
    "* `sin(x), arcsin(x), sinh(x)`, `exp(x), sqrt(x)`  etc.\n",
    "\n",
    "* `sum(x, axis=0), product(x, axis=0)`\n",
    "* `dot(a, b)`: Or use `@`"
   ]
  },
  {
   "cell_type": "markdown",
   "id": "6a7aec97",
   "metadata": {
    "slideshow": {
     "slide_type": "slide"
    }
   },
   "source": [
    "### Convenience functions:`loadtxt`\n",
    "\n",
    "* `loadtxt(file_name)`: already seen this!\n",
    "\n",
    "* `savetxt(file_name, data)` : saves data to a text file and\n",
    "\n",
    "* `load(fname, **kw)`: Load a binary numpy file. Lot more powerful.\n",
    "* `save(fname, data)`: Save array to binary numpy file.\n",
    "* `savez(fname, *args, **kw)`: Save several arrays into a single file in ``.npz`` format.\n",
    "* `savez_compressed(fname, *args, **kw)`: Same as `savez` but also compresses the file."
   ]
  },
  {
   "cell_type": "code",
   "execution_count": null,
   "id": "b7616d24",
   "metadata": {
    "slideshow": {
     "slide_type": "-"
    }
   },
   "outputs": [],
   "source": [
    "data = np.loadtxt('../data/pendulum.txt')\n",
    "data.shape"
   ]
  },
  {
   "cell_type": "markdown",
   "id": "4045c409",
   "metadata": {},
   "source": [
    "### Exercise\n",
    "\n",
    "Convert this 90x2 shaped data and extract this into two 90 element columns."
   ]
  },
  {
   "cell_type": "code",
   "execution_count": null,
   "id": "5d1b9ba3",
   "metadata": {},
   "outputs": [],
   "source": [
    "# Solution"
   ]
  },
  {
   "cell_type": "markdown",
   "id": "a36e672f",
   "metadata": {},
   "source": [
    "### `savetxt, savez` and `load`\n"
   ]
  },
  {
   "cell_type": "code",
   "execution_count": null,
   "id": "b8bb7bbd",
   "metadata": {},
   "outputs": [],
   "source": [
    "np.savetxt('test.txt', data)  # Overwrites the text file!"
   ]
  },
  {
   "cell_type": "code",
   "execution_count": null,
   "id": "38fedc8b",
   "metadata": {},
   "outputs": [],
   "source": [
    "# savez is very handy.\n",
    "x, y = data.T\n",
    "np.savez('test.npz', x=x, y=y, z=np.random.random(10))"
   ]
  },
  {
   "cell_type": "code",
   "execution_count": null,
   "id": "df3bf84f",
   "metadata": {},
   "outputs": [],
   "source": [
    "# Loading back the data.\n",
    "data = np.load('test.npz')\n",
    "data['x']"
   ]
  },
  {
   "cell_type": "code",
   "execution_count": null,
   "id": "2b4f294a",
   "metadata": {},
   "outputs": [],
   "source": [
    "data['y']"
   ]
  },
  {
   "cell_type": "code",
   "execution_count": null,
   "id": "9003dd7f",
   "metadata": {},
   "outputs": [],
   "source": [
    "data['z']"
   ]
  },
  {
   "cell_type": "markdown",
   "id": "f4575881",
   "metadata": {},
   "source": [
    "## Matrices\n",
    "\n",
    "All matrix operations are performed using arrays"
   ]
  },
  {
   "cell_type": "markdown",
   "id": "9750984f",
   "metadata": {
    "slideshow": {
     "slide_type": "slide"
    }
   },
   "source": [
    "### Initializing\n"
   ]
  },
  {
   "cell_type": "code",
   "execution_count": null,
   "id": "06982313",
   "metadata": {
    "slideshow": {
     "slide_type": "-"
    }
   },
   "outputs": [],
   "source": [
    "c = np.array([[11, 12, 13],\n",
    "              [21, 22, 23],\n",
    "              [31, 32, 33]])\n",
    "c"
   ]
  },
  {
   "cell_type": "markdown",
   "id": "46b52880",
   "metadata": {
    "slideshow": {
     "slide_type": "slide"
    }
   },
   "source": [
    "### Initializing some special matrices\n"
   ]
  },
  {
   "cell_type": "code",
   "execution_count": null,
   "id": "d1dbcce8",
   "metadata": {
    "slideshow": {
     "slide_type": "-"
    }
   },
   "outputs": [],
   "source": [
    "np.ones((3, 5))"
   ]
  },
  {
   "cell_type": "code",
   "execution_count": null,
   "id": "1684c4f6",
   "metadata": {},
   "outputs": [],
   "source": [
    "np.ones_like(c)"
   ]
  },
  {
   "cell_type": "code",
   "execution_count": null,
   "id": "49f470ea",
   "metadata": {},
   "outputs": [],
   "source": [
    "np.identity(2)"
   ]
  },
  {
   "cell_type": "markdown",
   "id": "dc2119bc",
   "metadata": {
    "slideshow": {
     "slide_type": "slide"
    }
   },
   "source": [
    "### Accessing elements\n"
   ]
  },
  {
   "cell_type": "code",
   "execution_count": null,
   "id": "a80a650e",
   "metadata": {
    "lines_to_next_cell": 2
   },
   "outputs": [],
   "source": [
    "c[1][2]"
   ]
  },
  {
   "cell_type": "code",
   "execution_count": null,
   "id": "0fa07606",
   "metadata": {
    "lines_to_next_cell": 2,
    "slideshow": {
     "slide_type": "-"
    }
   },
   "outputs": [],
   "source": [
    "c[1,2]"
   ]
  },
  {
   "cell_type": "code",
   "execution_count": null,
   "id": "a9a452a3",
   "metadata": {
    "lines_to_next_cell": 2,
    "slideshow": {
     "slide_type": "-"
    }
   },
   "outputs": [],
   "source": [
    "c[1]"
   ]
  },
  {
   "cell_type": "markdown",
   "id": "3b0a8532",
   "metadata": {
    "slideshow": {
     "slide_type": "slide"
    }
   },
   "source": [
    "### Changing elements\n"
   ]
  },
  {
   "cell_type": "code",
   "execution_count": null,
   "id": "ac5eb18b",
   "metadata": {
    "slideshow": {
     "slide_type": "-"
    }
   },
   "outputs": [],
   "source": [
    "c[1,1] = -22\n",
    "c"
   ]
  },
  {
   "cell_type": "code",
   "execution_count": null,
   "id": "c3e0011e",
   "metadata": {},
   "outputs": [],
   "source": [
    "c[1] = 0\n",
    "c"
   ]
  },
  {
   "cell_type": "markdown",
   "id": "9ab15f7d",
   "metadata": {},
   "source": [
    "### Exercise\n",
    "\n",
    "How do you access one column?"
   ]
  },
  {
   "cell_type": "code",
   "execution_count": null,
   "id": "482acabd",
   "metadata": {},
   "outputs": [],
   "source": []
  },
  {
   "cell_type": "markdown",
   "id": "58b3b506",
   "metadata": {
    "slideshow": {
     "slide_type": "slide"
    }
   },
   "source": [
    "### Slicing\n"
   ]
  },
  {
   "cell_type": "code",
   "execution_count": null,
   "id": "89371d7f",
   "metadata": {
    "lines_to_next_cell": 2,
    "slideshow": {
     "slide_type": "-"
    }
   },
   "outputs": [],
   "source": [
    "c[:, 1]"
   ]
  },
  {
   "cell_type": "code",
   "execution_count": null,
   "id": "add71663",
   "metadata": {
    "lines_to_next_cell": 2,
    "slideshow": {
     "slide_type": "-"
    }
   },
   "outputs": [],
   "source": [
    "c[1, :]"
   ]
  },
  {
   "cell_type": "code",
   "execution_count": null,
   "id": "dee9b64a",
   "metadata": {
    "slideshow": {
     "slide_type": "-"
    }
   },
   "outputs": [],
   "source": [
    "c[0:2, :]"
   ]
  },
  {
   "cell_type": "code",
   "execution_count": null,
   "id": "f4f1003e",
   "metadata": {
    "lines_to_next_cell": 2
   },
   "outputs": [],
   "source": [
    "c[1:3, :]"
   ]
  },
  {
   "cell_type": "code",
   "execution_count": null,
   "id": "e42a0f28",
   "metadata": {
    "slideshow": {
     "slide_type": "-"
    }
   },
   "outputs": [],
   "source": [
    "c[:2, :]"
   ]
  },
  {
   "cell_type": "code",
   "execution_count": null,
   "id": "bd7f6d57",
   "metadata": {},
   "outputs": [],
   "source": [
    "c[1:, :]"
   ]
  },
  {
   "cell_type": "code",
   "execution_count": null,
   "id": "7a0e2480",
   "metadata": {},
   "outputs": [],
   "source": [
    "c[1:, :2]"
   ]
  },
  {
   "cell_type": "markdown",
   "id": "6dd47be6",
   "metadata": {
    "slideshow": {
     "slide_type": "slide"
    }
   },
   "source": [
    "### Striding\n"
   ]
  },
  {
   "cell_type": "code",
   "execution_count": null,
   "id": "7be8f5fb",
   "metadata": {
    "slideshow": {
     "slide_type": "-"
    }
   },
   "outputs": [],
   "source": [
    "c[::2, :]"
   ]
  },
  {
   "cell_type": "code",
   "execution_count": null,
   "id": "bbe7b07e",
   "metadata": {},
   "outputs": [],
   "source": [
    "c[:, ::2]"
   ]
  },
  {
   "cell_type": "code",
   "execution_count": null,
   "id": "2e567c0d",
   "metadata": {},
   "outputs": [],
   "source": [
    "c[::2, ::2]"
   ]
  },
  {
   "cell_type": "markdown",
   "id": "f0c15e6d",
   "metadata": {
    "slideshow": {
     "slide_type": "slide"
    }
   },
   "source": [
    "## Elementary image processing\n",
    "\n",
    "Let us see how to load a PNG image into a numpy array and plot it."
   ]
  },
  {
   "cell_type": "code",
   "execution_count": null,
   "id": "04dd524f",
   "metadata": {
    "slideshow": {
     "slide_type": "-"
    }
   },
   "outputs": [],
   "source": [
    "a = plt.imread('../data/penguins.png')"
   ]
  },
  {
   "cell_type": "code",
   "execution_count": null,
   "id": "aced41e5",
   "metadata": {},
   "outputs": [],
   "source": [
    "type(a)"
   ]
  },
  {
   "cell_type": "code",
   "execution_count": null,
   "id": "22398a9e",
   "metadata": {},
   "outputs": [],
   "source": [
    "a.shape"
   ]
  },
  {
   "cell_type": "code",
   "execution_count": null,
   "id": "2f68c8f9",
   "metadata": {},
   "outputs": [],
   "source": [
    "plt.imshow(a);"
   ]
  },
  {
   "cell_type": "markdown",
   "id": "7bd0b5a8",
   "metadata": {},
   "source": [
    "\n",
    "- `imread`  returns an array of shape (370, 370, 4) which represents an\n",
    "  image of 370x370 pixels and 4 channels.\n",
    "- The 4 channels represent R, G, B, Alpha\n",
    "- `imshow`  renders the array as an image."
   ]
  },
  {
   "cell_type": "markdown",
   "id": "d9f102ef",
   "metadata": {},
   "source": [
    "\n",
    "Instead of using matplotlib's imread which is limited, one can use\n",
    "[imageio](https://imageio.github.io)"
   ]
  },
  {
   "cell_type": "code",
   "execution_count": null,
   "id": "4fba6525",
   "metadata": {},
   "outputs": [],
   "source": [
    "import imageio\n",
    "a = imageio.imread(\"../data/penguins.png\")"
   ]
  },
  {
   "cell_type": "code",
   "execution_count": null,
   "id": "42bd1293",
   "metadata": {},
   "outputs": [],
   "source": [
    "plt.imshow(a);"
   ]
  },
  {
   "cell_type": "markdown",
   "id": "6fe1a558",
   "metadata": {},
   "source": [
    "### Showing the different channels of the image.\n",
    "\n",
    "### Exercise\n",
    "- Extract the red channel of the image and show it."
   ]
  },
  {
   "cell_type": "code",
   "execution_count": null,
   "id": "7524ab29-0d38-4d2f-a505-e6c27d44cc6c",
   "metadata": {},
   "outputs": [],
   "source": [
    "a[:, :, 3].shape"
   ]
  },
  {
   "cell_type": "code",
   "execution_count": null,
   "id": "a7fd67a0",
   "metadata": {},
   "outputs": [],
   "source": [
    "# Solution\n",
    "# plt.imshow(a[:,:, 0]);\n",
    "x = np.random.random((3, 3))\n",
    "print(x)\n",
    "plt.imshow(x);\n",
    "plt.colorbar();"
   ]
  },
  {
   "cell_type": "markdown",
   "id": "72d14658",
   "metadata": {},
   "source": [
    "### How can we see things in different colors?\n",
    "\n",
    "- Matplotlib provides a ton of different colormaps\n",
    "- First let us understand what a colormap is.\n",
    "- Read more in the matplotlib docs here: https://matplotlib.org/stable/users/explain/colors/colormaps.html"
   ]
  },
  {
   "cell_type": "code",
   "execution_count": null,
   "id": "a7aa78da",
   "metadata": {
    "scrolled": true
   },
   "outputs": [],
   "source": [
    "list(plt.colormaps);"
   ]
  },
  {
   "cell_type": "code",
   "execution_count": null,
   "id": "38bae026",
   "metadata": {},
   "outputs": [],
   "source": [
    "plt.imshow(a[:, :, 0], cmap='Reds');\n",
    "plt.colorbar();"
   ]
  },
  {
   "cell_type": "markdown",
   "id": "16083a83",
   "metadata": {},
   "source": [
    "### Showing all the different channels?\n",
    "\n",
    "- Use subplots"
   ]
  },
  {
   "cell_type": "code",
   "execution_count": null,
   "id": "181f0820",
   "metadata": {},
   "outputs": [],
   "source": [
    "plt.figure(figsize=(10, 5))\n",
    "plt.subplot(2, 2, 1)\n",
    "plt.imshow(a)\n",
    "plt.subplot(2, 2, 2)\n",
    "plt.imshow(a[:, :, 0], cmap='Reds')\n",
    "plt.colorbar();\n",
    "plt.subplot(2, 2, 3)\n",
    "plt.imshow(a[..., 1], cmap='Greens')  # Notice the use of ellipsis\n",
    "plt.colorbar();\n",
    "plt.subplot(2, 2, 4)\n",
    "plt.imshow(a[..., 2], cmap='Blues');"
   ]
  },
  {
   "cell_type": "markdown",
   "id": "bcafe217",
   "metadata": {},
   "source": [
    "### Showing a histogram of the red channel\n",
    "\n",
    "- Cannot blindly use `plt.hist` as the array is not 1D\n",
    "- We have to \"ravel\" or \"flatten\" it."
   ]
  },
  {
   "cell_type": "code",
   "execution_count": null,
   "id": "af59fa90",
   "metadata": {},
   "outputs": [],
   "source": [
    "plt.hist(a[..., 0].flat, bins='auto');"
   ]
  },
  {
   "cell_type": "code",
   "execution_count": null,
   "id": "32612f67",
   "metadata": {},
   "outputs": [],
   "source": [
    "plt.hist(a[..., 2].ravel(), bins='auto');"
   ]
  },
  {
   "cell_type": "markdown",
   "id": "114d1c84",
   "metadata": {},
   "source": [
    "### Exercise\n",
    "\n",
    "Make a histogram for each of the 4 channels and plot these in a single\n",
    "figure with subplots."
   ]
  },
  {
   "cell_type": "code",
   "execution_count": null,
   "id": "5bc45b1e",
   "metadata": {},
   "outputs": [],
   "source": []
  },
  {
   "cell_type": "markdown",
   "id": "b28752ca",
   "metadata": {
    "slideshow": {
     "slide_type": "slide"
    }
   },
   "source": [
    "### Slicing and Striding Exercises\n",
    "\n",
    "* Crop the penguin image to get the top-left quarter\n",
    "\n",
    "* Crop the image to get only the face of the baby penguin\n",
    "\n",
    "* Resize image to half by dropping alternate pixels\n"
   ]
  },
  {
   "cell_type": "code",
   "execution_count": null,
   "id": "c8c72031",
   "metadata": {},
   "outputs": [],
   "source": [
    "# Solution\n",
    "plt.imshow(a[:185, :185]);"
   ]
  },
  {
   "cell_type": "code",
   "execution_count": null,
   "id": "fdb8356d",
   "metadata": {},
   "outputs": [],
   "source": [
    "plt.imshow(a[::2, ::2]);"
   ]
  },
  {
   "cell_type": "markdown",
   "id": "bce2749b",
   "metadata": {
    "slideshow": {
     "slide_type": "slide"
    }
   },
   "source": [
    "### Transpose of a Matrix\n"
   ]
  },
  {
   "cell_type": "code",
   "execution_count": null,
   "id": "be12e807",
   "metadata": {
    "slideshow": {
     "slide_type": "-"
    }
   },
   "outputs": [],
   "source": [
    "a = np.array([[1,  1,  2, -1],\n",
    "              [2,  5, -1, -9],\n",
    "              [2,  1, -1,  3],\n",
    "              [1, -3,  2,  7]])\n",
    "a.T"
   ]
  },
  {
   "cell_type": "markdown",
   "id": "8c5f555b",
   "metadata": {
    "slideshow": {
     "slide_type": "slide"
    }
   },
   "source": [
    "### Elementwise operations\n"
   ]
  },
  {
   "cell_type": "code",
   "execution_count": null,
   "id": "c20a44fb",
   "metadata": {
    "slideshow": {
     "slide_type": "-"
    }
   },
   "outputs": [],
   "source": [
    "b = np.array([[3, 2, -1, 5],\n",
    "              [2, -2, 4, 9],\n",
    "              [-1, 0.5, -1, -7],\n",
    "              [9, -5, 7, 3]])\n",
    "a + b"
   ]
  },
  {
   "cell_type": "code",
   "execution_count": null,
   "id": "aead572f",
   "metadata": {},
   "outputs": [],
   "source": [
    "a*b"
   ]
  },
  {
   "cell_type": "code",
   "execution_count": null,
   "id": "a2625d34-79db-47da-84e6-3581003972a2",
   "metadata": {},
   "outputs": [],
   "source": [
    "a@b"
   ]
  },
  {
   "cell_type": "markdown",
   "id": "8c63c5f9",
   "metadata": {},
   "source": [
    "### The `axis` argument\n",
    "\n",
    "Consider this:"
   ]
  },
  {
   "cell_type": "code",
   "execution_count": null,
   "id": "7f6101d4",
   "metadata": {},
   "outputs": [],
   "source": [
    "np.sum(a)"
   ]
  },
  {
   "cell_type": "code",
   "execution_count": null,
   "id": "9d2f8470",
   "metadata": {
    "lines_to_next_cell": 0
   },
   "outputs": [],
   "source": [
    "# Recall that a is\n",
    "a"
   ]
  },
  {
   "cell_type": "code",
   "execution_count": null,
   "id": "7b4473b0",
   "metadata": {},
   "outputs": [],
   "source": [
    "# What if you want to sum across the rows or columns?\n",
    "np.sum(a, axis=0)  # Rows?"
   ]
  },
  {
   "cell_type": "code",
   "execution_count": null,
   "id": "0762ee68",
   "metadata": {},
   "outputs": [],
   "source": [
    "np.sum(a, axis=1)  # Columns?"
   ]
  },
  {
   "cell_type": "markdown",
   "id": "070a9063",
   "metadata": {
    "lines_to_next_cell": 2
   },
   "source": [
    "\n",
    "- Many functions take the axis argument, as this is very useful."
   ]
  },
  {
   "cell_type": "markdown",
   "id": "dd1b98b0",
   "metadata": {},
   "source": [
    "## Reshaping, concatenation, stack and split\n",
    "\n",
    "- Reshape an array to get a different view, if compatible and total size\n",
    "  does not change\n",
    "- Concatenate two arrays\n",
    "- Stack and split arrays"
   ]
  },
  {
   "cell_type": "code",
   "execution_count": null,
   "id": "191110a7",
   "metadata": {},
   "outputs": [],
   "source": [
    "a = np.arange(9)\n",
    "c = a.reshape((3, 3))  # Note that this does not make a copy!\n",
    "print(c)"
   ]
  },
  {
   "cell_type": "code",
   "execution_count": null,
   "id": "92cee7d6",
   "metadata": {},
   "outputs": [],
   "source": [
    "c[0] = 1\n",
    "print(a)"
   ]
  },
  {
   "cell_type": "code",
   "execution_count": null,
   "id": "600d0a98",
   "metadata": {},
   "outputs": [],
   "source": [
    "c = np.arange(1, 7)\n",
    "a, b = np.split(c, 2)\n",
    "a, b"
   ]
  },
  {
   "cell_type": "code",
   "execution_count": null,
   "id": "95fac534",
   "metadata": {},
   "outputs": [],
   "source": [
    "np.concatenate((a, b))"
   ]
  },
  {
   "cell_type": "code",
   "execution_count": null,
   "id": "47274d7a",
   "metadata": {},
   "outputs": [],
   "source": [
    "np.hsplit(np.arange(6), 3)"
   ]
  },
  {
   "cell_type": "code",
   "execution_count": null,
   "id": "7093b5a8",
   "metadata": {},
   "outputs": [],
   "source": [
    "np.hstack((a, b))"
   ]
  },
  {
   "cell_type": "code",
   "execution_count": null,
   "id": "400d38c4",
   "metadata": {},
   "outputs": [],
   "source": [
    "np.stack((a, b))"
   ]
  },
  {
   "cell_type": "code",
   "execution_count": null,
   "id": "82d20479",
   "metadata": {},
   "outputs": [],
   "source": [
    "np.stack((a, b), axis=1)"
   ]
  },
  {
   "cell_type": "markdown",
   "id": "cc08b3f1",
   "metadata": {
    "slideshow": {
     "slide_type": "slide"
    }
   },
   "source": [
    "### Matrix Multiplication\n"
   ]
  },
  {
   "cell_type": "code",
   "execution_count": null,
   "id": "383c9eee",
   "metadata": {},
   "outputs": [],
   "source": [
    "np.dot(a, b)"
   ]
  },
  {
   "cell_type": "code",
   "execution_count": null,
   "id": "f7c427bf",
   "metadata": {},
   "outputs": [],
   "source": [
    "# Easier to do this!\n",
    "a @ b  # @ is the matmult operation"
   ]
  },
  {
   "cell_type": "markdown",
   "id": "423a8729",
   "metadata": {
    "slideshow": {
     "slide_type": "slide"
    }
   },
   "source": [
    "## Linear algebra\n"
   ]
  },
  {
   "cell_type": "code",
   "execution_count": null,
   "id": "12ddfda8",
   "metadata": {
    "lines_to_next_cell": 2
   },
   "outputs": [],
   "source": [
    "np.linalg.inv(a)"
   ]
  },
  {
   "cell_type": "code",
   "execution_count": null,
   "id": "791f10a7",
   "metadata": {},
   "outputs": [],
   "source": [
    "a @ np.linalg.inv(a)"
   ]
  },
  {
   "cell_type": "code",
   "execution_count": null,
   "id": "59f5a6aa",
   "metadata": {},
   "outputs": [],
   "source": [
    "# The determinant\n",
    "np.linalg.det(a)"
   ]
  },
  {
   "cell_type": "markdown",
   "id": "2e511d63",
   "metadata": {
    "slideshow": {
     "slide_type": "slide"
    }
   },
   "source": [
    "### Eigenvalues and Eigen Vectors\n"
   ]
  },
  {
   "cell_type": "code",
   "execution_count": null,
   "id": "1a7cd781",
   "metadata": {
    "slideshow": {
     "slide_type": "-"
    }
   },
   "outputs": [],
   "source": [
    "e = np.array([[3, 2, 4], [2, 0, 2], [4, 2, 3]])\n",
    "np.linalg.eig(e)"
   ]
  },
  {
   "cell_type": "code",
   "execution_count": null,
   "id": "0dbf9c8d",
   "metadata": {},
   "outputs": [],
   "source": [
    "np.linalg.eigvals(e)"
   ]
  },
  {
   "cell_type": "markdown",
   "id": "9dfece76",
   "metadata": {
    "slideshow": {
     "slide_type": "slide"
    }
   },
   "source": [
    "### Computing Norms\n"
   ]
  },
  {
   "cell_type": "code",
   "execution_count": null,
   "id": "ae9803d9",
   "metadata": {},
   "outputs": [],
   "source": [
    "np.linalg.norm(a)"
   ]
  },
  {
   "cell_type": "code",
   "execution_count": null,
   "id": "c4e39c37",
   "metadata": {},
   "outputs": [],
   "source": [
    "np.linalg.norm(e)"
   ]
  },
  {
   "cell_type": "markdown",
   "id": "bbf26bc9",
   "metadata": {
    "slideshow": {
     "slide_type": "slide"
    }
   },
   "source": [
    "### Singular Value Decomposition\n"
   ]
  },
  {
   "cell_type": "code",
   "execution_count": null,
   "id": "d7d70c06",
   "metadata": {
    "slideshow": {
     "slide_type": "-"
    }
   },
   "outputs": [],
   "source": [
    "np.linalg.svd(e)"
   ]
  },
  {
   "cell_type": "markdown",
   "id": "50f09967",
   "metadata": {
    "slideshow": {
     "slide_type": "slide"
    }
   },
   "source": [
    "## Least Squares Fit (linear regression)\n"
   ]
  },
  {
   "cell_type": "markdown",
   "id": "afeb2346",
   "metadata": {
    "lines_to_next_cell": 0,
    "slideshow": {
     "slide_type": "slide"
    }
   },
   "source": [
    "\n",
    "- Linear trend visible between $L$  vs. $T^2$\n"
   ]
  },
  {
   "cell_type": "code",
   "execution_count": null,
   "id": "28ade6fb",
   "metadata": {},
   "outputs": [],
   "source": [
    "L, t = np.loadtxt('../data/pendulum.txt', unpack=True)\n",
    "tsq = t*t"
   ]
  },
  {
   "cell_type": "code",
   "execution_count": null,
   "id": "df8e8df6",
   "metadata": {},
   "outputs": [],
   "source": [
    "plt.scatter(L, tsq);"
   ]
  },
  {
   "cell_type": "markdown",
   "id": "e4bc00fe",
   "metadata": {
    "slideshow": {
     "slide_type": "slide"
    }
   },
   "source": [
    "- This plot is not a straight line, can we do better?\n",
    "- Can we find a best-fit line?"
   ]
  },
  {
   "cell_type": "markdown",
   "id": "78e66ebc",
   "metadata": {
    "slideshow": {
     "slide_type": "slide"
    }
   },
   "source": [
    "### Matrix Formulation\n",
    "\n",
    "- We need to fit a line through points for the equation $T^2 = m \\cdot L+c$\n",
    "- In matrix form, the equation can be represented as $T_{sq} = A \\cdot p$,\n",
    "\n",
    "* We need to find $p$ to plot the line\n"
   ]
  },
  {
   "cell_type": "markdown",
   "id": "61058e07",
   "metadata": {
    "lines_to_next_cell": 2,
    "slideshow": {
     "slide_type": "slide"
    }
   },
   "source": [
    "$$\n",
    "\\begin{bmatrix}\n",
    "  T^2_1 \\\\\n",
    "  T^2_2 \\\\\n",
    "  \\vdots\\\\\n",
    "  T^2_N \\\\\n",
    "\\end{bmatrix}\n",
    "=\n",
    "\\begin{bmatrix}\n",
    "  L_1 & 1 \\\\\n",
    "  L_2 & 1 \\\\\n",
    "  \\vdots & \\vdots\\\\\n",
    "  L_N & 1 \\\\\n",
    "\\end{bmatrix}\n",
    "\\cdot\\begin{bmatrix}\n",
    "  m\\\\\n",
    "  c\\\\\n",
    "  \\end{bmatrix}\n",
    "$$\n",
    "Or\n",
    "\n",
    "$$T_{sq} = A\\cdot p$$\n"
   ]
  },
  {
   "cell_type": "markdown",
   "id": "862f181c",
   "metadata": {
    "slideshow": {
     "slide_type": "slide"
    }
   },
   "source": [
    "### Generating $A$\n"
   ]
  },
  {
   "cell_type": "code",
   "execution_count": null,
   "id": "97ed8fd1",
   "metadata": {
    "lines_to_next_cell": 2,
    "slideshow": {
     "slide_type": "-"
    }
   },
   "outputs": [],
   "source": [
    "A = np.array([L, np.ones_like(L)])\n",
    "A = A.T\n",
    "A.shape"
   ]
  },
  {
   "cell_type": "markdown",
   "id": "4dea6ba4",
   "metadata": {
    "slideshow": {
     "slide_type": "slide"
    }
   },
   "source": [
    "### Computing the least-square fit\n",
    "\n",
    "* Now use the `np.linalg.lstsq`  function\n",
    "\n",
    "* Along with other things, it returns the least squares solution\n"
   ]
  },
  {
   "cell_type": "code",
   "execution_count": null,
   "id": "83763ae1",
   "metadata": {
    "lines_to_next_cell": 2,
    "slideshow": {
     "slide_type": "-"
    }
   },
   "outputs": [],
   "source": [
    "result = np.linalg.lstsq(A, tsq)\n",
    "coef = result[0]\n",
    "coef"
   ]
  },
  {
   "cell_type": "markdown",
   "id": "c45833a7",
   "metadata": {
    "slideshow": {
     "slide_type": "slide"
    }
   },
   "source": [
    "### Least Square Fit Line ...\n",
    "We get the points of the line from `coef`"
   ]
  },
  {
   "cell_type": "code",
   "execution_count": null,
   "id": "bb355ad4",
   "metadata": {
    "lines_to_next_cell": 2,
    "slideshow": {
     "slide_type": "-"
    }
   },
   "outputs": [],
   "source": [
    "t_line = coef[0]*L + coef[1]\n",
    "t_line.shape"
   ]
  },
  {
   "cell_type": "markdown",
   "id": "77b83ae7",
   "metadata": {
    "slideshow": {
     "slide_type": "-"
    }
   },
   "source": [
    "* Now plot`t_line`  vs.`L` , to get the least squares fit line.\n"
   ]
  },
  {
   "cell_type": "code",
   "execution_count": null,
   "id": "8b95af12",
   "metadata": {
    "lines_to_next_cell": 2,
    "slideshow": {
     "slide_type": "-"
    }
   },
   "outputs": [],
   "source": [
    "plt.plot(L, t_line, 'r')\n",
    "plt.plot(L, tsq, 'o');"
   ]
  },
  {
   "cell_type": "markdown",
   "id": "3362ce60",
   "metadata": {
    "slideshow": {
     "slide_type": "slide"
    }
   },
   "source": [
    "## Advanced concepts\n",
    "\n",
    "- Broadcasting and broadcasting rules\n",
    "- Special indexing\n",
    "- Masked indexing\n"
   ]
  },
  {
   "cell_type": "markdown",
   "id": "26eaa119",
   "metadata": {
    "slideshow": {
     "slide_type": "slide"
    }
   },
   "source": [
    "### Simple broadcasting examples\n"
   ]
  },
  {
   "cell_type": "code",
   "execution_count": null,
   "id": "a6981b73",
   "metadata": {},
   "outputs": [],
   "source": [
    "a = np.array([1.0, 2, 3.0])\n",
    "b = 2.0\n",
    "a * b"
   ]
  },
  {
   "cell_type": "code",
   "execution_count": null,
   "id": "ff2fbaf0",
   "metadata": {},
   "outputs": [],
   "source": [
    "a = np.ones((3, 3))\n",
    "b = np.array([1, 2, 3])\n",
    "a * b"
   ]
  },
  {
   "cell_type": "code",
   "execution_count": null,
   "id": "1d30324e",
   "metadata": {},
   "outputs": [],
   "source": [
    "b*a"
   ]
  },
  {
   "cell_type": "code",
   "execution_count": null,
   "id": "3720111e",
   "metadata": {},
   "outputs": [],
   "source": [
    "a = np.array([1.0, 2, 3.0])\n",
    "a.T"
   ]
  },
  {
   "cell_type": "code",
   "execution_count": null,
   "id": "a45a6f7d",
   "metadata": {
    "lines_to_next_cell": 2
   },
   "outputs": [],
   "source": [
    "a = np.array([1.0, 2, 3.0])\n",
    "b = np.ones(5)\n",
    "a * b"
   ]
  },
  {
   "cell_type": "markdown",
   "id": "aa9996f9",
   "metadata": {
    "slideshow": {
     "slide_type": "slide"
    }
   },
   "source": [
    "### Broadcasting rules\n",
    "\n",
    "- Consider `A <operator> B`\n",
    "\n",
    "- Compare their shapes element-wise starting with the rightmost dimension\n",
    "  going left.\n",
    "\n",
    "- Two dimensions are compatible if:\n",
    "\n",
    "  - they are equal\n",
    "  - or one of them is 1 or `None` (not available)\n",
    "\n",
    "- Do not need the same number of dimensions\n"
   ]
  },
  {
   "cell_type": "markdown",
   "id": "53505610",
   "metadata": {
    "lines_to_next_cell": 2,
    "slideshow": {
     "slide_type": "slide"
    }
   },
   "source": [
    "### Illustration\n",
    "\n",
    "<br/>\n",
    "\n",
    "<img height=\"80%\" src=\"images/broadcasting_1.png\" align=\"center\"/>\n",
    "\n",
    "<br/>\n",
    "<span style=\"font-size:50%\" >\n",
    "Image source: https://numpy.org/doc/stable/user/basics.broadcasting.html\n",
    "</span>\n"
   ]
  },
  {
   "cell_type": "markdown",
   "id": "0b44fd47",
   "metadata": {
    "slideshow": {
     "slide_type": "slide"
    }
   },
   "source": [
    "### Examples\n",
    "\n",
    "- From the documentation!\n",
    "\n",
    "```\n",
    "Image  (3d array): 256 x 256 x 3\n",
    "Scale  (1d array):             3\n",
    "Result (3d array): 256 x 256 x 3\n",
    "```\n",
    "\n",
    "```\n",
    "A      (4d array):  8 x 1 x 6 x 1\n",
    "B      (3d array):      7 x 1 x 5\n",
    "Result (4d array):  8 x 7 x 6 x 5\n",
    "```\n"
   ]
  },
  {
   "cell_type": "markdown",
   "id": "5c53ab93",
   "metadata": {},
   "source": [
    "```\n",
    "A      (2d array):      2 x 1\n",
    "B      (3d array):  8 x 4 x 3\n",
    "```\n"
   ]
  },
  {
   "cell_type": "markdown",
   "id": "8a809a23",
   "metadata": {
    "slideshow": {
     "slide_type": "slide"
    }
   },
   "source": [
    "### Examples\n"
   ]
  },
  {
   "cell_type": "code",
   "execution_count": null,
   "id": "ad2e501d",
   "metadata": {},
   "outputs": [],
   "source": [
    "a = np.fromfunction(lambda i, j: 10*i, (4, 3))\n",
    "a"
   ]
  },
  {
   "cell_type": "code",
   "execution_count": null,
   "id": "98301131",
   "metadata": {},
   "outputs": [],
   "source": [
    "b = np.array([1.0, 2.0, 3.0, 4.0])\n",
    "a + b"
   ]
  },
  {
   "cell_type": "code",
   "execution_count": null,
   "id": "72f11fa7",
   "metadata": {},
   "outputs": [],
   "source": [
    "b = np.array([1.0, 2.0, 3.0, 4.0]).reshape((4, 1))\n",
    "a + b"
   ]
  },
  {
   "cell_type": "markdown",
   "id": "8888284b",
   "metadata": {
    "slideshow": {
     "slide_type": "slide"
    }
   },
   "source": [
    "### Illustration\n",
    "\n",
    "<br/>\n",
    "\n",
    "<img height=\"80%\" src=\"images/broadcasting_2.png\" align=\"center\"/>\n",
    "\n",
    "<br/>\n",
    "<span style=\"font-size:50%\" >\n",
    "Image source: https://numpy.org/doc/stable/user/basics.broadcasting.html\n",
    "</span>\n"
   ]
  },
  {
   "cell_type": "markdown",
   "id": "a6d5204b",
   "metadata": {
    "slideshow": {
     "slide_type": "slide"
    }
   },
   "source": [
    "### Examples\n",
    "\n",
    "- Introducing a new axis\n"
   ]
  },
  {
   "cell_type": "code",
   "execution_count": null,
   "id": "a8fe568f",
   "metadata": {},
   "outputs": [],
   "source": [
    "# No magic!\n",
    "b = np.array([1.0, 2.0, 3.0, 4.0])\n",
    "a + b"
   ]
  },
  {
   "cell_type": "markdown",
   "id": "f6f53c2a",
   "metadata": {},
   "source": [
    "- Use `np.newaxis` or `None`"
   ]
  },
  {
   "cell_type": "code",
   "execution_count": null,
   "id": "2bb2072e",
   "metadata": {},
   "outputs": [],
   "source": [
    "a = np.array([0.0, 10.0, 20.0, 30.0])\n",
    "b = np.array([1.0, 2.0, 3.0])\n",
    "a[:, np.newaxis] + b"
   ]
  },
  {
   "cell_type": "markdown",
   "id": "a0e64adc",
   "metadata": {
    "lines_to_next_cell": 2,
    "slideshow": {
     "slide_type": "slide"
    }
   },
   "source": [
    "### Illustration\n",
    "\n",
    "<br/>\n",
    "\n",
    "<img height=\"80%\" src=\"images/broadcasting_4.png\" align=\"center\"/>\n",
    "\n",
    "<br/>\n",
    "<span style=\"font-size:50%\" >\n",
    "Image source: https://numpy.org/doc/stable/user/basics.broadcasting.html\n",
    "</span>\n"
   ]
  },
  {
   "cell_type": "markdown",
   "id": "a6e2c224",
   "metadata": {
    "slideshow": {
     "slide_type": "slide"
    }
   },
   "source": [
    "## Special indexing\n",
    "\n",
    "- Can be indexed using arrays of indices"
   ]
  },
  {
   "cell_type": "code",
   "execution_count": null,
   "id": "57e01e13",
   "metadata": {},
   "outputs": [],
   "source": [
    "a = np.arange(12)**2\n",
    "i = np.array([10, 1, 3, 8, 5])\n",
    "a[i]"
   ]
  },
  {
   "cell_type": "code",
   "execution_count": null,
   "id": "e23e77e8",
   "metadata": {},
   "outputs": [],
   "source": [
    "j = np.array([[3, 4], [9, 7]])\n",
    "a[j]"
   ]
  },
  {
   "cell_type": "code",
   "execution_count": null,
   "id": "3abce989",
   "metadata": {},
   "outputs": [],
   "source": [
    "a.flags"
   ]
  },
  {
   "cell_type": "code",
   "execution_count": null,
   "id": "9edf0a34",
   "metadata": {},
   "outputs": [],
   "source": [
    "a[i] = 4\n",
    "a"
   ]
  },
  {
   "cell_type": "markdown",
   "id": "2aba9e80",
   "metadata": {
    "slideshow": {
     "slide_type": "slide"
    }
   },
   "source": [
    "### More examples\n",
    "\n",
    "- Note: indices for each dimension must have same shape\n"
   ]
  },
  {
   "cell_type": "code",
   "execution_count": null,
   "id": "52e12d76",
   "metadata": {},
   "outputs": [],
   "source": [
    "a = np.arange(12).reshape(3, 4)\n",
    "a"
   ]
  },
  {
   "cell_type": "code",
   "execution_count": null,
   "id": "1bfd6966",
   "metadata": {},
   "outputs": [],
   "source": [
    "i = np.array([[0, 1],\n",
    "              [1, 2]])\n",
    "j = np.array([[2, 1],\n",
    "              [3, 3]])\n",
    "a[i, j]"
   ]
  },
  {
   "cell_type": "markdown",
   "id": "ddb7ce9e",
   "metadata": {},
   "source": [
    "Warning:"
   ]
  },
  {
   "cell_type": "code",
   "execution_count": null,
   "id": "a55ba8a0",
   "metadata": {},
   "outputs": [],
   "source": [
    "a[i]"
   ]
  },
  {
   "cell_type": "code",
   "execution_count": null,
   "id": "411a5f56",
   "metadata": {
    "lines_to_next_cell": 2
   },
   "outputs": [],
   "source": [
    "a[np.array([i, j])]"
   ]
  },
  {
   "cell_type": "markdown",
   "id": "39cd9dd4",
   "metadata": {
    "slideshow": {
     "slide_type": "slide"
    }
   },
   "source": [
    "## Indexing with a boolean array\n",
    "\n",
    "- Very powerful\n",
    "- Allows one to vectorize conditionals"
   ]
  },
  {
   "cell_type": "code",
   "execution_count": null,
   "id": "e4345495",
   "metadata": {},
   "outputs": [],
   "source": [
    "a = np.arange(12).reshape(3, 4)\n",
    "b = a > 4\n",
    "b"
   ]
  },
  {
   "cell_type": "code",
   "execution_count": null,
   "id": "d0b6bb71",
   "metadata": {},
   "outputs": [],
   "source": [
    "a[b]"
   ]
  },
  {
   "cell_type": "code",
   "execution_count": null,
   "id": "64c7678e",
   "metadata": {},
   "outputs": [],
   "source": [
    "a[b] = 21\n",
    "a"
   ]
  },
  {
   "cell_type": "code",
   "execution_count": null,
   "id": "78b1af0d",
   "metadata": {},
   "outputs": [],
   "source": [
    "b = (a > 4) | (a % 3 == 0)\n",
    "b"
   ]
  },
  {
   "cell_type": "code",
   "execution_count": null,
   "id": "83689bea",
   "metadata": {},
   "outputs": [],
   "source": []
  },
  {
   "cell_type": "markdown",
   "id": "e0fd6a9f",
   "metadata": {
    "slideshow": {
     "slide_type": "slide"
    }
   },
   "source": [
    "## Creating a grid of points\n",
    "\n",
    "- A box of 25x25 points between $[-2, -2]$ to $[2, 2]$\n"
   ]
  },
  {
   "cell_type": "code",
   "execution_count": null,
   "id": "90030fb0",
   "metadata": {},
   "outputs": [],
   "source": [
    "xo, yo = -2, -2\n",
    "n = 25\n",
    "dx = dy = 4.0/(n - 1)\n",
    "x = np.fromfunction(lambda i, j: xo + i*dx, (n, n))\n",
    "y = np.fromfunction(lambda i, j: yo + j*dy, (n, n))"
   ]
  },
  {
   "cell_type": "code",
   "execution_count": null,
   "id": "1d9bb917",
   "metadata": {},
   "outputs": [],
   "source": [
    "plt.scatter(x, y);"
   ]
  },
  {
   "cell_type": "code",
   "execution_count": null,
   "id": "97aeec3e",
   "metadata": {},
   "outputs": [],
   "source": [
    "# Easier way\n",
    "t = np.linspace(-2, 2, 25)\n",
    "x, y = np.meshgrid(t, t)"
   ]
  },
  {
   "cell_type": "code",
   "execution_count": null,
   "id": "3549d13b",
   "metadata": {},
   "outputs": [],
   "source": [
    "plt.contourf(x, y, np.sin(x*x + y*y));"
   ]
  },
  {
   "cell_type": "markdown",
   "id": "952cc05c",
   "metadata": {
    "lines_to_next_cell": 2,
    "slideshow": {
     "slide_type": "slide"
    }
   },
   "source": [
    "### Exercise\n",
    "\n",
    "- Plot interior of the unit circle by generating a collection of points\n",
    "  inside the circle.\n",
    "- Use what you have learned so far to do this without a loop.\n"
   ]
  },
  {
   "cell_type": "code",
   "execution_count": null,
   "id": "0e137aa4",
   "metadata": {},
   "outputs": [],
   "source": [
    "# Solution"
   ]
  },
  {
   "cell_type": "markdown",
   "id": "8c9cc8ee",
   "metadata": {
    "slideshow": {
     "slide_type": "slide"
    }
   },
   "source": [
    "## Learn more\n",
    "\n",
    "* https://numpy.org/doc/stable/\n",
    "* https://numpy.org"
   ]
  }
 ],
 "metadata": {
  "kernelspec": {
   "display_name": "Python 3 (ipykernel)",
   "language": "python",
   "name": "python3"
  },
  "language_info": {
   "codemirror_mode": {
    "name": "ipython",
    "version": 3
   },
   "file_extension": ".py",
   "mimetype": "text/x-python",
   "name": "python",
   "nbconvert_exporter": "python",
   "pygments_lexer": "ipython3",
   "version": "3.11.11"
  }
 },
 "nbformat": 4,
 "nbformat_minor": 5
}
