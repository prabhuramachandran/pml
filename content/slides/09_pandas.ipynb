{
 "cells": [
  {
   "cell_type": "markdown",
   "id": "b49fcbc6",
   "metadata": {},
   "source": [
    "# Brief Introduction to Pandas\n",
    "\n",
    "- Provides a powerful `DataFrame` object.\n",
    "- Makes it easy to deal with \"Tabular\" data.\n",
    "- Very easy to read, process and visualize data.\n",
    "- See http://pandas.pydata.org"
   ]
  },
  {
   "cell_type": "code",
   "execution_count": null,
   "id": "9f084e41",
   "metadata": {},
   "outputs": [],
   "source": [
    "import matplotlib.pyplot as plt\n",
    "import numpy as np\n",
    "import pandas as pd"
   ]
  },
  {
   "cell_type": "markdown",
   "id": "c5ab60c4",
   "metadata": {
    "lines_to_next_cell": 2
   },
   "source": [
    "## Fundamentals\n",
    "\n",
    "- Why do we need this?\n",
    "- Data is often **tabular**\n",
    "  - Imagine the class marks in a course or during a program\n",
    "  - Imagine a population with weight, height, age etc.\n",
    "\n",
    "- Think of each student as a row\n",
    "- Each column as an attribute\n",
    "- So the columns are **aligned** using the row\n",
    "\n",
    "- With `pandas`, data alignment is **central**\n",
    "\n",
    "There are three fundamental building blocks in pandas:\n",
    "1. `pd.Series`\n",
    "2. `pd.DataFrame` and\n",
    "3. `pd.Index`\n",
    "\n",
    "We will look into the first two as they are the most important."
   ]
  },
  {
   "cell_type": "markdown",
   "id": "9ebb7c8d",
   "metadata": {},
   "source": [
    "## Building block: `Series`\n",
    "\n",
    "- \"Labels\" are collectively called the **index**\n",
    "- `Series`: bundles together an index and values\n",
    "- Index can be implicit or explicit\n"
   ]
  },
  {
   "cell_type": "code",
   "execution_count": null,
   "id": "eefd7a3b",
   "metadata": {},
   "outputs": [],
   "source": [
    "sn = pd.Series(np.random.normal(size=5))\n",
    "sn"
   ]
  },
  {
   "cell_type": "code",
   "execution_count": null,
   "id": "036ff24b",
   "metadata": {},
   "outputs": [],
   "source": [
    "sn.values"
   ]
  },
  {
   "cell_type": "code",
   "execution_count": null,
   "id": "1821f9c5",
   "metadata": {},
   "outputs": [],
   "source": [
    "sn.index"
   ]
  },
  {
   "cell_type": "markdown",
   "id": "24c448d7",
   "metadata": {},
   "source": [
    "\n",
    "The values attribute is a numpy array\n",
    "\n",
    "The index is an instance of `pd.Index` which is another fundamental building\n",
    "block."
   ]
  },
  {
   "cell_type": "code",
   "execution_count": null,
   "id": "85234bce",
   "metadata": {},
   "outputs": [],
   "source": [
    "sa = pd.Series(np.random.normal(size=5), index=[\"a\", \"b\", \"c\", \"d\", \"e\"])\n",
    "sa"
   ]
  },
  {
   "cell_type": "code",
   "execution_count": null,
   "id": "024d3d0b",
   "metadata": {},
   "outputs": [],
   "source": [
    "sn[0]"
   ]
  },
  {
   "cell_type": "code",
   "execution_count": null,
   "id": "00726928",
   "metadata": {},
   "outputs": [],
   "source": [
    "# Note the warning!\n",
    "sa[0]"
   ]
  },
  {
   "cell_type": "code",
   "execution_count": null,
   "id": "a33a807a",
   "metadata": {},
   "outputs": [],
   "source": [
    "# This is the right way to access.\n",
    "sa['a']"
   ]
  },
  {
   "cell_type": "markdown",
   "id": "a5d57d6d",
   "metadata": {},
   "source": [
    "### `Series`: some points to note\n",
    "\n",
    "- They behave like `numpy` arrays or dictionaries\n",
    "- But carry the index\n",
    "- All operations align on the label (i.e. index)\n",
    "- The indices need not be contiguous or even be integers\n",
    "- In a sense the `Series` is like a special dictionary keyed on index.\n",
    "- Unaligned series will use the union of indices\n",
    "- `NaN` is used to refer to missing values\n"
   ]
  },
  {
   "cell_type": "code",
   "execution_count": null,
   "id": "35bd6811",
   "metadata": {},
   "outputs": [],
   "source": [
    "# Can be initialized with a dictionary\n",
    "a = pd.Series(dict(x=1, a=21, b=2))\n",
    "a"
   ]
  },
  {
   "cell_type": "code",
   "execution_count": null,
   "id": "1f932472",
   "metadata": {},
   "outputs": [],
   "source": [
    "# Or with explicit values and indices\n",
    "a = pd.Series(np.arange(5), index=range(100, 110, 2))\n",
    "a"
   ]
  },
  {
   "cell_type": "code",
   "execution_count": null,
   "id": "cfa31b93",
   "metadata": {},
   "outputs": [],
   "source": [
    "a[102]"
   ]
  },
  {
   "cell_type": "code",
   "execution_count": null,
   "id": "40736ae8",
   "metadata": {},
   "outputs": [],
   "source": [
    "a = pd.Series(np.ones(5), index=[\"a\", \"b\", \"c\", \"d\", \"e\"])\n",
    "b = pd.Series(np.arange(5), index=[\"e\", \"d\", \"c\", \"b\", \"a\"])\n",
    "a + b"
   ]
  },
  {
   "cell_type": "code",
   "execution_count": null,
   "id": "7c3cef79",
   "metadata": {},
   "outputs": [],
   "source": [
    "a.dtype"
   ]
  },
  {
   "cell_type": "code",
   "execution_count": null,
   "id": "bff0f21e",
   "metadata": {
    "lines_to_next_cell": 2
   },
   "outputs": [],
   "source": [
    "a = pd.Series(np.ones(5), index=[\"a\", \"b\", \"c\", \"d\", \"e\"])\n",
    "b = pd.Series(np.arange(4), index=[\"e\", \"d\", \"c\", \"b\"])\n",
    "a + b"
   ]
  },
  {
   "cell_type": "markdown",
   "id": "0ed2fb0e",
   "metadata": {},
   "source": [
    "### Aside\n",
    "\n",
    "- `NaN` is a number!\n",
    "- Beware of them\n",
    "- Used to denote missing values in pandas."
   ]
  },
  {
   "cell_type": "code",
   "execution_count": null,
   "id": "57633fbb",
   "metadata": {},
   "outputs": [],
   "source": [
    "float('nan'), float('NaN')"
   ]
  },
  {
   "cell_type": "code",
   "execution_count": null,
   "id": "c9ee721c",
   "metadata": {},
   "outputs": [],
   "source": [
    "type(float('nan'))"
   ]
  },
  {
   "cell_type": "code",
   "execution_count": null,
   "id": "9274b44d",
   "metadata": {},
   "outputs": [],
   "source": [
    "np.nan"
   ]
  },
  {
   "cell_type": "code",
   "execution_count": null,
   "id": "1bfaccfd",
   "metadata": {},
   "outputs": [],
   "source": [
    "x = np.arange(5, dtype=float)\n",
    "np.sum(x)"
   ]
  },
  {
   "cell_type": "code",
   "execution_count": null,
   "id": "ac40b6ba",
   "metadata": {},
   "outputs": [],
   "source": [
    "x[0] = np.nan\n",
    "np.mean(x)"
   ]
  },
  {
   "cell_type": "markdown",
   "id": "7f4f2fb2",
   "metadata": {},
   "source": [
    "- Use `np.nan*` functions\n",
    "- `np.isnan` is also handy\n"
   ]
  },
  {
   "cell_type": "code",
   "execution_count": null,
   "id": "5a185133",
   "metadata": {},
   "outputs": [],
   "source": [
    "np.nansum(x)"
   ]
  },
  {
   "cell_type": "markdown",
   "id": "0dfdc51b",
   "metadata": {},
   "source": [
    "## `DataFrame` basics\n",
    "\n",
    "- A table of data: a spreadsheet\n",
    "- Same index for all columns\n",
    "- Different data types per column\n",
    "- Think of it as a 2D numpy array with flexible row and column names.\n",
    "\n",
    "We can construct these using Series objects."
   ]
  },
  {
   "cell_type": "code",
   "execution_count": null,
   "id": "000d6491",
   "metadata": {},
   "outputs": [],
   "source": [
    "state_pop = {'Maharashtra': 112374333, 'UP': 199812341, 'Bihar': 104099452,\n",
    "             'West Bengal': 91276115, 'MP': 72626809}\n",
    "pop = pd.Series(state_pop)"
   ]
  },
  {
   "cell_type": "code",
   "execution_count": null,
   "id": "3368d910",
   "metadata": {},
   "outputs": [],
   "source": [
    "state_area = {'MP': 308252,  'UP': 240928, 'Maharashtra': 307713, 'Bihar': 94163,\n",
    "              'West Bengal': 88752}\n",
    "area = pd.Series(state_area)"
   ]
  },
  {
   "cell_type": "code",
   "execution_count": null,
   "id": "ec21a558",
   "metadata": {},
   "outputs": [],
   "source": [
    "states = pd.DataFrame({'population': pop, 'area': area})\n",
    "states"
   ]
  },
  {
   "cell_type": "code",
   "execution_count": null,
   "id": "f9d99d24",
   "metadata": {},
   "outputs": [],
   "source": [
    "states.index"
   ]
  },
  {
   "cell_type": "code",
   "execution_count": null,
   "id": "fda41cee",
   "metadata": {},
   "outputs": [],
   "source": [
    "states.columns"
   ]
  },
  {
   "cell_type": "code",
   "execution_count": null,
   "id": "fbe45ddd",
   "metadata": {},
   "outputs": [],
   "source": [
    "states['area']"
   ]
  },
  {
   "cell_type": "code",
   "execution_count": null,
   "id": "b0b497a7",
   "metadata": {},
   "outputs": [],
   "source": [
    "states['population']"
   ]
  },
  {
   "cell_type": "code",
   "execution_count": null,
   "id": "982ea47b",
   "metadata": {},
   "outputs": [],
   "source": [
    "states.area"
   ]
  },
  {
   "cell_type": "markdown",
   "id": "34002b8f",
   "metadata": {},
   "source": [
    "\n",
    "Can also create a data frame by supplying lists or numpy arrays"
   ]
  },
  {
   "cell_type": "code",
   "execution_count": null,
   "id": "e766ce51",
   "metadata": {},
   "outputs": [],
   "source": [
    "d = pd.DataFrame(dict(x=[1, 2, 3], y=['hello', 'class', '2025']))"
   ]
  },
  {
   "cell_type": "code",
   "execution_count": null,
   "id": "5a4ecd98",
   "metadata": {},
   "outputs": [],
   "source": [
    "d"
   ]
  },
  {
   "cell_type": "code",
   "execution_count": null,
   "id": "b661bdee",
   "metadata": {},
   "outputs": [],
   "source": [
    "# Note that the index is implicit which may not be ideal\n",
    "d.index"
   ]
  },
  {
   "cell_type": "code",
   "execution_count": null,
   "id": "8bf7dda4",
   "metadata": {},
   "outputs": [],
   "source": [
    "d.describe()"
   ]
  },
  {
   "cell_type": "code",
   "execution_count": null,
   "id": "52f4669a",
   "metadata": {},
   "outputs": [],
   "source": [
    "d.dtypes"
   ]
  },
  {
   "cell_type": "markdown",
   "id": "c0843fe5",
   "metadata": {},
   "source": [
    "Can create the array with a two-dimensional numpy array"
   ]
  },
  {
   "cell_type": "code",
   "execution_count": null,
   "id": "3f0bb5dd",
   "metadata": {
    "lines_to_next_cell": 2
   },
   "outputs": [],
   "source": [
    "pd.DataFrame(np.random.rand(3, 2),\n",
    "             columns=['foo', 'bar'],\n",
    "             index=['a', 'b', 'c'])"
   ]
  },
  {
   "cell_type": "markdown",
   "id": "64339cbb",
   "metadata": {},
   "source": [
    "## The `pd.Index` object\n",
    "\n",
    "Can be constructed explicitly"
   ]
  },
  {
   "cell_type": "code",
   "execution_count": null,
   "id": "7b4d01d2",
   "metadata": {},
   "outputs": [],
   "source": [
    "ind = pd.Index([2, 4, 6, 8, 10])\n",
    "ind"
   ]
  },
  {
   "cell_type": "code",
   "execution_count": null,
   "id": "6ff1239d",
   "metadata": {},
   "outputs": [],
   "source": [
    "ind1 = pd.Index([2, 3, 5, 7, 11])"
   ]
  },
  {
   "cell_type": "markdown",
   "id": "f4518da7",
   "metadata": {},
   "source": [
    "\n",
    "- The index is immutable\n",
    "- Supports basic set-like operations\n",
    "  - Union, `|`\n",
    "  - Intersection, `&`\n",
    "  - Symmetric difference, `^`"
   ]
  },
  {
   "cell_type": "code",
   "execution_count": null,
   "id": "c9689505",
   "metadata": {},
   "outputs": [],
   "source": [
    "ind | ind1"
   ]
  },
  {
   "cell_type": "code",
   "execution_count": null,
   "id": "24753c15",
   "metadata": {},
   "outputs": [],
   "source": [
    "ind & ind1"
   ]
  },
  {
   "cell_type": "markdown",
   "id": "619a0e24",
   "metadata": {},
   "source": [
    "### A toy example.\n",
    "\n",
    "- This is a boring dataset but easy to create and demonstrate the basic\n",
    "  features."
   ]
  },
  {
   "cell_type": "code",
   "execution_count": null,
   "id": "236aff59",
   "metadata": {
    "lines_to_next_cell": 2
   },
   "outputs": [],
   "source": [
    "x = np.linspace(0, 2*np.pi, 100)\n",
    "sin = np.sin(x)\n",
    "cos = np.cos(x)"
   ]
  },
  {
   "cell_type": "code",
   "execution_count": null,
   "id": "9106d800",
   "metadata": {},
   "outputs": [],
   "source": [
    "df = pd.DataFrame(dict(x=x, sin=sin))"
   ]
  },
  {
   "cell_type": "code",
   "execution_count": null,
   "id": "9cb3db40",
   "metadata": {},
   "outputs": [],
   "source": [
    "df = pd.DataFrame({'x': x, 'sin': sin, 'cos': cos, 'x-data':x})\n",
    "# OR\n",
    "#df = pd.DataFrame(dict(x=x, sin=sin, cos=cos))"
   ]
  },
  {
   "cell_type": "code",
   "execution_count": null,
   "id": "5e72bfe0",
   "metadata": {},
   "outputs": [],
   "source": [
    "df.head()  # or df.tail()"
   ]
  },
  {
   "cell_type": "code",
   "execution_count": null,
   "id": "4fcdcf00",
   "metadata": {},
   "outputs": [],
   "source": [
    "df.tail()"
   ]
  },
  {
   "cell_type": "code",
   "execution_count": null,
   "id": "2fcc8f3d",
   "metadata": {},
   "outputs": [],
   "source": [
    "df.describe()"
   ]
  },
  {
   "cell_type": "code",
   "execution_count": null,
   "id": "5d9de822",
   "metadata": {},
   "outputs": [],
   "source": [
    "df.info()"
   ]
  },
  {
   "cell_type": "code",
   "execution_count": null,
   "id": "4bdef217",
   "metadata": {},
   "outputs": [],
   "source": [
    "df['x-data']"
   ]
  },
  {
   "cell_type": "code",
   "execution_count": null,
   "id": "dca7062b",
   "metadata": {},
   "outputs": [],
   "source": [
    "df.x[::10]"
   ]
  },
  {
   "cell_type": "code",
   "execution_count": null,
   "id": "a4f743c7",
   "metadata": {},
   "outputs": [],
   "source": [
    "# df.x-data[:5] will not work!!\n",
    "df['x-data'][:5]"
   ]
  },
  {
   "cell_type": "code",
   "execution_count": null,
   "id": "8f7ac7af",
   "metadata": {},
   "outputs": [],
   "source": [
    "df['x'][:5]"
   ]
  },
  {
   "cell_type": "code",
   "execution_count": null,
   "id": "80e95c3e",
   "metadata": {},
   "outputs": [],
   "source": [
    "df.x[:10]"
   ]
  },
  {
   "cell_type": "code",
   "execution_count": null,
   "id": "38e25179",
   "metadata": {},
   "outputs": [],
   "source": [
    "df.columns"
   ]
  },
  {
   "cell_type": "code",
   "execution_count": null,
   "id": "b972b496",
   "metadata": {},
   "outputs": [],
   "source": [
    "# Very useful when reading a file to ensure that the types are correctly\n",
    "# parsed.\n",
    "df.dtypes"
   ]
  },
  {
   "cell_type": "code",
   "execution_count": null,
   "id": "074c5275",
   "metadata": {},
   "outputs": [],
   "source": [
    "len(df)"
   ]
  },
  {
   "cell_type": "code",
   "execution_count": null,
   "id": "5b09784b",
   "metadata": {},
   "outputs": [],
   "source": [
    "df.index"
   ]
  },
  {
   "cell_type": "code",
   "execution_count": null,
   "id": "9dc77abf",
   "metadata": {},
   "outputs": [],
   "source": [
    "df1 = df.copy()\n",
    "df1.head()"
   ]
  },
  {
   "cell_type": "markdown",
   "id": "28fc9f48",
   "metadata": {},
   "source": [
    "Indexing\n",
    "=========\n",
    "\n",
    "Can do what we did above but also using:\n",
    "\n",
    "- Select column: `df[col]`\n",
    "- Slice rows: `df[3:13]`\n",
    "- Select row by label: `df.loc[label_index]`\n",
    "- Select row by numerical index: `df.iloc[integer]`\n",
    "- Select rows by boolean vector: `df[bool_vec]`\n",
    "- Select rows/colunns: `df[bool_vec, [label1, label2]]`\n",
    "- `iloc`, `loc` are useful since using `[]` is confusing.\n",
    "\n",
    "Shall explore this below.\n"
   ]
  },
  {
   "cell_type": "code",
   "execution_count": null,
   "id": "08698a0d",
   "metadata": {},
   "outputs": [],
   "source": [
    "df['x']  # Access a column"
   ]
  },
  {
   "cell_type": "code",
   "execution_count": null,
   "id": "ea942d5e",
   "metadata": {},
   "outputs": [],
   "source": [
    "df.loc[10]"
   ]
  },
  {
   "cell_type": "code",
   "execution_count": null,
   "id": "82eaf239",
   "metadata": {},
   "outputs": [],
   "source": [
    "df.loc[:10]"
   ]
  },
  {
   "cell_type": "code",
   "execution_count": null,
   "id": "9b1f3f03",
   "metadata": {},
   "outputs": [],
   "source": [
    "df.loc[:10, 'x']"
   ]
  },
  {
   "cell_type": "code",
   "execution_count": null,
   "id": "9a50cf72",
   "metadata": {},
   "outputs": [],
   "source": [
    "df.loc[:10, ['sin', 'cos']]"
   ]
  },
  {
   "cell_type": "code",
   "execution_count": null,
   "id": "b9f99a2a",
   "metadata": {},
   "outputs": [],
   "source": [
    "# This is not different in this case as the indices are integers\n",
    "# Better example below.\n",
    "df.iloc[:10]"
   ]
  },
  {
   "cell_type": "markdown",
   "id": "e22f04fb",
   "metadata": {},
   "source": [
    "### Examples with non-integer index\n"
   ]
  },
  {
   "cell_type": "code",
   "execution_count": null,
   "id": "7dda92d3",
   "metadata": {},
   "outputs": [],
   "source": [
    "d = pd.DataFrame(dict(x=[1, 2, 3], y=['hello', 'class', '2021']), index=list('abc'))"
   ]
  },
  {
   "cell_type": "code",
   "execution_count": null,
   "id": "01fe6a36",
   "metadata": {},
   "outputs": [],
   "source": [
    "d"
   ]
  },
  {
   "cell_type": "code",
   "execution_count": null,
   "id": "e0110474",
   "metadata": {},
   "outputs": [],
   "source": [
    "d.loc['a']"
   ]
  },
  {
   "cell_type": "code",
   "execution_count": null,
   "id": "d98ab795",
   "metadata": {},
   "outputs": [],
   "source": [
    "# Note that this includes the last slice label!\n",
    "d.loc['a':'b']"
   ]
  },
  {
   "cell_type": "code",
   "execution_count": null,
   "id": "ea09f2a4",
   "metadata": {},
   "outputs": [],
   "source": [
    "d.iloc[0]"
   ]
  },
  {
   "cell_type": "code",
   "execution_count": null,
   "id": "8bb1d711",
   "metadata": {},
   "outputs": [],
   "source": [
    "d[1:3]"
   ]
  },
  {
   "cell_type": "markdown",
   "id": "da55c06f",
   "metadata": {},
   "source": [
    "\n",
    "Back to our original DataFrame, `df`\n",
    "- Give me a dataframe, where all cosine values are >0."
   ]
  },
  {
   "cell_type": "code",
   "execution_count": null,
   "id": "aed6d3e6",
   "metadata": {},
   "outputs": [],
   "source": [
    "df.head()"
   ]
  },
  {
   "cell_type": "code",
   "execution_count": null,
   "id": "2fa984f6",
   "metadata": {},
   "outputs": [],
   "source": [
    "# Recall masked indexing\n",
    "y = np.linspace(10, 11, 11)\n",
    "y"
   ]
  },
  {
   "cell_type": "code",
   "execution_count": null,
   "id": "fb6874b2",
   "metadata": {},
   "outputs": [],
   "source": [
    "y > 10.5"
   ]
  },
  {
   "cell_type": "code",
   "execution_count": null,
   "id": "35e793a8",
   "metadata": {},
   "outputs": [],
   "source": [
    "cond = y > 10.5\n",
    "y[cond]"
   ]
  },
  {
   "cell_type": "markdown",
   "id": "70ebbe0c",
   "metadata": {},
   "source": [
    "- Same thing works with pandas"
   ]
  },
  {
   "cell_type": "code",
   "execution_count": null,
   "id": "ba08c911",
   "metadata": {},
   "outputs": [],
   "source": [
    "condition = df.cos > 0.0\n",
    "print(len(condition))\n",
    "print(condition.sum())"
   ]
  },
  {
   "cell_type": "code",
   "execution_count": null,
   "id": "00de9de1",
   "metadata": {},
   "outputs": [],
   "source": [
    "df_positive_cos = df[condition]\n",
    "df_positive_cos.describe()"
   ]
  },
  {
   "cell_type": "code",
   "execution_count": null,
   "id": "18bbf0ff",
   "metadata": {},
   "outputs": [],
   "source": [
    "# Combining conditionals\n",
    "cond1 = df.sin > 0.0\n",
    "df_all_positive = df[condition & cond1]\n",
    "df_all_positive.describe()"
   ]
  },
  {
   "cell_type": "code",
   "execution_count": null,
   "id": "a6c84ad5",
   "metadata": {},
   "outputs": [],
   "source": [
    "# Always, always use brackets when combining conditionals with bitwise\n",
    "# operations.\n",
    "df_all_positive = df[(df.cos > 0.0) & (df.sin > 0)]\n",
    "df_all_positive.describe()"
   ]
  },
  {
   "cell_type": "code",
   "execution_count": null,
   "id": "ef029b14",
   "metadata": {},
   "outputs": [],
   "source": [
    "# Use ~ for inverting the boolean as a Not\n",
    "c = np.array([True, False, True, False])\n",
    "c1 = np.array([False, True, False, False])\n",
    "~(c | c1)"
   ]
  },
  {
   "cell_type": "code",
   "execution_count": null,
   "id": "38d117b3",
   "metadata": {
    "lines_to_next_cell": 2
   },
   "outputs": [],
   "source": [
    "cond1 = df_positive_cos.sin > 0.0\n",
    "df_all_positive = df_positive_cos[cond1]\n",
    "df_all_positive.describe()"
   ]
  },
  {
   "cell_type": "code",
   "execution_count": null,
   "id": "073e596b",
   "metadata": {},
   "outputs": [],
   "source": [
    "# This adds a new column sincos\n",
    "df['sincos'] = df.sin*df.cos\n",
    "# Do not use df.sincos = ...\n",
    "len(df.sincos)"
   ]
  },
  {
   "cell_type": "code",
   "execution_count": null,
   "id": "7e199b0f",
   "metadata": {},
   "outputs": [],
   "source": [
    "df.describe()"
   ]
  },
  {
   "cell_type": "code",
   "execution_count": null,
   "id": "91816ce8",
   "metadata": {},
   "outputs": [],
   "source": [
    "if 'x-data' in df:\n",
    "    del df['x-data']\n",
    "df.head()"
   ]
  },
  {
   "cell_type": "markdown",
   "id": "03a468d0",
   "metadata": {},
   "source": [
    "### Operations and index alignment\n",
    "\n",
    "- NumPy ufuncs can be applied\n",
    "- All binary operations align on the index"
   ]
  },
  {
   "cell_type": "code",
   "execution_count": null,
   "id": "1c8ae39c",
   "metadata": {},
   "outputs": [],
   "source": [
    "d = pd.DataFrame(np.random.randint(0, 10, size=(3, 4)),\n",
    "                 columns=['A', 'B', 'C', 'D'])\n",
    "d"
   ]
  },
  {
   "cell_type": "code",
   "execution_count": null,
   "id": "f184c81a",
   "metadata": {},
   "outputs": [],
   "source": [
    "np.sin(d)"
   ]
  },
  {
   "cell_type": "code",
   "execution_count": null,
   "id": "a6bb8b72",
   "metadata": {},
   "outputs": [],
   "source": [
    "a = pd.DataFrame(np.random.randint(0, 20, (2, 2)),\n",
    "                 columns=list('AB'))\n",
    "a\n",
    "\n",
    "b = pd.DataFrame(np.random.randint(0, 10, (3, 3)),\n",
    "                 columns=list('BAC'))\n",
    "b"
   ]
  },
  {
   "cell_type": "code",
   "execution_count": null,
   "id": "415a5327",
   "metadata": {},
   "outputs": [],
   "source": [
    "a + b"
   ]
  },
  {
   "cell_type": "code",
   "execution_count": null,
   "id": "fe9f9f5e",
   "metadata": {},
   "outputs": [],
   "source": [
    "a.add(b, fill_value=0.0)\n",
    "a"
   ]
  },
  {
   "cell_type": "markdown",
   "id": "2b997483",
   "metadata": {},
   "source": [
    "There are many other methods, `sub, mul, floordiv, div, pow`, etc."
   ]
  },
  {
   "cell_type": "markdown",
   "id": "9d1f78c0",
   "metadata": {},
   "source": [
    "### Missing values\n",
    "- Nan used to deal with missing values\n",
    "- None also used to deal with missing values in data of type `object`"
   ]
  },
  {
   "cell_type": "code",
   "execution_count": null,
   "id": "0bf58699",
   "metadata": {},
   "outputs": [],
   "source": [
    "s = pd.Series([1, np.nan, 'hello', None])\n",
    "s"
   ]
  },
  {
   "cell_type": "code",
   "execution_count": null,
   "id": "235e1d98",
   "metadata": {},
   "outputs": [],
   "source": [
    "s.isnull()"
   ]
  },
  {
   "cell_type": "code",
   "execution_count": null,
   "id": "cc4910ff",
   "metadata": {},
   "outputs": [],
   "source": [
    "s.notnull()"
   ]
  },
  {
   "cell_type": "code",
   "execution_count": null,
   "id": "90c35ff5",
   "metadata": {},
   "outputs": [],
   "source": [
    "s.dropna()"
   ]
  },
  {
   "cell_type": "code",
   "execution_count": null,
   "id": "a77a3cae",
   "metadata": {
    "lines_to_next_cell": 2
   },
   "outputs": [],
   "source": [
    "# See the various arguments for each of these methods\n",
    "s.fillna(0)"
   ]
  },
  {
   "cell_type": "markdown",
   "id": "699a809d",
   "metadata": {},
   "source": [
    "### Assignment of values\n",
    "\n",
    "When assigning values, do it directly using `.loc`"
   ]
  },
  {
   "cell_type": "code",
   "execution_count": null,
   "id": "0e0352aa",
   "metadata": {},
   "outputs": [],
   "source": [
    "# Recall this\n",
    "d"
   ]
  },
  {
   "cell_type": "code",
   "execution_count": null,
   "id": "cd9aa5b4",
   "metadata": {},
   "outputs": [],
   "source": [
    "# Note the warning!\n",
    "d[d.A > 5]['A'] = 25\n",
    "d"
   ]
  },
  {
   "cell_type": "code",
   "execution_count": null,
   "id": "13255705",
   "metadata": {},
   "outputs": [],
   "source": [
    "# Instead do this:\n",
    "d.loc[d.A > 5, 'A'] = 25\n",
    "d"
   ]
  },
  {
   "cell_type": "markdown",
   "id": "5f006cc2",
   "metadata": {
    "lines_to_next_cell": 2
   },
   "source": [
    "- Always beware of this SettingWithCopyWarning warnings\n",
    "- Avoid ever setting values on slices/subsets without due care."
   ]
  },
  {
   "cell_type": "markdown",
   "id": "340a7406",
   "metadata": {},
   "source": [
    "### String processing\n",
    "\n",
    "- For any string type, use the `str` attributes and its methods.\n",
    "- This applies to `Series`, `Index` and `DataFrame` objects!"
   ]
  },
  {
   "cell_type": "code",
   "execution_count": null,
   "id": "ef316ec1",
   "metadata": {},
   "outputs": [],
   "source": [
    "# From the pandas documentation.\n",
    "s = pd.Series(\n",
    "    [\"A\", \"B\", \"C\", \"Aaba\", \"Baca\", np.nan, \"CABA\", \"dog\", \"cat\"], dtype=\"string\"\n",
    ")"
   ]
  },
  {
   "cell_type": "code",
   "execution_count": null,
   "id": "0f25b782",
   "metadata": {},
   "outputs": [],
   "source": [
    "s.str.lower()"
   ]
  },
  {
   "cell_type": "code",
   "execution_count": null,
   "id": "2e43f24f",
   "metadata": {},
   "outputs": [],
   "source": [
    "s.str.upper()"
   ]
  },
  {
   "cell_type": "code",
   "execution_count": null,
   "id": "137be68d",
   "metadata": {
    "lines_to_next_cell": 2
   },
   "outputs": [],
   "source": [
    "s.str.upper().str.replace('C', 'XX')"
   ]
  },
  {
   "cell_type": "markdown",
   "id": "2ea0c763",
   "metadata": {},
   "source": [
    "Plotting\n",
    "========="
   ]
  },
  {
   "cell_type": "code",
   "execution_count": null,
   "id": "50641367",
   "metadata": {},
   "outputs": [],
   "source": [
    "df.plot(figsize=(20, 10));\n",
    "# or\n",
    "#df.plot.line()"
   ]
  },
  {
   "cell_type": "markdown",
   "id": "99a1ded0",
   "metadata": {},
   "source": [
    "Notice that everything is plotted w.r.t. the index!\n",
    "Let us fix this!"
   ]
  },
  {
   "cell_type": "code",
   "execution_count": null,
   "id": "d251e874",
   "metadata": {},
   "outputs": [],
   "source": [
    "df.plot.line(x='x', y=['sin', 'cos'], figsize=(20, 10));"
   ]
  },
  {
   "cell_type": "code",
   "execution_count": null,
   "id": "4a81255d",
   "metadata": {},
   "outputs": [],
   "source": [
    "# See what this does\n",
    "df[(df.sin > 0.0) ^ (df.cos < 0.0)].plot.line(x='x', marker='o');"
   ]
  },
  {
   "cell_type": "code",
   "execution_count": null,
   "id": "7c425be4",
   "metadata": {},
   "outputs": [],
   "source": [
    "df.plot.hist(y='cos', density=True);\n",
    "# or\n",
    "#df.plot(y='cos', kind='hist');"
   ]
  },
  {
   "cell_type": "markdown",
   "id": "b7dcbbb0",
   "metadata": {},
   "source": [
    "Input and output CSV and other file formats\n",
    "--------------------------------------------\n",
    "\n",
    "- `pd.read_csv()`\n",
    "- `df.to_csv()`\n",
    "- Can read/save to clip board.\n",
    "- Directly read from URLs."
   ]
  },
  {
   "cell_type": "code",
   "execution_count": null,
   "id": "8a891047",
   "metadata": {},
   "outputs": [],
   "source": [
    "df.to_csv('sincos.csv', index=False)"
   ]
  },
  {
   "cell_type": "code",
   "execution_count": null,
   "id": "e0aefc9a",
   "metadata": {},
   "outputs": [],
   "source": [
    "df1 = pd.read_csv('sincos.csv')\n",
    "df1.head()"
   ]
  },
  {
   "cell_type": "markdown",
   "id": "abe4dd8a",
   "metadata": {},
   "source": [
    "### Conversion to LaTeX and HTML"
   ]
  },
  {
   "cell_type": "code",
   "execution_count": null,
   "id": "925286c5",
   "metadata": {},
   "outputs": [],
   "source": [
    "print(df[:5].to_latex())"
   ]
  },
  {
   "cell_type": "code",
   "execution_count": null,
   "id": "641ca05d",
   "metadata": {},
   "outputs": [],
   "source": [
    "print(df[:5].to_latex(index=False))"
   ]
  },
  {
   "cell_type": "code",
   "execution_count": null,
   "id": "248a2a24",
   "metadata": {},
   "outputs": [],
   "source": [
    "print(df[:5].to_html())"
   ]
  },
  {
   "cell_type": "code",
   "execution_count": null,
   "id": "096c9cb1",
   "metadata": {},
   "outputs": [],
   "source": [
    "from IPython.display import HTML\n",
    "HTML(df[:5].to_html())"
   ]
  },
  {
   "cell_type": "markdown",
   "id": "26278c51",
   "metadata": {},
   "source": [
    "Selecting from the clipboard\n",
    "=============================\n",
    "\n",
    "- Let us select data from our previous sincos data frame.\n",
    "- Will use this for more interesting stuff.\n",
    "\n",
    "Select some data and then do this:\n"
   ]
  },
  {
   "cell_type": "code",
   "execution_count": null,
   "id": "254f0d52",
   "metadata": {},
   "outputs": [],
   "source": [
    "df2 = pd.read_clipboard(sep=',')\n",
    "df2"
   ]
  },
  {
   "cell_type": "code",
   "execution_count": null,
   "id": "1254afd5",
   "metadata": {},
   "outputs": [],
   "source": [
    "url = 'https://drive.google.com/uc?id=1VgrBnWERE9YLslOoCLu8ZFLRbUu4jOED'\n",
    "df = pd.read_csv(url, sep=';')"
   ]
  },
  {
   "cell_type": "code",
   "execution_count": null,
   "id": "ca9913b1",
   "metadata": {},
   "outputs": [],
   "source": [
    "df.head()"
   ]
  },
  {
   "cell_type": "code",
   "execution_count": null,
   "id": "cdbdc5d6",
   "metadata": {},
   "outputs": [],
   "source": [
    "df.describe()"
   ]
  },
  {
   "cell_type": "markdown",
   "id": "54197dcc",
   "metadata": {},
   "source": [
    "## Example: Getting Kohli's batting scores\n",
    "\n",
    "- Obtaining the Batting score data for ODIs.\n",
    "- We walk through how we get the data for V. Kohli\n",
    "- First visit here: https://stats.espncricinfo.com/ci/engine/player/253802.html?class=2;template=results;type=batting;view=innings"
   ]
  },
  {
   "cell_type": "code",
   "execution_count": null,
   "id": "1e8af039",
   "metadata": {
    "lines_to_next_cell": 2
   },
   "outputs": [],
   "source": [
    "df = pd.read_clipboard()\n",
    "r = df.Runs.str.replace('*', '')\n",
    "r1 = r[~r.str.contains('DNB')]\n",
    "np.savetxt('/tmp/kohli.txt', r1.to_numpy(dtype=np.int32), fmt='%d')"
   ]
  },
  {
   "cell_type": "markdown",
   "id": "8f71fbbf",
   "metadata": {},
   "source": [
    "## Example: Getting all Kohli's ODI batting data\n",
    "\n",
    "- Obtaining all available data\n",
    "- First visit here: https://stats.espncricinfo.com/ci/engine/player/253802.html?class=2;template=results;type=batting;view=innings"
   ]
  },
  {
   "cell_type": "code",
   "execution_count": null,
   "id": "4117dcd6",
   "metadata": {},
   "outputs": [],
   "source": [
    "data = pd.read_clipboard()"
   ]
  },
  {
   "cell_type": "code",
   "execution_count": null,
   "id": "0e7fba92",
   "metadata": {},
   "outputs": [],
   "source": [
    "# Strip any leading/trailing whitespace from the column headers.\n",
    "data.columns"
   ]
  },
  {
   "cell_type": "code",
   "execution_count": null,
   "id": "fe8c2f98",
   "metadata": {},
   "outputs": [],
   "source": [
    "data.columns = data.columns.str.strip()"
   ]
  },
  {
   "cell_type": "code",
   "execution_count": null,
   "id": "692b157f",
   "metadata": {},
   "outputs": [],
   "source": [
    "# Remove columns that are completely empty or were artifacts of the import\n",
    "# process.\n",
    "unnamed_cols = [col for col in data.columns if \"Unnamed\" in col]\n",
    "\n",
    "# The above is a list comprehension. Equivalent to the following.\n",
    "unnamed_cols = []\n",
    "for col in data.columns:\n",
    "    if \"Unnamed\" in col:\n",
    "        unnamed_cols.append(col)\n",
    "\n",
    "# Now drop the columns\n",
    "data = data.drop(columns=unnamed_cols)"
   ]
  },
  {
   "cell_type": "code",
   "execution_count": null,
   "id": "dd7d71d2",
   "metadata": {},
   "outputs": [],
   "source": [
    "# The 'Runs' column contains non-numeric characters like '*' for not-out\n",
    "# innings. This section removes them and converts the column to a numeric type.\n",
    "data[\"Runs\"] = (\n",
    "    data[\"Runs\"].astype(str)\n",
    "    .str.replace(\"*\", \"\", regex=False)\n",
    "    .replace(\"DNB\", np.nan)  # Replace 'Did Not Bat' with NaN\n",
    ")\n",
    "data[\"Runs\"] = pd.to_numeric(data[\"Runs\"], errors=\"coerce\")"
   ]
  },
  {
   "cell_type": "code",
   "execution_count": null,
   "id": "041d3f86",
   "metadata": {},
   "outputs": [],
   "source": [
    "# Convert the 'Start DateAscending' column to datetime objects.\n",
    "# Then, create a 'Year' column and drop the original date column.\n",
    "data[\"Date\"] = pd.to_datetime(data[\"Start DateAscending\"], errors=\"coerce\")\n",
    "data[\"Year\"] = data[\"Date\"].dt.year\n",
    "data = data.drop(columns=[\"Start DateAscending\"])\n",
    "\n",
    "# Remove the \"v \" prefix from the 'Opposition' column for consistency.\n",
    "data[\"Opposition\"] = data[\"Opposition\"].str.replace(\"v \", \"\", regex=False)"
   ]
  },
  {
   "cell_type": "code",
   "execution_count": null,
   "id": "585d5d14",
   "metadata": {},
   "outputs": [],
   "source": [
    "# Clean up text columns and create a binary 'NotOut' column.\n",
    "data[\"Dismissal\"] = (\n",
    "    data[\"Dismissal\"]\n",
    "    .fillna(\"DNB\")\n",
    "    .astype(str)\n",
    "    .str.strip()\n",
    "    .fillna(\"DNB\")\n",
    ")\n",
    "data[\"Ground\"] = data[\"Ground\"].str.strip()\n",
    "data[\"Opposition\"] = data[\"Opposition\"].str.strip()\n",
    "data[\"NotOut\"] = data[\"Dismissal\"].eq(\"not out\").astype(int)\n",
    "\n",
    "# Convert several other columns to numeric, coercing errors to NaN.\n",
    "cols_to_numeric = [\"BF\", \"4s\", \"6s\", \"Pos\", \"Inns\", \"SR\", \"Mins\"]\n",
    "for col in cols_to_numeric:\n",
    "    data[col] = pd.to_numeric(data[col], errors=\"coerce\")\n",
    "\n",
    "# Arrange the DataFrame columns in a more logical order.\n",
    "final_column_order = [\n",
    "    \"Date\", \"Year\", \"Ground\", \"Opposition\", \"Inns\", \"Pos\",\n",
    "    \"Runs\", \"BF\", \"4s\", \"6s\", \"SR\", \"Dismissal\", \"NotOut\"\n",
    "]\n",
    "data = data[final_column_order]\n",
    "data.info()\n",
    "\n",
    "# Export the final, cleaned DataFrame to a new CSV file.\n",
    "output_filename = \"/tmp/kohli_cleaned_batting.csv\"\n",
    "data.to_csv(output_filename, index=False)"
   ]
  },
  {
   "cell_type": "markdown",
   "id": "70c28505",
   "metadata": {},
   "source": [
    "### Some useful methods\n"
   ]
  },
  {
   "cell_type": "code",
   "execution_count": null,
   "id": "138a8786",
   "metadata": {},
   "outputs": [],
   "source": [
    "(data.Runs > 100).value_counts()"
   ]
  },
  {
   "cell_type": "code",
   "execution_count": null,
   "id": "22146664",
   "metadata": {},
   "outputs": [],
   "source": [
    "data.NotOut.value_counts()"
   ]
  },
  {
   "cell_type": "code",
   "execution_count": null,
   "id": "a56fda76",
   "metadata": {},
   "outputs": [],
   "source": [
    "np.sum(data.NotOut)"
   ]
  },
  {
   "cell_type": "code",
   "execution_count": null,
   "id": "38ca2024",
   "metadata": {},
   "outputs": [],
   "source": [
    "data.Opposition.value_counts()"
   ]
  },
  {
   "cell_type": "code",
   "execution_count": null,
   "id": "77d60b1a",
   "metadata": {},
   "outputs": [],
   "source": [
    "data.Dismissal.value_counts()"
   ]
  },
  {
   "cell_type": "code",
   "execution_count": null,
   "id": "dc5f28c1",
   "metadata": {},
   "outputs": [],
   "source": [
    "data.groupby('Opposition')['Runs'].sum()"
   ]
  },
  {
   "cell_type": "code",
   "execution_count": null,
   "id": "7b8cc1ed",
   "metadata": {},
   "outputs": [],
   "source": [
    "data.groupby('Opposition')['Runs'].mean()"
   ]
  },
  {
   "cell_type": "code",
   "execution_count": null,
   "id": "4089fa95",
   "metadata": {},
   "outputs": [],
   "source": [
    "data.SR.mean()"
   ]
  },
  {
   "cell_type": "code",
   "execution_count": null,
   "id": "54b18167",
   "metadata": {},
   "outputs": [],
   "source": [
    "data.groupby('Opposition')['SR'].mean()"
   ]
  },
  {
   "cell_type": "markdown",
   "id": "06d8a243",
   "metadata": {},
   "source": [
    "### Sampling a dataset\n",
    "\n",
    "- Useful for probabilistic programming/bootstrapping"
   ]
  },
  {
   "cell_type": "code",
   "execution_count": null,
   "id": "b6341b68",
   "metadata": {
    "lines_to_next_cell": 2
   },
   "outputs": [],
   "source": [
    "data.sample(5, replace=True)"
   ]
  },
  {
   "cell_type": "markdown",
   "id": "792bf832",
   "metadata": {},
   "source": [
    "### Exercise\n",
    "\n",
    "\n",
    "Consider a smaller file:\n",
    "\n",
    "- File is at: http://www.aero.iitb.ac.in/~prabhu/tmp/sslc_small.csv\n",
    "- Also in the files section\n"
   ]
  },
  {
   "cell_type": "code",
   "execution_count": null,
   "id": "d0f67e96",
   "metadata": {},
   "outputs": [],
   "source": [
    "url = 'http://www.aero.iitb.ac.in/~prabhu/tmp/sslc_small.csv'\n",
    "df = pd.read_csv(url)\n",
    "df.head()  # Produces only one strange column of data!"
   ]
  },
  {
   "cell_type": "code",
   "execution_count": null,
   "id": "037f2fa5",
   "metadata": {},
   "outputs": [],
   "source": [
    "df.dtypes"
   ]
  },
  {
   "cell_type": "markdown",
   "id": "66a281ec",
   "metadata": {},
   "source": [
    "Notice that this data is read incorrectly, this is because the separator is\n",
    "not a comma but a ';' so use this."
   ]
  },
  {
   "cell_type": "code",
   "execution_count": null,
   "id": "e7460571",
   "metadata": {},
   "outputs": [],
   "source": [
    "df = pd.read_csv(url, sep=';')\n",
    "df.head()"
   ]
  },
  {
   "cell_type": "code",
   "execution_count": null,
   "id": "094a971a",
   "metadata": {},
   "outputs": [],
   "source": [
    "df.dtypes"
   ]
  },
  {
   "cell_type": "code",
   "execution_count": null,
   "id": "d0f3c85d",
   "metadata": {},
   "outputs": [],
   "source": [
    "df['region'].value_counts()"
   ]
  },
  {
   "cell_type": "code",
   "execution_count": null,
   "id": "ab19c623",
   "metadata": {},
   "outputs": [],
   "source": [
    "df.plot.scatter(x='fl', y='math');"
   ]
  },
  {
   "cell_type": "markdown",
   "id": "addb828e",
   "metadata": {},
   "source": [
    "There are more options to `pd.read_csv`, for example if `'AA'` is a value\n",
    "indicating a non-existing value you can pass an option, called `na_values`.\n",
    "Read more on the documentation for `read_csv`."
   ]
  },
  {
   "cell_type": "code",
   "execution_count": null,
   "id": "d3053906",
   "metadata": {},
   "outputs": [],
   "source": [
    "url = 'http://www.aero.iitb.ac.in/~prabhu/tmp/sslc1.csv.gz'\n",
    "df = pd.read_csv(url, sep=';', na_values='AA')\n",
    "df.head()"
   ]
  },
  {
   "cell_type": "code",
   "execution_count": null,
   "id": "479bfbf8",
   "metadata": {},
   "outputs": [],
   "source": [
    "df.dtypes"
   ]
  },
  {
   "cell_type": "code",
   "execution_count": null,
   "id": "ce7d0e4b",
   "metadata": {},
   "outputs": [],
   "source": [
    "df.describe()"
   ]
  },
  {
   "cell_type": "code",
   "execution_count": null,
   "id": "b51bede4",
   "metadata": {
    "lines_to_next_cell": 2
   },
   "outputs": [],
   "source": [
    "df.plot.hist(y='math', bins=50, figsize=(20, 10));"
   ]
  },
  {
   "cell_type": "code",
   "execution_count": null,
   "id": "fe00fb17",
   "metadata": {},
   "outputs": [],
   "source": [
    "data.groupby('Opposition')['Runs'].mean().plot.bar()\n",
    "plt.tight_layout()\n",
    "plt.grid();"
   ]
  },
  {
   "cell_type": "code",
   "execution_count": null,
   "id": "dbce79fa",
   "metadata": {},
   "outputs": [],
   "source": []
  },
  {
   "cell_type": "markdown",
   "id": "c80969a4",
   "metadata": {},
   "source": [
    "More information\n",
    "==================\n",
    "\n",
    "- Only scratched the surface.\n",
    "- http://pandas.pydata.org\n",
    "\n",
    "- Go through the chapter here: https://jakevdp.github.io/PythonDataScienceHandbook/03.00-introduction-to-pandas.html\n",
    "\n",
    "- Go through the nice tutorials here:\n",
    "   http://nbviewer.jupyter.org/github/jvns/pandas-cookbook/tree/v0.1/cookbook/"
   ]
  }
 ],
 "metadata": {
  "kernelspec": {
   "display_name": "Python 3 (ipykernel)",
   "language": "python",
   "name": "python3"
  }
 },
 "nbformat": 4,
 "nbformat_minor": 5
}
