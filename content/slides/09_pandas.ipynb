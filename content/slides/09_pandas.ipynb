{
 "cells": [
  {
   "cell_type": "markdown",
   "id": "cedb33c8",
   "metadata": {},
   "source": [
    "# Brief Introduction to Pandas\n",
    "\n",
    "- Provides a powerful `DataFrame` object.\n",
    "- Makes it easy to deal with \"Tabular\" data.\n",
    "- Very easy to read, process and visualize data.\n",
    "- See http://pandas.pydata.org"
   ]
  },
  {
   "cell_type": "code",
   "execution_count": null,
   "id": "89cd41ad",
   "metadata": {},
   "outputs": [],
   "source": [
    "import matplotlib.pyplot as plt\n",
    "import numpy as np\n",
    "import pandas as pd"
   ]
  },
  {
   "cell_type": "markdown",
   "id": "4e478d07",
   "metadata": {
    "lines_to_next_cell": 2
   },
   "source": [
    "## Fundamentals\n",
    "\n",
    "- Why do we need this?\n",
    "- Data is often **tabular**\n",
    "  - Imagine the class marks in a course or during a program\n",
    "  - Imagine a population with weight, height, age etc.\n",
    "\n",
    "- Think of each student as a row\n",
    "- Each column as an attribute\n",
    "- So the columns are **aligned** using the row\n",
    "\n",
    "- With `pandas`, data alignment is **central**\n",
    "\n",
    "There are three fundamental building blocks in pandas:\n",
    "1. `pd.Series`\n",
    "2. `pd.DataFrame` and\n",
    "3. `pd.Index`\n",
    "\n",
    "We will look into the first two as they are the most important."
   ]
  },
  {
   "cell_type": "markdown",
   "id": "c722393a",
   "metadata": {},
   "source": [
    "## Building block: `Series`\n",
    "\n",
    "- \"Labels\" are collectively called the **index**\n",
    "- `Series`: bundles together an index and values\n",
    "- Index can be implicit or explicit\n"
   ]
  },
  {
   "cell_type": "code",
   "execution_count": null,
   "id": "cce34254",
   "metadata": {},
   "outputs": [],
   "source": [
    "sn = pd.Series(np.random.normal(size=5))\n",
    "sn"
   ]
  },
  {
   "cell_type": "code",
   "execution_count": null,
   "id": "078c16b6",
   "metadata": {},
   "outputs": [],
   "source": [
    "sn.values"
   ]
  },
  {
   "cell_type": "code",
   "execution_count": null,
   "id": "5b944495",
   "metadata": {},
   "outputs": [],
   "source": [
    "sn.index"
   ]
  },
  {
   "cell_type": "markdown",
   "id": "c3cb4885",
   "metadata": {},
   "source": [
    "\n",
    "The values attribute is a numpy array\n",
    "\n",
    "The index is an instance of `pd.Index` which is another fundamental building\n",
    "block."
   ]
  },
  {
   "cell_type": "code",
   "execution_count": null,
   "id": "215dedb1",
   "metadata": {},
   "outputs": [],
   "source": [
    "sa = pd.Series(np.random.normal(size=5), index=[\"a\", \"b\", \"c\", \"d\", \"e\"])\n",
    "sa"
   ]
  },
  {
   "cell_type": "code",
   "execution_count": null,
   "id": "7b34638e",
   "metadata": {},
   "outputs": [],
   "source": [
    "sn[0]"
   ]
  },
  {
   "cell_type": "code",
   "execution_count": null,
   "id": "8bb105e0",
   "metadata": {},
   "outputs": [],
   "source": [
    "# Note the warning!\n",
    "sa[0]"
   ]
  },
  {
   "cell_type": "code",
   "execution_count": null,
   "id": "5b952d88",
   "metadata": {},
   "outputs": [],
   "source": [
    "# This is the right way to access.\n",
    "sa['a']"
   ]
  },
  {
   "cell_type": "markdown",
   "id": "8ae03f13",
   "metadata": {},
   "source": [
    "### `Series`: some points to note\n",
    "\n",
    "- They behave like `numpy` arrays or dictionaries\n",
    "- But carry the index\n",
    "- All operations align on the label (i.e. index)\n",
    "- The indices need not be contiguous or even be integers\n",
    "- In a sense the `Series` is like a special dictionary keyed on index.\n",
    "- Unaligned series will use the union of indices\n",
    "- `NaN` is used to refer to missing values\n"
   ]
  },
  {
   "cell_type": "code",
   "execution_count": null,
   "id": "7a631c8d",
   "metadata": {},
   "outputs": [],
   "source": [
    "# Can be initialized with a dictionary\n",
    "a = pd.Series(dict(x=1, a=21, b=2))\n",
    "a"
   ]
  },
  {
   "cell_type": "code",
   "execution_count": null,
   "id": "d326ea68",
   "metadata": {},
   "outputs": [],
   "source": [
    "# Or with explicit values and indices\n",
    "a = pd.Series(np.arange(5), index=range(100, 110, 2))\n",
    "a"
   ]
  },
  {
   "cell_type": "code",
   "execution_count": null,
   "id": "085fb292",
   "metadata": {},
   "outputs": [],
   "source": [
    "a[102]"
   ]
  },
  {
   "cell_type": "code",
   "execution_count": null,
   "id": "24767ae5",
   "metadata": {},
   "outputs": [],
   "source": [
    "a = pd.Series(np.ones(5), index=[\"a\", \"b\", \"c\", \"d\", \"e\"])\n",
    "b = pd.Series(np.arange(5), index=[\"e\", \"d\", \"c\", \"b\", \"a\"])\n",
    "a + b"
   ]
  },
  {
   "cell_type": "code",
   "execution_count": null,
   "id": "b75ee0a6",
   "metadata": {},
   "outputs": [],
   "source": [
    "a.dtype"
   ]
  },
  {
   "cell_type": "code",
   "execution_count": null,
   "id": "d2aeaf7c",
   "metadata": {
    "lines_to_next_cell": 2
   },
   "outputs": [],
   "source": [
    "a = pd.Series(np.ones(5), index=[\"a\", \"b\", \"c\", \"d\", \"e\"])\n",
    "b = pd.Series(np.arange(4), index=[\"e\", \"d\", \"c\", \"b\"])\n",
    "a + b"
   ]
  },
  {
   "cell_type": "markdown",
   "id": "449a3826",
   "metadata": {},
   "source": [
    "### Aside\n",
    "\n",
    "- `NaN` is a number!\n",
    "- Beware of them\n",
    "- Used to denote missing values in pandas."
   ]
  },
  {
   "cell_type": "code",
   "execution_count": null,
   "id": "8dcaa048",
   "metadata": {},
   "outputs": [],
   "source": [
    "float('nan'), float('NaN')"
   ]
  },
  {
   "cell_type": "code",
   "execution_count": null,
   "id": "28a388d5",
   "metadata": {},
   "outputs": [],
   "source": [
    "type(float('nan'))"
   ]
  },
  {
   "cell_type": "code",
   "execution_count": null,
   "id": "1c93651d",
   "metadata": {},
   "outputs": [],
   "source": [
    "np.nan"
   ]
  },
  {
   "cell_type": "code",
   "execution_count": null,
   "id": "f6fb35c3",
   "metadata": {},
   "outputs": [],
   "source": [
    "np.nan + 1"
   ]
  },
  {
   "cell_type": "code",
   "execution_count": null,
   "id": "d331bce5",
   "metadata": {},
   "outputs": [],
   "source": [
    "x = np.arange(5, dtype=float)\n",
    "np.sum(x), np.mean(x)"
   ]
  },
  {
   "cell_type": "code",
   "execution_count": null,
   "id": "8acf3e61",
   "metadata": {},
   "outputs": [],
   "source": [
    "x[0] = np.nan\n",
    "np.sum(x), np.mean(x)"
   ]
  },
  {
   "cell_type": "markdown",
   "id": "39672f19",
   "metadata": {},
   "source": [
    "- Use `np.nan*` functions\n",
    "- `np.isnan` is also handy\n"
   ]
  },
  {
   "cell_type": "code",
   "execution_count": null,
   "id": "ee5aa29a",
   "metadata": {},
   "outputs": [],
   "source": [
    "np.nansum(x), np.nanmean(x)"
   ]
  },
  {
   "cell_type": "markdown",
   "id": "08fc4c2e",
   "metadata": {},
   "source": [
    "## `DataFrame` basics\n",
    "\n",
    "- A table of data: a spreadsheet\n",
    "- Same index for all columns\n",
    "- Different data types per column\n",
    "- Think of it as a 2D numpy array with flexible row and column names.\n",
    "\n",
    "We can construct these using Series objects."
   ]
  },
  {
   "cell_type": "code",
   "execution_count": null,
   "id": "956c541a",
   "metadata": {},
   "outputs": [],
   "source": [
    "state_pop = {'Maharashtra': 112374333, 'UP': 199812341, 'Bihar': 104099452,\n",
    "             'West Bengal': 91276115, 'MP': 72626809}\n",
    "pop = pd.Series(state_pop)\n",
    "pop"
   ]
  },
  {
   "cell_type": "code",
   "execution_count": null,
   "id": "4ae88a19",
   "metadata": {},
   "outputs": [],
   "source": [
    "state_area = {'MP': 308252,  'UP': 240928, 'Maharashtra': 307713, 'Bihar': 94163,\n",
    "              'West Bengal': 88752}\n",
    "area = pd.Series(state_area)\n",
    "area"
   ]
  },
  {
   "cell_type": "code",
   "execution_count": null,
   "id": "b7507a61",
   "metadata": {},
   "outputs": [],
   "source": [
    "states = pd.DataFrame({'population': pop, 'area': area})\n",
    "states"
   ]
  },
  {
   "cell_type": "code",
   "execution_count": null,
   "id": "143cdda8",
   "metadata": {},
   "outputs": [],
   "source": [
    "states.index"
   ]
  },
  {
   "cell_type": "code",
   "execution_count": null,
   "id": "229a404d",
   "metadata": {},
   "outputs": [],
   "source": [
    "states.columns"
   ]
  },
  {
   "cell_type": "code",
   "execution_count": null,
   "id": "12f2e4be",
   "metadata": {},
   "outputs": [],
   "source": [
    "states['area']"
   ]
  },
  {
   "cell_type": "code",
   "execution_count": null,
   "id": "f8eb2807",
   "metadata": {},
   "outputs": [],
   "source": [
    "states['population']"
   ]
  },
  {
   "cell_type": "code",
   "execution_count": null,
   "id": "552dd499",
   "metadata": {},
   "outputs": [],
   "source": [
    "states.area"
   ]
  },
  {
   "cell_type": "markdown",
   "id": "e9ca9f67",
   "metadata": {},
   "source": [
    "\n",
    "Can also create a data frame by supplying lists or numpy arrays"
   ]
  },
  {
   "cell_type": "code",
   "execution_count": null,
   "id": "3b88b95a",
   "metadata": {},
   "outputs": [],
   "source": [
    "d = pd.DataFrame(dict(x=[1, 2, 3], y=['hello', 'class', '2025']))"
   ]
  },
  {
   "cell_type": "code",
   "execution_count": null,
   "id": "695d7952",
   "metadata": {},
   "outputs": [],
   "source": [
    "d"
   ]
  },
  {
   "cell_type": "code",
   "execution_count": null,
   "id": "25e18982",
   "metadata": {},
   "outputs": [],
   "source": [
    "# Note that the index is implicit which may not be ideal\n",
    "d.index"
   ]
  },
  {
   "cell_type": "code",
   "execution_count": null,
   "id": "8d0a8eb8",
   "metadata": {},
   "outputs": [],
   "source": [
    "d.describe()"
   ]
  },
  {
   "cell_type": "code",
   "execution_count": null,
   "id": "cf3ea847",
   "metadata": {},
   "outputs": [],
   "source": [
    "d.dtypes  # This is great for debugging if you run into errors."
   ]
  },
  {
   "cell_type": "markdown",
   "id": "f29d6657",
   "metadata": {},
   "source": [
    "Can create the array with a two-dimensional numpy array"
   ]
  },
  {
   "cell_type": "code",
   "execution_count": null,
   "id": "97060a88",
   "metadata": {
    "lines_to_next_cell": 2
   },
   "outputs": [],
   "source": [
    "pd.DataFrame(np.random.rand(3, 2),\n",
    "             columns=['x', 'y'],\n",
    "             index=['a', 'b', 'c'])"
   ]
  },
  {
   "cell_type": "markdown",
   "id": "f2957d63",
   "metadata": {},
   "source": [
    "## The `pd.Index` object\n",
    "\n",
    "Can be constructed explicitly"
   ]
  },
  {
   "cell_type": "code",
   "execution_count": null,
   "id": "846f095f",
   "metadata": {},
   "outputs": [],
   "source": [
    "ind = pd.Index([2, 4, 6, 8, 10])\n",
    "ind"
   ]
  },
  {
   "cell_type": "code",
   "execution_count": null,
   "id": "d887561f",
   "metadata": {},
   "outputs": [],
   "source": [
    "ind1 = pd.Index([2, 3, 5, 7, 11])"
   ]
  },
  {
   "cell_type": "markdown",
   "id": "8134c755",
   "metadata": {},
   "source": [
    "\n",
    "- The index is immutable\n",
    "- Supports basic set-like operations\n",
    "  - Union, `.union(...)`\n",
    "  - Intersection, `.intersection(...)`"
   ]
  },
  {
   "cell_type": "code",
   "execution_count": null,
   "id": "5e6f9427",
   "metadata": {},
   "outputs": [],
   "source": [
    "ind.union(ind1)"
   ]
  },
  {
   "cell_type": "code",
   "execution_count": null,
   "id": "96afe167",
   "metadata": {},
   "outputs": [],
   "source": [
    "ind.intersection(ind1)"
   ]
  },
  {
   "cell_type": "code",
   "execution_count": null,
   "id": "6c97fc00",
   "metadata": {},
   "outputs": [],
   "source": [
    "ind1.union(ind)"
   ]
  },
  {
   "cell_type": "markdown",
   "id": "b02d4257",
   "metadata": {},
   "source": [
    "### A toy example.\n",
    "\n",
    "- This is a boring dataset but easy to create and demonstrate the basic\n",
    "  features."
   ]
  },
  {
   "cell_type": "code",
   "execution_count": null,
   "id": "35abb18f",
   "metadata": {
    "lines_to_next_cell": 2
   },
   "outputs": [],
   "source": [
    "x = np.linspace(0, 2*np.pi, 100)\n",
    "sin = np.sin(x)\n",
    "cos = np.cos(x)"
   ]
  },
  {
   "cell_type": "code",
   "execution_count": null,
   "id": "863e5795",
   "metadata": {},
   "outputs": [],
   "source": [
    "df = pd.DataFrame(dict(x=x, sin=sin))"
   ]
  },
  {
   "cell_type": "code",
   "execution_count": null,
   "id": "e4951a52",
   "metadata": {},
   "outputs": [],
   "source": [
    "df = pd.DataFrame({'x': x, 'sin': sin, 'cos': cos, 'x-data':x})\n",
    "# OR\n",
    "#df = pd.DataFrame(dict(x=x, sin=sin, cos=cos))"
   ]
  },
  {
   "cell_type": "code",
   "execution_count": null,
   "id": "e5140825",
   "metadata": {},
   "outputs": [],
   "source": [
    "df.head()  # or df.tail()"
   ]
  },
  {
   "cell_type": "code",
   "execution_count": null,
   "id": "13bd4df8",
   "metadata": {},
   "outputs": [],
   "source": [
    "df.tail()"
   ]
  },
  {
   "cell_type": "code",
   "execution_count": null,
   "id": "566da424",
   "metadata": {},
   "outputs": [],
   "source": [
    "df.describe()"
   ]
  },
  {
   "cell_type": "code",
   "execution_count": null,
   "id": "e3a7e56c",
   "metadata": {},
   "outputs": [],
   "source": [
    "df.info()"
   ]
  },
  {
   "cell_type": "code",
   "execution_count": null,
   "id": "cc42e53e",
   "metadata": {},
   "outputs": [],
   "source": [
    "df['x-data']"
   ]
  },
  {
   "cell_type": "code",
   "execution_count": null,
   "id": "5cacca22",
   "metadata": {},
   "outputs": [],
   "source": [
    "df[::10]"
   ]
  },
  {
   "cell_type": "code",
   "execution_count": null,
   "id": "e64ad937",
   "metadata": {},
   "outputs": [],
   "source": [
    "df.x[::10]"
   ]
  },
  {
   "cell_type": "code",
   "execution_count": null,
   "id": "a93395da",
   "metadata": {},
   "outputs": [],
   "source": [
    "# df.x-data[:5] will not work!!\n",
    "df['x-data'][:5]"
   ]
  },
  {
   "cell_type": "code",
   "execution_count": null,
   "id": "4c310db9",
   "metadata": {},
   "outputs": [],
   "source": [
    "df['x'][:5]"
   ]
  },
  {
   "cell_type": "code",
   "execution_count": null,
   "id": "211d3f03",
   "metadata": {},
   "outputs": [],
   "source": [
    "df.x[:10]"
   ]
  },
  {
   "cell_type": "code",
   "execution_count": null,
   "id": "66314ec8",
   "metadata": {},
   "outputs": [],
   "source": [
    "df.columns"
   ]
  },
  {
   "cell_type": "code",
   "execution_count": null,
   "id": "f6d47c41",
   "metadata": {},
   "outputs": [],
   "source": [
    "# Very useful when reading a file to ensure that the types are correctly\n",
    "# parsed.\n",
    "df.dtypes"
   ]
  },
  {
   "cell_type": "code",
   "execution_count": null,
   "id": "412bbd7d",
   "metadata": {},
   "outputs": [],
   "source": [
    "len(df)"
   ]
  },
  {
   "cell_type": "code",
   "execution_count": null,
   "id": "44972217",
   "metadata": {},
   "outputs": [],
   "source": [
    "df.index"
   ]
  },
  {
   "cell_type": "code",
   "execution_count": null,
   "id": "3903716f",
   "metadata": {},
   "outputs": [],
   "source": [
    "df1 = df.copy()\n",
    "df1.head()"
   ]
  },
  {
   "cell_type": "markdown",
   "id": "6b785486",
   "metadata": {},
   "source": [
    "Indexing\n",
    "=========\n",
    "\n",
    "Can do what we did above but also using:\n",
    "\n",
    "- Select column: `df[col]`\n",
    "- Slice rows: `df[3:13]`\n",
    "- Select row by label: `df.loc[label_index]`\n",
    "- Select row by numerical index: `df.iloc[integer]`\n",
    "- Select rows by boolean vector: `df[bool_vec]`\n",
    "- Select rows/colunns: `df[bool_vec, [label1, label2]]`\n",
    "- `iloc`, `loc` are useful since using `[]` is confusing.\n",
    "\n",
    "Shall explore this below.\n"
   ]
  },
  {
   "cell_type": "code",
   "execution_count": null,
   "id": "214d3fc1",
   "metadata": {},
   "outputs": [],
   "source": [
    "df['x']  # Access a column"
   ]
  },
  {
   "cell_type": "code",
   "execution_count": null,
   "id": "7aafc482",
   "metadata": {},
   "outputs": [],
   "source": [
    "df.loc[10]"
   ]
  },
  {
   "cell_type": "code",
   "execution_count": null,
   "id": "e78557c7",
   "metadata": {},
   "outputs": [],
   "source": [
    "df.loc[:10]"
   ]
  },
  {
   "cell_type": "code",
   "execution_count": null,
   "id": "24df3d51",
   "metadata": {},
   "outputs": [],
   "source": [
    "df.loc[:10, 'x']"
   ]
  },
  {
   "cell_type": "code",
   "execution_count": null,
   "id": "db2486a9",
   "metadata": {},
   "outputs": [],
   "source": [
    "df.loc[:10, ['sin', 'cos']]"
   ]
  },
  {
   "cell_type": "code",
   "execution_count": null,
   "id": "add25cae",
   "metadata": {},
   "outputs": [],
   "source": [
    "# This is not different in this case as the indices are integers\n",
    "# Better example below.\n",
    "df.iloc[:10]"
   ]
  },
  {
   "cell_type": "markdown",
   "id": "f77915ca",
   "metadata": {},
   "source": [
    "### Examples with non-integer index\n"
   ]
  },
  {
   "cell_type": "code",
   "execution_count": null,
   "id": "b2831e80",
   "metadata": {},
   "outputs": [],
   "source": [
    "d = pd.DataFrame(dict(x=[1, 2, 3], y=['hello', 'class', '2021']), index=list('abc'))"
   ]
  },
  {
   "cell_type": "code",
   "execution_count": null,
   "id": "68200d13",
   "metadata": {},
   "outputs": [],
   "source": [
    "d"
   ]
  },
  {
   "cell_type": "code",
   "execution_count": null,
   "id": "17918159",
   "metadata": {},
   "outputs": [],
   "source": [
    "d.loc['a']"
   ]
  },
  {
   "cell_type": "code",
   "execution_count": null,
   "id": "0921e23c",
   "metadata": {},
   "outputs": [],
   "source": [
    "# Note that this includes the last slice label!\n",
    "d.loc['a':'b']"
   ]
  },
  {
   "cell_type": "code",
   "execution_count": null,
   "id": "fe995e89",
   "metadata": {},
   "outputs": [],
   "source": [
    "d.iloc[0]"
   ]
  },
  {
   "cell_type": "code",
   "execution_count": null,
   "id": "1c21ed59",
   "metadata": {},
   "outputs": [],
   "source": [
    "d[1:3]"
   ]
  },
  {
   "cell_type": "markdown",
   "id": "b0aa6066",
   "metadata": {},
   "source": [
    "\n",
    "Back to our original DataFrame, `df`\n",
    "- Give me a dataframe, where all cosine values are >0."
   ]
  },
  {
   "cell_type": "code",
   "execution_count": null,
   "id": "d4dd67b1",
   "metadata": {},
   "outputs": [],
   "source": [
    "df.head()"
   ]
  },
  {
   "cell_type": "code",
   "execution_count": null,
   "id": "25cdf77f",
   "metadata": {},
   "outputs": [],
   "source": [
    "# Recall masked indexing\n",
    "y = np.linspace(10, 11, 11)\n",
    "y"
   ]
  },
  {
   "cell_type": "code",
   "execution_count": null,
   "id": "757549aa",
   "metadata": {},
   "outputs": [],
   "source": [
    "y > 10.5"
   ]
  },
  {
   "cell_type": "code",
   "execution_count": null,
   "id": "e9b3d130",
   "metadata": {},
   "outputs": [],
   "source": [
    "cond = y > 10.5\n",
    "y[cond]"
   ]
  },
  {
   "cell_type": "markdown",
   "id": "50f05e02",
   "metadata": {},
   "source": [
    "- Same thing works with pandas"
   ]
  },
  {
   "cell_type": "code",
   "execution_count": null,
   "id": "b1c4231c",
   "metadata": {},
   "outputs": [],
   "source": [
    "condition = df.cos > 0.0\n",
    "print(len(condition))\n",
    "print(condition.sum())"
   ]
  },
  {
   "cell_type": "code",
   "execution_count": null,
   "id": "b06034bf",
   "metadata": {},
   "outputs": [],
   "source": [
    "df_positive_cos = df[condition]\n",
    "df_positive_cos.describe()"
   ]
  },
  {
   "cell_type": "code",
   "execution_count": null,
   "id": "1882e548",
   "metadata": {},
   "outputs": [],
   "source": [
    "# Combining conditionals\n",
    "cond1 = df.sin > 0.0\n",
    "df_all_positive = df[condition & cond1]\n",
    "df_all_positive.describe()"
   ]
  },
  {
   "cell_type": "code",
   "execution_count": null,
   "id": "dedf9a9f",
   "metadata": {},
   "outputs": [],
   "source": [
    "# Always, always use brackets when combining conditionals with bitwise\n",
    "# operations.\n",
    "df_all_positive = df[(df.cos > 0.0) & (df.sin > 0)]\n",
    "df_all_positive.describe()"
   ]
  },
  {
   "cell_type": "code",
   "execution_count": null,
   "id": "ac81af9a",
   "metadata": {},
   "outputs": [],
   "source": [
    "# Use ~ for inverting the boolean as a Not\n",
    "c = np.array([True, False, True, False])\n",
    "c1 = np.array([False, True, False, False])\n",
    "~(c | c1)"
   ]
  },
  {
   "cell_type": "code",
   "execution_count": null,
   "id": "590c897f",
   "metadata": {
    "lines_to_next_cell": 2
   },
   "outputs": [],
   "source": [
    "cond1 = df_positive_cos.sin > 0.0\n",
    "df_all_positive = df_positive_cos[cond1]\n",
    "df_all_positive.describe()"
   ]
  },
  {
   "cell_type": "code",
   "execution_count": null,
   "id": "1b86aca3",
   "metadata": {},
   "outputs": [],
   "source": [
    "# This adds a new column sincos\n",
    "df['sincos'] = df.sin*df.cos\n",
    "# Do not use df.sincos = ...\n",
    "len(df.sincos)"
   ]
  },
  {
   "cell_type": "code",
   "execution_count": null,
   "id": "054cf8d9",
   "metadata": {},
   "outputs": [],
   "source": [
    "df.describe()"
   ]
  },
  {
   "cell_type": "code",
   "execution_count": null,
   "id": "9c569335",
   "metadata": {},
   "outputs": [],
   "source": [
    "'x-data' in df"
   ]
  },
  {
   "cell_type": "code",
   "execution_count": null,
   "id": "ed84a2e7",
   "metadata": {},
   "outputs": [],
   "source": [
    "if 'x-data' in df:\n",
    "    del df['x-data']\n",
    "df.head()"
   ]
  },
  {
   "cell_type": "markdown",
   "id": "7460f2fc",
   "metadata": {},
   "source": [
    "### Operations and index alignment\n",
    "\n",
    "- NumPy ufuncs can be applied\n",
    "- All binary operations align on the index"
   ]
  },
  {
   "cell_type": "code",
   "execution_count": null,
   "id": "6c210050",
   "metadata": {},
   "outputs": [],
   "source": [
    "d = pd.DataFrame(np.random.randint(0, 10, size=(3, 4)),\n",
    "                 columns=['A', 'B', 'C', 'D'])\n",
    "d"
   ]
  },
  {
   "cell_type": "code",
   "execution_count": null,
   "id": "09ec5335",
   "metadata": {},
   "outputs": [],
   "source": [
    "np.sin(d)"
   ]
  },
  {
   "cell_type": "code",
   "execution_count": null,
   "id": "04c3fd84",
   "metadata": {},
   "outputs": [],
   "source": [
    "a = pd.DataFrame(np.random.randint(0, 20, (2, 2)),\n",
    "                 columns=list('AB'))\n",
    "a"
   ]
  },
  {
   "cell_type": "code",
   "execution_count": null,
   "id": "99566d4c",
   "metadata": {},
   "outputs": [],
   "source": [
    "b = pd.DataFrame(np.random.randint(0, 10, (3, 3)),\n",
    "                 columns=list('BAC'))\n",
    "b"
   ]
  },
  {
   "cell_type": "code",
   "execution_count": null,
   "id": "90614a56",
   "metadata": {},
   "outputs": [],
   "source": [
    "a + b  # Creates a new data frame."
   ]
  },
  {
   "cell_type": "code",
   "execution_count": null,
   "id": "ea00ca5f",
   "metadata": {},
   "outputs": [],
   "source": [
    "a.add(b, fill_value=0.0)  # Inplace addition\n",
    "a"
   ]
  },
  {
   "cell_type": "markdown",
   "id": "fb3ff147",
   "metadata": {},
   "source": [
    "There are many other methods, `sub, mul, floordiv, div, pow`, etc."
   ]
  },
  {
   "cell_type": "markdown",
   "id": "dee3c0ae",
   "metadata": {},
   "source": [
    "### Missing values\n",
    "- Nan used to deal with missing values\n",
    "- None also used to deal with missing values in data of type `object`"
   ]
  },
  {
   "cell_type": "code",
   "execution_count": null,
   "id": "ecad2be6",
   "metadata": {},
   "outputs": [],
   "source": [
    "s = pd.Series([1, np.nan, 'hello', None])\n",
    "s"
   ]
  },
  {
   "cell_type": "code",
   "execution_count": null,
   "id": "ab038353",
   "metadata": {},
   "outputs": [],
   "source": [
    "s.isnull()"
   ]
  },
  {
   "cell_type": "code",
   "execution_count": null,
   "id": "c6630886",
   "metadata": {},
   "outputs": [],
   "source": [
    "s.notnull()"
   ]
  },
  {
   "cell_type": "code",
   "execution_count": null,
   "id": "6f4153fc",
   "metadata": {},
   "outputs": [],
   "source": [
    "s.dropna()"
   ]
  },
  {
   "cell_type": "code",
   "execution_count": null,
   "id": "4f7541b2",
   "metadata": {
    "lines_to_next_cell": 2
   },
   "outputs": [],
   "source": [
    "# See the various arguments for each of these methods\n",
    "s.fillna(0)"
   ]
  },
  {
   "cell_type": "markdown",
   "id": "5caacda7",
   "metadata": {},
   "source": [
    "### Assignment of values\n",
    "\n",
    "When assigning values, do it directly using `.loc`"
   ]
  },
  {
   "cell_type": "code",
   "execution_count": null,
   "id": "6275af70",
   "metadata": {},
   "outputs": [],
   "source": [
    "# Recall this\n",
    "d"
   ]
  },
  {
   "cell_type": "code",
   "execution_count": null,
   "id": "21eb202e",
   "metadata": {},
   "outputs": [],
   "source": [
    "d[d.A > 5]"
   ]
  },
  {
   "cell_type": "code",
   "execution_count": null,
   "id": "563e8d82",
   "metadata": {},
   "outputs": [],
   "source": [
    "# Note the warning!\n",
    "d[d.A > 5]['A'] = 25\n",
    "d"
   ]
  },
  {
   "cell_type": "code",
   "execution_count": null,
   "id": "e0010113",
   "metadata": {},
   "outputs": [],
   "source": [
    "# Instead do this:\n",
    "d.loc[d.A > 5, 'A'] = 25\n",
    "d"
   ]
  },
  {
   "cell_type": "markdown",
   "id": "bb144381",
   "metadata": {
    "lines_to_next_cell": 2
   },
   "source": [
    "- Always beware of this SettingWithCopyWarning warnings\n",
    "- Avoid ever setting values on slices/subsets without due care."
   ]
  },
  {
   "cell_type": "markdown",
   "id": "699cc8be",
   "metadata": {},
   "source": [
    "### String processing\n",
    "\n",
    "- For any string type, use the `str` attributes and its methods.\n",
    "- This applies to `Series`, `Index` and `DataFrame` objects!"
   ]
  },
  {
   "cell_type": "code",
   "execution_count": null,
   "id": "7dcdc64c",
   "metadata": {},
   "outputs": [],
   "source": [
    "# From the pandas documentation.\n",
    "s = pd.Series(\n",
    "    [\"A\", \"B\", \"C\", \"Aaba\", \"Baca\", np.nan, \"CABA\", \"dog\", \"cat\"], dtype=\"string\"\n",
    ")"
   ]
  },
  {
   "cell_type": "code",
   "execution_count": null,
   "id": "17931a42",
   "metadata": {},
   "outputs": [],
   "source": [
    "s.str.lower()"
   ]
  },
  {
   "cell_type": "code",
   "execution_count": null,
   "id": "4feb0acf",
   "metadata": {},
   "outputs": [],
   "source": [
    "s.str.upper()"
   ]
  },
  {
   "cell_type": "code",
   "execution_count": null,
   "id": "af467a54",
   "metadata": {
    "lines_to_next_cell": 2
   },
   "outputs": [],
   "source": [
    "s.str.upper().str.replace('C', 'XX')"
   ]
  },
  {
   "cell_type": "markdown",
   "id": "6d6b97a5",
   "metadata": {},
   "source": [
    "Plotting\n",
    "========="
   ]
  },
  {
   "cell_type": "code",
   "execution_count": null,
   "id": "57109261",
   "metadata": {},
   "outputs": [],
   "source": [
    "df.plot(figsize=(20, 10));\n",
    "# or\n",
    "#df.plot.line()"
   ]
  },
  {
   "cell_type": "markdown",
   "id": "761cb4ed",
   "metadata": {},
   "source": [
    "Notice that everything is plotted w.r.t. the index!\n",
    "Let us fix this!"
   ]
  },
  {
   "cell_type": "code",
   "execution_count": null,
   "id": "cead26ae",
   "metadata": {},
   "outputs": [],
   "source": [
    "df.plot.line(x='x', y=['sin', 'cos'], figsize=(20, 10));"
   ]
  },
  {
   "cell_type": "code",
   "execution_count": null,
   "id": "8d65b74d",
   "metadata": {},
   "outputs": [],
   "source": [
    "# See what this does\n",
    "df[(df.sin > 0.0) ^ (df.cos < 0.0)].plot.line(x='x', marker='o');"
   ]
  },
  {
   "cell_type": "code",
   "execution_count": null,
   "id": "4cfe48fe",
   "metadata": {},
   "outputs": [],
   "source": [
    "df.plot.hist(y='cos', density=True);\n",
    "# or\n",
    "#df.plot(y='cos', kind='hist');"
   ]
  },
  {
   "cell_type": "markdown",
   "id": "ddb766f5",
   "metadata": {},
   "source": [
    "Input and output CSV and other file formats\n",
    "--------------------------------------------\n",
    "\n",
    "- `pd.read_csv()`\n",
    "- `df.to_csv()`\n",
    "- Can read/save to clip board.\n",
    "- Directly read from URLs."
   ]
  },
  {
   "cell_type": "code",
   "execution_count": null,
   "id": "1f18e1fd",
   "metadata": {},
   "outputs": [],
   "source": [
    "df.to_csv('sincos.csv', index=False)"
   ]
  },
  {
   "cell_type": "code",
   "execution_count": null,
   "id": "b23e6590",
   "metadata": {},
   "outputs": [],
   "source": [
    "df1 = pd.read_csv('sincos.csv')\n",
    "df1.head()"
   ]
  },
  {
   "cell_type": "markdown",
   "id": "20e04708",
   "metadata": {},
   "source": [
    "### Conversion to LaTeX and HTML"
   ]
  },
  {
   "cell_type": "code",
   "execution_count": null,
   "id": "8ad501bc",
   "metadata": {},
   "outputs": [],
   "source": [
    "print(df[:5].to_latex())"
   ]
  },
  {
   "cell_type": "code",
   "execution_count": null,
   "id": "5b13d764",
   "metadata": {},
   "outputs": [],
   "source": [
    "print(df[:5].to_latex(index=False))"
   ]
  },
  {
   "cell_type": "code",
   "execution_count": null,
   "id": "633400ce",
   "metadata": {},
   "outputs": [],
   "source": [
    "print(df[:5].to_html())"
   ]
  },
  {
   "cell_type": "code",
   "execution_count": null,
   "id": "bef2e41e",
   "metadata": {},
   "outputs": [],
   "source": [
    "from IPython.display import HTML\n",
    "HTML(df[:5].to_html())"
   ]
  },
  {
   "cell_type": "markdown",
   "id": "9f9be21e",
   "metadata": {},
   "source": [
    "Selecting from the clipboard\n",
    "=============================\n",
    "\n",
    "- Let us select data from our previous sincos data frame.\n",
    "- Will use this for more interesting stuff.\n",
    "\n",
    "Select some data and then do this:\n"
   ]
  },
  {
   "cell_type": "code",
   "execution_count": null,
   "id": "4ba01354",
   "metadata": {},
   "outputs": [],
   "source": [
    "df2 = pd.read_clipboard()\n",
    "df2"
   ]
  },
  {
   "cell_type": "code",
   "execution_count": null,
   "id": "81f42bb7",
   "metadata": {},
   "outputs": [],
   "source": [
    "url = 'https://drive.google.com/uc?id=1VgrBnWERE9YLslOoCLu8ZFLRbUu4jOED'\n",
    "df = pd.read_csv(url, sep=';')"
   ]
  },
  {
   "cell_type": "code",
   "execution_count": null,
   "id": "5186b2b1",
   "metadata": {},
   "outputs": [],
   "source": [
    "df.head()"
   ]
  },
  {
   "cell_type": "code",
   "execution_count": null,
   "id": "ca50a2ec",
   "metadata": {},
   "outputs": [],
   "source": [
    "df.describe()"
   ]
  },
  {
   "cell_type": "markdown",
   "id": "49e5f563",
   "metadata": {},
   "source": [
    "## Example: Getting Kohli's batting scores\n",
    "\n",
    "- Obtaining the Batting score data for ODIs.\n",
    "- We walk through how we get the data for V. Kohli\n",
    "- First visit here: https://stats.espncricinfo.com/ci/engine/player/253802.html?class=2;template=results;type=batting;view=innings"
   ]
  },
  {
   "cell_type": "code",
   "execution_count": null,
   "id": "6668a8aa",
   "metadata": {
    "lines_to_next_cell": 2
   },
   "outputs": [],
   "source": [
    "df = pd.read_clipboard()\n",
    "r = df.Runs.str.replace('*', '')\n",
    "r1 = r[~r.str.contains('DNB')]\n",
    "np.savetxt('/tmp/kohli.txt', r1.to_numpy(dtype=np.int32), fmt='%d')"
   ]
  },
  {
   "cell_type": "markdown",
   "id": "90542846",
   "metadata": {},
   "source": [
    "## Example: Getting all Kohli's ODI batting data\n",
    "\n",
    "- Obtaining all available data\n",
    "- First visit here: https://stats.espncricinfo.com/ci/engine/player/253802.html?class=2;template=results;type=batting;view=innings"
   ]
  },
  {
   "cell_type": "code",
   "execution_count": null,
   "id": "0bc3c46b",
   "metadata": {},
   "outputs": [],
   "source": [
    "data = pd.read_clipboard()"
   ]
  },
  {
   "cell_type": "code",
   "execution_count": null,
   "id": "4e767f3b",
   "metadata": {},
   "outputs": [],
   "source": [
    "# Strip any leading/trailing whitespace from the column headers.\n",
    "data.columns"
   ]
  },
  {
   "cell_type": "code",
   "execution_count": null,
   "id": "d0287664",
   "metadata": {},
   "outputs": [],
   "source": [
    "data.columns = data.columns.str.strip()"
   ]
  },
  {
   "cell_type": "code",
   "execution_count": null,
   "id": "4f95b925",
   "metadata": {},
   "outputs": [],
   "source": [
    "# Remove columns that are completely empty or were artifacts of the import\n",
    "# process.\n",
    "unnamed_cols = [col for col in data.columns if \"Unnamed\" in col]\n",
    "\n",
    "# The above is a list comprehension. Equivalent to the following.\n",
    "unnamed_cols = []\n",
    "for col in data.columns:\n",
    "    if \"Unnamed\" in col:\n",
    "        unnamed_cols.append(col)\n",
    "\n",
    "# Now drop the columns\n",
    "data = data.drop(columns=unnamed_cols)"
   ]
  },
  {
   "cell_type": "code",
   "execution_count": null,
   "id": "a9080c8a",
   "metadata": {},
   "outputs": [],
   "source": [
    "# The 'Runs' column contains non-numeric characters like '*' for not-out\n",
    "# innings. This section removes them and converts the column to a numeric type.\n",
    "data[\"Runs\"] = (\n",
    "    data[\"Runs\"].str\n",
    "    .replace(\"*\", \"\", regex=False).str\n",
    "    .replace(\"DNB\", np.nan)  # Replace 'Did Not Bat' with NaN\n",
    ")\n",
    "data[\"Runs\"] = pd.to_numeric(data[\"Runs\"], errors=\"coerce\")"
   ]
  },
  {
   "cell_type": "code",
   "execution_count": null,
   "id": "52bc259d",
   "metadata": {},
   "outputs": [],
   "source": [
    "data.dtypes"
   ]
  },
  {
   "cell_type": "code",
   "execution_count": null,
   "id": "74ea6499",
   "metadata": {},
   "outputs": [],
   "source": [
    "# Convert the 'Start DateAscending' column to datetime objects.\n",
    "# Then, create a 'Year' column and drop the original date column.\n",
    "data[\"Date\"] = pd.to_datetime(data[\"Start DateAscending\"], errors=\"coerce\")\n",
    "data[\"Year\"] = data[\"Date\"].dt.year\n",
    "data = data.drop(columns=[\"Start DateAscending\"])\n",
    "\n",
    "# Remove the \"v \" prefix from the 'Opposition' column for consistency.\n",
    "data[\"Opposition\"] = data[\"Opposition\"].str.replace(\"v \", \"\", regex=False)"
   ]
  },
  {
   "cell_type": "code",
   "execution_count": null,
   "id": "a19c7e6f",
   "metadata": {},
   "outputs": [],
   "source": [
    "# Clean up text columns and create a binary 'NotOut' column.\n",
    "data[\"Dismissal\"] = (\n",
    "    data[\"Dismissal\"]\n",
    "    .fillna(\"DNB\")\n",
    "    .astype(str)\n",
    "    .str.strip()\n",
    "    .fillna(\"DNB\")\n",
    ")\n",
    "data[\"Ground\"] = data[\"Ground\"].str.strip()\n",
    "data[\"Opposition\"] = data[\"Opposition\"].str.strip()\n",
    "data[\"NotOut\"] = data[\"Dismissal\"].eq(\"not out\").astype(int)\n",
    "\n",
    "# Convert several other columns to numeric, coercing errors to NaN.\n",
    "cols_to_numeric = [\"BF\", \"4s\", \"6s\", \"Pos\", \"Inns\", \"SR\", \"Mins\"]\n",
    "for col in cols_to_numeric:\n",
    "    data[col] = pd.to_numeric(data[col], errors=\"coerce\")\n",
    "\n",
    "# Arrange the DataFrame columns in a more logical order.\n",
    "final_column_order = [\n",
    "    \"Date\", \"Year\", \"Ground\", \"Opposition\", \"Inns\", \"Pos\",\n",
    "    \"Runs\", \"BF\", \"4s\", \"6s\", \"SR\", \"Dismissal\", \"NotOut\"\n",
    "]\n",
    "data = data[final_column_order]\n",
    "data.info()\n",
    "\n",
    "# Export the final, cleaned DataFrame to a new CSV file.\n",
    "output_filename = \"/tmp/kohli_cleaned_batting.csv\"\n",
    "data.to_csv(output_filename, index=False)"
   ]
  },
  {
   "cell_type": "markdown",
   "id": "255191d4",
   "metadata": {},
   "source": [
    "### Some useful methods\n"
   ]
  },
  {
   "cell_type": "code",
   "execution_count": null,
   "id": "26549d20",
   "metadata": {},
   "outputs": [],
   "source": [
    "(data.Runs > 100).value_counts()"
   ]
  },
  {
   "cell_type": "code",
   "execution_count": null,
   "id": "3c4f74e2",
   "metadata": {},
   "outputs": [],
   "source": [
    "data.NotOut.value_counts()"
   ]
  },
  {
   "cell_type": "code",
   "execution_count": null,
   "id": "ead88c2c",
   "metadata": {},
   "outputs": [],
   "source": [
    "np.sum(data.NotOut)"
   ]
  },
  {
   "cell_type": "code",
   "execution_count": null,
   "id": "52d9de2c",
   "metadata": {},
   "outputs": [],
   "source": [
    "data.Opposition.value_counts()"
   ]
  },
  {
   "cell_type": "code",
   "execution_count": null,
   "id": "c73ce685",
   "metadata": {},
   "outputs": [],
   "source": [
    "data.Dismissal.value_counts()"
   ]
  },
  {
   "cell_type": "code",
   "execution_count": null,
   "id": "2ce4d0c2",
   "metadata": {},
   "outputs": [],
   "source": [
    "data.groupby('Opposition')['Runs'].sum()"
   ]
  },
  {
   "cell_type": "code",
   "execution_count": null,
   "id": "6772c850",
   "metadata": {},
   "outputs": [],
   "source": [
    "data.groupby('Opposition')['Runs'].mean()"
   ]
  },
  {
   "cell_type": "code",
   "execution_count": null,
   "id": "8f7dbcec",
   "metadata": {},
   "outputs": [],
   "source": [
    "data.SR.mean()"
   ]
  },
  {
   "cell_type": "code",
   "execution_count": null,
   "id": "943e09a0",
   "metadata": {},
   "outputs": [],
   "source": [
    "data.groupby('Opposition')['SR'].mean()"
   ]
  },
  {
   "cell_type": "markdown",
   "id": "a9f62ddb",
   "metadata": {},
   "source": [
    "### Sampling a dataset\n",
    "\n",
    "- Useful for probabilistic programming/bootstrapping"
   ]
  },
  {
   "cell_type": "code",
   "execution_count": null,
   "id": "c379553e",
   "metadata": {
    "lines_to_next_cell": 2
   },
   "outputs": [],
   "source": [
    "data.sample(5, replace=True)"
   ]
  },
  {
   "cell_type": "markdown",
   "id": "5999d89a",
   "metadata": {},
   "source": [
    "### Exercise\n",
    "\n",
    "\n",
    "Consider a smaller file:\n",
    "\n",
    "- File is at: http://www.aero.iitb.ac.in/~prabhu/tmp/sslc_small.csv\n",
    "- Also in the files section\n"
   ]
  },
  {
   "cell_type": "code",
   "execution_count": null,
   "id": "f085196c",
   "metadata": {},
   "outputs": [],
   "source": [
    "url = 'http://www.aero.iitb.ac.in/~prabhu/tmp/sslc_small.csv'\n",
    "df = pd.read_csv(url)\n",
    "df.head()  # Produces only one strange column of data!"
   ]
  },
  {
   "cell_type": "code",
   "execution_count": null,
   "id": "274594aa",
   "metadata": {},
   "outputs": [],
   "source": [
    "df.dtypes"
   ]
  },
  {
   "cell_type": "markdown",
   "id": "44d27d0b",
   "metadata": {},
   "source": [
    "Notice that this data is read incorrectly, this is because the separator is\n",
    "not a comma but a ';' so use this."
   ]
  },
  {
   "cell_type": "code",
   "execution_count": null,
   "id": "fb45d4d8",
   "metadata": {},
   "outputs": [],
   "source": [
    "df = pd.read_csv(url, sep=';')\n",
    "df.head()"
   ]
  },
  {
   "cell_type": "code",
   "execution_count": null,
   "id": "19104611",
   "metadata": {},
   "outputs": [],
   "source": [
    "df.dtypes"
   ]
  },
  {
   "cell_type": "code",
   "execution_count": null,
   "id": "1b356510",
   "metadata": {},
   "outputs": [],
   "source": [
    "df['region'].value_counts()"
   ]
  },
  {
   "cell_type": "code",
   "execution_count": null,
   "id": "ee6c0072",
   "metadata": {},
   "outputs": [],
   "source": [
    "df.plot.scatter(x='fl', y='math');"
   ]
  },
  {
   "cell_type": "markdown",
   "id": "f025b29f",
   "metadata": {},
   "source": [
    "There are more options to `pd.read_csv`, for example if `'AA'` is a value\n",
    "indicating a non-existing value you can pass an option, called `na_values`.\n",
    "Read more on the documentation for `read_csv`."
   ]
  },
  {
   "cell_type": "code",
   "execution_count": null,
   "id": "7a6281f9",
   "metadata": {},
   "outputs": [],
   "source": [
    "url = 'http://www.aero.iitb.ac.in/~prabhu/tmp/sslc1.csv.gz'\n",
    "df = pd.read_csv(url, sep=';', na_values='AA')\n",
    "df.head()"
   ]
  },
  {
   "cell_type": "code",
   "execution_count": null,
   "id": "83931c51",
   "metadata": {},
   "outputs": [],
   "source": [
    "df.dtypes"
   ]
  },
  {
   "cell_type": "code",
   "execution_count": null,
   "id": "68764c54",
   "metadata": {},
   "outputs": [],
   "source": [
    "df.describe()"
   ]
  },
  {
   "cell_type": "code",
   "execution_count": null,
   "id": "6249c16a",
   "metadata": {
    "lines_to_next_cell": 2
   },
   "outputs": [],
   "source": [
    "df.plot.hist(y='math', bins=50, figsize=(20, 10));"
   ]
  },
  {
   "cell_type": "code",
   "execution_count": null,
   "id": "f3a75cc3",
   "metadata": {},
   "outputs": [],
   "source": [
    "data.groupby('Opposition')['Runs'].mean().plot.bar()\n",
    "plt.tight_layout()\n",
    "plt.grid();"
   ]
  },
  {
   "cell_type": "code",
   "execution_count": null,
   "id": "092421bc",
   "metadata": {},
   "outputs": [],
   "source": []
  },
  {
   "cell_type": "markdown",
   "id": "aba4d9e7",
   "metadata": {},
   "source": [
    "More information\n",
    "==================\n",
    "\n",
    "- Only scratched the surface.\n",
    "- http://pandas.pydata.org\n",
    "\n",
    "- Go through the chapter here: https://jakevdp.github.io/PythonDataScienceHandbook/03.00-introduction-to-pandas.html\n",
    "\n",
    "- Go through the nice tutorials here:\n",
    "   http://nbviewer.jupyter.org/github/jvns/pandas-cookbook/tree/v0.1/cookbook/"
   ]
  }
 ],
 "metadata": {
  "kernelspec": {
   "display_name": "Python 3 (ipykernel)",
   "language": "python",
   "name": "python3"
  }
 },
 "nbformat": 4,
 "nbformat_minor": 5
}
