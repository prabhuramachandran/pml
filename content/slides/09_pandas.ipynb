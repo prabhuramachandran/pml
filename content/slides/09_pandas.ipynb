{
 "cells": [
  {
   "cell_type": "markdown",
   "id": "8b280649",
   "metadata": {},
   "source": [
    "# Brief Introduction to Pandas\n",
    "\n",
    "- Provides a powerful `DataFrame` object.\n",
    "- Makes it easy to deal with \"Tabular\" data.\n",
    "- Very easy to read, process and visualize data.\n",
    "- See http://pandas.pydata.org"
   ]
  },
  {
   "cell_type": "code",
   "execution_count": null,
   "id": "29208a60",
   "metadata": {},
   "outputs": [],
   "source": [
    "import matplotlib.pyplot as plt\n",
    "import numpy as np\n",
    "import pandas as pd"
   ]
  },
  {
   "cell_type": "markdown",
   "id": "3c5dc365",
   "metadata": {
    "lines_to_next_cell": 2
   },
   "source": [
    "## Fundamentals\n",
    "\n",
    "- Why do we need this?\n",
    "- Data is often **tabular**\n",
    "  - Imagine the class marks in a course or during a program\n",
    "  - Imagine a population with weight, height, age etc.\n",
    "\n",
    "- Think of each student as a row\n",
    "- Each column as an attribute\n",
    "- So the columns are **aligned** using the row\n",
    "\n",
    "- With `pandas`, data alignment is **central**\n",
    "\n",
    "There are three fundamental building blocks in pandas:\n",
    "1. `pd.Series`\n",
    "2. `pd.DataFrame` and\n",
    "3. `pd.Index`\n",
    "\n",
    "We will look into the first two as they are the most important."
   ]
  },
  {
   "cell_type": "markdown",
   "id": "818d2b8e",
   "metadata": {},
   "source": [
    "## Building block: `Series`\n",
    "\n",
    "- \"Labels\" are collectively called the **index**\n",
    "- `Series`: bundles together an index and values\n",
    "- Index can be implicit or explicit\n"
   ]
  },
  {
   "cell_type": "code",
   "execution_count": null,
   "id": "8abbb957",
   "metadata": {},
   "outputs": [],
   "source": [
    "sn = pd.Series(np.random.normal(size=5))\n",
    "sn"
   ]
  },
  {
   "cell_type": "code",
   "execution_count": null,
   "id": "a1daf7c1",
   "metadata": {},
   "outputs": [],
   "source": [
    "sn.values"
   ]
  },
  {
   "cell_type": "code",
   "execution_count": null,
   "id": "14f58148",
   "metadata": {},
   "outputs": [],
   "source": [
    "sn.index"
   ]
  },
  {
   "cell_type": "markdown",
   "id": "2c495333",
   "metadata": {},
   "source": [
    "\n",
    "The values attribute is a numpy array\n",
    "\n",
    "The index is an instance of `pd.Index` which is another fundamental building\n",
    "block."
   ]
  },
  {
   "cell_type": "code",
   "execution_count": null,
   "id": "51620c25",
   "metadata": {},
   "outputs": [],
   "source": [
    "sa = pd.Series(np.random.normal(size=5), index=[\"a\", \"b\", \"c\", \"d\", \"e\"])\n",
    "sa"
   ]
  },
  {
   "cell_type": "code",
   "execution_count": null,
   "id": "cc1d0c43",
   "metadata": {},
   "outputs": [],
   "source": [
    "sn[0]"
   ]
  },
  {
   "cell_type": "code",
   "execution_count": null,
   "id": "5eece5c4",
   "metadata": {},
   "outputs": [],
   "source": [
    "# Note the warning!\n",
    "sa[0]"
   ]
  },
  {
   "cell_type": "code",
   "execution_count": null,
   "id": "085f57e3",
   "metadata": {},
   "outputs": [],
   "source": [
    "# This is the right way to access.\n",
    "sa['a']"
   ]
  },
  {
   "cell_type": "markdown",
   "id": "2e649964",
   "metadata": {},
   "source": [
    "### `Series`: some points to note\n",
    "\n",
    "- They behave like `numpy` arrays or dictionaries\n",
    "- But carry the index\n",
    "- All operations align on the label (i.e. index)\n",
    "- The indices need not be contiguous or even be integers\n",
    "- In a sense the `Series` is like a special dictionary keyed on index.\n",
    "- Unaligned series will use the union of indices\n",
    "- `NaN` is used to refer to missing values\n"
   ]
  },
  {
   "cell_type": "code",
   "execution_count": null,
   "id": "47cca277",
   "metadata": {},
   "outputs": [],
   "source": [
    "a = pd.Series(np.arange(5), index=range(100, 110, 2))\n",
    "a"
   ]
  },
  {
   "cell_type": "code",
   "execution_count": null,
   "id": "e47fb280",
   "metadata": {},
   "outputs": [],
   "source": [
    "a[102]"
   ]
  },
  {
   "cell_type": "code",
   "execution_count": null,
   "id": "d6e4ef84",
   "metadata": {},
   "outputs": [],
   "source": [
    "a = pd.Series(np.ones(5), index=[\"a\", \"b\", \"c\", \"d\", \"e\"])\n",
    "b = pd.Series(np.arange(5), index=[\"e\", \"d\", \"c\", \"b\", \"a\"])\n",
    "a + b"
   ]
  },
  {
   "cell_type": "code",
   "execution_count": null,
   "id": "d0608145",
   "metadata": {},
   "outputs": [],
   "source": [
    "a.dtype"
   ]
  },
  {
   "cell_type": "code",
   "execution_count": null,
   "id": "7c5796d0",
   "metadata": {
    "lines_to_next_cell": 2
   },
   "outputs": [],
   "source": [
    "a = pd.Series(np.ones(5), index=[\"a\", \"b\", \"c\", \"d\", \"e\"])\n",
    "b = pd.Series(np.arange(4), index=[\"e\", \"d\", \"c\", \"b\"])\n",
    "a + b"
   ]
  },
  {
   "cell_type": "markdown",
   "id": "8cde0dbe",
   "metadata": {},
   "source": [
    "### Aside\n",
    "\n",
    "- `NaN` is a number!\n",
    "- Beware of them\n",
    "- Used to denote missing values in pandas."
   ]
  },
  {
   "cell_type": "code",
   "execution_count": null,
   "id": "f797429e",
   "metadata": {},
   "outputs": [],
   "source": [
    "float('nan'), float('NaN')"
   ]
  },
  {
   "cell_type": "code",
   "execution_count": null,
   "id": "e32abaec",
   "metadata": {},
   "outputs": [],
   "source": [
    "type(float('nan'))"
   ]
  },
  {
   "cell_type": "code",
   "execution_count": null,
   "id": "8bdcd0e6",
   "metadata": {},
   "outputs": [],
   "source": [
    "np.nan"
   ]
  },
  {
   "cell_type": "code",
   "execution_count": null,
   "id": "f6bf13ce",
   "metadata": {},
   "outputs": [],
   "source": [
    "x = np.arange(5, dtype=float)\n",
    "np.sum(x)"
   ]
  },
  {
   "cell_type": "code",
   "execution_count": null,
   "id": "64685a19",
   "metadata": {},
   "outputs": [],
   "source": [
    "x[0] = np.nan\n",
    "np.mean(x)"
   ]
  },
  {
   "cell_type": "markdown",
   "id": "d38d15f5",
   "metadata": {},
   "source": [
    "- Use `np.nan*` functions\n",
    "- `np.isnan` is also handy\n"
   ]
  },
  {
   "cell_type": "code",
   "execution_count": null,
   "id": "2dfeaea2",
   "metadata": {},
   "outputs": [],
   "source": [
    "np.nansum(x)"
   ]
  },
  {
   "cell_type": "markdown",
   "id": "99855b00",
   "metadata": {},
   "source": [
    "## `DataFrame` basics\n",
    "\n",
    "- A table of data: a spreadsheet\n",
    "- Same index for all columns\n",
    "- Different data types per column\n",
    "- Think of it as a 2D numpy array with flexible row and column names.\n",
    "\n",
    "We can construct these using Series objects."
   ]
  },
  {
   "cell_type": "code",
   "execution_count": null,
   "id": "eec703f5",
   "metadata": {},
   "outputs": [],
   "source": [
    "state_pop = {'Maharashtra': 112374333, 'UP': 199812341, 'Bihar': 104099452,\n",
    "             'West Bengal': 91276115, 'MP': 72626809}\n",
    "pop = pd.Series(state_pop)"
   ]
  },
  {
   "cell_type": "code",
   "execution_count": null,
   "id": "a2a6cf58",
   "metadata": {},
   "outputs": [],
   "source": [
    "state_area = {'MP': 308252,  'UP': 240928, 'Maharashtra': 307713, 'Bihar': 94163,\n",
    "              'West Bengal': 88752}\n",
    "area = pd.Series(state_area)"
   ]
  },
  {
   "cell_type": "code",
   "execution_count": null,
   "id": "b7e829ec",
   "metadata": {},
   "outputs": [],
   "source": [
    "states = pd.DataFrame({'population': pop, 'area': area})\n",
    "states"
   ]
  },
  {
   "cell_type": "code",
   "execution_count": null,
   "id": "33537458",
   "metadata": {},
   "outputs": [],
   "source": [
    "states.index"
   ]
  },
  {
   "cell_type": "code",
   "execution_count": null,
   "id": "46914bcd",
   "metadata": {},
   "outputs": [],
   "source": [
    "states.columns"
   ]
  },
  {
   "cell_type": "code",
   "execution_count": null,
   "id": "2ad5d17b",
   "metadata": {},
   "outputs": [],
   "source": [
    "states['area']"
   ]
  },
  {
   "cell_type": "code",
   "execution_count": null,
   "id": "a5bcb2b1",
   "metadata": {},
   "outputs": [],
   "source": [
    "states['population']"
   ]
  },
  {
   "cell_type": "code",
   "execution_count": null,
   "id": "ecb76e67",
   "metadata": {},
   "outputs": [],
   "source": [
    "states.area"
   ]
  },
  {
   "cell_type": "markdown",
   "id": "de2bbfe7",
   "metadata": {},
   "source": [
    "\n",
    "Can also create a data frame by supplying lists or numpy arrays"
   ]
  },
  {
   "cell_type": "code",
   "execution_count": null,
   "id": "1305315e",
   "metadata": {},
   "outputs": [],
   "source": [
    "d = pd.DataFrame(dict(x=[1, 2, 3], y=['hello', 'class', '2025']))"
   ]
  },
  {
   "cell_type": "code",
   "execution_count": null,
   "id": "6ad044ef",
   "metadata": {},
   "outputs": [],
   "source": [
    "d"
   ]
  },
  {
   "cell_type": "code",
   "execution_count": null,
   "id": "d829b899",
   "metadata": {},
   "outputs": [],
   "source": [
    "# Note that the index is implicit which may not be ideal\n",
    "d.index"
   ]
  },
  {
   "cell_type": "code",
   "execution_count": null,
   "id": "82e50fdf",
   "metadata": {},
   "outputs": [],
   "source": [
    "d.describe()"
   ]
  },
  {
   "cell_type": "code",
   "execution_count": null,
   "id": "32f34539",
   "metadata": {},
   "outputs": [],
   "source": [
    "d.dtypes"
   ]
  },
  {
   "cell_type": "markdown",
   "id": "781795fb",
   "metadata": {},
   "source": [
    "Can create the array with a two-dimensional numpy array"
   ]
  },
  {
   "cell_type": "code",
   "execution_count": null,
   "id": "02ba521d",
   "metadata": {
    "lines_to_next_cell": 2
   },
   "outputs": [],
   "source": [
    "pd.DataFrame(np.random.rand(3, 2),\n",
    "             columns=['foo', 'bar'],\n",
    "             index=['a', 'b', 'c'])"
   ]
  },
  {
   "cell_type": "markdown",
   "id": "f8d3ec38",
   "metadata": {},
   "source": [
    "## The `pd.Index` object\n",
    "\n",
    "Can be constructed explicitly"
   ]
  },
  {
   "cell_type": "code",
   "execution_count": null,
   "id": "750819eb",
   "metadata": {},
   "outputs": [],
   "source": [
    "ind = pd.Index([2, 4, 6, 8, 10])\n",
    "ind"
   ]
  },
  {
   "cell_type": "code",
   "execution_count": null,
   "id": "fea56abe",
   "metadata": {},
   "outputs": [],
   "source": [
    "ind1 = pd.Index([2, 3, 5, 7, 11])"
   ]
  },
  {
   "cell_type": "markdown",
   "id": "7b068495",
   "metadata": {},
   "source": [
    "\n",
    "- The index is immutable\n",
    "- Supports basic set-like operations\n",
    "  - Union, `|`\n",
    "  - Intersection, `&`\n",
    "  - Symmetric difference, `^`"
   ]
  },
  {
   "cell_type": "code",
   "execution_count": null,
   "id": "36ef5916",
   "metadata": {},
   "outputs": [],
   "source": [
    "ind | ind1"
   ]
  },
  {
   "cell_type": "code",
   "execution_count": null,
   "id": "a58d97db",
   "metadata": {},
   "outputs": [],
   "source": [
    "ind & ind1"
   ]
  },
  {
   "cell_type": "markdown",
   "id": "28501067",
   "metadata": {},
   "source": [
    "### A toy example.\n",
    "\n",
    "- This is a boring dataset but easy to create and demonstrate the basic\n",
    "  features."
   ]
  },
  {
   "cell_type": "code",
   "execution_count": null,
   "id": "7b4f2f38",
   "metadata": {
    "lines_to_next_cell": 2
   },
   "outputs": [],
   "source": [
    "x = np.linspace(0, 2*np.pi, 100)\n",
    "sin = np.sin(x)\n",
    "cos = np.cos(x)"
   ]
  },
  {
   "cell_type": "code",
   "execution_count": null,
   "id": "c6b8eaf8",
   "metadata": {},
   "outputs": [],
   "source": [
    "df = pd.DataFrame(dict(x=x, sin=sin))"
   ]
  },
  {
   "cell_type": "code",
   "execution_count": null,
   "id": "b3404ba3",
   "metadata": {},
   "outputs": [],
   "source": [
    "df = pd.DataFrame({'x': x, 'sin': sin, 'cos': cos, 'x-data':x})\n",
    "# OR\n",
    "#df = pd.DataFrame(dict(x=x, sin=sin, cos=cos))"
   ]
  },
  {
   "cell_type": "code",
   "execution_count": null,
   "id": "a51d19f1",
   "metadata": {},
   "outputs": [],
   "source": [
    "df.head()  # or df.tail()"
   ]
  },
  {
   "cell_type": "code",
   "execution_count": null,
   "id": "7e07db63",
   "metadata": {},
   "outputs": [],
   "source": [
    "df.tail()"
   ]
  },
  {
   "cell_type": "code",
   "execution_count": null,
   "id": "96f3a983",
   "metadata": {},
   "outputs": [],
   "source": [
    "df.describe()"
   ]
  },
  {
   "cell_type": "code",
   "execution_count": null,
   "id": "873416bd",
   "metadata": {},
   "outputs": [],
   "source": [
    "df.info()"
   ]
  },
  {
   "cell_type": "code",
   "execution_count": null,
   "id": "99e68c58",
   "metadata": {},
   "outputs": [],
   "source": [
    "df['x-data']"
   ]
  },
  {
   "cell_type": "code",
   "execution_count": null,
   "id": "62de16c1",
   "metadata": {},
   "outputs": [],
   "source": [
    "df.x[::10]"
   ]
  },
  {
   "cell_type": "code",
   "execution_count": null,
   "id": "8893663a",
   "metadata": {},
   "outputs": [],
   "source": [
    "# df.x-data[:5] will not work!!\n",
    "df['x-data'][:5]"
   ]
  },
  {
   "cell_type": "code",
   "execution_count": null,
   "id": "9765c645",
   "metadata": {},
   "outputs": [],
   "source": [
    "df['x'][:5]"
   ]
  },
  {
   "cell_type": "code",
   "execution_count": null,
   "id": "ad5ebf4f",
   "metadata": {},
   "outputs": [],
   "source": [
    "df.x[:10]"
   ]
  },
  {
   "cell_type": "code",
   "execution_count": null,
   "id": "12dd5e34",
   "metadata": {},
   "outputs": [],
   "source": [
    "df.columns"
   ]
  },
  {
   "cell_type": "code",
   "execution_count": null,
   "id": "7906f746",
   "metadata": {},
   "outputs": [],
   "source": [
    "# Very useful when reading a file to ensure that the types are correctly\n",
    "# parsed.\n",
    "df.dtypes"
   ]
  },
  {
   "cell_type": "code",
   "execution_count": null,
   "id": "b4829e17",
   "metadata": {},
   "outputs": [],
   "source": [
    "len(df)"
   ]
  },
  {
   "cell_type": "code",
   "execution_count": null,
   "id": "9582b6c6",
   "metadata": {},
   "outputs": [],
   "source": [
    "df.index"
   ]
  },
  {
   "cell_type": "code",
   "execution_count": null,
   "id": "f9b2fee6",
   "metadata": {},
   "outputs": [],
   "source": [
    "df1 = df.copy()\n",
    "df1.head()"
   ]
  },
  {
   "cell_type": "markdown",
   "id": "6fdddcb6",
   "metadata": {},
   "source": [
    "Indexing\n",
    "=========\n",
    "\n",
    "Can do what we did above but also using:\n",
    "\n",
    "- Select column: `df[col]`\n",
    "- Slice rows: `df[3:13]`\n",
    "- Select row by label: `df.loc[label_index]`\n",
    "- Select row by numerical index: `df.iloc[integer]`\n",
    "- Select rows by boolean vector: `df[bool_vec]`\n",
    "- Select rows/colunns: `df[bool_vec, [label1, label2]]`\n",
    "- `iloc`, `loc` are useful since using `[]` is confusing.\n",
    "\n",
    "Shall explore this below.\n"
   ]
  },
  {
   "cell_type": "code",
   "execution_count": null,
   "id": "8ddfdd5c",
   "metadata": {},
   "outputs": [],
   "source": [
    "df['x']  # Access a column"
   ]
  },
  {
   "cell_type": "code",
   "execution_count": null,
   "id": "29b4d323",
   "metadata": {},
   "outputs": [],
   "source": [
    "df.loc[10]"
   ]
  },
  {
   "cell_type": "code",
   "execution_count": null,
   "id": "32c3d029",
   "metadata": {},
   "outputs": [],
   "source": [
    "df.loc[:10]"
   ]
  },
  {
   "cell_type": "code",
   "execution_count": null,
   "id": "34891352",
   "metadata": {},
   "outputs": [],
   "source": [
    "df.loc[:10, 'x']"
   ]
  },
  {
   "cell_type": "code",
   "execution_count": null,
   "id": "f1c11647",
   "metadata": {},
   "outputs": [],
   "source": [
    "df.loc[:10, ['sin', 'cos']]"
   ]
  },
  {
   "cell_type": "code",
   "execution_count": null,
   "id": "51f5a957",
   "metadata": {},
   "outputs": [],
   "source": [
    "# This is not different in this case as the indices are integers\n",
    "# Better example below.\n",
    "df.iloc[:10]"
   ]
  },
  {
   "cell_type": "markdown",
   "id": "6ba3f4ff",
   "metadata": {},
   "source": [
    "### Examples with non-integer index\n"
   ]
  },
  {
   "cell_type": "code",
   "execution_count": null,
   "id": "737bd24f",
   "metadata": {},
   "outputs": [],
   "source": [
    "d = pd.DataFrame(dict(x=[1, 2, 3], y=['hello', 'class', '2021']), index=list('abc'))"
   ]
  },
  {
   "cell_type": "code",
   "execution_count": null,
   "id": "83344618",
   "metadata": {},
   "outputs": [],
   "source": [
    "d"
   ]
  },
  {
   "cell_type": "code",
   "execution_count": null,
   "id": "59f4b765",
   "metadata": {},
   "outputs": [],
   "source": [
    "d.loc['a']"
   ]
  },
  {
   "cell_type": "code",
   "execution_count": null,
   "id": "6b2954a7",
   "metadata": {},
   "outputs": [],
   "source": [
    "# Note that this includes the last slice label!\n",
    "d.loc['a':'b']"
   ]
  },
  {
   "cell_type": "code",
   "execution_count": null,
   "id": "48738862",
   "metadata": {},
   "outputs": [],
   "source": [
    "d.iloc[0]"
   ]
  },
  {
   "cell_type": "code",
   "execution_count": null,
   "id": "1b633449",
   "metadata": {},
   "outputs": [],
   "source": [
    "d[1:3]"
   ]
  },
  {
   "cell_type": "markdown",
   "id": "1ba1ea6f",
   "metadata": {},
   "source": [
    "\n",
    "Back to our original DataFrame, `df`\n",
    "- Give me a dataframe, where all cosine values are >0."
   ]
  },
  {
   "cell_type": "code",
   "execution_count": null,
   "id": "90b7ebe9",
   "metadata": {},
   "outputs": [],
   "source": [
    "df.head()"
   ]
  },
  {
   "cell_type": "code",
   "execution_count": null,
   "id": "7ffa6a17",
   "metadata": {},
   "outputs": [],
   "source": [
    "# Recall masked indexing\n",
    "y = np.linspace(10, 11, 11)\n",
    "y"
   ]
  },
  {
   "cell_type": "code",
   "execution_count": null,
   "id": "dfd53bf1",
   "metadata": {},
   "outputs": [],
   "source": [
    "y > 10.5"
   ]
  },
  {
   "cell_type": "code",
   "execution_count": null,
   "id": "d4a10f0a",
   "metadata": {},
   "outputs": [],
   "source": [
    "cond = y > 10.5\n",
    "y[cond]"
   ]
  },
  {
   "cell_type": "markdown",
   "id": "addef6f2",
   "metadata": {},
   "source": [
    "- Same thing works with pandas"
   ]
  },
  {
   "cell_type": "code",
   "execution_count": null,
   "id": "a9dc9aaf",
   "metadata": {},
   "outputs": [],
   "source": [
    "condition = df.cos > 0.0\n",
    "print(len(condition))\n",
    "print(condition.sum())"
   ]
  },
  {
   "cell_type": "code",
   "execution_count": null,
   "id": "a34b1a55",
   "metadata": {},
   "outputs": [],
   "source": [
    "df_positive_cos = df[condition]\n",
    "df_positive_cos.describe()"
   ]
  },
  {
   "cell_type": "code",
   "execution_count": null,
   "id": "273c1816",
   "metadata": {},
   "outputs": [],
   "source": [
    "# Combining conditionals\n",
    "cond1 = df.sin > 0.0\n",
    "df_all_positive = df[condition & cond1]\n",
    "df_all_positive.describe()"
   ]
  },
  {
   "cell_type": "code",
   "execution_count": null,
   "id": "8c6f7464",
   "metadata": {},
   "outputs": [],
   "source": [
    "# Always, always use brackets when combining conditionals with bitwise\n",
    "# operations.\n",
    "df_all_positive = df[(df.cos > 0.0) & (df.sin > 0)]\n",
    "df_all_positive.describe()"
   ]
  },
  {
   "cell_type": "code",
   "execution_count": null,
   "id": "c861d694",
   "metadata": {},
   "outputs": [],
   "source": [
    "# Use ~ for inverting the boolean as a Not\n",
    "c = np.array([True, False, True, False])\n",
    "c1 = np.array([False, True, False, False])\n",
    "~(c | c1)"
   ]
  },
  {
   "cell_type": "code",
   "execution_count": null,
   "id": "32132930",
   "metadata": {
    "lines_to_next_cell": 2
   },
   "outputs": [],
   "source": [
    "cond1 = df_positive_cos.sin > 0.0\n",
    "df_all_positive = df_positive_cos[cond1]\n",
    "df_all_positive.describe()"
   ]
  },
  {
   "cell_type": "code",
   "execution_count": null,
   "id": "8ddc0123",
   "metadata": {},
   "outputs": [],
   "source": [
    "# This adds a new column sincos\n",
    "df['sincos'] = df.sin*df.cos\n",
    "# Do not use df.sincos = ...\n",
    "len(df.sincos)"
   ]
  },
  {
   "cell_type": "code",
   "execution_count": null,
   "id": "9ca1c13a",
   "metadata": {},
   "outputs": [],
   "source": [
    "df.describe()"
   ]
  },
  {
   "cell_type": "code",
   "execution_count": null,
   "id": "6de253c1",
   "metadata": {},
   "outputs": [],
   "source": [
    "if 'x-data' in df:\n",
    "    del df['x-data']\n",
    "df.head()"
   ]
  },
  {
   "cell_type": "markdown",
   "id": "a2da570c",
   "metadata": {},
   "source": [
    "### Operations and index alignment\n",
    "\n",
    "- NumPy ufuncs can be applied\n",
    "- All binary operations align on the index"
   ]
  },
  {
   "cell_type": "code",
   "execution_count": null,
   "id": "7ae78eeb",
   "metadata": {},
   "outputs": [],
   "source": [
    "d = pd.DataFrame(np.random.randint(0, 10, size=(3, 4)),\n",
    "                 columns=['A', 'B', 'C', 'D'])\n",
    "d"
   ]
  },
  {
   "cell_type": "code",
   "execution_count": null,
   "id": "9ffeac5d",
   "metadata": {},
   "outputs": [],
   "source": [
    "np.sin(d)"
   ]
  },
  {
   "cell_type": "code",
   "execution_count": null,
   "id": "526d6ab4",
   "metadata": {},
   "outputs": [],
   "source": [
    "a = pd.DataFrame(np.random.randint(0, 20, (2, 2)),\n",
    "                 columns=list('AB'))\n",
    "a\n",
    "\n",
    "b = pd.DataFrame(np.random.randint(0, 10, (3, 3)),\n",
    "                 columns=list('BAC'))\n",
    "b"
   ]
  },
  {
   "cell_type": "code",
   "execution_count": null,
   "id": "1c886c0e",
   "metadata": {},
   "outputs": [],
   "source": [
    "a + b"
   ]
  },
  {
   "cell_type": "code",
   "execution_count": null,
   "id": "3d8116eb",
   "metadata": {},
   "outputs": [],
   "source": [
    "a.add(b, fill_value=0.0)\n",
    "a"
   ]
  },
  {
   "cell_type": "markdown",
   "id": "dff60c13",
   "metadata": {},
   "source": [
    "There are many other methods, `sub, mul, floordiv, div, pow`, etc."
   ]
  },
  {
   "cell_type": "markdown",
   "id": "4227f2a1",
   "metadata": {},
   "source": [
    "### Missing values\n",
    "- Nan used to deal with missing values\n",
    "- None also used to deal with missing values in data of type `object`"
   ]
  },
  {
   "cell_type": "code",
   "execution_count": null,
   "id": "46aae742",
   "metadata": {},
   "outputs": [],
   "source": [
    "s = pd.Series([1, np.nan, 'hello', None])\n",
    "s"
   ]
  },
  {
   "cell_type": "code",
   "execution_count": null,
   "id": "6a30441c",
   "metadata": {},
   "outputs": [],
   "source": [
    "s.isnull()"
   ]
  },
  {
   "cell_type": "code",
   "execution_count": null,
   "id": "c6a6e48e",
   "metadata": {},
   "outputs": [],
   "source": [
    "s.notnull()"
   ]
  },
  {
   "cell_type": "code",
   "execution_count": null,
   "id": "532fb9db",
   "metadata": {},
   "outputs": [],
   "source": [
    "s.dropna()"
   ]
  },
  {
   "cell_type": "code",
   "execution_count": null,
   "id": "ced0db97",
   "metadata": {
    "lines_to_next_cell": 2
   },
   "outputs": [],
   "source": [
    "# See the various arguments for each of these methods\n",
    "s.fillna(0)"
   ]
  },
  {
   "cell_type": "markdown",
   "id": "77376d73",
   "metadata": {},
   "source": [
    "### Assignment of values\n",
    "\n",
    "When assigning values, do it directly using `.loc`"
   ]
  },
  {
   "cell_type": "code",
   "execution_count": null,
   "id": "0ee01476",
   "metadata": {},
   "outputs": [],
   "source": [
    "# Recall this\n",
    "d"
   ]
  },
  {
   "cell_type": "code",
   "execution_count": null,
   "id": "282f1b31",
   "metadata": {},
   "outputs": [],
   "source": [
    "# Note the warning!\n",
    "d[d.A > 5]['A'] = 25\n",
    "d"
   ]
  },
  {
   "cell_type": "code",
   "execution_count": null,
   "id": "07954d20",
   "metadata": {},
   "outputs": [],
   "source": [
    "# Instead do this:\n",
    "d.loc[d.A > 5, 'A'] = 25\n",
    "d"
   ]
  },
  {
   "cell_type": "markdown",
   "id": "f0a36a24",
   "metadata": {
    "lines_to_next_cell": 2
   },
   "source": [
    "- Always beware of this SettingWithCopyWarning warnings\n",
    "- Avoid ever setting values on slices/subsets without due care."
   ]
  },
  {
   "cell_type": "markdown",
   "id": "14ab5a1d",
   "metadata": {},
   "source": [
    "### String processing\n",
    "\n",
    "- For any string type, use the `str` attributes and its methods.\n",
    "- This applies to `Series`, `Index` and `DataFrame` objects!"
   ]
  },
  {
   "cell_type": "code",
   "execution_count": null,
   "id": "a7eef804",
   "metadata": {},
   "outputs": [],
   "source": [
    "# From the pandas documentation.\n",
    "s = pd.Series(\n",
    "    [\"A\", \"B\", \"C\", \"Aaba\", \"Baca\", np.nan, \"CABA\", \"dog\", \"cat\"], dtype=\"string\"\n",
    ")"
   ]
  },
  {
   "cell_type": "code",
   "execution_count": null,
   "id": "40a14cbd",
   "metadata": {},
   "outputs": [],
   "source": [
    "s.str.lower()"
   ]
  },
  {
   "cell_type": "code",
   "execution_count": null,
   "id": "81acd326",
   "metadata": {},
   "outputs": [],
   "source": [
    "s.str.upper()"
   ]
  },
  {
   "cell_type": "code",
   "execution_count": null,
   "id": "2ce250cb",
   "metadata": {
    "lines_to_next_cell": 2
   },
   "outputs": [],
   "source": [
    "s.str.upper().str.replace('C', 'XX')"
   ]
  },
  {
   "cell_type": "markdown",
   "id": "6e0f9557",
   "metadata": {},
   "source": [
    "Plotting\n",
    "========="
   ]
  },
  {
   "cell_type": "code",
   "execution_count": null,
   "id": "996f1589",
   "metadata": {},
   "outputs": [],
   "source": [
    "df.plot(figsize=(20, 10));\n",
    "# or\n",
    "#df.plot.line()"
   ]
  },
  {
   "cell_type": "markdown",
   "id": "f9d34258",
   "metadata": {},
   "source": [
    "Notice that everything is plotted w.r.t. the index!\n",
    "Let us fix this!"
   ]
  },
  {
   "cell_type": "code",
   "execution_count": null,
   "id": "3e340fe7",
   "metadata": {},
   "outputs": [],
   "source": [
    "df.plot.line(x='x', y=['sin', 'cos'], figsize=(20, 10));"
   ]
  },
  {
   "cell_type": "code",
   "execution_count": null,
   "id": "f164f1f6",
   "metadata": {},
   "outputs": [],
   "source": [
    "# See what this does\n",
    "df[(df.sin > 0.0) ^ (df.cos < 0.0)].plot.line(x='x', marker='o');"
   ]
  },
  {
   "cell_type": "code",
   "execution_count": null,
   "id": "d08993a9",
   "metadata": {},
   "outputs": [],
   "source": [
    "df.plot.hist(y='cos', density=True);\n",
    "# or\n",
    "#df.plot(y='cos', kind='hist');"
   ]
  },
  {
   "cell_type": "markdown",
   "id": "1cf138a7",
   "metadata": {},
   "source": [
    "Input and output CSV and other file formats\n",
    "--------------------------------------------\n",
    "\n",
    "- `pd.read_csv()`\n",
    "- `df.to_csv()`\n",
    "- Can read/save to clip board.\n",
    "- Directly read from URLs."
   ]
  },
  {
   "cell_type": "code",
   "execution_count": null,
   "id": "34c8a59f",
   "metadata": {},
   "outputs": [],
   "source": [
    "df.to_csv('sincos.csv', index=False)"
   ]
  },
  {
   "cell_type": "code",
   "execution_count": null,
   "id": "24857ab5",
   "metadata": {},
   "outputs": [],
   "source": [
    "df1 = pd.read_csv('sincos.csv')\n",
    "df1.head()"
   ]
  },
  {
   "cell_type": "markdown",
   "id": "f55f8220",
   "metadata": {},
   "source": [
    "### Conversion to LaTeX and HTML"
   ]
  },
  {
   "cell_type": "code",
   "execution_count": null,
   "id": "312c0a37",
   "metadata": {},
   "outputs": [],
   "source": [
    "print(df[:5].to_latex())"
   ]
  },
  {
   "cell_type": "code",
   "execution_count": null,
   "id": "930c10c3",
   "metadata": {},
   "outputs": [],
   "source": [
    "print(df[:5].to_latex(index=False))"
   ]
  },
  {
   "cell_type": "code",
   "execution_count": null,
   "id": "b68c41aa",
   "metadata": {},
   "outputs": [],
   "source": [
    "print(df[:5].to_html())"
   ]
  },
  {
   "cell_type": "code",
   "execution_count": null,
   "id": "80af2431",
   "metadata": {},
   "outputs": [],
   "source": [
    "from IPython.display import HTML\n",
    "HTML(df[:5].to_html())"
   ]
  },
  {
   "cell_type": "markdown",
   "id": "dfc696c7",
   "metadata": {},
   "source": [
    "Selecting from the clipboard\n",
    "=============================\n",
    "\n",
    "- Let us select data from our previous sincos data frame.\n",
    "- Will use this for more interesting stuff.\n",
    "\n",
    "Select some data and then do this:\n"
   ]
  },
  {
   "cell_type": "code",
   "execution_count": null,
   "id": "9a18e9a0",
   "metadata": {},
   "outputs": [],
   "source": [
    "df2 = pd.read_clipboard(sep=',')\n",
    "df2"
   ]
  },
  {
   "cell_type": "code",
   "execution_count": null,
   "id": "faccc330",
   "metadata": {},
   "outputs": [],
   "source": [
    "url = 'https://drive.google.com/uc?id=1VgrBnWERE9YLslOoCLu8ZFLRbUu4jOED'\n",
    "df = pd.read_csv(url, sep=';')"
   ]
  },
  {
   "cell_type": "code",
   "execution_count": null,
   "id": "54f12fb6",
   "metadata": {},
   "outputs": [],
   "source": [
    "df.head()"
   ]
  },
  {
   "cell_type": "code",
   "execution_count": null,
   "id": "8e9969dc",
   "metadata": {},
   "outputs": [],
   "source": [
    "df.describe()"
   ]
  },
  {
   "cell_type": "markdown",
   "id": "dd98bc4d",
   "metadata": {},
   "source": [
    "## Example: Getting Kohli's batting scores\n",
    "\n",
    "- Obtaining the Batting score data for ODIs.\n",
    "- We walk through how we get the data for V. Kohli\n",
    "- First visit here: https://stats.espncricinfo.com/ci/engine/player/253802.html?class=2;template=results;type=batting;view=innings"
   ]
  },
  {
   "cell_type": "code",
   "execution_count": null,
   "id": "b0589285",
   "metadata": {
    "lines_to_next_cell": 2
   },
   "outputs": [],
   "source": [
    "df = pd.read_clipboard()\n",
    "r = df.Runs.str.replace('*', '')\n",
    "r1 = r[~r.str.contains('DNB')]\n",
    "np.savetxt('/tmp/kohli.txt', r1.to_numpy(dtype=np.int32), fmt='%d')"
   ]
  },
  {
   "cell_type": "markdown",
   "id": "a732f6cd",
   "metadata": {},
   "source": [
    "## Example: Getting all Kohli's ODI batting data\n",
    "\n",
    "- Obtaining all available data\n",
    "- First visit here: https://stats.espncricinfo.com/ci/engine/player/253802.html?class=2;template=results;type=batting;view=innings"
   ]
  },
  {
   "cell_type": "code",
   "execution_count": null,
   "id": "020000e7",
   "metadata": {},
   "outputs": [],
   "source": [
    "data = pd.read_clipboard()"
   ]
  },
  {
   "cell_type": "code",
   "execution_count": null,
   "id": "40aae683",
   "metadata": {},
   "outputs": [],
   "source": [
    "# Strip any leading/trailing whitespace from the column headers.\n",
    "data.columns"
   ]
  },
  {
   "cell_type": "code",
   "execution_count": null,
   "id": "0daa9380",
   "metadata": {},
   "outputs": [],
   "source": [
    "data.columns = data.columns.str.strip()"
   ]
  },
  {
   "cell_type": "code",
   "execution_count": null,
   "id": "9c9b0b3a",
   "metadata": {},
   "outputs": [],
   "source": [
    "# Remove columns that are completely empty or were artifacts of the import\n",
    "# process.\n",
    "unnamed_cols = [col for col in data.columns if \"Unnamed\" in col]\n",
    "\n",
    "# The above is a list comprehension. Equivalent to the following.\n",
    "unnamed_cols = []\n",
    "for col in data.columns:\n",
    "    if \"Unnamed\" in col:\n",
    "        unnamed_cols.append(col)\n",
    "\n",
    "# Now drop the columns\n",
    "data = data.drop(columns=unnamed_cols)"
   ]
  },
  {
   "cell_type": "code",
   "execution_count": null,
   "id": "3120a47d",
   "metadata": {},
   "outputs": [],
   "source": [
    "# The 'Runs' column contains non-numeric characters like '*' for not-out\n",
    "# innings. This section removes them and converts the column to a numeric type.\n",
    "data[\"Runs\"] = (\n",
    "    data[\"Runs\"].astype(str)\n",
    "    .str.replace(\"*\", \"\", regex=False)\n",
    "    .replace(\"DNB\", np.nan)  # Replace 'Did Not Bat' with NaN\n",
    ")\n",
    "data[\"Runs\"] = pd.to_numeric(data[\"Runs\"], errors=\"coerce\")"
   ]
  },
  {
   "cell_type": "code",
   "execution_count": null,
   "id": "cc2029ce",
   "metadata": {},
   "outputs": [],
   "source": [
    "# Convert the 'Start DateAscending' column to datetime objects.\n",
    "# Then, create a 'Year' column and drop the original date column.\n",
    "data[\"Date\"] = pd.to_datetime(data[\"Start DateAscending\"], errors=\"coerce\")\n",
    "data[\"Year\"] = data[\"Date\"].dt.year\n",
    "data = data.drop(columns=[\"Start DateAscending\"])\n",
    "\n",
    "# Remove the \"v \" prefix from the 'Opposition' column for consistency.\n",
    "data[\"Opposition\"] = data[\"Opposition\"].str.replace(\"v \", \"\", regex=False)"
   ]
  },
  {
   "cell_type": "code",
   "execution_count": null,
   "id": "82917960",
   "metadata": {},
   "outputs": [],
   "source": [
    "# Clean up text columns and create a binary 'NotOut' column.\n",
    "data[\"Dismissal\"] = (\n",
    "    data[\"Dismissal\"]\n",
    "    .fillna(\"DNB\")\n",
    "    .astype(str)\n",
    "    .str.strip()\n",
    "    .fillna(\"DNB\")\n",
    ")\n",
    "data[\"Ground\"] = data[\"Ground\"].str.strip()\n",
    "data[\"Opposition\"] = data[\"Opposition\"].str.strip()\n",
    "data[\"NotOut\"] = data[\"Dismissal\"].eq(\"not out\").astype(int)\n",
    "\n",
    "# Convert several other columns to numeric, coercing errors to NaN.\n",
    "cols_to_numeric = [\"BF\", \"4s\", \"6s\", \"Pos\", \"Inns\", \"SR\", \"Mins\"]\n",
    "for col in cols_to_numeric:\n",
    "    data[col] = pd.to_numeric(data[col], errors=\"coerce\")\n",
    "\n",
    "# Arrange the DataFrame columns in a more logical order.\n",
    "final_column_order = [\n",
    "    \"Date\", \"Year\", \"Ground\", \"Opposition\", \"Inns\", \"Pos\",\n",
    "    \"Runs\", \"BF\", \"4s\", \"6s\", \"SR\", \"Dismissal\", \"NotOut\"\n",
    "]\n",
    "data = data[final_column_order]\n",
    "data.info()\n",
    "\n",
    "# Export the final, cleaned DataFrame to a new CSV file.\n",
    "output_filename = \"/tmp/kohli_cleaned_batting.csv\"\n",
    "data.to_csv(output_filename, index=False)"
   ]
  },
  {
   "cell_type": "markdown",
   "id": "65c9e47f",
   "metadata": {},
   "source": [
    "### Some useful methods\n"
   ]
  },
  {
   "cell_type": "code",
   "execution_count": null,
   "id": "ea3a2b5f",
   "metadata": {},
   "outputs": [],
   "source": [
    "(data.Runs > 100).value_counts()"
   ]
  },
  {
   "cell_type": "code",
   "execution_count": null,
   "id": "50a58a10",
   "metadata": {},
   "outputs": [],
   "source": [
    "data.NotOut.value_counts()"
   ]
  },
  {
   "cell_type": "code",
   "execution_count": null,
   "id": "501f8969",
   "metadata": {},
   "outputs": [],
   "source": [
    "np.sum(data.NotOut)"
   ]
  },
  {
   "cell_type": "code",
   "execution_count": null,
   "id": "15231c4d",
   "metadata": {},
   "outputs": [],
   "source": [
    "data.Opposition.value_counts()"
   ]
  },
  {
   "cell_type": "code",
   "execution_count": null,
   "id": "489294a6",
   "metadata": {},
   "outputs": [],
   "source": [
    "data.Dismissal.value_counts()"
   ]
  },
  {
   "cell_type": "code",
   "execution_count": null,
   "id": "00fc3d60",
   "metadata": {},
   "outputs": [],
   "source": [
    "data.groupby('Opposition')['Runs'].sum()"
   ]
  },
  {
   "cell_type": "code",
   "execution_count": null,
   "id": "34971b49",
   "metadata": {},
   "outputs": [],
   "source": [
    "data.groupby('Opposition')['Runs'].mean()"
   ]
  },
  {
   "cell_type": "code",
   "execution_count": null,
   "id": "88889b91",
   "metadata": {},
   "outputs": [],
   "source": [
    "data.SR.mean()"
   ]
  },
  {
   "cell_type": "code",
   "execution_count": null,
   "id": "a4b67a08",
   "metadata": {},
   "outputs": [],
   "source": [
    "data.groupby('Opposition')['SR'].mean()"
   ]
  },
  {
   "cell_type": "markdown",
   "id": "f52eec45",
   "metadata": {},
   "source": [
    "### Sampling a dataset\n",
    "\n",
    "- Useful for probabilistic programming/bootstrapping"
   ]
  },
  {
   "cell_type": "code",
   "execution_count": null,
   "id": "f51bd284",
   "metadata": {
    "lines_to_next_cell": 2
   },
   "outputs": [],
   "source": [
    "data.sample(5, replace=True)"
   ]
  },
  {
   "cell_type": "markdown",
   "id": "2f964e3d",
   "metadata": {},
   "source": [
    "### Exercise\n",
    "\n",
    "\n",
    "Consider a smaller file:\n",
    "\n",
    "- File is at: http://www.aero.iitb.ac.in/~prabhu/tmp/sslc_small.csv\n",
    "- Also in the files section\n"
   ]
  },
  {
   "cell_type": "code",
   "execution_count": null,
   "id": "374a1859",
   "metadata": {},
   "outputs": [],
   "source": [
    "url = 'http://www.aero.iitb.ac.in/~prabhu/tmp/sslc_small.csv'\n",
    "df = pd.read_csv(url)\n",
    "df.head()  # Produces only one strange column of data!"
   ]
  },
  {
   "cell_type": "code",
   "execution_count": null,
   "id": "54b74776",
   "metadata": {},
   "outputs": [],
   "source": [
    "df.dtypes"
   ]
  },
  {
   "cell_type": "markdown",
   "id": "d79c6636",
   "metadata": {},
   "source": [
    "Notice that this data is read incorrectly, this is because the separator is\n",
    "not a comma but a ';' so use this."
   ]
  },
  {
   "cell_type": "code",
   "execution_count": null,
   "id": "271ac9a2",
   "metadata": {},
   "outputs": [],
   "source": [
    "df = pd.read_csv(url, sep=';')\n",
    "df.head()"
   ]
  },
  {
   "cell_type": "code",
   "execution_count": null,
   "id": "78f6cfe1",
   "metadata": {},
   "outputs": [],
   "source": [
    "df.dtypes"
   ]
  },
  {
   "cell_type": "code",
   "execution_count": null,
   "id": "083b614f",
   "metadata": {},
   "outputs": [],
   "source": [
    "df['region'].value_counts()"
   ]
  },
  {
   "cell_type": "code",
   "execution_count": null,
   "id": "1d8272ae",
   "metadata": {},
   "outputs": [],
   "source": [
    "df.plot.scatter(x='fl', y='math');"
   ]
  },
  {
   "cell_type": "markdown",
   "id": "7bc95927",
   "metadata": {},
   "source": [
    "There are more options to `pd.read_csv`, for example if `'AA'` is a value\n",
    "indicating a non-existing value you can pass an option, called `na_values`.\n",
    "Read more on the documentation for `read_csv`."
   ]
  },
  {
   "cell_type": "code",
   "execution_count": null,
   "id": "55a90566",
   "metadata": {},
   "outputs": [],
   "source": [
    "url = 'http://www.aero.iitb.ac.in/~prabhu/tmp/sslc1.csv.gz'\n",
    "df = pd.read_csv(url, sep=';', na_values='AA')\n",
    "df.head()"
   ]
  },
  {
   "cell_type": "code",
   "execution_count": null,
   "id": "8452fb6d",
   "metadata": {},
   "outputs": [],
   "source": [
    "df.dtypes"
   ]
  },
  {
   "cell_type": "code",
   "execution_count": null,
   "id": "a5ab5462",
   "metadata": {},
   "outputs": [],
   "source": [
    "df.describe()"
   ]
  },
  {
   "cell_type": "code",
   "execution_count": null,
   "id": "de08b349",
   "metadata": {
    "lines_to_next_cell": 2
   },
   "outputs": [],
   "source": [
    "df.plot.hist(y='math', bins=50, figsize=(20, 10));"
   ]
  },
  {
   "cell_type": "code",
   "execution_count": null,
   "id": "d9483588",
   "metadata": {},
   "outputs": [],
   "source": [
    "data.groupby('Opposition')['Runs'].mean().plot.bar()\n",
    "plt.tight_layout()\n",
    "plt.grid();"
   ]
  },
  {
   "cell_type": "code",
   "execution_count": null,
   "id": "5ff4e476",
   "metadata": {},
   "outputs": [],
   "source": []
  },
  {
   "cell_type": "markdown",
   "id": "d9915748",
   "metadata": {},
   "source": [
    "More information\n",
    "==================\n",
    "\n",
    "- Only scratched the surface.\n",
    "- http://pandas.pydata.org\n",
    "\n",
    "- Go through the chapter here: https://jakevdp.github.io/PythonDataScienceHandbook/03.00-introduction-to-pandas.html\n",
    "\n",
    "- Go through the nice tutorials here:\n",
    "   http://nbviewer.jupyter.org/github/jvns/pandas-cookbook/tree/v0.1/cookbook/"
   ]
  }
 ],
 "metadata": {
  "kernelspec": {
   "display_name": "Python 3 (ipykernel)",
   "language": "python",
   "name": "python3"
  }
 },
 "nbformat": 4,
 "nbformat_minor": 5
}
