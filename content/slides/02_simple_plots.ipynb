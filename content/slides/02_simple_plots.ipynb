{
 "cells": [
  {
   "cell_type": "markdown",
   "id": "7f76251a",
   "metadata": {},
   "source": [
    "# Basic plotting\n",
    "\n",
    "Let us get started with some basic plotting.\n",
    "\n",
    "Please open a new notebook.\n",
    "\n",
    "Python provides builtin functionality, however plotting and numerical work\n",
    "requires using different packages.\n",
    "\n",
    "Currently these packages are pre-installed for you.\n",
    "\n",
    "To use these packages we must `import` them.\n",
    "\n",
    "## Importing packages"
   ]
  },
  {
   "cell_type": "code",
   "execution_count": null,
   "id": "95debf26",
   "metadata": {},
   "outputs": [],
   "source": [
    "import numpy as np\n",
    "import matplotlib.pyplot as plt"
   ]
  },
  {
   "cell_type": "markdown",
   "id": "844eb9b8",
   "metadata": {},
   "source": [
    "\n",
    "- The first line imports the `numpy` package which provides arrays.\n",
    "- The second imports matplotlib which provides the plotting functionality.\n",
    "\n",
    "We will explain syntax and other details later. For now just type along!"
   ]
  },
  {
   "cell_type": "code",
   "execution_count": null,
   "id": "2692721f",
   "metadata": {},
   "outputs": [],
   "source": [
    "x = np.linspace(0, 2*np.pi, 50)\n",
    "plt.plot(x, np.sin(x))"
   ]
  },
  {
   "cell_type": "markdown",
   "id": "1646804e",
   "metadata": {},
   "source": [
    "\n",
    "- Notice the `np.` and `plt.`\n",
    "- The package functionality is accessed through the name `np`/`plt.`\n",
    "\n",
    "More on this later. Let us examine `x`."
   ]
  },
  {
   "cell_type": "code",
   "execution_count": null,
   "id": "370ac4d3",
   "metadata": {},
   "outputs": [],
   "source": [
    "x[0]  # Indexing starts from 0"
   ]
  },
  {
   "cell_type": "code",
   "execution_count": null,
   "id": "454bfaea",
   "metadata": {},
   "outputs": [],
   "source": [
    "x[49]"
   ]
  },
  {
   "cell_type": "code",
   "execution_count": null,
   "id": "1c509486",
   "metadata": {},
   "outputs": [],
   "source": [
    "x[50]"
   ]
  },
  {
   "cell_type": "code",
   "execution_count": null,
   "id": "c2c9711c",
   "metadata": {
    "lines_to_next_cell": 2
   },
   "outputs": [],
   "source": [
    "x[-1]"
   ]
  },
  {
   "cell_type": "markdown",
   "id": "fd9ce592",
   "metadata": {},
   "source": [
    "\n",
    "- `np.linspace` is a function that creates an array.\n",
    "- `x` is an array with 50 floating point numbers from 0 to $2 \\pi$.\n",
    "- Indexing is performed with square brackets.\n",
    "- Negative indices map to the end of the array.\n",
    "- `plt.plot` plots `np.sin(x)` versus `x` with some default line style\n",
    "   and color\n",
    "\n",
    "## Getting help\n",
    "\n",
    "- Using command (Tab) completion:\n",
    "- Accessing help\n"
   ]
  },
  {
   "cell_type": "code",
   "execution_count": null,
   "id": "8181d67b",
   "metadata": {},
   "outputs": [],
   "source": [
    "# Type:\n",
    "#\n",
    "#  np.lin<Tab>\n",
    "np.linspace"
   ]
  },
  {
   "cell_type": "markdown",
   "id": "6477fbb9",
   "metadata": {},
   "source": [
    "- When over a function Shift+Tab for help\n",
    "- Executing `np.linspace?` will print this to output\n",
    "\n",
    "Try this and see"
   ]
  },
  {
   "cell_type": "code",
   "execution_count": null,
   "id": "cccf5cbc",
   "metadata": {},
   "outputs": [],
   "source": [
    "np.linspace?"
   ]
  },
  {
   "cell_type": "markdown",
   "id": "f416de6e",
   "metadata": {},
   "source": [
    "\n",
    "- Please pay attention to case\n",
    "- Type things exactly as asked\n",
    "- We will explain things soon"
   ]
  },
  {
   "cell_type": "markdown",
   "id": "de7e6813",
   "metadata": {},
   "source": [
    "## Decoration of plots"
   ]
  },
  {
   "cell_type": "code",
   "execution_count": null,
   "id": "0bd1e81c",
   "metadata": {
    "lines_to_next_cell": 2
   },
   "outputs": [],
   "source": [
    "plt.plot(x, np.sin(x))\n",
    "# Yes, you can cut/copy/paste from your previous cells\n",
    "plt.xlabel('x')\n",
    "plt.ylabel('sin(x)');"
   ]
  },
  {
   "cell_type": "markdown",
   "id": "48e526f2",
   "metadata": {},
   "source": [
    "### Observe the following\n",
    "\n",
    "- Each cell produces its own plot.\n",
    "- All plotting commands in that cell apply to that figure.\n",
    "- Variables declared earlier are available for later\n",
    "- Re-executing a cell will \"clobber\" output\n",
    "- Add a semi-colon to the last line to avoid the annoying text output. ;\n",
    "\n",
    "## More annotations"
   ]
  },
  {
   "cell_type": "code",
   "execution_count": null,
   "id": "456b2e68",
   "metadata": {},
   "outputs": [],
   "source": [
    "plt.plot(x, np.sin(x))\n",
    "plt.xlabel('x')\n",
    "plt.ylabel('sin(x)')\n",
    "plt.title('Sinusoids')\n",
    "plt.legend(['sin(x)'])  # <-- Note the use of square brackets!"
   ]
  },
  {
   "cell_type": "markdown",
   "id": "2f56c51c",
   "metadata": {
    "lines_to_next_cell": 0
   },
   "source": [
    "\n",
    "You can use additional arguments to `plt.plot` etc. for further\n",
    "customization, for example\n"
   ]
  },
  {
   "cell_type": "code",
   "execution_count": null,
   "id": "067a05d1",
   "metadata": {},
   "outputs": [],
   "source": [
    "plt.plot(x, np.sin(x))\n",
    "plt.xlabel('x')\n",
    "plt.ylabel('sin(x)')\n",
    "plt.title('Sinusoids')\n",
    "plt.legend(['sin(x)'], loc='center');"
   ]
  },
  {
   "cell_type": "markdown",
   "id": "bd2ff28a",
   "metadata": {
    "lines_to_next_cell": 0
   },
   "source": [
    "\n",
    "- Note here that `loc='center'` is called a \"keyword argument\".\n",
    "\n",
    "## Exercise\n",
    "\n",
    "- Find out more about the `loc` keyword argument and possible options\n",
    "- You should be comfortable reading such documentation strings.\n"
   ]
  },
  {
   "cell_type": "code",
   "execution_count": null,
   "id": "447c3901",
   "metadata": {},
   "outputs": [],
   "source": []
  },
  {
   "cell_type": "markdown",
   "id": "43f4e13e",
   "metadata": {},
   "source": [
    "## More plot attributes and annotation\n",
    "\n",
    "Now try this:\n"
   ]
  },
  {
   "cell_type": "code",
   "execution_count": null,
   "id": "61ac2618",
   "metadata": {},
   "outputs": [],
   "source": [
    "plt.plot(x, np.sin(x), 'b')\n",
    "plt.plot(x, 0.5*np.sin(2*x), 'g', linewidth=2)\n",
    "plt.annotate('local maxima', xy=(1.5, 1));"
   ]
  },
  {
   "cell_type": "markdown",
   "id": "8acffd50",
   "metadata": {},
   "source": [
    "\n",
    "- Notice the third argument `'b'` on the first line, this and the first\n",
    "  two are positional arguments\n",
    "- The `'b'` and `'g'` argument correspond to format strings on the\n",
    "  plot color.\n",
    "- These are conveniences\n",
    "- Read the documentation of the plot command to understand this.\n",
    "\n",
    "The following will also work:"
   ]
  },
  {
   "cell_type": "code",
   "execution_count": null,
   "id": "01756427",
   "metadata": {},
   "outputs": [],
   "source": [
    "plt.plot(x, np.sin(x), color='b')\n",
    "plt.plot(x, 0.5*np.sin(2*x), color='g', linewidth=2)\n",
    "plt.annotate('local maxima', xy=(1.5, 1))"
   ]
  },
  {
   "cell_type": "markdown",
   "id": "c2122c23",
   "metadata": {},
   "source": [
    "Notice the following:\n",
    "- the use of the color keyword argument.\n",
    "- that multiple plot statements will place the plots on the same figure\n",
    "\n",
    "## Exercise\n",
    "\n",
    "- Read the documentation for the `fmt` keyword argument in the `plt.plot`\n",
    "  documentation to see what other format strings are possible\n",
    "- For example, what does this do?"
   ]
  },
  {
   "cell_type": "code",
   "execution_count": null,
   "id": "dd315824",
   "metadata": {},
   "outputs": [],
   "source": [
    "plt.plot(x, np.sin(x), 'g-o')"
   ]
  },
  {
   "cell_type": "markdown",
   "id": "af2c6f39",
   "metadata": {},
   "source": [
    "## Saving figures to images"
   ]
  },
  {
   "cell_type": "code",
   "execution_count": null,
   "id": "6ee841b6",
   "metadata": {},
   "outputs": [],
   "source": [
    "plt.plot(x, np.sin(x), 'b')\n",
    "plt.plot(x, 0.5*np.sin(2*x), 'g', linewidth=2)\n",
    "plt.legend(['sin(x)', 'sin(2 x)'])  # Notice the two legends, in order!\n",
    "plt.annotate('local maxima', xy=(1.5, 1))\n",
    "plt.savefig('sin.png')\n",
    "plt.savefig('sin.pdf')  # Can also save to SVG; see the documentation."
   ]
  },
  {
   "cell_type": "markdown",
   "id": "ff391662",
   "metadata": {},
   "source": [
    "For specific figure sizes you can explicitly create a figure:"
   ]
  },
  {
   "cell_type": "code",
   "execution_count": null,
   "id": "c15cfa94",
   "metadata": {},
   "outputs": [],
   "source": [
    "f = plt.figure(figsize=(8, 4))\n",
    "plt.plot(x, np.sin(x))"
   ]
  },
  {
   "cell_type": "markdown",
   "id": "31351d42",
   "metadata": {},
   "source": [
    "\n",
    "## Controlling axes lengths"
   ]
  },
  {
   "cell_type": "code",
   "execution_count": null,
   "id": "f324a042",
   "metadata": {},
   "outputs": [],
   "source": [
    "plt.plot(x, np.sin(x), 'b')\n",
    "print(plt.xlim())  # Returns the limits of the x-axis\n",
    "print(plt.ylim())"
   ]
  },
  {
   "cell_type": "code",
   "execution_count": null,
   "id": "6d723ca4",
   "metadata": {},
   "outputs": [],
   "source": [
    "plt.plot(x, np.sin(x), 'b')\n",
    "xmin, xmax = plt.xlim()  # Save returned values to xmin, xmax\n",
    "ymin, ymax = plt.ylim()\n",
    "print(xmin, ymin)"
   ]
  },
  {
   "cell_type": "code",
   "execution_count": null,
   "id": "472e709f",
   "metadata": {},
   "outputs": [],
   "source": [
    "# Use the same `plt.xmin` with arguments to set the axis limit\n",
    "plt.plot(x, np.sin(x), 'b')\n",
    "xmin, xmax = plt.xlim()\n",
    "ymin, ymax = plt.ylim()\n",
    "plt.xlim(xmin, 2*np.pi)\n",
    "plt.ylim(ymin - 0.2, ymax + 0.2)"
   ]
  },
  {
   "cell_type": "code",
   "execution_count": null,
   "id": "3ea61cc5-cc79-4a19-a71d-04b66fd24825",
   "metadata": {},
   "outputs": [],
   "source": []
  },
  {
   "cell_type": "markdown",
   "id": "86006ced",
   "metadata": {},
   "source": [
    "## Summary\n",
    "\n",
    "Have learned several plotting commands/functions.\n",
    "\n",
    "- `numpy` provides convenient array creation and manipulation functions.\n",
    "- `matplotlib` provides plotting functionality.\n",
    "- Need to import these libraries.\n",
    "- Looked at `np.linspace`, `np.pi`, `np.sin`\n",
    "- `plt.plot`, `plt.xlabel`, `plt.ylabel`, `plt.title`, `plt.legend`\n",
    "- `plt.xlim`, `plt.ylim`, `plt.annotate`\n",
    "- `plt.savefig`, `plt.figure`\n",
    "\n"
   ]
  },
  {
   "cell_type": "markdown",
   "id": "88c41cb1",
   "metadata": {},
   "source": [
    "## Notebook gotchas and warnings!\n",
    "\n",
    "- Cells can be executed in any order by you!\n",
    "- Beware of this!\n",
    "- Cells executed first may declare variables\n",
    "- Anything executed later will have access to these variables.\n",
    "- For your and other's sanity **always** ensure that your code\n",
    "  works sequentially\n"
   ]
  },
  {
   "cell_type": "markdown",
   "id": "9e531dc6",
   "metadata": {},
   "source": [
    "## Exercise: review/homework problem\n",
    "\n",
    "- Plot $x, -x, \\sin(x), x \\sin(x)$ in range $-5\\pi$ to $5\\pi$\n",
    "- Add a suitable legend\n",
    "- Annotate the origin (with text 'origin')\n",
    "- Set axes limits to the range of x\n",
    "\n",
    "Produce this:\n",
    "\n",
    "![](images/four_plot.png)\n",
    "\n",
    "Please do this as homework and submit it as a new notebook."
   ]
  }
 ],
 "metadata": {
  "kernelspec": {
   "display_name": "Python 3 (ipykernel)",
   "language": "python",
   "name": "python3"
  },
  "language_info": {
   "codemirror_mode": {
    "name": "ipython",
    "version": 3
   },
   "file_extension": ".py",
   "mimetype": "text/x-python",
   "name": "python",
   "nbconvert_exporter": "python",
   "pygments_lexer": "ipython3",
   "version": "3.11.11"
  }
 },
 "nbformat": 4,
 "nbformat_minor": 5
}
