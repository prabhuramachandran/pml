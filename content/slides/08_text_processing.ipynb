{
 "cells": [
  {
   "cell_type": "markdown",
   "id": "af32c55e",
   "metadata": {},
   "source": [
    "## Simple text processing with Python\n",
    "\n",
    "Outline:\n",
    "- Working with strings\n",
    "- f-strings\n",
    "- Reading/writing files\n",
    "- Working with dictionaries\n",
    "- Other tools"
   ]
  },
  {
   "cell_type": "markdown",
   "id": "39780b63",
   "metadata": {
    "slideshow": {
     "slide_type": "slide"
    }
   },
   "source": [
    "## Strings\n",
    "Anything within ``quotes'' is a string!\n"
   ]
  },
  {
   "cell_type": "code",
   "execution_count": null,
   "id": "21fb181e",
   "metadata": {
    "lines_to_next_cell": 2,
    "slideshow": {
     "slide_type": "-"
    }
   },
   "outputs": [],
   "source": [
    "s = ' This is a string '\n",
    "s = \" This too! \"\n",
    "s = \"\"\" This one too! \"\"\"\n",
    "s = ''' And one more! '''"
   ]
  },
  {
   "cell_type": "markdown",
   "id": "228e1371",
   "metadata": {
    "slideshow": {
     "slide_type": "slide"
    }
   },
   "source": [
    "### Strings\n",
    "Why so many?\n"
   ]
  },
  {
   "cell_type": "code",
   "execution_count": null,
   "id": "9d0397c0",
   "metadata": {
    "lines_to_next_cell": 2,
    "slideshow": {
     "slide_type": "-"
    }
   },
   "outputs": [],
   "source": [
    "s = ' \"Do or do not.  No try.\" said Yoda.'\n",
    "s = \" ' is a mighty lonely quote.\"\n",
    "# The triple quoted ones can span multiple lines!"
   ]
  },
  {
   "cell_type": "code",
   "execution_count": null,
   "id": "abe3a5b3",
   "metadata": {
    "lines_to_next_cell": 2,
    "slideshow": {
     "slide_type": "-"
    }
   },
   "outputs": [],
   "source": [
    "s = \"\"\" The quick brown\n",
    "fox jumped over\n",
    "    the lazy dingbat.\n",
    "\"\"\""
   ]
  },
  {
   "cell_type": "markdown",
   "id": "84fbd32e",
   "metadata": {
    "slideshow": {
     "slide_type": "slide"
    }
   },
   "source": [
    "### Accessing part of strings\n"
   ]
  },
  {
   "cell_type": "code",
   "execution_count": null,
   "id": "ab5ebbb0",
   "metadata": {
    "slideshow": {
     "slide_type": "-"
    }
   },
   "outputs": [],
   "source": [
    "w = \"hello\"\n",
    "print(w[0], w[1], w[-1])"
   ]
  },
  {
   "cell_type": "code",
   "execution_count": null,
   "id": "3596d87d",
   "metadata": {
    "lines_to_next_cell": 2
   },
   "outputs": [],
   "source": [
    "len(w)"
   ]
  },
  {
   "cell_type": "markdown",
   "id": "829e76f3",
   "metadata": {
    "slideshow": {
     "slide_type": "slide"
    }
   },
   "source": [
    "### Strings are immutable"
   ]
  },
  {
   "cell_type": "code",
   "execution_count": null,
   "id": "732a3d58",
   "metadata": {
    "slideshow": {
     "slide_type": "-"
    }
   },
   "outputs": [],
   "source": [
    "w[0] = 'H'"
   ]
  },
  {
   "cell_type": "markdown",
   "id": "3146029b",
   "metadata": {
    "slideshow": {
     "slide_type": "slide"
    }
   },
   "source": [
    "### String operations\n"
   ]
  },
  {
   "cell_type": "code",
   "execution_count": null,
   "id": "9eb0cb19",
   "metadata": {
    "lines_to_next_cell": 2,
    "slideshow": {
     "slide_type": "-"
    }
   },
   "outputs": [],
   "source": [
    "s = 'Hello'\n",
    "p = 'World'\n",
    "s + p"
   ]
  },
  {
   "cell_type": "code",
   "execution_count": null,
   "id": "13bcae68",
   "metadata": {
    "slideshow": {
     "slide_type": "-"
    }
   },
   "outputs": [],
   "source": [
    "s * 4"
   ]
  },
  {
   "cell_type": "code",
   "execution_count": null,
   "id": "7f637992",
   "metadata": {
    "slideshow": {
     "slide_type": "-"
    }
   },
   "outputs": [],
   "source": [
    "s * s"
   ]
  },
  {
   "cell_type": "markdown",
   "id": "cfa53540",
   "metadata": {
    "slideshow": {
     "slide_type": "slide"
    }
   },
   "source": [
    "### String methods\n"
   ]
  },
  {
   "cell_type": "code",
   "execution_count": null,
   "id": "6ea3b8a1",
   "metadata": {
    "lines_to_next_cell": 2,
    "slideshow": {
     "slide_type": "-"
    }
   },
   "outputs": [],
   "source": [
    "a = 'Hello World'\n",
    "a.startswith('Hell')"
   ]
  },
  {
   "cell_type": "code",
   "execution_count": null,
   "id": "7ac53cf6",
   "metadata": {
    "lines_to_next_cell": 2,
    "slideshow": {
     "slide_type": "-"
    }
   },
   "outputs": [],
   "source": [
    "a.endswith('ld')"
   ]
  },
  {
   "cell_type": "code",
   "execution_count": null,
   "id": "796acc48",
   "metadata": {
    "lines_to_next_cell": 2,
    "slideshow": {
     "slide_type": "-"
    }
   },
   "outputs": [],
   "source": [
    "a.upper()"
   ]
  },
  {
   "cell_type": "code",
   "execution_count": null,
   "id": "72af4cc4",
   "metadata": {
    "slideshow": {
     "slide_type": "-"
    }
   },
   "outputs": [],
   "source": [
    "a.lower()"
   ]
  },
  {
   "cell_type": "code",
   "execution_count": null,
   "id": "748154d7",
   "metadata": {
    "lines_to_next_cell": 2,
    "slideshow": {
     "slide_type": "-"
    }
   },
   "outputs": [],
   "source": [
    "a = '  Hello World  '\n",
    "b = a.strip()\n",
    "b"
   ]
  },
  {
   "cell_type": "code",
   "execution_count": null,
   "id": "4beb7cdc",
   "metadata": {
    "lines_to_next_cell": 2,
    "slideshow": {
     "slide_type": "-"
    }
   },
   "outputs": [],
   "source": [
    "b.index('ll')"
   ]
  },
  {
   "cell_type": "code",
   "execution_count": null,
   "id": "c9efb671-5373-4007-9271-15d38ec99d25",
   "metadata": {},
   "outputs": [],
   "source": [
    "b.find('lz')"
   ]
  },
  {
   "cell_type": "code",
   "execution_count": null,
   "id": "058291dd-0ed7-495f-afdd-bad0ae74ab3c",
   "metadata": {},
   "outputs": [],
   "source": []
  },
  {
   "cell_type": "code",
   "execution_count": null,
   "id": "b389ee27",
   "metadata": {
    "lines_to_next_cell": 2,
    "slideshow": {
     "slide_type": "-"
    }
   },
   "outputs": [],
   "source": [
    "b.replace('Hello', 'Goodbye')"
   ]
  },
  {
   "cell_type": "markdown",
   "id": "193a56a3",
   "metadata": {
    "slideshow": {
     "slide_type": "slide"
    }
   },
   "source": [
    "## Strings:`split` & `join`\n"
   ]
  },
  {
   "cell_type": "code",
   "execution_count": null,
   "id": "3fd85fef",
   "metadata": {
    "lines_to_next_cell": 2,
    "slideshow": {
     "slide_type": "-"
    }
   },
   "outputs": [],
   "source": [
    "chars = 'a b c'\n",
    "chars.split()"
   ]
  },
  {
   "cell_type": "code",
   "execution_count": null,
   "id": "ff5d8b06",
   "metadata": {
    "lines_to_next_cell": 2,
    "slideshow": {
     "slide_type": "-"
    }
   },
   "outputs": [],
   "source": [
    "' '.join(['a', 'b', 'c'])"
   ]
  },
  {
   "cell_type": "code",
   "execution_count": null,
   "id": "42ab74b3",
   "metadata": {
    "lines_to_next_cell": 2,
    "slideshow": {
     "slide_type": "-"
    }
   },
   "outputs": [],
   "source": [
    "alpha = ', '.join(['a', 'b', 'c'])\n",
    "alpha"
   ]
  },
  {
   "cell_type": "code",
   "execution_count": null,
   "id": "9b3fc7f1",
   "metadata": {
    "lines_to_next_cell": 2,
    "slideshow": {
     "slide_type": "-"
    }
   },
   "outputs": [],
   "source": [
    "alpha.split(', ')"
   ]
  },
  {
   "cell_type": "markdown",
   "id": "6347a7ab",
   "metadata": {
    "slideshow": {
     "slide_type": "slide"
    }
   },
   "source": [
    "### String formatting\n"
   ]
  },
  {
   "cell_type": "code",
   "execution_count": null,
   "id": "5c2a4196",
   "metadata": {
    "slideshow": {
     "slide_type": "-"
    }
   },
   "outputs": [],
   "source": [
    "x, y = 1, 1.234\n",
    "'x is %s, y is %s' % (x, y)"
   ]
  },
  {
   "cell_type": "markdown",
   "id": "edae93db",
   "metadata": {
    "slideshow": {
     "slide_type": "-"
    }
   },
   "source": [
    "- `%d` , `%f`  etc. available\n",
    "\n",
    "### f-strings\n",
    "\n",
    "Much easier to use and super convenient. Let us see some examples:"
   ]
  },
  {
   "cell_type": "code",
   "execution_count": null,
   "id": "b0366ce3",
   "metadata": {},
   "outputs": [],
   "source": [
    "name = 'Ram'\n",
    "age = 25\n",
    "wt = 60\n",
    "print(f'{name} is {age} and weighs {wt} kgs')"
   ]
  },
  {
   "cell_type": "code",
   "execution_count": null,
   "id": "c6139ca3-8956-41e0-9928-36c6aabc9769",
   "metadata": {},
   "outputs": [],
   "source": [
    "def f(x):\n",
    "    print(f'x is {x}; name is {name}')\n",
    "f(1.0)"
   ]
  },
  {
   "cell_type": "code",
   "execution_count": null,
   "id": "61553a9c-57dd-49a8-b977-c422c63569b6",
   "metadata": {},
   "outputs": [],
   "source": [
    "print(r'\\n hello')  # raw strings"
   ]
  },
  {
   "cell_type": "markdown",
   "id": "f5b48b41",
   "metadata": {},
   "source": [
    "- Notice the use of the `f` in front of the string, can also use `F`.\n",
    "- You can do more!"
   ]
  },
  {
   "cell_type": "code",
   "execution_count": null,
   "id": "99b2549d",
   "metadata": {},
   "outputs": [],
   "source": [
    "f'{name.upper()} is {age + 1} and weighs {wt + 0.5} kgs.'"
   ]
  },
  {
   "cell_type": "markdown",
   "id": "df69eb3c",
   "metadata": {},
   "source": [
    "\n",
    "- Can also use format string specifiers to control things"
   ]
  },
  {
   "cell_type": "code",
   "execution_count": null,
   "id": "7b44575a",
   "metadata": {},
   "outputs": [],
   "source": [
    "f'{name} is {age:d} and weighs {wt:.1f} kgs.'"
   ]
  },
  {
   "cell_type": "markdown",
   "id": "9f6c3ef5",
   "metadata": {},
   "source": [
    "- Can also introduce padding of the strings."
   ]
  },
  {
   "cell_type": "code",
   "execution_count": null,
   "id": "63cb0a2d",
   "metadata": {
    "lines_to_next_cell": 2
   },
   "outputs": [],
   "source": [
    "f'{name:10} is {age:d} and weighs {wt:.1f} kgs.'"
   ]
  },
  {
   "cell_type": "markdown",
   "id": "823f485c",
   "metadata": {
    "lines_to_next_cell": 2
   },
   "source": [
    "### More documentation on f-strings\n",
    "\n",
    "- [f-string docs](https://docs.python.org/3/reference/lexical_analysis.html#formatted-string-literals)\n",
    "- [Format specification](https://docs.python.org/3/library/string.html#formatspec)"
   ]
  },
  {
   "cell_type": "markdown",
   "id": "d0da7a88",
   "metadata": {
    "slideshow": {
     "slide_type": "slide"
    }
   },
   "source": [
    "### String containership\n"
   ]
  },
  {
   "cell_type": "code",
   "execution_count": null,
   "id": "b04e9096",
   "metadata": {
    "lines_to_next_cell": 2,
    "slideshow": {
     "slide_type": "-"
    }
   },
   "outputs": [],
   "source": [
    "fruits = 'apple, banana, pear'\n",
    "'apple' in fruits"
   ]
  },
  {
   "cell_type": "code",
   "execution_count": null,
   "id": "bafc4934",
   "metadata": {
    "slideshow": {
     "slide_type": "-"
    }
   },
   "outputs": [],
   "source": [
    "\n",
    "'potato' in fruits"
   ]
  },
  {
   "cell_type": "markdown",
   "id": "32ee9991",
   "metadata": {
    "slideshow": {
     "slide_type": "slide"
    }
   },
   "source": [
    "## Exercise 1\n",
    "Given a 2 digit integer `x` , find the digits of the number.\n",
    "\n",
    "* For example, let us say `x = 38`\n",
    "* Find a way to get `a = 3` and `b = 8` using `x` ?\n"
   ]
  },
  {
   "cell_type": "markdown",
   "id": "ca16ee7e",
   "metadata": {
    "slideshow": {
     "slide_type": "slide"
    }
   },
   "source": [
    "### Possible Solution\n"
   ]
  },
  {
   "cell_type": "code",
   "execution_count": null,
   "id": "d1b29a11",
   "metadata": {
    "lines_to_next_cell": 2,
    "slideshow": {
     "slide_type": "-"
    }
   },
   "outputs": [],
   "source": [
    "x = 38\n",
    "a = x//10\n",
    "b = x % 10\n",
    "a*10 + b == x"
   ]
  },
  {
   "cell_type": "markdown",
   "id": "0b65bc44",
   "metadata": {
    "slideshow": {
     "slide_type": "slide"
    }
   },
   "source": [
    "### Another Solution\n"
   ]
  },
  {
   "cell_type": "code",
   "execution_count": null,
   "id": "c30f7e14",
   "metadata": {
    "lines_to_next_cell": 2,
    "slideshow": {
     "slide_type": "-"
    }
   },
   "outputs": [],
   "source": [
    "sx = str(x)\n",
    "a = int(sx[0])\n",
    "b = int(sx[1])\n",
    "a*10 + b == x"
   ]
  },
  {
   "cell_type": "markdown",
   "id": "2d6e6025",
   "metadata": {
    "slideshow": {
     "slide_type": "slide"
    }
   },
   "source": [
    "### Exercise 2\n",
    "Given an arbitrary integer, count the number of digits it has.\n"
   ]
  },
  {
   "cell_type": "markdown",
   "id": "6addd8f5",
   "metadata": {
    "slideshow": {
     "slide_type": "slide"
    }
   },
   "source": [
    "### Possible solution\n"
   ]
  },
  {
   "cell_type": "code",
   "execution_count": null,
   "id": "fb9cfaf0",
   "metadata": {
    "lines_to_next_cell": 2,
    "slideshow": {
     "slide_type": "-"
    }
   },
   "outputs": [],
   "source": [
    "x = 12345678\n",
    "len(str(x))  # Sneaky solution!"
   ]
  },
  {
   "cell_type": "markdown",
   "id": "81ef780c",
   "metadata": {},
   "source": [
    "## Reading/writing files\n",
    "\n",
    "- This is a high-level and limited introduction.\n",
    "- Start by reading a simple text file, `data.txt`."
   ]
  },
  {
   "cell_type": "code",
   "execution_count": null,
   "id": "564131ce",
   "metadata": {},
   "outputs": [],
   "source": [
    "f = open('../data/data.txt')\n",
    "data = f.read()\n",
    "f.close()\n",
    "type(data), len(data)"
   ]
  },
  {
   "cell_type": "code",
   "execution_count": null,
   "id": "4ffa8a8b",
   "metadata": {},
   "outputs": [],
   "source": [
    "# Same as:\n",
    "f = open('../data/data.txt', 'r')  # mode defaults to 'r'\n",
    "data = f.read()\n",
    "f.close()"
   ]
  },
  {
   "cell_type": "code",
   "execution_count": null,
   "id": "2c6770e1",
   "metadata": {
    "lines_to_next_cell": 2
   },
   "outputs": [],
   "source": [
    "# Can also read them line-by-line\n",
    "f = open('../data/data.txt')\n",
    "data = f.readlines()\n",
    "f.close()\n",
    "type(data), len(data)"
   ]
  },
  {
   "cell_type": "markdown",
   "id": "61aa3141",
   "metadata": {},
   "source": [
    "\n",
    "- We must always close a file once we are done with it.\n",
    "- OS has limits on number of open files.\n",
    "- Sometimes others cannot use the file when someone else is writing to it\n",
    "  etc.\n",
    "\n",
    "Python provides a convenient syntax for these kind of things."
   ]
  },
  {
   "cell_type": "code",
   "execution_count": null,
   "id": "29eaa07f",
   "metadata": {},
   "outputs": [],
   "source": [
    "with open('../data/data.txt') as f:\n",
    "    data = f.readlines()\n",
    "print(len(data))\n",
    "data[0]\n"
   ]
  },
  {
   "cell_type": "markdown",
   "id": "70e5389f",
   "metadata": {},
   "source": [
    "- `with` introduces a new block.\n",
    "- Notice the `as f` syntax carefully.\n",
    "- Closes the file automatically on exit.\n",
    "- Every line also has a line-ending character at the end, see the `'\\n'` at\n",
    "  the end."
   ]
  },
  {
   "cell_type": "markdown",
   "id": "0c1d8eb5",
   "metadata": {},
   "source": [
    "### Writing files\n",
    "- Easy to write files too\n",
    "- Use the mode argument and set it to 'w'\n",
    "- **Beware this will clobber the file**"
   ]
  },
  {
   "cell_type": "code",
   "execution_count": null,
   "id": "b85595b6",
   "metadata": {},
   "outputs": [],
   "source": [
    "with open('/tmp/junk.txt', 'w') as f:\n",
    "    f.write('Hello world!\\n')"
   ]
  },
  {
   "cell_type": "code",
   "execution_count": null,
   "id": "cd6c7880",
   "metadata": {},
   "outputs": [],
   "source": [
    "# Can also do\n",
    "with open('/tmp/junk.txt', 'w') as f:\n",
    "    f.writelines(data)"
   ]
  },
  {
   "cell_type": "markdown",
   "id": "c09b5e28",
   "metadata": {},
   "source": [
    "- Note that `f.writelines` does not add a newline to the line."
   ]
  },
  {
   "cell_type": "markdown",
   "id": "3ebd2a91",
   "metadata": {},
   "source": [
    "### Exercise\n",
    "- Read the data file, `../data/data.txt`\n",
    "- Write every alternate line to a new data file called `junk.txt`"
   ]
  },
  {
   "cell_type": "code",
   "execution_count": null,
   "id": "516b0927",
   "metadata": {},
   "outputs": [],
   "source": [
    "# Solution"
   ]
  },
  {
   "cell_type": "markdown",
   "id": "7e7be19a",
   "metadata": {},
   "source": [
    "### Counting words in a string\n",
    "\n",
    "Consider the following words in a paragraph from a famous novel: \"Alice in\n",
    "Wonderland\" by Lewis Carroll."
   ]
  },
  {
   "cell_type": "code",
   "execution_count": null,
   "id": "ff3536bc",
   "metadata": {},
   "outputs": [],
   "source": [
    "para = \"\"\"\n",
    "Alice was beginning to get very tired of sitting by her sister on the bank,\n",
    "and of having nothing to do: once or twice she had peeped into the book her\n",
    "sister was reading, but it had no pictures or conversations in it, 'and what\n",
    "is the use of a book,' thought Alice 'without pictures or conversations?'\n",
    "\"\"\""
   ]
  },
  {
   "cell_type": "markdown",
   "id": "18cb3320",
   "metadata": {},
   "source": [
    "\n",
    "We now want to do a simple count of the words seen in this paragraph. We\n",
    "want to know what is the most frequent word etc. How would we do this?\n",
    "\n",
    "If we know a specific word it is easy to do this, for example, how often do\n",
    "the words, \"Alice\", \"the\", \"her\" occur?"
   ]
  },
  {
   "cell_type": "code",
   "execution_count": null,
   "id": "950e63d4",
   "metadata": {},
   "outputs": [],
   "source": [
    "para.lower().count('alice')"
   ]
  },
  {
   "cell_type": "code",
   "execution_count": null,
   "id": "94bb53c4",
   "metadata": {},
   "outputs": [],
   "source": [
    "para.lower().count('the')"
   ]
  },
  {
   "cell_type": "markdown",
   "id": "7498238e",
   "metadata": {},
   "source": [
    "\n",
    "We want more, we want to see all the words and count them all! We can do\n",
    "this easily with a more powerful data type called the dictionary."
   ]
  },
  {
   "cell_type": "markdown",
   "id": "50fedbd9",
   "metadata": {},
   "source": [
    "## Working with dictionaries\n",
    "- Think of a dictionary as a container with keys and values.\n",
    "- Keys can be strings, integers, floats etc. Basically any immutable quantity.\n",
    "- Values can be anything.\n",
    "\n",
    "Here is a simple example:"
   ]
  },
  {
   "cell_type": "code",
   "execution_count": null,
   "id": "ea27fea1",
   "metadata": {},
   "outputs": [],
   "source": [
    "phonebook = {\"mom\": 1234, \"dad\": 5678}\n",
    "phonebook"
   ]
  },
  {
   "cell_type": "code",
   "execution_count": null,
   "id": "b6932223",
   "metadata": {},
   "outputs": [],
   "source": [
    "type(phonebook)"
   ]
  },
  {
   "cell_type": "code",
   "execution_count": null,
   "id": "3a4b7433",
   "metadata": {},
   "outputs": [],
   "source": [
    "phonebook['mom']"
   ]
  },
  {
   "cell_type": "code",
   "execution_count": null,
   "id": "5e14bd0a",
   "metadata": {},
   "outputs": [],
   "source": [
    "# Setting values\n",
    "phonebook['mom'] = 4567\n",
    "phonebook"
   ]
  },
  {
   "cell_type": "code",
   "execution_count": null,
   "id": "e9c46aaf",
   "metadata": {},
   "outputs": [],
   "source": [
    "phonebook[\"work\"] =  1022\n",
    "phonebook"
   ]
  },
  {
   "cell_type": "code",
   "execution_count": null,
   "id": "f6d4be47",
   "metadata": {},
   "outputs": [],
   "source": [
    "# No need for fixed types:\n",
    "d = {1: 25, 'a': 1.23, 'b': 'hello', 1.23: 'a'}\n",
    "d"
   ]
  },
  {
   "cell_type": "code",
   "execution_count": null,
   "id": "7295d9a9",
   "metadata": {},
   "outputs": [],
   "source": [
    "empty = {}\n",
    "# or\n",
    "empty = dict()"
   ]
  },
  {
   "cell_type": "code",
   "execution_count": null,
   "id": "adce4028",
   "metadata": {},
   "outputs": [],
   "source": [
    "# Can also do:\n",
    "x = dict(x=1, y=2.1, zeta='hello')\n",
    "x"
   ]
  },
  {
   "cell_type": "code",
   "execution_count": null,
   "id": "5fc6c08e",
   "metadata": {},
   "outputs": [],
   "source": [
    "# Iteration is easy\n",
    "for key in d:\n",
    "    print(key, d[key])"
   ]
  },
  {
   "cell_type": "code",
   "execution_count": null,
   "id": "5ae4ac18",
   "metadata": {},
   "outputs": [],
   "source": [
    "# Also\n",
    "for key, value in d.items():\n",
    "    print(key, value)"
   ]
  },
  {
   "cell_type": "code",
   "execution_count": null,
   "id": "85e36f7d",
   "metadata": {
    "lines_to_next_cell": 0
   },
   "outputs": [],
   "source": [
    "d.keys()"
   ]
  },
  {
   "cell_type": "code",
   "execution_count": null,
   "id": "2428e183",
   "metadata": {},
   "outputs": [],
   "source": [
    "d.values()"
   ]
  },
  {
   "cell_type": "code",
   "execution_count": null,
   "id": "91286be1",
   "metadata": {},
   "outputs": [],
   "source": [
    "# Deletion\n",
    "del d['b']\n",
    "d"
   ]
  },
  {
   "cell_type": "code",
   "execution_count": null,
   "id": "ce75cf61-e15a-4791-ac47-4494ef463a61",
   "metadata": {},
   "outputs": [],
   "source": [
    "d.get('a', -1)"
   ]
  },
  {
   "cell_type": "markdown",
   "id": "265e7b16",
   "metadata": {},
   "source": [
    "### Other methods\n",
    "\n",
    "- `d.clear()`\n",
    "- `d.copy()`\n",
    "- `d.fromkeys(iterable, value=None)`\n",
    "- `d.get(key)`\n",
    "- `d.pop()`/`d.popitem()`\n",
    "- `d.setdefault(key, default=None)`\n",
    "- `d.update(...)`: Update with a dict/iterable"
   ]
  },
  {
   "cell_type": "code",
   "execution_count": null,
   "id": "966a1747",
   "metadata": {},
   "outputs": [],
   "source": [
    "dict.fromkeys(range(5), 0)"
   ]
  },
  {
   "cell_type": "code",
   "execution_count": null,
   "id": "8a2e97fd",
   "metadata": {},
   "outputs": [],
   "source": []
  },
  {
   "cell_type": "markdown",
   "id": "4d436ff1",
   "metadata": {},
   "source": [
    "Returning to our task of counting words in the string s\n"
   ]
  },
  {
   "cell_type": "code",
   "execution_count": null,
   "id": "6d910f35",
   "metadata": {},
   "outputs": [],
   "source": [
    "# Try this as an exercise!"
   ]
  },
  {
   "cell_type": "code",
   "execution_count": null,
   "id": "d3d60b08",
   "metadata": {},
   "outputs": [],
   "source": [
    "# Solution\n",
    "data = {}\n",
    "for word in para.lower().split():\n",
    "    if word in data:\n",
    "        data[word] += 1\n",
    "    else:\n",
    "        data[word] = 1\n",
    "data"
   ]
  },
  {
   "cell_type": "markdown",
   "id": "84d87905",
   "metadata": {},
   "source": [
    "There is a problem with the punctuation marks!\n",
    "- We want to delete any punctuation\n",
    "- We want to remove additional spaces\n",
    "\n",
    "Can use some string methods to do this.\n",
    "- Specifically, we can use `para.translate`\n",
    "- Takes a table (dictionary) with text replacement"
   ]
  },
  {
   "cell_type": "code",
   "execution_count": null,
   "id": "26bb237a",
   "metadata": {},
   "outputs": [],
   "source": [
    "# Using para.translate\n",
    "table = {':': None, ',': None, '?': None}\n",
    "t = para.maketrans(table)\n",
    "para.translate(t)"
   ]
  },
  {
   "cell_type": "markdown",
   "id": "fc991343",
   "metadata": {},
   "source": [
    "- But we want to remove all punctuation\n",
    "- The `string` module is very convenient"
   ]
  },
  {
   "cell_type": "code",
   "execution_count": null,
   "id": "6da3efdc",
   "metadata": {},
   "outputs": [],
   "source": [
    "import string"
   ]
  },
  {
   "cell_type": "code",
   "execution_count": null,
   "id": "7f1cfe4e",
   "metadata": {
    "lines_to_next_cell": 0
   },
   "outputs": [],
   "source": [
    "string.ascii_letters"
   ]
  },
  {
   "cell_type": "code",
   "execution_count": null,
   "id": "feef03c6",
   "metadata": {
    "lines_to_next_cell": 0
   },
   "outputs": [],
   "source": [
    "string.punctuation"
   ]
  },
  {
   "cell_type": "code",
   "execution_count": null,
   "id": "d706ef3e",
   "metadata": {},
   "outputs": [],
   "source": [
    "string.whitespace"
   ]
  },
  {
   "cell_type": "code",
   "execution_count": null,
   "id": "b7c3f065",
   "metadata": {},
   "outputs": [],
   "source": [
    "# Now we are good to go:\n",
    "table = dict.fromkeys(string.punctuation)\n",
    "para.translate(para.maketrans(table))"
   ]
  },
  {
   "cell_type": "markdown",
   "id": "69ec30af",
   "metadata": {},
   "source": [
    "### Exercise: Counting words in Alice in Wonderland\n",
    "\n",
    "- Take the text file provided in `../data/alice.txt`\n",
    "- Read the entire novel and clean up the data of punctuation etc.\n",
    "- Normalize the whitespace to a single space\n",
    "- Do a full word count\n",
    "- Show the top 10 words in the text\n",
    "- Can show a histogram of the top words etc.\n",
    "- What is the longest word in the book?"
   ]
  },
  {
   "cell_type": "code",
   "execution_count": null,
   "id": "2d4228a2",
   "metadata": {
    "lines_to_next_cell": 2
   },
   "outputs": [],
   "source": []
  },
  {
   "cell_type": "markdown",
   "id": "b8801b3a",
   "metadata": {
    "lines_to_next_cell": 2
   },
   "source": [
    "## Other tools\n",
    "\n",
    "Regular expressions are extremely useful for more complex text processing.\n",
    "You can learn more about them from:\n",
    "- https://docs.python.org/3/howto/regex.html\n",
    "- https://docs.python.org/3/library/re.html\n",
    "\n",
    "If you do decide to learn more about regular expressions, this website can\n",
    "be extremely helpful when you are trying to learn, write, and debug your\n",
    "regular expressions: https://pythex.org/ ."
   ]
  }
 ],
 "metadata": {
  "kernelspec": {
   "display_name": "Python 3 (ipykernel)",
   "language": "python",
   "name": "python3"
  },
  "language_info": {
   "codemirror_mode": {
    "name": "ipython",
    "version": 3
   },
   "file_extension": ".py",
   "mimetype": "text/x-python",
   "name": "python",
   "nbconvert_exporter": "python",
   "pygments_lexer": "ipython3",
   "version": "3.11.11"
  }
 },
 "nbformat": 4,
 "nbformat_minor": 5
}
