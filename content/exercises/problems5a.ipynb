{
 "cells": [
  {
   "cell_type": "markdown",
   "id": "6172ca3e-1c00-4005-a67f-2b38ae6557ff",
   "metadata": {},
   "source": [
    "## Problem 1\n",
    "\n",
    "Consider the last problem in problems5.ipynb shared earlier. Repeat the analysis with an exponential distribution. These illustrate the Central Limit Theorem that the sample mean goes towards a normal distribution.\n",
    "\n",
    "The life of a battery has an exponential distribution with the single parameter $\\lambda=1$ , i.e. `np.random.exponential(scale=1)`\n",
    "\n",
    "Randomly select 10 values from this population and compute the sample mean.\n",
    "\n",
    "Repeat this sampling 10,000 times and plot the distribution (histogram) of the sample means.\n",
    "\n",
    "Repeat the above steps for sample sizes: 5, 10, 20, 40, 80, 100.\n",
    "\n",
    "For each sample size, overlay a normal distribution with:\n",
    "\n",
    "Mean = 1\n",
    "\n",
    "Standard deviation = 1 / √(sample size)\n"
   ]
  },
  {
   "cell_type": "code",
   "execution_count": null,
   "id": "10284516-e880-47bc-be0d-980d1f029c99",
   "metadata": {},
   "outputs": [],
   "source": []
  },
  {
   "cell_type": "markdown",
   "id": "053bd094-289b-4c05-b061-35727bf20cf3",
   "metadata": {},
   "source": [
    "## Problem 2\n",
    "\n",
    "Consider a population consisting of human beings and a single suitcase taken with them as checkin baggage. Let us say that the weight of the humans are distributed normally with mean 70kgs and standard deviation 5 kgs and the bags are with mean 15 kgs and standard deviation 5 kgs. \n",
    "\n",
    "Now, randomly select 5 values from each of the humans and suitcases to get 10 weights. Now find the sample mean of the weights.\n",
    "\n",
    "Repeat this sampling 10,000 times and plot the distribution (histogram) of the sample means of the humans and suitcases.\n",
    "\n",
    "Repeat the above steps for sample sizes: 10, 20, 40, 80, 100 (i.e. 5+5, 10+10 etc. of human+suitcases).\n",
    "\n",
    "For each sample size, overlay a normal distribution with:\n",
    "\n",
    "Mean = 42.5\n",
    "\n",
    "Standard deviation = 5 / √(sample size)\n"
   ]
  },
  {
   "cell_type": "code",
   "execution_count": null,
   "id": "586cb7b1-7f56-4f23-b0b0-e34873150372",
   "metadata": {},
   "outputs": [],
   "source": []
  }
 ],
 "metadata": {
  "kernelspec": {
   "display_name": "Python 3 (ipykernel)",
   "language": "python",
   "name": "python3"
  },
  "language_info": {
   "codemirror_mode": {
    "name": "ipython",
    "version": 3
   },
   "file_extension": ".py",
   "mimetype": "text/x-python",
   "name": "python",
   "nbconvert_exporter": "python",
   "pygments_lexer": "ipython3",
   "version": "3.11.11"
  }
 },
 "nbformat": 4,
 "nbformat_minor": 5
}
