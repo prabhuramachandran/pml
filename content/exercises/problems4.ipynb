{
 "cells": [
  {
   "cell_type": "markdown",
   "id": "b30e9926-c16c-45c0-9891-0399c5db5212",
   "metadata": {},
   "source": [
    "## Problem set for class 5"
   ]
  },
  {
   "cell_type": "markdown",
   "id": "25657282-83b4-4121-8bc5-ad82eb4d2c10",
   "metadata": {},
   "source": [
    "1. Consider the 7 different batsman data provided to you. Compute the mean,\n",
    "   median, mode, standard deviation for each of these batsmen. Store the names\n",
    "   of the batsmen in a list. Then store the mean/median/mode for each batsman\n",
    "   in the same order.  You should have 5 lists with you at the end of this."
   ]
  },
  {
   "cell_type": "code",
   "execution_count": null,
   "id": "b91272a3-d754-4ef4-9da0-f5f18e299c0b",
   "metadata": {},
   "outputs": [],
   "source": []
  },
  {
   "cell_type": "markdown",
   "id": "61bec040-55b4-4309-838e-358b1836485c",
   "metadata": {},
   "source": [
    "2. Make a barchart comparing each of the batsmen. That is make 3 plots, one\n",
    "   showing mean of all the batsmen (with suitable ticks), one plot for the\n",
    "   median and one for the mode."
   ]
  },
  {
   "cell_type": "code",
   "execution_count": null,
   "id": "236c45bd-12a2-4626-b5e6-817c2fc73cae",
   "metadata": {},
   "outputs": [],
   "source": []
  },
  {
   "cell_type": "markdown",
   "id": "02dbe047-d24b-4fb7-a1de-28df87440eef",
   "metadata": {},
   "source": [
    "3. Look up the documentation for `plt.errorbar` (you can look this up online\n",
    "   also) and draw the means of each batsman along with an error bar\n",
    "   illustrating the standard deviation of their scores."
   ]
  },
  {
   "cell_type": "code",
   "execution_count": null,
   "id": "1feecd5e-5117-4afb-9144-d8aa590da176",
   "metadata": {},
   "outputs": [],
   "source": []
  },
  {
   "cell_type": "markdown",
   "id": "27d82249-9649-48a7-b46e-91f5a9c70acb",
   "metadata": {},
   "source": [
    "4. Plot a suitable histogram for any 4 of the batsmen and compare them, you\n",
    "   can make 2 plots of two pairs or 3 plots of any 3 pairs."
   ]
  },
  {
   "cell_type": "code",
   "execution_count": null,
   "id": "d0d0dd8f-ab50-4f8a-922b-1a49a3615b4d",
   "metadata": {},
   "outputs": [],
   "source": []
  },
  {
   "cell_type": "markdown",
   "id": "21389c65-8b9c-4724-b0cd-5de03a348cce",
   "metadata": {},
   "source": [
    "5. Make a boxplot comparing all batsmen."
   ]
  },
  {
   "cell_type": "code",
   "execution_count": null,
   "id": "8c2dd704-6159-46d7-882f-ee3c3610f858",
   "metadata": {},
   "outputs": [],
   "source": []
  },
  {
   "cell_type": "markdown",
   "id": "c81c15f7-7c76-409e-965f-c350cb53289f",
   "metadata": {},
   "source": [
    "6. Make a violinplot comparing all batsmen."
   ]
  },
  {
   "cell_type": "code",
   "execution_count": null,
   "id": "d1e4fdc0-d77a-48d7-8748-baf2b263d3ab",
   "metadata": {},
   "outputs": [],
   "source": []
  },
  {
   "cell_type": "markdown",
   "id": "73ec1493-d6f0-4a49-a9c0-d3d05a17d4f7",
   "metadata": {},
   "source": [
    "7. Comment on whether it is possible to plot all 7 batsmen together as a\n",
    "   histogram? Is this a good idea? Contrast this with the boxplot and\n",
    "   violinplot."
   ]
  },
  {
   "cell_type": "code",
   "execution_count": null,
   "id": "be1238d4-9693-4f6a-87f0-8f22f502af7c",
   "metadata": {},
   "outputs": [],
   "source": []
  }
 ],
 "metadata": {
  "kernelspec": {
   "display_name": "Python 3 (ipykernel)",
   "language": "python",
   "name": "python3"
  },
  "language_info": {
   "codemirror_mode": {
    "name": "ipython",
    "version": 3
   },
   "file_extension": ".py",
   "mimetype": "text/x-python",
   "name": "python",
   "nbconvert_exporter": "python",
   "pygments_lexer": "ipython3",
   "version": "3.11.11"
  }
 },
 "nbformat": 4,
 "nbformat_minor": 5
}
