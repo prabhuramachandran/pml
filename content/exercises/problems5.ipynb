{
 "cells": [
  {
   "cell_type": "markdown",
   "id": "6f9c8888-f204-42d1-bd27-08d4ce5cb6c9",
   "metadata": {},
   "source": [
    "# Problem 1:\n",
    "Simulate  1000 tosses of a biased coin that shows heads (H) with probability 0.7 and tails (T) with probability 0.3.\n",
    "\n",
    "Plot a histogram of the outcomes.\n",
    "\n",
    "Compare the observed probabilities with the theoretical probabilities (0.7 and 0.3)."
   ]
  },
  {
   "cell_type": "code",
   "execution_count": null,
   "id": "98edc70e-afda-4c8b-92cd-44c9c4e44eb9",
   "metadata": {},
   "outputs": [],
   "source": []
  },
  {
   "cell_type": "markdown",
   "id": "6494cb31-9b6b-47e3-95f6-21928c83975e",
   "metadata": {},
   "source": [
    "\n",
    "# Problem 2: \n",
    "Simulate rolling a fair die 6000 times.\n",
    "\n",
    "Plot the histogram of outcomes.\n",
    "\n",
    "Compute observed probabilities of each face (1–6).\n",
    "\n",
    "Compare with the theoretical probability (1/6 ≈ 0.1667)."
   ]
  },
  {
   "cell_type": "code",
   "execution_count": null,
   "id": "8e601fd4-c9dd-4beb-aad8-a9cbe39b46b8",
   "metadata": {},
   "outputs": [],
   "source": []
  },
  {
   "cell_type": "markdown",
   "id": "68ecbcd6-78c6-4842-93b8-c17e1699400e",
   "metadata": {},
   "source": [
    "# Problem 3:\n",
    "For n=50 trials with success probability p=0.5:\n",
    "\n",
    "Plot the binomial probability mass function (pmf).\n",
    "\n",
    "Compare it with the corresponding normal distribution approximation."
   ]
  },
  {
   "cell_type": "code",
   "execution_count": null,
   "id": "8b1e2070-339d-46d8-b177-d47777124f99",
   "metadata": {},
   "outputs": [],
   "source": []
  },
  {
   "cell_type": "markdown",
   "id": "0bd1d2dd-6041-473f-9467-ed4589be9277",
   "metadata": {},
   "source": [
    "# Problem 4:\n",
    "A population of people has weights that are normally distributed with mean 70 kg and standard deviation 10 kg.\n",
    "\n",
    "# Tasks:\n",
    "\n",
    "Randomly select 10 values from this population and compute the sample mean.\n",
    "\n",
    "Repeat this sampling 10,000 times and plot the distribution (histogram) of the sample means.\n",
    "\n",
    "Repeat the above steps for sample sizes: 5, 10, 20, 40, 80, 100.\n",
    "\n",
    "For each sample size, overlay a normal distribution with:\n",
    "\n",
    "Mean = 70\n",
    "\n",
    "Standard deviation = 10 / √(sample size)\n",
    "\n",
    "Compare how the distribution of sample means changes with sample size and how it approaches a normal distribution."
   ]
  },
  {
   "cell_type": "code",
   "execution_count": null,
   "id": "c7906216-ee06-4e16-8f6c-22f10914dde9",
   "metadata": {},
   "outputs": [],
   "source": []
  }
 ],
 "metadata": {
  "kernelspec": {
   "display_name": "Python 3 (ipykernel)",
   "language": "python",
   "name": "python3"
  },
  "language_info": {
   "codemirror_mode": {
    "name": "ipython",
    "version": 3
   },
   "file_extension": ".py",
   "mimetype": "text/x-python",
   "name": "python",
   "nbconvert_exporter": "python",
   "pygments_lexer": "ipython3",
   "version": "3.11.11"
  }
 },
 "nbformat": 4,
 "nbformat_minor": 5
}
