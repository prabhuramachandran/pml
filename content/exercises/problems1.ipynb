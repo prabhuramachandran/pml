{
 "cells": [
  {
   "cell_type": "markdown",
   "id": "0a0b9a24-f34e-4091-9306-e2200dd08b7c",
   "metadata": {},
   "source": [
    " 1) Find the Maximum Number in a list. Hint use the `max` builtin function.\n",
    "\n",
    "    Input: [10, 25, 3, 99, 45]  \n",
    "    Output: 99"
   ]
  },
  {
   "cell_type": "code",
   "execution_count": null,
   "id": "6e58640e-43ab-48b6-afb4-58fb64842d07",
   "metadata": {},
   "outputs": [],
   "source": []
  },
  {
   "cell_type": "markdown",
   "id": "0901c6f1-4a94-4da1-8604-7689a9295144",
   "metadata": {},
   "source": [
    " 2) Given a number with less than 10 digits, create a list with the digits of the number.\n",
    "\n",
    "    Input: 45  \n",
    "    Output: [4,5]\n",
    "\n",
    "    Input: 62173  \n",
    "    Output: [6,2,1,7,3]"
   ]
  },
  {
   "cell_type": "code",
   "execution_count": null,
   "id": "b7e098a2-d8ca-41af-9558-e7ab97ba3d49",
   "metadata": {},
   "outputs": [],
   "source": []
  },
  {
   "cell_type": "markdown",
   "id": "1a1e717d-a8ce-4480-8705-a080625a1549",
   "metadata": {},
   "source": [
    "    \n",
    " 3) Sum of Digits in a Number\n",
    "\n",
    "    Problem:\n",
    "    Given an integer(less than 10 digits), find the sum of its digits.\n",
    "    Hint: Use floor division `//` binary operator to get the integer part when you perform a division.\n",
    "    For example `11//2 ==  5`\n",
    "    \n",
    "    Input: 4562  \n",
    "    Output: 17\n",
    " "
   ]
  },
  {
   "cell_type": "code",
   "execution_count": null,
   "id": "750732e4-f374-41b7-b3b7-3d8d00ac1473",
   "metadata": {},
   "outputs": [],
   "source": []
  },
  {
   "cell_type": "markdown",
   "id": "85703c04-ea78-426a-b8dd-b1b0543cc164",
   "metadata": {},
   "source": [
    "    \n",
    " 4) Factorial of a Number\n",
    "\n",
    "    Problem:\n",
    "    Given an integer n, calculate its factorial (n!) \n",
    "\n",
    "    Input: 5  \n",
    "    Output: 120"
   ]
  },
  {
   "cell_type": "code",
   "execution_count": null,
   "id": "39f1ac4b-a31f-466b-bfab-f8805b2d2e3b",
   "metadata": {},
   "outputs": [],
   "source": []
  },
  {
   "cell_type": "markdown",
   "id": "a9810f01-ec86-4ab2-b5d1-951f4bd98847",
   "metadata": {},
   "source": [
    "    \n",
    " 5) Divisible by 4 but not by 8\n",
    "\n",
    "    Problem: Print all numbers from 1 to 100 that are divisible by 4 but not divisible by 8.\n",
    "\n",
    "  "
   ]
  },
  {
   "cell_type": "code",
   "execution_count": null,
   "id": "08934372-d43d-4a39-9b93-b04a1507fdfc",
   "metadata": {},
   "outputs": [],
   "source": []
  },
  {
   "cell_type": "markdown",
   "id": "d09d83a6-25d9-4548-b24e-067f99ac30e2",
   "metadata": {},
   "source": [
    "  6) Replace All Negative Numbers with Zero\n",
    "\n",
    "    Given a list of integers, replace all negative numbers with 0\n",
    "\n",
    "    Input: [-3, 5, -1, 7]  \n",
    "    Output: [0, 5, 0, 7]"
   ]
  },
  {
   "cell_type": "code",
   "execution_count": null,
   "id": "a9c67f98-db81-448c-97e7-19ee5c13853d",
   "metadata": {},
   "outputs": [],
   "source": []
  }
 ],
 "metadata": {
  "kernelspec": {
   "display_name": "Python 3 (ipykernel)",
   "language": "python",
   "name": "python3"
  },
  "language_info": {
   "codemirror_mode": {
    "name": "ipython",
    "version": 3
   },
   "file_extension": ".py",
   "mimetype": "text/x-python",
   "name": "python",
   "nbconvert_exporter": "python",
   "pygments_lexer": "ipython3",
   "version": "3.11.11"
  }
 },
 "nbformat": 4,
 "nbformat_minor": 5
}
