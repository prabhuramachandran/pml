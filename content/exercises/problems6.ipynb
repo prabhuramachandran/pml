{
 "cells": [
  {
   "cell_type": "code",
   "execution_count": null,
   "id": "c162a9fc",
   "metadata": {},
   "outputs": [],
   "source": [
    "import numpy as np\n",
    "import matplotlib.pyplot as plt\n",
    "\n",
    "# Create a demo image for exercises\n",
    "def create_demo_image():\n",
    "    \"\"\"Create a synthetic demo image with colored quadrants\"\"\"\n",
    "    demo_image = np.zeros((100, 100, 3), dtype=np.uint8)\n",
    "    demo_image[:50, :50, 0] = 255      # Red square (top-left)\n",
    "    demo_image[50:, 50:, 1] = 255      # Green square (bottom-right)\n",
    "    demo_image[:50, 50:, 2] = 255      # Blue square (top-right)\n",
    "    demo_image[50:, :50] = [128, 128, 0]  # Yellow square (bottom-left)\n",
    "    return demo_image\n",
    "\n",
    "# Load the demo image\n",
    "image = create_demo_image()\n",
    "plt.figure(figsize=(6, 6))\n",
    "plt.imshow(image)\n",
    "plt.title(\"Demo Image for NumPy Exercises\")\n",
    "plt.axis('off')\n",
    "plt.show()\n"
   ]
  },
  {
   "cell_type": "markdown",
   "id": "2b8146eb",
   "metadata": {},
   "source": [
    "## Basic Array & Image Operations (Questions 1-5)\n",
    "## Question 1: Image Loading and Properties\n",
    "\n",
    "Examine the properties of your loaded image"
   ]
  },
  {
   "cell_type": "code",
   "execution_count": null,
   "id": "2d876da5",
   "metadata": {},
   "outputs": [],
   "source": [
    "# Starter code\n",
    "image = create_demo_image()\n",
    "\n",
    "# TODO: Print the image's shape, dtype, and total number of elements\n",
    "print(\"Shape:\", )\n",
    "print(\"Data type:\", )\n",
    "print(\"Total elements:\", )\n",
    "\n",
    "# Calculate the memory usage in bytes\n",
    "# Memory usage = how much computer RAM (memory) the array occupies\n",
    "# Formula: total_elements × bytes_per_element\n",
    "print(\"Memory usage (bytes):\", )\n",
    "\n",
    "# Display the image using matplotlib\n",
    "plt.figure(figsize=(5, 5))\n",
    "# Your code here\n"
   ]
  },
  {
   "cell_type": "markdown",
   "id": "2ca84aff",
   "metadata": {},
   "source": [
    "## Question 2: Channel Extraction\n",
    "\n",
    "Extract and manipulate individual color channels"
   ]
  },
  {
   "cell_type": "code",
   "execution_count": null,
   "id": "a10089b1",
   "metadata": {},
   "outputs": [],
   "source": [
    "# Starter code\n",
    "image = create_demo_image()\n",
    "\n",
    "# TODO: Extract each RGB channel separately\n",
    "red_channel =\n",
    "green_channel =\n",
    "blue_channel =\n",
    "\n",
    "# Create a grayscale version by averaging all three channels\n",
    "grayscale =\n",
    "\n",
    "# Display all channels side by side using subplots\n",
    "plt.figure(figsize=(15, 3))\n",
    "plt.subplot(1, 4, 1)\n",
    "# Your code here for original image\n",
    "\n",
    "plt.subplot(1, 4, 2)\n",
    "# Your code here for red channel\n",
    "\n",
    "plt.subplot(1, 4, 3)\n",
    "# Your code here for green channel\n",
    "\n",
    "plt.subplot(1, 4, 4)\n",
    "# Your code here for blue channel\n",
    "\n",
    "plt.tight_layout()\n",
    "plt.show()\n"
   ]
  },
  {
   "cell_type": "markdown",
   "id": "d015a43a",
   "metadata": {},
   "source": [
    "## Question 3: Basic Matrix Creation\n",
    "\n",
    "Create different types of arrays using NumPy functions"
   ]
  },
  {
   "cell_type": "code",
   "execution_count": null,
   "id": "cf0aed93",
   "metadata": {},
   "outputs": [],
   "source": [
    "# Create a 4x4 identity matrix\n",
    "identity_4x4 =\n",
    "\n",
    "# Create a 3x5 matrix filled with 10s (not ones!)\n",
    "tens_matrix =\n",
    "\n",
    "# Create a 2x4 matrix with random entries from uniform distribution [0,1)\n",
    "uniform_matrix =\n",
    "\n",
    "# Create a 3x3 matrix with random entries from normal distribution (mean=0, std=1)\n",
    "normal_matrix =\n",
    "\n",
    "# Create a 2x3 matrix using np.fromfunction() where each element equals i*j + 1\n",
    "custom_matrix =\n",
    "\n",
    "print(\"Identity matrix:\\n\", identity_4x4)\n",
    "print(\"\\nTens matrix:\\n\", tens_matrix)\n",
    "print(\"\\nUniform random matrix:\\n\", uniform_matrix)\n",
    "print(\"\\nNormal random matrix:\\n\", normal_matrix)\n",
    "print(\"\\nCustom matrix:\\n\", custom_matrix)\n"
   ]
  },
  {
   "cell_type": "markdown",
   "id": "8f98f5b9",
   "metadata": {},
   "source": [
    "## Question 4: Elementwise Operations\n",
    "\n",
    "Perform mathematical operations on arrays"
   ]
  },
  {
   "cell_type": "code",
   "execution_count": null,
   "id": "a7eb5edb",
   "metadata": {},
   "outputs": [],
   "source": [
    "# Given arrays\n",
    "A = np.array([[1, 2, 3], [4, 5, 6]])\n",
    "B = np.array([[2, 1, 4], [3, 2, 1]])\n",
    "\n",
    "print(\"Array A:\\n\", A)\n",
    "print(\"Array B:\\n\", B)\n",
    "\n",
    "# TODO: Perform elementwise addition, subtraction, and multiplication\n",
    "addition =\n",
    "subtraction =\n",
    "multiplication =\n",
    "\n",
    "# TODO: Apply np.sin() and np.exp() to array A\n",
    "sin_A =\n",
    "exp_A =\n",
    "\n",
    "print(\"A + B:\\n\", addition)\n",
    "print(\"A - B:\\n\", subtraction)\n",
    "print(\"A * B:\\n\", multiplication)\n",
    "print(\"sin(A):\\n\", sin_A)\n",
    "print(\"exp(A):\\n\", exp_A)\n"
   ]
  },
  {
   "cell_type": "markdown",
   "id": "70909620",
   "metadata": {},
   "source": [
    "## Question 5: Advanced Slicing\n",
    "\n",
    "Practice complex slicing operations"
   ]
  },
  {
   "cell_type": "code",
   "execution_count": null,
   "id": "f3f9d786",
   "metadata": {},
   "outputs": [],
   "source": [
    "# Given matrix\n",
    "matrix = np.arange(64).reshape(8, 8)\n",
    "print(\"Original matrix:\\n\", matrix)\n",
    "\n",
    "# Extract the main diagonal\n",
    "main_diagonal =\n",
    "\n",
    "# Extract the anti-diagonal\n",
    "# The antidiagonal consists of elements where row + column = n-1\n",
    "# For an 8x8 matrix: positions (0,7), (1,6), (2,5), (3,4), (4,3), (5,2), (6,1), (7,0)\n",
    "anti_diagonal =\n",
    "\n",
    "# Create a border effect by setting the outer rows/columns to 255\n",
    "bordered = matrix.copy()\n",
    "# Your code here\n",
    "\n",
    "print(\"Main diagonal:\", main_diagonal)\n",
    "print(\"Anti-diagonal:\", anti_diagonal)\n",
    "print(\"Bordered matrix:\\n\", bordered)\n"
   ]
  },
  {
   "cell_type": "markdown",
   "id": "de42bc09",
   "metadata": {},
   "source": [
    "## Question 6: Image Cropping and Slicing\n",
    "\n",
    "Apply slicing operations to images"
   ]
  },
  {
   "cell_type": "code",
   "execution_count": null,
   "id": "dc6cfe3b",
   "metadata": {},
   "outputs": [],
   "source": [
    "# Starter code\n",
    "image = create_demo_image()\n",
    "\n",
    "# Crop to get the center quarter of the image\n",
    "height, width = image.shape[:2]\n",
    "center_crop =\n",
    "\n",
    "# Extract every other pixel (striding) to resize to half\n",
    "half_size =\n",
    "\n",
    "# Create a checkerboard pattern by setting alternate pixels to 0\n",
    "checkerboard = image.copy()\n",
    "# Your code here\n",
    "\n",
    "# Display results\n",
    "plt.figure(figsize=(12, 4))\n",
    "plt.subplot(1, 3, 1)\n",
    "plt.imshow(center_crop)\n",
    "plt.title(\"Center Quarter\")\n",
    "\n",
    "plt.subplot(1, 3, 2)\n",
    "plt.imshow(half_size)\n",
    "plt.title(\"Half Size\")\n",
    "\n",
    "plt.subplot(1, 3, 3)\n",
    "plt.imshow(checkerboard)\n",
    "plt.title(\"Checkerboard\")\n",
    "\n",
    "plt.tight_layout()\n",
    "plt.show()\n"
   ]
  },
  {
   "cell_type": "markdown",
   "id": "657567c4",
   "metadata": {},
   "source": [
    "## Question 7: Image Histogram Analysis\n",
    "\n",
    "Analyze pixel distributions"
   ]
  },
  {
   "cell_type": "code",
   "execution_count": null,
   "id": "76463eec",
   "metadata": {},
   "outputs": [],
   "source": [
    "# Starter code\n",
    "image = create_demo_image()\n",
    "\n",
    "# Create histograms for each RGB channel\n",
    "red_hist =\n",
    "green_hist =\n",
    "blue_hist =\n",
    "\n",
    "# Find the mean and standard deviation of each channel\n",
    "red_mean, red_std =\n",
    "green_mean, green_std =\n",
    "blue_mean, blue_std =\n",
    "\n",
    "# Plot histograms\n",
    "plt.figure(figsize=(15, 4))\n",
    "plt.subplot(1, 3, 1)\n",
    "# Your histogram code here\n",
    "\n",
    "plt.subplot(1, 3, 2)\n",
    "# Your histogram code here\n",
    "\n",
    "plt.subplot(1, 3, 3)\n",
    "# Your histogram code here\n",
    "\n",
    "plt.tight_layout()\n",
    "plt.show()\n",
    "\n",
    "print(f\"Red - Mean: {red_mean:.2f}, Std: {red_std:.2f}\")\n",
    "print(f\"Green - Mean: {green_mean:.2f}, Std: {green_std:.2f}\")\n",
    "print(f\"Blue - Mean: {blue_mean:.2f}, Std: {blue_std:.2f}\")\n"
   ]
  },
  {
   "cell_type": "markdown",
   "id": "3de6627e",
   "metadata": {},
   "source": [
    "## Question 8: Eigenvalues and Eigenvectors\n",
    "\n",
    "Compute and verify eigendecomposition"
   ]
  },
  {
   "cell_type": "code",
   "execution_count": null,
   "id": "aed29503",
   "metadata": {},
   "outputs": [],
   "source": [
    "# Given matrix\n",
    "M = np.array([[4, 2], [1, 3]])\n",
    "\n",
    "print(\"Matrix M:\\n\", M)\n",
    "\n",
    "# Find eigenvalues and eigenvectors\n",
    "eigenvalues, eigenvectors =\n",
    "\n",
    "# Verify that M @ v = λ * v for the first eigenvector\n",
    "v1 = eigenvectors[:, 0]\n",
    "lambda1 = eigenvalues[0]\n",
    "\n",
    "left_side =\n",
    "right_side =\n",
    "\n",
    "print(\"Eigenvalues:\", eigenvalues)\n",
    "print(\"Eigenvectors:\\n\", eigenvectors)\n",
    "print(\"Verification for first eigenvector:\")\n",
    "print(\"M @ v1 =\", left_side)\n",
    "print(\"λ1 * v1 =\", right_side)\n",
    "print(\"Difference:\", np.abs(left_side - right_side))\n"
   ]
  },
  {
   "cell_type": "markdown",
   "id": "46c04f4b",
   "metadata": {},
   "source": [
    "## Question 9: Matrix Decomposition\n",
    "\n",
    "Perform various matrix decompositions"
   ]
  },
  {
   "cell_type": "code",
   "execution_count": null,
   "id": "fd67d308",
   "metadata": {},
   "outputs": [],
   "source": [
    "# Given symmetric matrix\n",
    "S = np.array([[4, 2, 1], [2, 3, 0], [1, 0, 2]])\n",
    "\n",
    "print(\"Matrix S:\\n\", S)\n",
    "\n",
    "# Compute the determinant and inverse\n",
    "det_S =\n",
    "inv_S =\n",
    "\n",
    "# Perform SVD decomposition\n",
    "U, sigma, Vt =\n",
    "\n",
    "# Calculate the Frobenius norm\n",
    "frobenius_norm =\n",
    "\n",
    "print(\"Determinant:\", det_S)\n",
    "print(\"Inverse:\\n\", inv_S)\n",
    "print(\"SVD - U shape:\", U.shape, \"sigma shape:\", sigma.shape, \"Vt shape:\", Vt.shape)\n",
    "print(\"Frobenius norm:\", frobenius_norm)\n"
   ]
  },
  {
   "cell_type": "markdown",
   "id": "b94e25f1",
   "metadata": {},
   "source": [
    "## Question 10: Least Squares Fitting\n",
    "\n",
    "Fit a line to noisy data"
   ]
  },
  {
   "cell_type": "code",
   "execution_count": null,
   "id": "7e3165ab",
   "metadata": {},
   "outputs": [],
   "source": [
    "# Create synthetic data\n",
    "x = np.linspace(0, 10, 50)\n",
    "true_slope = 2\n",
    "true_intercept = 1\n",
    "noise = np.random.normal(0, 0.5, 50)\n",
    "y = true_slope * x + true_intercept + noise\n",
    "\n",
    "# Use np.linalg.lstsq() to fit a line\n",
    "# Set up the matrix equation: y = Ax where A = [x, ones], x = [slope, intercept]\n",
    "A =\n",
    "result =\n",
    "coefficients =\n",
    "\n",
    "fitted_slope = coefficients[0]\n",
    "fitted_intercept = coefficients[1]\n",
    "\n",
    "# Plot the original data and fitted line\n",
    "plt.figure(figsize=(8, 6))\n",
    "plt.scatter(x, y, alpha=0.6, label='Data with noise')\n",
    "# Your plotting code here\n",
    "\n",
    "plt.xlabel('x')\n",
    "plt.ylabel('y')\n",
    "plt.legend()\n",
    "plt.title(f'Least Squares Fit: y = {fitted_slope:.2f}x + {fitted_intercept:.2f}')\n",
    "plt.show()\n",
    "\n",
    "print(f\"True: slope={true_slope}, intercept={true_intercept}\")\n",
    "print(f\"Fitted: slope={fitted_slope:.3f}, intercept={fitted_intercept:.3f}\")\n"
   ]
  }
 ],
 "metadata": {
  "kernelspec": {
   "display_name": "Python 3 (ipykernel)",
   "language": "python",
   "name": "python3"
  },
  "language_info": {
   "codemirror_mode": {
    "name": "ipython",
    "version": 3
   },
   "file_extension": ".py",
   "mimetype": "text/x-python",
   "name": "python",
   "nbconvert_exporter": "python",
   "pygments_lexer": "ipython3",
   "version": "3.11.11"
  }
 },
 "nbformat": 4,
 "nbformat_minor": 5
}
