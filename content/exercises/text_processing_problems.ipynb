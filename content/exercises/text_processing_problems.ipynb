{
 "cells": [
  {
   "cell_type": "markdown",
   "id": "e19a9a13",
   "metadata": {},
   "source": [
    "\n",
    "## Text Processing – Problem Set\n"
   ]
  },
  {
   "cell_type": "markdown",
   "id": "311e2b7f",
   "metadata": {},
   "source": [
    "### Problem 1 — String Basics\n",
    "Write a function that takes a sentence (string) and returns a tuple: `(first_char, last_char, length)`.\n",
    "- Ignore leading/trailing whitespace when determining the first and last characters.\n",
    "- If the trimmed string is empty, return `(None, None, 0)`."
   ]
  },
  {
   "cell_type": "code",
   "execution_count": null,
   "id": "166be037",
   "metadata": {},
   "outputs": [],
   "source": [
    "# Write your solution here\n"
   ]
  },
  {
   "cell_type": "markdown",
   "id": "15b730c5",
   "metadata": {},
   "source": [
    "### Problem 2 — String Methods\n",
    "Given the string `s = \"  Hello, Python World!  \"`:\n",
    "- Remove extra spaces at both ends\n",
    "- Convert to lowercase\n",
    "- Replace `\"python\"` with `\"text\"` (match should be case-insensitive)\n",
    "Return the final string."
   ]
  },
  {
   "cell_type": "code",
   "execution_count": null,
   "id": "5bebf4ca",
   "metadata": {},
   "outputs": [],
   "source": [
    "# Write your solution here\n"
   ]
  },
  {
   "cell_type": "markdown",
   "id": "e52c20e5",
   "metadata": {},
   "source": [
    "### Problem 3 — Splitting and Joining\n",
    "You are given a CSV string like `\"a,b,c,d,e\"`.\n",
    "\n",
    "Write a function that:\n",
    "1. Splits the string by commas into a list of tokens.\n",
    "2. Joins the tokens with `\"-\"` as a separator.\n",
    "3. Returns the resulting string."
   ]
  },
  {
   "cell_type": "code",
   "execution_count": null,
   "id": "fd160c9e",
   "metadata": {},
   "outputs": [],
   "source": [
    "# Write your solution here\n"
   ]
  },
  {
   "cell_type": "markdown",
   "id": "f9d3e305",
   "metadata": {},
   "source": [
    "### Problem 4 — f-Strings and Formatting\n",
    "Ask for `name` (str), `age` (int), and `height_feet` (float) and return a formatted sentence using an f-string:\n",
    "\n",
    "`\"Alice is 23 years old and 5.6 feet tall.\"`\n",
    "\n",
    "Write the function so that it accepts three parameters and **returns** the string (do not use `input()`)."
   ]
  },
  {
   "cell_type": "code",
   "execution_count": null,
   "id": "e2f6326c",
   "metadata": {},
   "outputs": [],
   "source": [
    "# Write your solution here\n"
   ]
  },
  {
   "cell_type": "markdown",
   "id": "ae824d85",
   "metadata": {},
   "source": [
    "### Problem 5 — Word Count (Dictionary)\n",
    "Implement `word_count(text)` that returns a dictionary mapping each lowercase word to its frequency.\n",
    "- Words are separated by whitespace.\n",
    "- Strip leading/trailing punctuation: `.,;:!?\"'()[]{}-` from each token before counting.\n",
    "- Ignore empty tokens after stripping."
   ]
  },
  {
   "cell_type": "code",
   "execution_count": null,
   "id": "d5582b2b",
   "metadata": {},
   "outputs": [],
   "source": [
    "# Write your solution here\n"
   ]
  },
  {
   "cell_type": "markdown",
   "id": "3fb4f14e",
   "metadata": {},
   "source": [
    "### Problem 6 — File Processing (I/O)\n",
    "Write a function `file_stats(path)` that reads a UTF-8 `.txt` file and returns a tuple: `(num_lines, num_words, num_chars)`.\n",
    "- `num_words` splits on whitespace\n",
    "- Count newline characters in `num_chars` as well\n",
    "- If the file is not found, raise `FileNotFoundError`"
   ]
  },
  {
   "cell_type": "code",
   "execution_count": null,
   "id": "6e28b509",
   "metadata": {},
   "outputs": [],
   "source": [
    "# Write your solution here\n"
   ]
  },
  {
   "cell_type": "markdown",
   "id": "780c0b0b",
   "metadata": {},
   "source": [
    "### Problem 7 — Top-k Frequent Words\n",
    "Given a paragraph of text, return the **top 5 most frequent words** as a list of `(word, count)` pairs, sorted by decreasing count then alphabetically.\n",
    "- Use `collections.Counter`, see https://docs.python.org/3/library/collections.html#counter-objects.\n",
    "- Treat words case-insensitively and strip the same punctuation set as in Problem 5."
   ]
  },
  {
   "cell_type": "code",
   "execution_count": null,
   "id": "b7d84ec3",
   "metadata": {},
   "outputs": [],
   "source": [
    "# Write your solution here\n"
   ]
  },
  {
   "cell_type": "markdown",
   "id": "cb7e1b99",
   "metadata": {},
   "source": [
    "### Problem 8 — Palindrome Check\n",
    "Implement `is_palindrome(s)` that returns `True` if `s` is a palindrome, ignoring case and spaces.\n",
    "- Example: `\"A man a plan a canal Panama\"` → `True`"
   ]
  },
  {
   "cell_type": "code",
   "execution_count": null,
   "id": "9036a149",
   "metadata": {},
   "outputs": [],
   "source": [
    "# Write your solution here\n"
   ]
  },
  {
   "cell_type": "markdown",
   "id": "70f40b4a",
   "metadata": {},
   "source": [
    "### Problem 9 — Text Cleanup Challenge\n",
    "Given a messy string like: `\"Hello!!! This, is... an example?? of messy---text.\"`\n",
    "Write `clean_text(text)` that:\n",
    "1. Removes punctuation\n",
    "2. Converts to lowercase\n",
    "3. Collapses multiple spaces to a single space\n",
    "   \n",
    "Return the cleaned text."
   ]
  },
  {
   "cell_type": "code",
   "execution_count": null,
   "id": "6ff75a0d",
   "metadata": {},
   "outputs": [],
   "source": [
    "# Write your solution here\n"
   ]
  },
  {
   "cell_type": "markdown",
   "id": "dcc1a45b",
   "metadata": {},
   "source": [
    "\n",
    "---\n",
    "*End of Problem Set.*\n"
   ]
  }
 ],
 "metadata": {
  "kernelspec": {
   "display_name": "Python 3 (ipykernel)",
   "language": "python",
   "name": "python3"
  },
  "language_info": {
   "codemirror_mode": {
    "name": "ipython",
    "version": 3
   },
   "file_extension": ".py",
   "mimetype": "text/x-python",
   "name": "python",
   "nbconvert_exporter": "python",
   "pygments_lexer": "ipython3",
   "version": "3.11.11"
  }
 },
 "nbformat": 4,
 "nbformat_minor": 5
}
